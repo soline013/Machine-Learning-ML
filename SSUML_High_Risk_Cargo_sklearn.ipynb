{
  "nbformat": 4,
  "nbformat_minor": 0,
  "metadata": {
    "colab": {
      "name": "SSUML-High-Risk-Cargo_sklearn.ipynb",
      "provenance": [],
      "collapsed_sections": [
        "0UnVOu1HcbTO",
        "CpnaxEU_cgqu",
        "TPNdvjNfCsEq",
        "ke7sTZJ9CyMg",
        "TEi0t0eSRj5G",
        "Bjlk0lRgUrky",
        "gv9QLRYfUJ9m",
        "bNDXQr_U3yTK",
        "yc2LdIHT31Gk"
      ],
      "authorship_tag": "ABX9TyNvWD+6+g3u6ma4U8lcwBXB",
      "include_colab_link": true
    },
    "kernelspec": {
      "name": "python3",
      "display_name": "Python 3"
    },
    "language_info": {
      "name": "python"
    }
  },
  "cells": [
    {
      "cell_type": "markdown",
      "metadata": {
        "id": "view-in-github",
        "colab_type": "text"
      },
      "source": [
        "<a href=\"https://colab.research.google.com/github/soline013/Machine-Learning-ML/blob/master/SSUML_High_Risk_Cargo_sklearn.ipynb\" target=\"_parent\"><img src=\"https://colab.research.google.com/assets/colab-badge.svg\" alt=\"Open In Colab\"/></a>"
      ]
    },
    {
      "cell_type": "markdown",
      "metadata": {
        "id": "J0lqR6bJGtu4"
      },
      "source": [
        "# Start"
      ]
    },
    {
      "cell_type": "markdown",
      "metadata": {
        "id": "3stPSsIFG-8w"
      },
      "source": [
        "출력은 Dataset 보호를 위해 대부분 지운 채로 업로드한다."
      ]
    },
    {
      "cell_type": "code",
      "metadata": {
        "colab": {
          "base_uri": "https://localhost:8080/"
        },
        "id": "R0cVA95D-3em",
        "outputId": "130764c7-2f4b-4234-cb51-58a2f1020233"
      },
      "source": [
        "!pip freeze | grep sklearn\n",
        "!pip freeze | grep graphviz\n",
        "!pip freeze | grep xgboost\n",
        "!pip freeze | grep lightgbm"
      ],
      "execution_count": 1,
      "outputs": [
        {
          "output_type": "stream",
          "text": [
            "sklearn==0.0\n",
            "sklearn-pandas==1.8.0\n",
            "graphviz==0.10.1\n",
            "xgboost==0.90\n",
            "lightgbm==2.2.3\n"
          ],
          "name": "stdout"
        }
      ]
    },
    {
      "cell_type": "code",
      "metadata": {
        "id": "nulOHhUMBsb4"
      },
      "source": [
        "'''\n",
        "!pip install --upgrade sklearn\n",
        "!pip install --upgrade xgboost\n",
        "!pip install --upgrade lightgbm\n",
        "'''"
      ],
      "execution_count": null,
      "outputs": []
    },
    {
      "cell_type": "code",
      "metadata": {
        "id": "DpXHcBMFj82A"
      },
      "source": [
        "from google.colab import drive\n",
        "drive.mount('/content/drive')"
      ],
      "execution_count": null,
      "outputs": []
    },
    {
      "cell_type": "markdown",
      "metadata": {
        "id": "0_KiG9fnh_mJ"
      },
      "source": [
        "# Import"
      ]
    },
    {
      "cell_type": "code",
      "metadata": {
        "id": "o3QbUbS2hebD"
      },
      "source": [
        "import pandas as pd\n",
        "import numpy as np\n",
        "import seaborn as sns\n",
        "import matplotlib.pyplot as plt\n",
        "%matplotlib inline\n",
        "\n",
        "from sklearn.model_selection import train_test_split\n",
        "from sklearn.model_selection import GridSearchCV\n",
        "from sklearn.model_selection import cross_val_score\n",
        "from hyperopt import fmin, tpe, hp\n",
        "from sklearn.metrics import accuracy_score, confusion_matrix, classification_report\n",
        "from sklearn.ensemble import VotingClassifier\n",
        "from sklearn.linear_model import LogisticRegression\n",
        "from sklearn.neighbors import KNeighborsClassifier\n",
        "from sklearn.preprocessing import LabelEncoder, OneHotEncoder"
      ],
      "execution_count": 4,
      "outputs": []
    },
    {
      "cell_type": "code",
      "metadata": {
        "id": "mo8aSn2ZHouZ"
      },
      "source": [
        "#Set Font.\n",
        "from matplotlib import font_manager, rc\n",
        "\n",
        "font_path = \"/content/drive/MyDrive/NanumGothic.ttf\"\n",
        "font_name = font_manager.FontProperties(fname = font_path).get_name()\n",
        "plt.rc('font', family=font_name)"
      ],
      "execution_count": 5,
      "outputs": []
    },
    {
      "cell_type": "markdown",
      "metadata": {
        "id": "C0jocJWxlsTT"
      },
      "source": [
        "# Dataset"
      ]
    },
    {
      "cell_type": "code",
      "metadata": {
        "id": "uAkDebiFh_I6"
      },
      "source": [
        "dataset = pd.read_csv(\"/content/drive/MyDrive/Colab Notebooks/HighRiskCargo/train.csv\") \n",
        "dataset.fillna('NaN', inplace=True)\n",
        "#dataset.pop(\"검사결과코드\")"
      ],
      "execution_count": 6,
      "outputs": []
    },
    {
      "cell_type": "code",
      "metadata": {
        "id": "IXEFcB2pJwES"
      },
      "source": [
        "#Check dataset\n",
        "dataset"
      ],
      "execution_count": null,
      "outputs": []
    },
    {
      "cell_type": "code",
      "metadata": {
        "id": "Ig2Qq6jgh_AG"
      },
      "source": [
        "#Check dataset Using info() Function.\n",
        "dataset.info()"
      ],
      "execution_count": null,
      "outputs": []
    },
    {
      "cell_type": "code",
      "metadata": {
        "id": "LQbFySxhJrTX"
      },
      "source": [
        "#Dataset List & Extract Column.\n",
        "dataset_list = list(dataset.columns)\n",
        "col_y = dataset_list[-2] #우범여부\n",
        "col_z = dataset_list[-1] #핵심적발\n",
        "print(col_y, col_z)"
      ],
      "execution_count": null,
      "outputs": []
    },
    {
      "cell_type": "code",
      "metadata": {
        "id": "e71VjUkbH5b0"
      },
      "source": [
        "#Check dataset Sample.\n",
        "dataset.sample(10)"
      ],
      "execution_count": null,
      "outputs": []
    },
    {
      "cell_type": "markdown",
      "metadata": {
        "id": "RwOfmikbcItt"
      },
      "source": [
        "# Data Preprocessing (Encoding)"
      ]
    },
    {
      "cell_type": "markdown",
      "metadata": {
        "id": "6BtadWUwluqS"
      },
      "source": [
        "## One Hot Encoding"
      ]
    },
    {
      "cell_type": "code",
      "metadata": {
        "id": "QadWNqvTIV7F"
      },
      "source": [
        "#Failed One-hot Encoding.\n",
        "'''\n",
        "#####################################################\n",
        "#One-hot Encoding\n",
        "#\n",
        "#pandas.get_dummies()으로 Pandas에서 간단하게 One-hot Encoding을 진행할 수 있다.\n",
        "#Column이 너무 많아 Colab이 다운되는 것으로 보인다.\n",
        "#####################################################\n",
        "dataset = pd.get_dummies(dataset)\n",
        "'''\n",
        "\n",
        "'''\n",
        "#####################################################\n",
        "#One-hot Encoding & Dimensionality Reduction\n",
        "#\n",
        "#pandas.get_dummies()으로 One-hot Encoding을 진행하고,  \n",
        "#PCA(주성분 분석)으로 차원 축소를 진행하려고 했다.\n",
        "#마찬가지로 Column이 너무 많아 Colab이 다운되는 것으로 보인다.\n",
        "#####################################################\n",
        "from sklearn.decomposition import PCA\n",
        "\n",
        "pca = PCA(n_components=23)\n",
        "dataset = pd.get_dummies(dataset)\n",
        "result = pca.fit_transform(dataset)\n",
        "'''\n",
        "\n",
        "'''\n",
        "#####################################################\n",
        "#One-hot Encoding & Type Conversion\n",
        "#\n",
        "#preprocessing.OneHotEncoder()를 사용하여 One-hot Encoding을 진행한다.\n",
        "#https://scikit-learn.org/stable/modules/generated/sklearn.preprocessing.OneHotEncoder.html\n",
        "#\n",
        "#Encoding은 되었으나 데이터 타입이 다르기 때문에 문제가 생긴다.\n",
        "#따라서, csr_matrix를 Pandas DataFrame으로 바꾸었다.\n",
        "#\n",
        "#여전히 Column이 너무 크기 때문에, 차원 축소를 진행하거나, 원하는 부분에만 One-hot을 진행해야 할 것 같다.\n",
        "#차원 축소에서는 Colab이 터지고, 창민님의 코드를 One-hot에 맞게 바꿔보자.\n",
        "#####################################################\n",
        "to_convert_field_list = ['신고일자', '신고인부호', '수입자부호', '해외거래처부호', '특송업체부호', '수입통관계획코드',\n",
        "                    '수입신고구분코드', '적출국가코드', '원산지국가코드', '관세율구분코드']\n",
        "\n",
        "onehot_encoder = OneHotEncoder()\n",
        "dataset_encoded = onehot_encoder.fit_transform(dataset[[\"신고인부호\"]])\n",
        "\n",
        "dataset_df = pd.DataFrame.sparse.from_spmatrix(dataset_encoded)\n",
        "'''\n",
        "\n",
        "'''\n",
        "#####################################################\n",
        "#One-hot Encoding With chlee's Code.\n",
        "#\n",
        "#창민님의 코드를 One-hot에 맞게 바꾸었다.\n",
        "#\n",
        "#[[var]]: To Fix, \"ValueError: Expected 2D array, got 1D arrat instead\"\n",
        "#https://0dood0.tistory.com/62\n",
        "#https://datamasters.tistory.com/55\n",
        "#####################################################\n",
        "\n",
        "to_convert_field_list = ['신고일자', '신고인부호', '수입자부호', '해외거래처부호', '특송업체부호', '수입통관계획코드',\n",
        "                    '수입신고구분코드', '적출국가코드', '원산지국가코드', '관세율구분코드']\n",
        "\n",
        "label_encoder_list = [OneHotEncoder() for i in to_convert_field_list]\n",
        "convert_result_list = [0 for i in to_convert_field_list]\n",
        "\n",
        "for idx, val in enumerate(to_convert_field_list):\n",
        "  convert_result_list[idx] = label_encoder_list[idx].fit_transform(dataset[[val]].astype(str))\n",
        "  dataset[val] = convert_result_list[idx]\n",
        "\n",
        "for i in to_convert_field_list:\n",
        "  pd.to_numeric(dataset[i])\n",
        "'''\n",
        "\n",
        "'''\n",
        "#####################################################\n",
        "#dataset에 바로 One-hot을 적용했다.\n",
        "#이렇게 해도 똑같은 결과가 나온다.\n",
        "#####################################################\n",
        "onehot_encoder = OneHotEncoder()\n",
        "for key in ['신고일자', '신고인부호', '수입자부호', '해외거래처부호', '특송업체부호', '수입통관계획코드',\n",
        "                    '수입신고구분코드', '적출국가코드', '원산지국가코드', '관세율구분코드']:\n",
        "  dataset[key] = onehot_encoder.fit_transform(dataset[[key]])\n",
        "'''\n",
        "\n",
        "'''\n",
        "#####################################################\n",
        "#One-hot의 결과가 이상하게 나왔다.\n",
        "#astype(str)을 사용하고 np.where(i==1)[0][0] for i in ...를 사용하기로 했다.\n",
        "#또한 OneHotEncoder(sprase=False)를 사용할 것이다.\n",
        "#One-hot을 다시 수정하는 과정에서 해당 코드는 Colab이 다운된다.\n",
        "#####################################################\n",
        "onehot_encoder = OneHotEncoder(sparse=False)\n",
        "for key in ['신고일자', '신고인부호', '수입자부호', '해외거래처부호', '특송업체부호', '수입통관계획코드',\n",
        "                    '수입신고구분코드', '적출국가코드', '원산지국가코드', '관세율구분코드']:\n",
        "  dataset[key] = np.argmax(onehot_encoder.fit_transform(dataset[[key]]))\n",
        "'''"
      ],
      "execution_count": null,
      "outputs": []
    },
    {
      "cell_type": "code",
      "metadata": {
        "id": "xN9xp2isQOdf"
      },
      "source": [
        "#One-hot Encoding.\n",
        "#####################################################\n",
        "#1. np.where(i==1)[0][0] for i in ... (선택)\n",
        "#2. np.argmax(...)\n",
        "#\n",
        "#To Convert One-hot Encodings Into Integers.\n",
        "#https://stackoverflow.com/questions/42497340/how-to-convert-one-hot-encodings-into-integers\n",
        "#####################################################\n",
        "dataset_copy = dataset.copy()\n",
        "to_convert_field_list = ['신고일자', '신고인부호', '수입자부호', '해외거래처부호', '특송업체부호', '수입통관계획코드',\n",
        "                    '수입신고구분코드', '적출국가코드', '원산지국가코드', '관세율구분코드']\n",
        "\n",
        "label_encoder_list = [OneHotEncoder(sparse=False) for i in to_convert_field_list]\n",
        "convert_result_list = [0 for i in to_convert_field_list]\n",
        "\n",
        "for idx, val in enumerate(to_convert_field_list):\n",
        "  convert_result_list[idx] = label_encoder_list[idx].fit_transform(dataset_copy[[val]].astype(str))\n",
        "  #dataset[val] = np.argmax(convert_result_list[idx])\n",
        "  dataset_copy[val] = [np.where(r==1)[0][0] for r in convert_result_list[idx]]\n",
        "\n",
        "dataset_encoded = dataset_copy"
      ],
      "execution_count": null,
      "outputs": []
    },
    {
      "cell_type": "code",
      "metadata": {
        "id": "ckBFLqaNeHf_"
      },
      "source": [
        "#Check dataset_encoded.\n",
        "dataset_encoded"
      ],
      "execution_count": null,
      "outputs": []
    },
    {
      "cell_type": "code",
      "metadata": {
        "id": "K5p5n8ojWA2Q"
      },
      "source": [
        "#Check dataset_encoded Using info() Function.\n",
        "dataset_encoded.info()"
      ],
      "execution_count": null,
      "outputs": []
    },
    {
      "cell_type": "code",
      "metadata": {
        "id": "PrNJ9H5b1GAl"
      },
      "source": [
        "# 데이터 간의 상관관계를 그래프로 표현해 봅니다.\n",
        "colormap = plt.cm.gist_heat   #그래프의 색상 구성을 정합니다.\n",
        "plt.figure(figsize=(17,17))   #그래프의 크기를 정합니다.\n",
        "\n",
        "# 그래프의 속성을 결정합니다. vmax의 값을 0.5로 지정해 0.5에 가까울 수록 밝은 색으로 표시되게 합니다.\n",
        "sns.heatmap(dataset_encoded.corr(),linewidths=0.05,vmax=0.2, cmap=colormap, linecolor='white', annot=True)\n",
        "plt.show()"
      ],
      "execution_count": null,
      "outputs": []
    },
    {
      "cell_type": "markdown",
      "metadata": {
        "id": "nRQyxwnxZpnG"
      },
      "source": [
        "## Label Encoding (X)"
      ]
    },
    {
      "cell_type": "code",
      "metadata": {
        "id": "k7beiwUJMO6j"
      },
      "source": [
        "#Label Encoding.\n",
        "'''\n",
        "to_convert_field_list = ['신고일자', '신고인부호', '수입자부호', '해외거래처부호', '특송업체부호', '수입통관계획코드',\n",
        "                    '수입신고구분코드', '적출국가코드', '원산지국가코드', '관세율구분코드']\n",
        "\n",
        "label_encoder_list = [LabelEncoder() for i in to_convert_field_list]\n",
        "convert_result_list = [0 for i in to_convert_field_list]\n",
        "\n",
        "for idx, val in enumerate(to_convert_field_list):\n",
        "  convert_result_list[idx] = label_encoder_list[idx].fit_transform(dataset[val]) \n",
        "  dataset[val] = convert_result_list[idx]\n",
        "\n",
        "dataset\n",
        "'''"
      ],
      "execution_count": null,
      "outputs": []
    },
    {
      "cell_type": "code",
      "metadata": {
        "id": "pN96TKsBVU-c"
      },
      "source": [
        "#Check dataset Using info() Function.\n",
        "#dataset.info()"
      ],
      "execution_count": null,
      "outputs": []
    },
    {
      "cell_type": "markdown",
      "metadata": {
        "id": "vAje6BxFjTwi"
      },
      "source": [
        "# Data Preprocessing (Normalization, etc.)"
      ]
    },
    {
      "cell_type": "markdown",
      "metadata": {
        "id": "0UnVOu1HcbTO"
      },
      "source": [
        "## Standardization, Scaling (X)"
      ]
    },
    {
      "cell_type": "code",
      "metadata": {
        "id": "OAxh08oEjVfB"
      },
      "source": [
        "#Standardization.\n",
        "'''\n",
        "from sklearn.preprocessing import StandardScaler\n",
        "\n",
        "dataset_copy = dataset_encoded.copy()\n",
        "scaler = StandardScaler()\n",
        "for key in ['신고인부호', '수입자부호', '해외거래처부호', '특송업체부호', '수입통관계획코드',\n",
        "            '수입신고구분코드', '적출국가코드', '원산지국가코드', '관세율구분코드', '신고중량(KG)', '반입보세구역부호']:\n",
        "    dataset_copy[key] = scaler.fit_transform(dataset_copy[[key]])\n",
        "\n",
        "dataset_last = pd.DataFrame(data=dataset_copy, columns=dataset.columns)\n",
        "'''"
      ],
      "execution_count": null,
      "outputs": []
    },
    {
      "cell_type": "markdown",
      "metadata": {
        "id": "CpnaxEU_cgqu"
      },
      "source": [
        "## Normalization, MinMax Scaling (X)"
      ]
    },
    {
      "cell_type": "code",
      "metadata": {
        "id": "vKRI6fYgjXGO"
      },
      "source": [
        "#Min-max Scaler.\n",
        "'''\n",
        "from sklearn.preprocessing import MinMaxScaler\n",
        "\n",
        "dataset_copy = dataset_encoded.copy()\n",
        "scaler_mm = MinMaxScaler()\n",
        "for key in ['신고인부호', '수입자부호', '해외거래처부호', '특송업체부호', '수입통관계획코드',\n",
        "            '수입신고구분코드', '적출국가코드', '원산지국가코드', '관세율구분코드', '신고중량(KG)', '반입보세구역부호']:\n",
        "  dataset_copy[key] = scaler_mm.fit_transform(dataset_copy[[key]])\n",
        "  \n",
        "dataset_last = pd.DataFrame(data=dataset_copy, columns=dataset.columns)\n",
        "'''"
      ],
      "execution_count": 19,
      "outputs": []
    },
    {
      "cell_type": "code",
      "metadata": {
        "id": "nqr3M1eAWP4m"
      },
      "source": [
        "#Check dataset_last.\n",
        "#dataset_last"
      ],
      "execution_count": null,
      "outputs": []
    },
    {
      "cell_type": "markdown",
      "metadata": {
        "id": "8EH4wyB81MZc"
      },
      "source": [
        "## Etc."
      ]
    },
    {
      "cell_type": "markdown",
      "metadata": {
        "id": "dmPxdiZQdvfX"
      },
      "source": [
        "### Last"
      ]
    },
    {
      "cell_type": "code",
      "metadata": {
        "id": "XL1ombJeD-MD"
      },
      "source": [
        "dataset_copy = dataset_encoded.copy()\n",
        "\n",
        "dataset_copy[\"해외거래처부호\"] = dataset_copy[\"해외거래처부호\"] / 10\n",
        "dataset_copy[\"해외거래처부호\"] += dataset_copy[\"우범여부\"]\n",
        "\n",
        "dataset_copy[\"신고중량(KG)\"] = dataset_copy[\"신고중량(KG)\"] / 10\n",
        "dataset_copy[\"신고중량(KG)\"] += dataset_copy[\"우범여부\"]\n",
        "\n",
        "dataset_copy[\"HS10단위부호\"] = dataset_copy[\"HS10단위부호\"] / 1000\n",
        "dataset_copy[\"HS10단위부호\"] += dataset_copy[\"우범여부\"]\n",
        "\n",
        "dataset_copy[\"특송업체부호\"] = dataset_copy[\"특송업체부호\"] / 10\n",
        "dataset_copy[\"특송업체부호\"] += dataset_copy[\"우범여부\"]\n",
        "\n",
        "dataset_copy[\"반입보세구역부호\"] = dataset_copy[\"반입보세구역부호\"] / 100\n",
        "dataset_copy[\"반입보세구역부호\"] += dataset_copy[\"우범여부\"]\n",
        "\n",
        "dataset_last = dataset_copy"
      ],
      "execution_count": 23,
      "outputs": []
    },
    {
      "cell_type": "code",
      "metadata": {
        "id": "sJuaRrI1EGhg"
      },
      "source": [
        "#Check dataset_encoded.\n",
        "dataset_encoded"
      ],
      "execution_count": null,
      "outputs": []
    },
    {
      "cell_type": "code",
      "metadata": {
        "id": "1W-YXjtDED_B"
      },
      "source": [
        "#Check dataset_last.\n",
        "dataset_last"
      ],
      "execution_count": null,
      "outputs": []
    },
    {
      "cell_type": "code",
      "metadata": {
        "id": "w7Z17tETGiE4"
      },
      "source": [
        "#Check dataset_last Using describe Function.\n",
        "dataset_last.describe()"
      ],
      "execution_count": null,
      "outputs": []
    },
    {
      "cell_type": "code",
      "metadata": {
        "id": "JoaZUbl3ICD0"
      },
      "source": [
        "# 데이터 간의 상관관계를 그래프로 표현해 봅니다.\n",
        "colormap = plt.cm.gist_heat   #그래프의 색상 구성을 정합니다.\n",
        "plt.figure(figsize=(17,17))   #그래프의 크기를 정합니다.\n",
        "\n",
        "# 그래프의 속성을 결정합니다. vmax의 값을 0.5로 지정해 0.5에 가까울 수록 밝은 색으로 표시되게 합니다.\n",
        "sns.heatmap(dataset_last.corr(),linewidths=0.05,vmax=0.2, cmap=colormap, linecolor='white', annot=True)\n",
        "plt.show()"
      ],
      "execution_count": null,
      "outputs": []
    },
    {
      "cell_type": "markdown",
      "metadata": {
        "id": "TPNdvjNfCsEq"
      },
      "source": [
        "### 해외거래처부호"
      ]
    },
    {
      "cell_type": "code",
      "metadata": {
        "id": "be_ux61P1Ud3"
      },
      "source": [
        "'''\n",
        "plt.hist([dataset_encoded[dataset_encoded['우범여부']==1]['해외거래처부호'], dataset_encoded[dataset_encoded['우범여부']==0]['해외거래처부호']], \n",
        "         stacked=True, color = ['g','r'],label = ['1','0'])\n",
        "plt.title('4')\n",
        "plt.legend()\n",
        "'''"
      ],
      "execution_count": null,
      "outputs": []
    },
    {
      "cell_type": "code",
      "metadata": {
        "id": "lV_KfA4g2aHD"
      },
      "source": [
        "'''\n",
        "dataset_copy = dataset_encoded.copy()\n",
        "\n",
        "dataset_copy[\"해외거래처부호\"] = dataset_copy[\"해외거래처부호\"] / 10\n",
        "dataset_copy[\"해외거래처부호\"] += dataset_copy[\"우범여부\"]\n",
        "\n",
        "dataset_last = dataset_copy\n",
        "'''"
      ],
      "execution_count": null,
      "outputs": []
    },
    {
      "cell_type": "code",
      "metadata": {
        "id": "uPghKgKm20ir"
      },
      "source": [
        "#Check dataset_last.\n",
        "#dataset_last"
      ],
      "execution_count": null,
      "outputs": []
    },
    {
      "cell_type": "code",
      "metadata": {
        "id": "2UWgOFkx25Nq"
      },
      "source": [
        "'''\n",
        "plt.hist([dataset_last[dataset_last['우범여부']==1]['해외거래처부호'], dataset_last[dataset_last['우범여부']==0]['해외거래처부호']], \n",
        "         stacked=True, color = ['g','r'],label = ['1','0'])\n",
        "plt.title('4')\n",
        "plt.legend()\n",
        "'''"
      ],
      "execution_count": null,
      "outputs": []
    },
    {
      "cell_type": "markdown",
      "metadata": {
        "id": "ke7sTZJ9CyMg"
      },
      "source": [
        "### 신고중량(KG)"
      ]
    },
    {
      "cell_type": "code",
      "metadata": {
        "id": "cFX6DI_KC3U3"
      },
      "source": [
        "'''\n",
        "plt.hist([dataset_encoded[dataset_encoded['우범여부']==1]['신고중량(KG)'], dataset_encoded[dataset_encoded['우범여부']==0]['신고중량(KG)']], \n",
        "         stacked=True, color = ['g','r'],label = ['1','0'])\n",
        "plt.title('4')\n",
        "plt.legend()\n",
        "'''"
      ],
      "execution_count": null,
      "outputs": []
    },
    {
      "cell_type": "code",
      "metadata": {
        "id": "1TgmEleAC3U5"
      },
      "source": [
        "'''\n",
        "dataset_copy = dataset_encoded.copy()\n",
        "\n",
        "dataset_copy[\"신고중량(KG)\"] = dataset_copy[\"신고중량(KG)\"] / 10\n",
        "dataset_copy[\"신고중량(KG)\"] += dataset_copy[\"우범여부\"]\n",
        "\n",
        "dataset_last = dataset_copy\n",
        "'''"
      ],
      "execution_count": null,
      "outputs": []
    },
    {
      "cell_type": "code",
      "metadata": {
        "id": "RjqGqQ4iC3U5"
      },
      "source": [
        "#Check dataset_last.\n",
        "#dataset_last"
      ],
      "execution_count": null,
      "outputs": []
    },
    {
      "cell_type": "code",
      "metadata": {
        "id": "Ngk3t2BJC3U5"
      },
      "source": [
        "'''\n",
        "plt.hist([dataset_last[dataset_last['우범여부']==1]['신고중량(KG)'], dataset_last[dataset_last['우범여부']==0]['신고중량(KG)']], \n",
        "         stacked=True, color = ['g','r'],label = ['1','0'])\n",
        "plt.title('4')\n",
        "plt.legend()\n",
        "'''"
      ],
      "execution_count": null,
      "outputs": []
    },
    {
      "cell_type": "markdown",
      "metadata": {
        "id": "9BCtlmsrt4_q"
      },
      "source": [
        "# Data Split"
      ]
    },
    {
      "cell_type": "code",
      "metadata": {
        "id": "G_XZhd-3A6WA"
      },
      "source": [
        "'''Transpose DataFrame to Numpy Array'''\n",
        "#Extract 우범여부, 핵심적발.\n",
        "dataset_np_y = dataset_last[col_y].values #우범여부\n",
        "dataset_np_z = dataset_last[col_z].values #핵심적발\n",
        "\n",
        "#Drop Columns, Find_Imported_accidental_cargo\n",
        "#Extract 핵심적발.\n",
        "dataset_drop = dataset_last.drop([\"핵심적발\",\n",
        "                                  \"수입신고구분코드\", \"신고번호\",\n",
        "                                  \"수입종류코드\", \"운송수단유형코드\",\n",
        "                                  \"신고인부호\", \"수입자부호\"], axis=1)\n",
        "dataset_np_zx = dataset_drop.values\n",
        "\n",
        "#Extract 우범여부.\n",
        "dataset_drop = dataset_last.drop([\"우범여부\", \"핵심적발\",\n",
        "                                  \"수입신고구분코드\", \"신고번호\",\n",
        "                                  \"수입종류코드\", \"운송수단유형코드\",\n",
        "                                  \"신고인부호\", \"수입자부호\"], axis=1)\n",
        "dataset_np_x = dataset_drop.values\n",
        "\n",
        "#dataset.pop(\"우범여부\")\n",
        "#dataset.pop(\"핵심적발\")\n",
        "#dataset_np_x = dataset_last.values"
      ],
      "execution_count": 37,
      "outputs": []
    },
    {
      "cell_type": "code",
      "metadata": {
        "id": "j29HC_PykeuU"
      },
      "source": [
        "#Check dataset_drop.\n",
        "dataset_drop"
      ],
      "execution_count": null,
      "outputs": []
    },
    {
      "cell_type": "code",
      "metadata": {
        "id": "yjeTWSX8Iga-"
      },
      "source": [
        "#Train Test Split Using Numpy Array.\n",
        "#우범여부\n",
        "X_train, X_test, y_train, y_test = train_test_split(dataset_np_x, dataset_np_y,\n",
        "                                                    test_size=0.2, random_state=11) \n",
        "\n",
        "#핵심적발\n",
        "ZX_train, ZX_test, zy_train, zy_test = train_test_split(dataset_np_zx, dataset_np_z,\n",
        "                                                        test_size=0.2, random_state=11)"
      ],
      "execution_count": 39,
      "outputs": []
    },
    {
      "cell_type": "code",
      "metadata": {
        "id": "1zhC2Df8Jn4x"
      },
      "source": [
        "#Print Shape.\n",
        "print(X_train.shape, y_train.shape)\n",
        "print(X_test.shape, y_test.shape)\n",
        "print(\"-----\")\n",
        "print(ZX_train.shape, zy_train.shape)\n",
        "print(ZX_train.shape, zy_train.shape)"
      ],
      "execution_count": null,
      "outputs": []
    },
    {
      "cell_type": "markdown",
      "metadata": {
        "id": "tXLqB9XfLbRq"
      },
      "source": [
        "# Data Stacking (X)"
      ]
    },
    {
      "cell_type": "code",
      "metadata": {
        "id": "uLTdJDnSLdos"
      },
      "source": [
        "'''\n",
        "from sklearn.model_selection import KFold\n",
        "from sklearn.metrics import mean_absolute_error\n",
        "\n",
        "def get_stacking_base_datasets(model, X_train_n, y_train_n, X_test_n, n_folds):\n",
        "  kf = KFold(n_splits=n_folds, shuffle=True, random_state=0)\n",
        "\n",
        "  train_fold_pred = np.zeros((X_train_n.shape[0], 1))\n",
        "  test_pred = np.zeros((X_test_n.shape[0], n_folds))\n",
        "  print(model.__class__.__name__, 'model 시작')\n",
        "\n",
        "  for folder_counter, (train_index, valid_index) in enumerate(kf.split(X_train_n)):\n",
        "    X_tr = X_train_n[train_index]\n",
        "    y_tr = y_train_n[train_index]\n",
        "    X_te = X_train_n[valid_index]\n",
        "\n",
        "    model.fit(X_tr, y_tr)\n",
        "    train_fold_pred[valid_index, :] = model.predict(X_te).reshape(-1, 1)\n",
        "    test_pred[:, folder_counter] = model.predict(X_test_n)\n",
        "  \n",
        "  test_pred_mean = np.mean(test_pred, axis=1).reshape(-1, 1)\n",
        "\n",
        "  return train_fold_pred, test_pred_mean\n",
        "'''"
      ],
      "execution_count": null,
      "outputs": []
    },
    {
      "cell_type": "code",
      "metadata": {
        "id": "g9WMJDFbNqO_"
      },
      "source": [
        "'''\n",
        "from sklearn.ensemble import RandomForestClassifier\n",
        "from sklearn.ensemble import AdaBoostClassifier\n",
        "from sklearn.tree import DecisionTreeClassifier \n",
        "\n",
        "knn_clf = KNeighborsClassifier(n_neighbors=4)\n",
        "ada_clf = AdaBoostClassifier(n_estimators=100, random_state=0)\n",
        "dt_clf = DecisionTreeClassifier(random_state=0)\n",
        "vot_clf = VotingClassifier(estimators=[('LR', logReg), ('KNN', knn)], voting='soft')\n",
        "\n",
        "knn_train, knn_test = get_stacking_base_datasets(knn_clf, X_train, y_train, X_test, 7)\n",
        "ada_train, ada_test = get_stacking_base_datasets(ada_clf, X_train, y_train, X_test, 7)\n",
        "dt_train, dt_test = get_stacking_base_datasets(dt_clf, X_train, y_train, X_test, 7)\n",
        "vot_train, vot_test = get_stacking_base_datasets(vot_clf, X_train, y_train, X_test, 7)\n",
        "\n",
        "Stack_X_train = np.concatenate((knn_train, ada_train, dt_train, vot_train), axis=1)\n",
        "Stack_X_test = np.concatenate((knn_test, ada_test, dt_test, vot_test), axis=1)\n",
        "print(X_train.shape, X_test.shape)\n",
        "print(Stack_X_train.shape, Stack_X_test.shape)\n",
        "print(Stack_X_train)\n",
        "'''"
      ],
      "execution_count": null,
      "outputs": []
    },
    {
      "cell_type": "markdown",
      "metadata": {
        "id": "igkJVQtrcBkm"
      },
      "source": [
        "# Model"
      ]
    },
    {
      "cell_type": "markdown",
      "metadata": {
        "id": "Z6ZioQ9sbMWZ"
      },
      "source": [
        "## Eval Function"
      ]
    },
    {
      "cell_type": "code",
      "metadata": {
        "id": "4VHG2Pqkcd7K"
      },
      "source": [
        "'''get_clf_eval()'''\n",
        "from sklearn.metrics import confusion_matrix, accuracy_score\n",
        "from sklearn.metrics import precision_score, recall_score\n",
        "from sklearn.metrics import f1_score, roc_auc_score\n",
        "\n",
        "def get_clf_eval(y_test, pred=None, pred_proba=None):\n",
        "  confusion = confusion_matrix(y_test, pred)\n",
        "  accuracy = accuracy_score(y_test, pred)\n",
        "  precision = precision_score(y_test, pred)\n",
        "  recall = recall_score(y_test, pred)\n",
        "  f1 = f1_score(y_test, pred)\n",
        "\n",
        "  #Add ROC-AUC\n",
        "  roc_auc = roc_auc_score(y_test, pred_proba)\n",
        "  print('오차 행렬')\n",
        "  print(confusion)\n",
        "\n",
        "  #Add ROC-AUC Print\n",
        "  print('정확도: {0:.4f}, 정밀도: {1:.4f}, 재현율: {2:.4f},`F1: {3:.4f}, AUC:{4:.4f}'.format(accuracy, precision, recall, f1, roc_auc))"
      ],
      "execution_count": 43,
      "outputs": []
    },
    {
      "cell_type": "markdown",
      "metadata": {
        "id": "TEi0t0eSRj5G"
      },
      "source": [
        "## Voting Classifier (X)"
      ]
    },
    {
      "cell_type": "code",
      "metadata": {
        "id": "gVxAonaPFoYu"
      },
      "source": [
        "'''\n",
        "#개별 모델 → Logistic, KNN\n",
        "logReg = LogisticRegression()\n",
        "knn = KNeighborsClassifier(n_neighbors=8)\n",
        "\n",
        "#Soft Voting.\n",
        "voting = VotingClassifier(estimators=[('LR', logReg), ('KNN', knn)], voting='soft')\n",
        "\n",
        "#Voting Classififer Performance Evaluation.\n",
        "voting.fit(X_train, y_train)\n",
        "pred = voting.predict(X_test)\n",
        "print('Voting 분류기 정확도: {0:.4f}'.format(accuracy_score(y_test, pred)))\n",
        "\n",
        "#개별 모델 Performance Evaluation.\n",
        "classifiers = [logReg, knn]\n",
        "for classifier in classifiers:\n",
        "  classifier.fit(X_train, y_train)\n",
        "  pred = classifier.predict(X_test)\n",
        "  class_name = classifier.__class__.__name__\n",
        "  print('{0} 정확도: {1:.4f}'.format(class_name, accuracy_score(y_test, pred)))\n",
        "'''"
      ],
      "execution_count": null,
      "outputs": []
    },
    {
      "cell_type": "markdown",
      "metadata": {
        "id": "Bjlk0lRgUrky"
      },
      "source": [
        "## Random Forest (X)"
      ]
    },
    {
      "cell_type": "code",
      "metadata": {
        "id": "3d8Impq3VMwm"
      },
      "source": [
        "'''\n",
        "from sklearn.ensemble import RandomForestClassifier\n",
        "\n",
        "rf = RandomForestClassifier(random_state=0, n_estimators=20)\n",
        "rf.fit(X_train, y_train) \n",
        "rf_preds = rf.predict(X_test)\n",
        "rf_preds_proba = rf.predict_proba(X_test)[:, 1]\n",
        "'''"
      ],
      "execution_count": null,
      "outputs": []
    },
    {
      "cell_type": "code",
      "metadata": {
        "colab": {
          "base_uri": "https://localhost:8080/",
          "height": 0
        },
        "id": "VfwIFP9tWCQp",
        "outputId": "1b1dcb78-fc9e-4dc3-8cdc-0768bad58f23"
      },
      "source": [
        "#Print Random Forest Classifier.\n",
        "#print(rf)"
      ],
      "execution_count": 46,
      "outputs": [
        {
          "output_type": "execute_result",
          "data": {
            "application/vnd.google.colaboratory.intrinsic+json": {
              "type": "string"
            },
            "text/plain": [
              "'\\n#Print Random Forest Classifier.\\nprint(rf)\\n'"
            ]
          },
          "metadata": {
            "tags": []
          },
          "execution_count": 46
        }
      ]
    },
    {
      "cell_type": "code",
      "metadata": {
        "id": "xIJ5H6nDWc1v"
      },
      "source": [
        "#Print Eval.\n",
        "#print(classification_report(y_test, rf_preds))\n",
        "#get_clf_eval(y_test, rf_preds, rf_preds_proba)"
      ],
      "execution_count": null,
      "outputs": []
    },
    {
      "cell_type": "markdown",
      "metadata": {
        "id": "HSYkdYrEa2cz"
      },
      "source": [
        "## XGBoost"
      ]
    },
    {
      "cell_type": "code",
      "metadata": {
        "id": "wzsscUAP15Kn"
      },
      "source": [
        "from xgboost import XGBClassifier\n",
        "from xgboost import plot_importance"
      ],
      "execution_count": 48,
      "outputs": []
    },
    {
      "cell_type": "code",
      "metadata": {
        "id": "b86GFD5Ecd7I"
      },
      "source": [
        "#Bayesian Tuning\n",
        "'''\n",
        "#Define Search Space.\n",
        "param_space = {\"max_depth\": hp.quniform(\"max_depth\", 2, 10, 1),\n",
        "             \"subsample\": hp.uniform(\"subsample\", 0.1, 0.9),\n",
        "             \"n_estimators\": hp.uniform(\"n_estimators\", 100, 800),\n",
        "             \"learning_rate\": hp.uniform(\"learning_rate\", 0.01, 0.1)}\n",
        "\n",
        "#Define objective() Function.\n",
        "def objective(params):\n",
        "    params = {'max_depth': int(params['max_depth']),\n",
        "              'subsample': params['subsample'],\n",
        "              'n_estimators': int(params['n_estimators']),\n",
        "              'learning_rate': params['learning_rate']}\n",
        "    xgb = XGBClassifier(**params)\n",
        "    best_score = cross_val_score(xgb, X_train, y_train, \n",
        "                                 scoring='accuracy', \n",
        "                                 cv=5,\n",
        "                                 n_jobs=8).mean()\n",
        "    loss = 1 - best_score\n",
        "    return loss\n",
        "\n",
        "#Run Algorithm.\n",
        "best = fmin(fn=objective, space=param_space, \n",
        "            max_evals=10, \n",
        "            rstate=np.random.RandomState(777), \n",
        "            algo=tpe.suggest)\n",
        "print(best)\n",
        "'''"
      ],
      "execution_count": null,
      "outputs": []
    },
    {
      "cell_type": "code",
      "metadata": {
        "id": "9TxfEVEBywbo"
      },
      "source": [
        "#Fitting 우범여부.\n",
        "'''\n",
        "#xgb = XGBClassifier(n_estimators=1000, learning_rate=0.01, max_dapth=3) #First.\n",
        "#xgb = XGBClassifier(n_estimators=441, max_depth=10, learning_rate=0.02, subsample=0.71) #Second.\n",
        "#xgb = XGBClassifier(n_estimators=400, learning_rate=0.1, max_dapth=3) #Third.\n",
        "#xgb = XGBClassifier(n_estimators=738, max_depth=3, learning_rate=0.06, subsample=0.64) #Fourth.\n",
        "#xgb = XGBClassifier(base_score=0.4, n_estimators=738, max_depth=3, learning_rate=0.06, subsample=0.64) #Fifth & After Fifth.\n",
        "#xgb = XGBClassifier(base_score=0.6, n_estimators=738, max_depth=3, learning_rate=0.06, subsample=0.64, random_state=2) #Tenth.\n",
        "\n",
        "xgb = XGBClassifier(base_score=0.6, n_estimators=738, max_depth=3, learning_rate=0.06, subsample=0.64, random_state=2, gamma=4, min_child_weight=6)\n",
        "xgb.fit(X_train, y_train, early_stopping_rounds=200, eval_metric=\"logloss\", eval_set=[(X_test, y_test)], verbose=True) \n",
        "w_preds = xgb.predict(X_test)\n",
        "w_preds_proba = xgb.predict_proba(X_test)[:, 1]\n",
        "'''"
      ],
      "execution_count": null,
      "outputs": []
    },
    {
      "cell_type": "code",
      "metadata": {
        "id": "wipPo3QMKcP-"
      },
      "source": [
        "#Fitting 핵심적발.\n",
        "'''\n",
        "zxgb = XGBClassifier(base_score=0.6, n_estimators=738, max_depth=3, learning_rate=0.06, subsample=0.64, random_state=2, gamma=4, min_child_weight=6)\n",
        "zxgb.fit(ZX_train, zy_train, early_stopping_rounds=200, eval_metric=\"mlogloss\", eval_set=[(ZX_test, zy_test)], verbose=True) \n",
        "zw_preds = zxgb.predict(ZX_test)\n",
        "zw_preds_proba = zxgb.predict_proba(ZX_test)[:, 1]\n",
        "'''"
      ],
      "execution_count": null,
      "outputs": []
    },
    {
      "cell_type": "code",
      "metadata": {
        "id": "uijA-9rq-ZCz"
      },
      "source": [
        "#Print XGB Classifier.\n",
        "#print(xgb)\n",
        "#print(zxgb)"
      ],
      "execution_count": null,
      "outputs": []
    },
    {
      "cell_type": "code",
      "metadata": {
        "id": "h6FYrWv2cd7L"
      },
      "source": [
        "#Print 우범여부 Eval.\n",
        "#print(classification_report(y_test, w_preds))\n",
        "#get_clf_eval(y_test, w_preds, w_preds_proba)"
      ],
      "execution_count": null,
      "outputs": []
    },
    {
      "cell_type": "code",
      "metadata": {
        "id": "2HpvaoIDJsoj"
      },
      "source": [
        "#Print 핵심적발 Eval.\n",
        "#print(classification_report(zy_test, zw_preds))\n",
        "#print(\"Acc:\", accuracy_score(zy_test, zw_preds))\n",
        "#print(\"F1:\", f1_score(zy_test, zw_preds, average='macro'))"
      ],
      "execution_count": null,
      "outputs": []
    },
    {
      "cell_type": "markdown",
      "metadata": {
        "id": "4v2HqAvZ3ump"
      },
      "source": [
        "**결과 정리**\n",
        "\n",
        "---\n",
        "\n",
        "First\n",
        "\n",
        "오차 행렬\n",
        "[[13631   405]\n",
        " [ 3336   552]]\n",
        "\n",
        "정확도: 0.7913, 정밀도: 0.5768, 재현율: 0.1420,`F1: 0.2279, AUC:0.7714\n",
        "\n",
        "---\n",
        "\n",
        "Second\n",
        "\n",
        "오차 행렬\n",
        "[[13376   660]\n",
        " [ 3111   777]]\n",
        "\n",
        "정확도: 0.7896, 정밀도: 0.5407, 재현율: 0.1998,`F1: 0.2918, AUC:0.7731\n",
        "\n",
        "---\n",
        "\n",
        "Third\n",
        "\n",
        "오차 행렬\n",
        "[[13380   656]\n",
        " [ 3108   780]]\n",
        "\n",
        "정확도: 0.7900, 정밀도: 0.5432, 재현율: 0.2006,`F1: 0.2930, AUC:0.7762\n",
        "\n",
        "---\n",
        "\n",
        "Fourth\n",
        "\n",
        "오차 행렬\n",
        "[[13391   645]\n",
        " [ 3089   799]]\n",
        "\n",
        "정확도: 0.7917, 정밀도: 0.5533, 재현율: 0.2055,`F1: 0.2997, AUC:0.7775\n",
        "\n",
        "---\n",
        "\n",
        "Fifth\n",
        "\n",
        "오차 행렬\n",
        "[[13388   648]\n",
        " [ 3078   810]]\n",
        "\n",
        "정확도: 0.7921, 정밀도: 0.5556, 재현율: 0.2083,`F1: 0.3030, AUC:0.7773\n",
        "\n",
        "---\n",
        "\n",
        "Sixth\n",
        "\n",
        "One Hot → Label이고, 다른 사항은 Fifth와 같다.\n",
        "\n",
        "오차 행렬\n",
        "[[13182   854]\n",
        " [ 2762  1126]]\n",
        "\n",
        "정확도: 0.7983, 정밀도: 0.5687, 재현율: 0.2896,`F1: 0.3838, AUC:0.8088\n",
        "\n",
        "---\n",
        "\n",
        "Seventh\n",
        "\n",
        "One Hot을 수정하여 돌렸고, 다른 사항은 Fifth와 같다.\n",
        "\n",
        "오차 행렬\n",
        "[[13182   854]\n",
        " [ 2762  1126]]\n",
        "\n",
        "정확도: 0.7983, 정밀도: 0.5687, 재현율: 0.2896,`F1: 0.3838, AUC:0.8088\n",
        "\n",
        "---\n",
        "\n",
        "Eighth\n",
        "\n",
        "Min-max를 수정하였고, 다른 사항은 Seventh와 같다.\n",
        "\n",
        "오차 행렬\n",
        "[[13166   870]\n",
        " [ 2742  1146]]\n",
        "\n",
        "정확도: 0.7985, 정밀도: 0.5685, 재현율: 0.2948,`F1: 0.3882, AUC:0.8094\n",
        "\n",
        "---\n",
        "\n",
        "Ninth\n",
        "\n",
        "바꿨다고 명시한 수정 사항은 딱히 없으나, 성능이 살짝 향상되었다.\n",
        "\n",
        "Early Stopping을 200으로 두었다.\n",
        "\n",
        "오차 행렬\n",
        "[[13169   867]\n",
        " [ 2740  1148]]\n",
        "\n",
        "정확도: 0.7988, 정밀도: 0.5697, 재현율: 0.2953,`F1: 0.3890, AUC:0.8096\n",
        "\n",
        "---\n",
        "\n",
        "Tenth\n",
        "\n",
        "Base Score를 0.6으로 오히려 높였더니 성능이 조금 올라갔다. 이상하다.\n",
        "\n",
        "오차 행렬\n",
        "[[13168   868]\n",
        " [ 2733  1155]]\n",
        "\n",
        "정확도: 0.7991, 정밀도: 0.5709, 재현율: 0.2971,`F1: 0.3908, AUC:0.8096\n",
        "\n",
        "---\n",
        "\n",
        "Eleventh\n",
        "\n",
        "xgb를 수정하였고, 전처리로 신고중량, 해외거래처부호를 조정하였다. `/10`\n",
        "\n",
        "오차 행렬\n",
        "[[13252   784]\n",
        " [ 2439  1449]]\n",
        "\n",
        "정확도: 0.8202, 정밀도: 0.6489, 재현율: 0.3727,`F1: 0.4735, AUC:0.8631"
      ]
    },
    {
      "cell_type": "markdown",
      "metadata": {
        "id": "ZpRbC1dUJ0o0"
      },
      "source": [
        "### Visualization"
      ]
    },
    {
      "cell_type": "code",
      "metadata": {
        "id": "mS2g4ZxpSFJC"
      },
      "source": [
        "#Visualize Tree.\n",
        "'''\n",
        "from xgboost import plot_tree\n",
        "\n",
        "fig, ax = plt.subplots(figsize=(15, 15))\n",
        "plot_tree(xgb, ax=ax)\n",
        "'''"
      ],
      "execution_count": null,
      "outputs": []
    },
    {
      "cell_type": "code",
      "metadata": {
        "id": "mxcpHMnVO3xs"
      },
      "source": [
        "#Visualize Prediction.\n",
        "'''\n",
        "#우범여부.\n",
        "fig = plt.figure(figsize=(10, 12))\n",
        "chart = fig.add_subplot(1, 1, 1)\n",
        "chart.plot(y_test[:100], color='b')\n",
        "chart.plot(w_preds[:100], color='r')\n",
        "\n",
        "#핵심적발.\n",
        "fig = plt.figure(figsize=(10, 12))\n",
        "chart = fig.add_subplot(1, 1, 1)\n",
        "chart.plot(zy_test[:100], color='b')\n",
        "chart.plot(zw_preds[:100], color='r')\n",
        "'''"
      ],
      "execution_count": null,
      "outputs": []
    },
    {
      "cell_type": "code",
      "metadata": {
        "id": "vt2_1wpVKL1M"
      },
      "source": [
        "#Visualize Learning Rate.\n",
        "'''\n",
        "results = xgb.evals_result()\n",
        "z_results = zxgb.evals_result()\n",
        "\n",
        "#plot Learning Rate Curves.\n",
        "plt.plot(results['validation_0']['logloss'], label='train 1')\n",
        "plt.plot(z_results['validation_0']['mlogloss'], label='train 2')\n",
        "plt.legend()\n",
        "plt.show()\n",
        "'''"
      ],
      "execution_count": null,
      "outputs": []
    },
    {
      "cell_type": "code",
      "metadata": {
        "id": "RHCY14CjBtsV"
      },
      "source": [
        "#Visualize Feature Importance.\n",
        "'''\n",
        "#우범여부.\n",
        "fig, ax = plt.subplots(figsize=(12, 12))\n",
        "plot_importance(xgb, ax=ax)\n",
        "\n",
        "#핵심적발.\n",
        "fig, ax = plt.subplots(figsize=(12, 12))\n",
        "plot_importance(zxgb, ax=ax)\n",
        "'''"
      ],
      "execution_count": null,
      "outputs": []
    },
    {
      "cell_type": "markdown",
      "metadata": {
        "id": "Y4NtaW4iafLv"
      },
      "source": [
        "## Light GBM"
      ]
    },
    {
      "cell_type": "code",
      "metadata": {
        "id": "vGcjRE0-anJp"
      },
      "source": [
        "from lightgbm import LGBMClassifier\n",
        "from lightgbm import plot_importance"
      ],
      "execution_count": 59,
      "outputs": []
    },
    {
      "cell_type": "code",
      "metadata": {
        "id": "jVYVYjHLoV6A"
      },
      "source": [
        "#Bayesian Tuning'''\n",
        "'''\n",
        "#Define Search Space.\n",
        "param_space = {\"max_depth\": hp.quniform(\"max_depth\", 2, 10, 1),\n",
        "             \"subsample\": hp.uniform(\"subsample\", 0.1, 0.9),\n",
        "             \"n_estimators\": hp.uniform(\"n_estimators\", 100, 800),\n",
        "             \"learning_rate\": hp.uniform(\"learning_rate\", 0.01, 0.1)}\n",
        "\n",
        "#Define objective() Function.\n",
        "def objective(params):\n",
        "    params = {'max_depth': int(params['max_depth']),\n",
        "              'subsample': params['subsample'],\n",
        "              'n_estimators': int(params['n_estimators']),\n",
        "              'learning_rate': params['learning_rate']}\n",
        "    lgbm = LGBMClassifier(**params)\n",
        "    best_score = cross_val_score(lgbm, X_train, y_train, \n",
        "                                 scoring='accuracy', \n",
        "                                 cv=5,\n",
        "                                 n_jobs=8).mean()\n",
        "    loss = 1 - best_score\n",
        "    return loss\n",
        "\n",
        "#Run Algorithm.\n",
        "best = fmin(fn=objective, space=param_space, \n",
        "            max_evals=10, \n",
        "            rstate=np.random.RandomState(777), \n",
        "            algo=tpe.suggest)\n",
        "print(best)\n",
        "'''"
      ],
      "execution_count": null,
      "outputs": []
    },
    {
      "cell_type": "code",
      "metadata": {
        "colab": {
          "base_uri": "https://localhost:8080/"
        },
        "id": "Pe85yUnoaiEx",
        "outputId": "cbac0ef3-8ce0-4c73-f07b-451bf5b3410c"
      },
      "source": [
        "'''Fitting 우범여부'''\n",
        "#lgbm_wrapper = LGBMClassifier(n_estimators=400)\n",
        "#lgbm = LGBMClassifier(base_score=0.6, n_estimators=738, max_depth=3, learning_rate=0.06, subsample=0.64)\n",
        "\n",
        "lgbm = LGBMClassifier(max_depth=5, n_estimators=344, min_data_in_leaf=50, num_leaves=32, random_state=42, application=\"binary\")\n",
        "evals = [(X_test, y_test)]\n",
        "lgbm.fit(X_train, y_train, early_stopping_rounds=200, eval_metric=\"logloss\", eval_set=evals, verbose=True)\n",
        "preds = lgbm.predict(X_test)\n",
        "pred_proba = lgbm.predict_proba(X_test)[:, 1]"
      ],
      "execution_count": 61,
      "outputs": [
        {
          "output_type": "stream",
          "text": [
            "[1]\tvalid_0's binary_logloss: 0.453799\tvalid_0's binary_logloss: 0.453799\n",
            "Training until validation scores don't improve for 200 rounds.\n",
            "[2]\tvalid_0's binary_logloss: 0.404493\tvalid_0's binary_logloss: 0.404493\n",
            "[3]\tvalid_0's binary_logloss: 0.365321\tvalid_0's binary_logloss: 0.365321\n",
            "[4]\tvalid_0's binary_logloss: 0.334043\tvalid_0's binary_logloss: 0.334043\n",
            "[5]\tvalid_0's binary_logloss: 0.308005\tvalid_0's binary_logloss: 0.308005\n",
            "[6]\tvalid_0's binary_logloss: 0.285976\tvalid_0's binary_logloss: 0.285976\n",
            "[7]\tvalid_0's binary_logloss: 0.266842\tvalid_0's binary_logloss: 0.266842\n",
            "[8]\tvalid_0's binary_logloss: 0.250152\tvalid_0's binary_logloss: 0.250152\n",
            "[9]\tvalid_0's binary_logloss: 0.235749\tvalid_0's binary_logloss: 0.235749\n",
            "[10]\tvalid_0's binary_logloss: 0.223436\tvalid_0's binary_logloss: 0.223436\n",
            "[11]\tvalid_0's binary_logloss: 0.212487\tvalid_0's binary_logloss: 0.212487\n",
            "[12]\tvalid_0's binary_logloss: 0.202904\tvalid_0's binary_logloss: 0.202904\n",
            "[13]\tvalid_0's binary_logloss: 0.194339\tvalid_0's binary_logloss: 0.194339\n",
            "[14]\tvalid_0's binary_logloss: 0.186809\tvalid_0's binary_logloss: 0.186809\n",
            "[15]\tvalid_0's binary_logloss: 0.179657\tvalid_0's binary_logloss: 0.179657\n",
            "[16]\tvalid_0's binary_logloss: 0.173393\tvalid_0's binary_logloss: 0.173393\n",
            "[17]\tvalid_0's binary_logloss: 0.167848\tvalid_0's binary_logloss: 0.167848\n",
            "[18]\tvalid_0's binary_logloss: 0.16284\tvalid_0's binary_logloss: 0.16284\n",
            "[19]\tvalid_0's binary_logloss: 0.158213\tvalid_0's binary_logloss: 0.158213\n",
            "[20]\tvalid_0's binary_logloss: 0.154261\tvalid_0's binary_logloss: 0.154261\n",
            "[21]\tvalid_0's binary_logloss: 0.149949\tvalid_0's binary_logloss: 0.149949\n",
            "[22]\tvalid_0's binary_logloss: 0.146031\tvalid_0's binary_logloss: 0.146031\n",
            "[23]\tvalid_0's binary_logloss: 0.142945\tvalid_0's binary_logloss: 0.142945\n",
            "[24]\tvalid_0's binary_logloss: 0.140481\tvalid_0's binary_logloss: 0.140481\n",
            "[25]\tvalid_0's binary_logloss: 0.138226\tvalid_0's binary_logloss: 0.138226\n",
            "[26]\tvalid_0's binary_logloss: 0.135449\tvalid_0's binary_logloss: 0.135449\n",
            "[27]\tvalid_0's binary_logloss: 0.132959\tvalid_0's binary_logloss: 0.132959\n",
            "[28]\tvalid_0's binary_logloss: 0.131231\tvalid_0's binary_logloss: 0.131231\n",
            "[29]\tvalid_0's binary_logloss: 0.129735\tvalid_0's binary_logloss: 0.129735\n",
            "[30]\tvalid_0's binary_logloss: 0.12716\tvalid_0's binary_logloss: 0.12716\n",
            "[31]\tvalid_0's binary_logloss: 0.124921\tvalid_0's binary_logloss: 0.124921\n",
            "[32]\tvalid_0's binary_logloss: 0.12278\tvalid_0's binary_logloss: 0.12278\n",
            "[33]\tvalid_0's binary_logloss: 0.121208\tvalid_0's binary_logloss: 0.121208\n",
            "[34]\tvalid_0's binary_logloss: 0.119875\tvalid_0's binary_logloss: 0.119875\n",
            "[35]\tvalid_0's binary_logloss: 0.118162\tvalid_0's binary_logloss: 0.118162\n",
            "[36]\tvalid_0's binary_logloss: 0.116835\tvalid_0's binary_logloss: 0.116835\n",
            "[37]\tvalid_0's binary_logloss: 0.115586\tvalid_0's binary_logloss: 0.115586\n",
            "[38]\tvalid_0's binary_logloss: 0.114495\tvalid_0's binary_logloss: 0.114495\n",
            "[39]\tvalid_0's binary_logloss: 0.113411\tvalid_0's binary_logloss: 0.113411\n",
            "[40]\tvalid_0's binary_logloss: 0.112971\tvalid_0's binary_logloss: 0.112971\n",
            "[41]\tvalid_0's binary_logloss: 0.111967\tvalid_0's binary_logloss: 0.111967\n",
            "[42]\tvalid_0's binary_logloss: 0.110578\tvalid_0's binary_logloss: 0.110578\n",
            "[43]\tvalid_0's binary_logloss: 0.110042\tvalid_0's binary_logloss: 0.110042\n",
            "[44]\tvalid_0's binary_logloss: 0.109603\tvalid_0's binary_logloss: 0.109603\n",
            "[45]\tvalid_0's binary_logloss: 0.108706\tvalid_0's binary_logloss: 0.108706\n",
            "[46]\tvalid_0's binary_logloss: 0.107337\tvalid_0's binary_logloss: 0.107337\n",
            "[47]\tvalid_0's binary_logloss: 0.106878\tvalid_0's binary_logloss: 0.106878\n",
            "[48]\tvalid_0's binary_logloss: 0.105491\tvalid_0's binary_logloss: 0.105491\n",
            "[49]\tvalid_0's binary_logloss: 0.105063\tvalid_0's binary_logloss: 0.105063\n",
            "[50]\tvalid_0's binary_logloss: 0.104324\tvalid_0's binary_logloss: 0.104324\n",
            "[51]\tvalid_0's binary_logloss: 0.103493\tvalid_0's binary_logloss: 0.103493\n",
            "[52]\tvalid_0's binary_logloss: 0.101881\tvalid_0's binary_logloss: 0.101881\n",
            "[53]\tvalid_0's binary_logloss: 0.101671\tvalid_0's binary_logloss: 0.101671\n",
            "[54]\tvalid_0's binary_logloss: 0.10108\tvalid_0's binary_logloss: 0.10108\n",
            "[55]\tvalid_0's binary_logloss: 0.1004\tvalid_0's binary_logloss: 0.1004\n",
            "[56]\tvalid_0's binary_logloss: 0.09991\tvalid_0's binary_logloss: 0.09991\n",
            "[57]\tvalid_0's binary_logloss: 0.0985562\tvalid_0's binary_logloss: 0.0985562\n",
            "[58]\tvalid_0's binary_logloss: 0.0979646\tvalid_0's binary_logloss: 0.0979646\n",
            "[59]\tvalid_0's binary_logloss: 0.0972279\tvalid_0's binary_logloss: 0.0972279\n",
            "[60]\tvalid_0's binary_logloss: 0.0967861\tvalid_0's binary_logloss: 0.0967861\n",
            "[61]\tvalid_0's binary_logloss: 0.0960952\tvalid_0's binary_logloss: 0.0960952\n",
            "[62]\tvalid_0's binary_logloss: 0.0949517\tvalid_0's binary_logloss: 0.0949517\n",
            "[63]\tvalid_0's binary_logloss: 0.0944185\tvalid_0's binary_logloss: 0.0944185\n",
            "[64]\tvalid_0's binary_logloss: 0.0939379\tvalid_0's binary_logloss: 0.0939379\n",
            "[65]\tvalid_0's binary_logloss: 0.0929402\tvalid_0's binary_logloss: 0.0929402\n",
            "[66]\tvalid_0's binary_logloss: 0.0925589\tvalid_0's binary_logloss: 0.0925589\n",
            "[67]\tvalid_0's binary_logloss: 0.0923596\tvalid_0's binary_logloss: 0.0923596\n",
            "[68]\tvalid_0's binary_logloss: 0.0919323\tvalid_0's binary_logloss: 0.0919323\n",
            "[69]\tvalid_0's binary_logloss: 0.0917337\tvalid_0's binary_logloss: 0.0917337\n",
            "[70]\tvalid_0's binary_logloss: 0.0911766\tvalid_0's binary_logloss: 0.0911766\n",
            "[71]\tvalid_0's binary_logloss: 0.0910115\tvalid_0's binary_logloss: 0.0910115\n",
            "[72]\tvalid_0's binary_logloss: 0.0901925\tvalid_0's binary_logloss: 0.0901925\n",
            "[73]\tvalid_0's binary_logloss: 0.0897527\tvalid_0's binary_logloss: 0.0897527\n",
            "[74]\tvalid_0's binary_logloss: 0.0888251\tvalid_0's binary_logloss: 0.0888251\n",
            "[75]\tvalid_0's binary_logloss: 0.0887325\tvalid_0's binary_logloss: 0.0887325\n",
            "[76]\tvalid_0's binary_logloss: 0.0884768\tvalid_0's binary_logloss: 0.0884768\n",
            "[77]\tvalid_0's binary_logloss: 0.0879714\tvalid_0's binary_logloss: 0.0879714\n",
            "[78]\tvalid_0's binary_logloss: 0.0877021\tvalid_0's binary_logloss: 0.0877021\n",
            "[79]\tvalid_0's binary_logloss: 0.0870942\tvalid_0's binary_logloss: 0.0870942\n",
            "[80]\tvalid_0's binary_logloss: 0.0867514\tvalid_0's binary_logloss: 0.0867514\n",
            "[81]\tvalid_0's binary_logloss: 0.0860859\tvalid_0's binary_logloss: 0.0860859\n",
            "[82]\tvalid_0's binary_logloss: 0.085864\tvalid_0's binary_logloss: 0.085864\n",
            "[83]\tvalid_0's binary_logloss: 0.0855868\tvalid_0's binary_logloss: 0.0855868\n",
            "[84]\tvalid_0's binary_logloss: 0.0854527\tvalid_0's binary_logloss: 0.0854527\n",
            "[85]\tvalid_0's binary_logloss: 0.0850194\tvalid_0's binary_logloss: 0.0850194\n",
            "[86]\tvalid_0's binary_logloss: 0.0846206\tvalid_0's binary_logloss: 0.0846206\n",
            "[87]\tvalid_0's binary_logloss: 0.0837172\tvalid_0's binary_logloss: 0.0837172\n",
            "[88]\tvalid_0's binary_logloss: 0.0820802\tvalid_0's binary_logloss: 0.0820802\n",
            "[89]\tvalid_0's binary_logloss: 0.0818334\tvalid_0's binary_logloss: 0.0818334\n",
            "[90]\tvalid_0's binary_logloss: 0.0811274\tvalid_0's binary_logloss: 0.0811274\n",
            "[91]\tvalid_0's binary_logloss: 0.079621\tvalid_0's binary_logloss: 0.079621\n",
            "[92]\tvalid_0's binary_logloss: 0.079514\tvalid_0's binary_logloss: 0.079514\n",
            "[93]\tvalid_0's binary_logloss: 0.0789535\tvalid_0's binary_logloss: 0.0789535\n",
            "[94]\tvalid_0's binary_logloss: 0.0786481\tvalid_0's binary_logloss: 0.0786481\n",
            "[95]\tvalid_0's binary_logloss: 0.0784152\tvalid_0's binary_logloss: 0.0784152\n",
            "[96]\tvalid_0's binary_logloss: 0.0782036\tvalid_0's binary_logloss: 0.0782036\n",
            "[97]\tvalid_0's binary_logloss: 0.0769098\tvalid_0's binary_logloss: 0.0769098\n",
            "[98]\tvalid_0's binary_logloss: 0.07633\tvalid_0's binary_logloss: 0.07633\n",
            "[99]\tvalid_0's binary_logloss: 0.0755531\tvalid_0's binary_logloss: 0.0755531\n",
            "[100]\tvalid_0's binary_logloss: 0.0754976\tvalid_0's binary_logloss: 0.0754976\n",
            "[101]\tvalid_0's binary_logloss: 0.0754131\tvalid_0's binary_logloss: 0.0754131\n",
            "[102]\tvalid_0's binary_logloss: 0.0741858\tvalid_0's binary_logloss: 0.0741858\n",
            "[103]\tvalid_0's binary_logloss: 0.0736584\tvalid_0's binary_logloss: 0.0736584\n",
            "[104]\tvalid_0's binary_logloss: 0.0729578\tvalid_0's binary_logloss: 0.0729578\n",
            "[105]\tvalid_0's binary_logloss: 0.0719643\tvalid_0's binary_logloss: 0.0719643\n",
            "[106]\tvalid_0's binary_logloss: 0.0715079\tvalid_0's binary_logloss: 0.0715079\n",
            "[107]\tvalid_0's binary_logloss: 0.0714186\tvalid_0's binary_logloss: 0.0714186\n",
            "[108]\tvalid_0's binary_logloss: 0.0712493\tvalid_0's binary_logloss: 0.0712493\n",
            "[109]\tvalid_0's binary_logloss: 0.0703211\tvalid_0's binary_logloss: 0.0703211\n",
            "[110]\tvalid_0's binary_logloss: 0.0702629\tvalid_0's binary_logloss: 0.0702629\n",
            "[111]\tvalid_0's binary_logloss: 0.0698339\tvalid_0's binary_logloss: 0.0698339\n",
            "[112]\tvalid_0's binary_logloss: 0.0694266\tvalid_0's binary_logloss: 0.0694266\n",
            "[113]\tvalid_0's binary_logloss: 0.0692463\tvalid_0's binary_logloss: 0.0692463\n",
            "[114]\tvalid_0's binary_logloss: 0.0683502\tvalid_0's binary_logloss: 0.0683502\n",
            "[115]\tvalid_0's binary_logloss: 0.0681023\tvalid_0's binary_logloss: 0.0681023\n",
            "[116]\tvalid_0's binary_logloss: 0.0675349\tvalid_0's binary_logloss: 0.0675349\n",
            "[117]\tvalid_0's binary_logloss: 0.0674247\tvalid_0's binary_logloss: 0.0674247\n",
            "[118]\tvalid_0's binary_logloss: 0.0666774\tvalid_0's binary_logloss: 0.0666774\n",
            "[119]\tvalid_0's binary_logloss: 0.0665311\tvalid_0's binary_logloss: 0.0665311\n",
            "[120]\tvalid_0's binary_logloss: 0.0662181\tvalid_0's binary_logloss: 0.0662181\n",
            "[121]\tvalid_0's binary_logloss: 0.0657935\tvalid_0's binary_logloss: 0.0657935\n",
            "[122]\tvalid_0's binary_logloss: 0.0657231\tvalid_0's binary_logloss: 0.0657231\n",
            "[123]\tvalid_0's binary_logloss: 0.0651057\tvalid_0's binary_logloss: 0.0651057\n",
            "[124]\tvalid_0's binary_logloss: 0.0649523\tvalid_0's binary_logloss: 0.0649523\n",
            "[125]\tvalid_0's binary_logloss: 0.0648537\tvalid_0's binary_logloss: 0.0648537\n",
            "[126]\tvalid_0's binary_logloss: 0.0646753\tvalid_0's binary_logloss: 0.0646753\n",
            "[127]\tvalid_0's binary_logloss: 0.0643134\tvalid_0's binary_logloss: 0.0643134\n",
            "[128]\tvalid_0's binary_logloss: 0.0641943\tvalid_0's binary_logloss: 0.0641943\n",
            "[129]\tvalid_0's binary_logloss: 0.0640026\tvalid_0's binary_logloss: 0.0640026\n",
            "[130]\tvalid_0's binary_logloss: 0.0634521\tvalid_0's binary_logloss: 0.0634521\n",
            "[131]\tvalid_0's binary_logloss: 0.0631612\tvalid_0's binary_logloss: 0.0631612\n",
            "[132]\tvalid_0's binary_logloss: 0.0631001\tvalid_0's binary_logloss: 0.0631001\n",
            "[133]\tvalid_0's binary_logloss: 0.063015\tvalid_0's binary_logloss: 0.063015\n",
            "[134]\tvalid_0's binary_logloss: 0.0628487\tvalid_0's binary_logloss: 0.0628487\n",
            "[135]\tvalid_0's binary_logloss: 0.0627788\tvalid_0's binary_logloss: 0.0627788\n",
            "[136]\tvalid_0's binary_logloss: 0.0627261\tvalid_0's binary_logloss: 0.0627261\n",
            "[137]\tvalid_0's binary_logloss: 0.0623123\tvalid_0's binary_logloss: 0.0623123\n",
            "[138]\tvalid_0's binary_logloss: 0.0622407\tvalid_0's binary_logloss: 0.0622407\n",
            "[139]\tvalid_0's binary_logloss: 0.0618512\tvalid_0's binary_logloss: 0.0618512\n",
            "[140]\tvalid_0's binary_logloss: 0.0614611\tvalid_0's binary_logloss: 0.0614611\n",
            "[141]\tvalid_0's binary_logloss: 0.0609091\tvalid_0's binary_logloss: 0.0609091\n",
            "[142]\tvalid_0's binary_logloss: 0.0606778\tvalid_0's binary_logloss: 0.0606778\n",
            "[143]\tvalid_0's binary_logloss: 0.060563\tvalid_0's binary_logloss: 0.060563\n",
            "[144]\tvalid_0's binary_logloss: 0.0602336\tvalid_0's binary_logloss: 0.0602336\n",
            "[145]\tvalid_0's binary_logloss: 0.0600863\tvalid_0's binary_logloss: 0.0600863\n",
            "[146]\tvalid_0's binary_logloss: 0.0598864\tvalid_0's binary_logloss: 0.0598864\n",
            "[147]\tvalid_0's binary_logloss: 0.0596785\tvalid_0's binary_logloss: 0.0596785\n",
            "[148]\tvalid_0's binary_logloss: 0.0595891\tvalid_0's binary_logloss: 0.0595891\n",
            "[149]\tvalid_0's binary_logloss: 0.0589423\tvalid_0's binary_logloss: 0.0589423\n",
            "[150]\tvalid_0's binary_logloss: 0.0588273\tvalid_0's binary_logloss: 0.0588273\n",
            "[151]\tvalid_0's binary_logloss: 0.0587155\tvalid_0's binary_logloss: 0.0587155\n",
            "[152]\tvalid_0's binary_logloss: 0.0586029\tvalid_0's binary_logloss: 0.0586029\n",
            "[153]\tvalid_0's binary_logloss: 0.058228\tvalid_0's binary_logloss: 0.058228\n",
            "[154]\tvalid_0's binary_logloss: 0.0581\tvalid_0's binary_logloss: 0.0581\n",
            "[155]\tvalid_0's binary_logloss: 0.0580496\tvalid_0's binary_logloss: 0.0580496\n",
            "[156]\tvalid_0's binary_logloss: 0.0578162\tvalid_0's binary_logloss: 0.0578162\n",
            "[157]\tvalid_0's binary_logloss: 0.0576566\tvalid_0's binary_logloss: 0.0576566\n",
            "[158]\tvalid_0's binary_logloss: 0.0571562\tvalid_0's binary_logloss: 0.0571562\n",
            "[159]\tvalid_0's binary_logloss: 0.0570709\tvalid_0's binary_logloss: 0.0570709\n",
            "[160]\tvalid_0's binary_logloss: 0.05692\tvalid_0's binary_logloss: 0.05692\n",
            "[161]\tvalid_0's binary_logloss: 0.0568415\tvalid_0's binary_logloss: 0.0568415\n",
            "[162]\tvalid_0's binary_logloss: 0.0567121\tvalid_0's binary_logloss: 0.0567121\n",
            "[163]\tvalid_0's binary_logloss: 0.0566006\tvalid_0's binary_logloss: 0.0566006\n",
            "[164]\tvalid_0's binary_logloss: 0.0561019\tvalid_0's binary_logloss: 0.0561019\n",
            "[165]\tvalid_0's binary_logloss: 0.0559866\tvalid_0's binary_logloss: 0.0559866\n",
            "[166]\tvalid_0's binary_logloss: 0.055637\tvalid_0's binary_logloss: 0.055637\n",
            "[167]\tvalid_0's binary_logloss: 0.0555402\tvalid_0's binary_logloss: 0.0555402\n",
            "[168]\tvalid_0's binary_logloss: 0.0552743\tvalid_0's binary_logloss: 0.0552743\n",
            "[169]\tvalid_0's binary_logloss: 0.0551372\tvalid_0's binary_logloss: 0.0551372\n",
            "[170]\tvalid_0's binary_logloss: 0.0550727\tvalid_0's binary_logloss: 0.0550727\n",
            "[171]\tvalid_0's binary_logloss: 0.0549991\tvalid_0's binary_logloss: 0.0549991\n",
            "[172]\tvalid_0's binary_logloss: 0.0548044\tvalid_0's binary_logloss: 0.0548044\n",
            "[173]\tvalid_0's binary_logloss: 0.0547633\tvalid_0's binary_logloss: 0.0547633\n",
            "[174]\tvalid_0's binary_logloss: 0.0546567\tvalid_0's binary_logloss: 0.0546567\n",
            "[175]\tvalid_0's binary_logloss: 0.0546427\tvalid_0's binary_logloss: 0.0546427\n",
            "[176]\tvalid_0's binary_logloss: 0.0544839\tvalid_0's binary_logloss: 0.0544839\n",
            "[177]\tvalid_0's binary_logloss: 0.0543762\tvalid_0's binary_logloss: 0.0543762\n",
            "[178]\tvalid_0's binary_logloss: 0.0543184\tvalid_0's binary_logloss: 0.0543184\n",
            "[179]\tvalid_0's binary_logloss: 0.0542086\tvalid_0's binary_logloss: 0.0542086\n",
            "[180]\tvalid_0's binary_logloss: 0.0539761\tvalid_0's binary_logloss: 0.0539761\n",
            "[181]\tvalid_0's binary_logloss: 0.0538032\tvalid_0's binary_logloss: 0.0538032\n",
            "[182]\tvalid_0's binary_logloss: 0.0537863\tvalid_0's binary_logloss: 0.0537863\n",
            "[183]\tvalid_0's binary_logloss: 0.0536481\tvalid_0's binary_logloss: 0.0536481\n",
            "[184]\tvalid_0's binary_logloss: 0.0535441\tvalid_0's binary_logloss: 0.0535441\n",
            "[185]\tvalid_0's binary_logloss: 0.0531589\tvalid_0's binary_logloss: 0.0531589\n",
            "[186]\tvalid_0's binary_logloss: 0.0530185\tvalid_0's binary_logloss: 0.0530185\n",
            "[187]\tvalid_0's binary_logloss: 0.0527652\tvalid_0's binary_logloss: 0.0527652\n",
            "[188]\tvalid_0's binary_logloss: 0.0526302\tvalid_0's binary_logloss: 0.0526302\n",
            "[189]\tvalid_0's binary_logloss: 0.0525847\tvalid_0's binary_logloss: 0.0525847\n",
            "[190]\tvalid_0's binary_logloss: 0.0525701\tvalid_0's binary_logloss: 0.0525701\n",
            "[191]\tvalid_0's binary_logloss: 0.0524687\tvalid_0's binary_logloss: 0.0524687\n",
            "[192]\tvalid_0's binary_logloss: 0.0524641\tvalid_0's binary_logloss: 0.0524641\n",
            "[193]\tvalid_0's binary_logloss: 0.0524395\tvalid_0's binary_logloss: 0.0524395\n",
            "[194]\tvalid_0's binary_logloss: 0.0523526\tvalid_0's binary_logloss: 0.0523526\n",
            "[195]\tvalid_0's binary_logloss: 0.0522521\tvalid_0's binary_logloss: 0.0522521\n",
            "[196]\tvalid_0's binary_logloss: 0.0521307\tvalid_0's binary_logloss: 0.0521307\n",
            "[197]\tvalid_0's binary_logloss: 0.052113\tvalid_0's binary_logloss: 0.052113\n",
            "[198]\tvalid_0's binary_logloss: 0.052084\tvalid_0's binary_logloss: 0.052084\n",
            "[199]\tvalid_0's binary_logloss: 0.0520865\tvalid_0's binary_logloss: 0.0520865\n",
            "[200]\tvalid_0's binary_logloss: 0.0520301\tvalid_0's binary_logloss: 0.0520301\n",
            "[201]\tvalid_0's binary_logloss: 0.0519621\tvalid_0's binary_logloss: 0.0519621\n",
            "[202]\tvalid_0's binary_logloss: 0.0519016\tvalid_0's binary_logloss: 0.0519016\n",
            "[203]\tvalid_0's binary_logloss: 0.0517426\tvalid_0's binary_logloss: 0.0517426\n",
            "[204]\tvalid_0's binary_logloss: 0.0516826\tvalid_0's binary_logloss: 0.0516826\n",
            "[205]\tvalid_0's binary_logloss: 0.0516183\tvalid_0's binary_logloss: 0.0516183\n",
            "[206]\tvalid_0's binary_logloss: 0.0515492\tvalid_0's binary_logloss: 0.0515492\n",
            "[207]\tvalid_0's binary_logloss: 0.051195\tvalid_0's binary_logloss: 0.051195\n",
            "[208]\tvalid_0's binary_logloss: 0.0509813\tvalid_0's binary_logloss: 0.0509813\n",
            "[209]\tvalid_0's binary_logloss: 0.0509336\tvalid_0's binary_logloss: 0.0509336\n",
            "[210]\tvalid_0's binary_logloss: 0.0508866\tvalid_0's binary_logloss: 0.0508866\n",
            "[211]\tvalid_0's binary_logloss: 0.0506899\tvalid_0's binary_logloss: 0.0506899\n",
            "[212]\tvalid_0's binary_logloss: 0.050527\tvalid_0's binary_logloss: 0.050527\n",
            "[213]\tvalid_0's binary_logloss: 0.0504614\tvalid_0's binary_logloss: 0.0504614\n",
            "[214]\tvalid_0's binary_logloss: 0.0500651\tvalid_0's binary_logloss: 0.0500651\n",
            "[215]\tvalid_0's binary_logloss: 0.0498868\tvalid_0's binary_logloss: 0.0498868\n",
            "[216]\tvalid_0's binary_logloss: 0.0497376\tvalid_0's binary_logloss: 0.0497376\n",
            "[217]\tvalid_0's binary_logloss: 0.0497188\tvalid_0's binary_logloss: 0.0497188\n",
            "[218]\tvalid_0's binary_logloss: 0.049524\tvalid_0's binary_logloss: 0.049524\n",
            "[219]\tvalid_0's binary_logloss: 0.0494423\tvalid_0's binary_logloss: 0.0494423\n",
            "[220]\tvalid_0's binary_logloss: 0.049334\tvalid_0's binary_logloss: 0.049334\n",
            "[221]\tvalid_0's binary_logloss: 0.0493029\tvalid_0's binary_logloss: 0.0493029\n",
            "[222]\tvalid_0's binary_logloss: 0.0492936\tvalid_0's binary_logloss: 0.0492936\n",
            "[223]\tvalid_0's binary_logloss: 0.04928\tvalid_0's binary_logloss: 0.04928\n",
            "[224]\tvalid_0's binary_logloss: 0.0491124\tvalid_0's binary_logloss: 0.0491124\n",
            "[225]\tvalid_0's binary_logloss: 0.0491163\tvalid_0's binary_logloss: 0.0491163\n",
            "[226]\tvalid_0's binary_logloss: 0.0490032\tvalid_0's binary_logloss: 0.0490032\n",
            "[227]\tvalid_0's binary_logloss: 0.0489732\tvalid_0's binary_logloss: 0.0489732\n",
            "[228]\tvalid_0's binary_logloss: 0.048953\tvalid_0's binary_logloss: 0.048953\n",
            "[229]\tvalid_0's binary_logloss: 0.0489733\tvalid_0's binary_logloss: 0.0489733\n",
            "[230]\tvalid_0's binary_logloss: 0.0487645\tvalid_0's binary_logloss: 0.0487645\n",
            "[231]\tvalid_0's binary_logloss: 0.0487138\tvalid_0's binary_logloss: 0.0487138\n",
            "[232]\tvalid_0's binary_logloss: 0.0486827\tvalid_0's binary_logloss: 0.0486827\n",
            "[233]\tvalid_0's binary_logloss: 0.0485245\tvalid_0's binary_logloss: 0.0485245\n",
            "[234]\tvalid_0's binary_logloss: 0.0485099\tvalid_0's binary_logloss: 0.0485099\n",
            "[235]\tvalid_0's binary_logloss: 0.0484537\tvalid_0's binary_logloss: 0.0484537\n",
            "[236]\tvalid_0's binary_logloss: 0.0483947\tvalid_0's binary_logloss: 0.0483947\n",
            "[237]\tvalid_0's binary_logloss: 0.048359\tvalid_0's binary_logloss: 0.048359\n",
            "[238]\tvalid_0's binary_logloss: 0.048271\tvalid_0's binary_logloss: 0.048271\n",
            "[239]\tvalid_0's binary_logloss: 0.0481769\tvalid_0's binary_logloss: 0.0481769\n",
            "[240]\tvalid_0's binary_logloss: 0.0480449\tvalid_0's binary_logloss: 0.0480449\n",
            "[241]\tvalid_0's binary_logloss: 0.0480481\tvalid_0's binary_logloss: 0.0480481\n",
            "[242]\tvalid_0's binary_logloss: 0.0479952\tvalid_0's binary_logloss: 0.0479952\n",
            "[243]\tvalid_0's binary_logloss: 0.0479298\tvalid_0's binary_logloss: 0.0479298\n",
            "[244]\tvalid_0's binary_logloss: 0.0479227\tvalid_0's binary_logloss: 0.0479227\n",
            "[245]\tvalid_0's binary_logloss: 0.0478082\tvalid_0's binary_logloss: 0.0478082\n",
            "[246]\tvalid_0's binary_logloss: 0.0475313\tvalid_0's binary_logloss: 0.0475313\n",
            "[247]\tvalid_0's binary_logloss: 0.0475585\tvalid_0's binary_logloss: 0.0475585\n",
            "[248]\tvalid_0's binary_logloss: 0.0475555\tvalid_0's binary_logloss: 0.0475555\n",
            "[249]\tvalid_0's binary_logloss: 0.0474251\tvalid_0's binary_logloss: 0.0474251\n",
            "[250]\tvalid_0's binary_logloss: 0.047376\tvalid_0's binary_logloss: 0.047376\n",
            "[251]\tvalid_0's binary_logloss: 0.0473691\tvalid_0's binary_logloss: 0.0473691\n",
            "[252]\tvalid_0's binary_logloss: 0.0471877\tvalid_0's binary_logloss: 0.0471877\n",
            "[253]\tvalid_0's binary_logloss: 0.0471223\tvalid_0's binary_logloss: 0.0471223\n",
            "[254]\tvalid_0's binary_logloss: 0.0471108\tvalid_0's binary_logloss: 0.0471108\n",
            "[255]\tvalid_0's binary_logloss: 0.0471024\tvalid_0's binary_logloss: 0.0471024\n",
            "[256]\tvalid_0's binary_logloss: 0.0471174\tvalid_0's binary_logloss: 0.0471174\n",
            "[257]\tvalid_0's binary_logloss: 0.0471148\tvalid_0's binary_logloss: 0.0471148\n",
            "[258]\tvalid_0's binary_logloss: 0.0470091\tvalid_0's binary_logloss: 0.0470091\n",
            "[259]\tvalid_0's binary_logloss: 0.0469805\tvalid_0's binary_logloss: 0.0469805\n",
            "[260]\tvalid_0's binary_logloss: 0.0469968\tvalid_0's binary_logloss: 0.0469968\n",
            "[261]\tvalid_0's binary_logloss: 0.0469954\tvalid_0's binary_logloss: 0.0469954\n",
            "[262]\tvalid_0's binary_logloss: 0.0467291\tvalid_0's binary_logloss: 0.0467291\n",
            "[263]\tvalid_0's binary_logloss: 0.0467041\tvalid_0's binary_logloss: 0.0467041\n",
            "[264]\tvalid_0's binary_logloss: 0.0466571\tvalid_0's binary_logloss: 0.0466571\n",
            "[265]\tvalid_0's binary_logloss: 0.0466099\tvalid_0's binary_logloss: 0.0466099\n",
            "[266]\tvalid_0's binary_logloss: 0.0464604\tvalid_0's binary_logloss: 0.0464604\n",
            "[267]\tvalid_0's binary_logloss: 0.0464653\tvalid_0's binary_logloss: 0.0464653\n",
            "[268]\tvalid_0's binary_logloss: 0.0463746\tvalid_0's binary_logloss: 0.0463746\n",
            "[269]\tvalid_0's binary_logloss: 0.0463684\tvalid_0's binary_logloss: 0.0463684\n",
            "[270]\tvalid_0's binary_logloss: 0.0461285\tvalid_0's binary_logloss: 0.0461285\n",
            "[271]\tvalid_0's binary_logloss: 0.0461037\tvalid_0's binary_logloss: 0.0461037\n",
            "[272]\tvalid_0's binary_logloss: 0.0460588\tvalid_0's binary_logloss: 0.0460588\n",
            "[273]\tvalid_0's binary_logloss: 0.0460005\tvalid_0's binary_logloss: 0.0460005\n",
            "[274]\tvalid_0's binary_logloss: 0.045973\tvalid_0's binary_logloss: 0.045973\n",
            "[275]\tvalid_0's binary_logloss: 0.0459471\tvalid_0's binary_logloss: 0.0459471\n",
            "[276]\tvalid_0's binary_logloss: 0.0458535\tvalid_0's binary_logloss: 0.0458535\n",
            "[277]\tvalid_0's binary_logloss: 0.0457264\tvalid_0's binary_logloss: 0.0457264\n",
            "[278]\tvalid_0's binary_logloss: 0.0456734\tvalid_0's binary_logloss: 0.0456734\n",
            "[279]\tvalid_0's binary_logloss: 0.0455778\tvalid_0's binary_logloss: 0.0455778\n",
            "[280]\tvalid_0's binary_logloss: 0.045576\tvalid_0's binary_logloss: 0.045576\n",
            "[281]\tvalid_0's binary_logloss: 0.0455471\tvalid_0's binary_logloss: 0.0455471\n",
            "[282]\tvalid_0's binary_logloss: 0.0455438\tvalid_0's binary_logloss: 0.0455438\n",
            "[283]\tvalid_0's binary_logloss: 0.0453575\tvalid_0's binary_logloss: 0.0453575\n",
            "[284]\tvalid_0's binary_logloss: 0.0453286\tvalid_0's binary_logloss: 0.0453286\n",
            "[285]\tvalid_0's binary_logloss: 0.0453136\tvalid_0's binary_logloss: 0.0453136\n",
            "[286]\tvalid_0's binary_logloss: 0.0453421\tvalid_0's binary_logloss: 0.0453421\n",
            "[287]\tvalid_0's binary_logloss: 0.0452286\tvalid_0's binary_logloss: 0.0452286\n",
            "[288]\tvalid_0's binary_logloss: 0.0452758\tvalid_0's binary_logloss: 0.0452758\n",
            "[289]\tvalid_0's binary_logloss: 0.0452545\tvalid_0's binary_logloss: 0.0452545\n",
            "[290]\tvalid_0's binary_logloss: 0.0452482\tvalid_0's binary_logloss: 0.0452482\n",
            "[291]\tvalid_0's binary_logloss: 0.0452068\tvalid_0's binary_logloss: 0.0452068\n",
            "[292]\tvalid_0's binary_logloss: 0.0451491\tvalid_0's binary_logloss: 0.0451491\n",
            "[293]\tvalid_0's binary_logloss: 0.0451086\tvalid_0's binary_logloss: 0.0451086\n",
            "[294]\tvalid_0's binary_logloss: 0.0450387\tvalid_0's binary_logloss: 0.0450387\n",
            "[295]\tvalid_0's binary_logloss: 0.0450279\tvalid_0's binary_logloss: 0.0450279\n",
            "[296]\tvalid_0's binary_logloss: 0.0450362\tvalid_0's binary_logloss: 0.0450362\n",
            "[297]\tvalid_0's binary_logloss: 0.0450349\tvalid_0's binary_logloss: 0.0450349\n",
            "[298]\tvalid_0's binary_logloss: 0.0450285\tvalid_0's binary_logloss: 0.0450285\n",
            "[299]\tvalid_0's binary_logloss: 0.0449415\tvalid_0's binary_logloss: 0.0449415\n",
            "[300]\tvalid_0's binary_logloss: 0.0449578\tvalid_0's binary_logloss: 0.0449578\n",
            "[301]\tvalid_0's binary_logloss: 0.0449429\tvalid_0's binary_logloss: 0.0449429\n",
            "[302]\tvalid_0's binary_logloss: 0.0448999\tvalid_0's binary_logloss: 0.0448999\n",
            "[303]\tvalid_0's binary_logloss: 0.0448786\tvalid_0's binary_logloss: 0.0448786\n",
            "[304]\tvalid_0's binary_logloss: 0.0448641\tvalid_0's binary_logloss: 0.0448641\n",
            "[305]\tvalid_0's binary_logloss: 0.0448443\tvalid_0's binary_logloss: 0.0448443\n",
            "[306]\tvalid_0's binary_logloss: 0.0448326\tvalid_0's binary_logloss: 0.0448326\n",
            "[307]\tvalid_0's binary_logloss: 0.0448468\tvalid_0's binary_logloss: 0.0448468\n",
            "[308]\tvalid_0's binary_logloss: 0.0448525\tvalid_0's binary_logloss: 0.0448525\n",
            "[309]\tvalid_0's binary_logloss: 0.0447916\tvalid_0's binary_logloss: 0.0447916\n",
            "[310]\tvalid_0's binary_logloss: 0.044725\tvalid_0's binary_logloss: 0.044725\n",
            "[311]\tvalid_0's binary_logloss: 0.0447003\tvalid_0's binary_logloss: 0.0447003\n",
            "[312]\tvalid_0's binary_logloss: 0.044727\tvalid_0's binary_logloss: 0.044727\n",
            "[313]\tvalid_0's binary_logloss: 0.0446722\tvalid_0's binary_logloss: 0.0446722\n",
            "[314]\tvalid_0's binary_logloss: 0.0446134\tvalid_0's binary_logloss: 0.0446134\n",
            "[315]\tvalid_0's binary_logloss: 0.044573\tvalid_0's binary_logloss: 0.044573\n",
            "[316]\tvalid_0's binary_logloss: 0.0445517\tvalid_0's binary_logloss: 0.0445517\n",
            "[317]\tvalid_0's binary_logloss: 0.044567\tvalid_0's binary_logloss: 0.044567\n",
            "[318]\tvalid_0's binary_logloss: 0.0445567\tvalid_0's binary_logloss: 0.0445567\n",
            "[319]\tvalid_0's binary_logloss: 0.0445088\tvalid_0's binary_logloss: 0.0445088\n",
            "[320]\tvalid_0's binary_logloss: 0.0444601\tvalid_0's binary_logloss: 0.0444601\n",
            "[321]\tvalid_0's binary_logloss: 0.0444372\tvalid_0's binary_logloss: 0.0444372\n",
            "[322]\tvalid_0's binary_logloss: 0.0444383\tvalid_0's binary_logloss: 0.0444383\n",
            "[323]\tvalid_0's binary_logloss: 0.0443357\tvalid_0's binary_logloss: 0.0443357\n",
            "[324]\tvalid_0's binary_logloss: 0.0442961\tvalid_0's binary_logloss: 0.0442961\n",
            "[325]\tvalid_0's binary_logloss: 0.0441373\tvalid_0's binary_logloss: 0.0441373\n",
            "[326]\tvalid_0's binary_logloss: 0.0441601\tvalid_0's binary_logloss: 0.0441601\n",
            "[327]\tvalid_0's binary_logloss: 0.0440649\tvalid_0's binary_logloss: 0.0440649\n",
            "[328]\tvalid_0's binary_logloss: 0.0440468\tvalid_0's binary_logloss: 0.0440468\n",
            "[329]\tvalid_0's binary_logloss: 0.0440146\tvalid_0's binary_logloss: 0.0440146\n",
            "[330]\tvalid_0's binary_logloss: 0.0440227\tvalid_0's binary_logloss: 0.0440227\n",
            "[331]\tvalid_0's binary_logloss: 0.0439474\tvalid_0's binary_logloss: 0.0439474\n",
            "[332]\tvalid_0's binary_logloss: 0.0439291\tvalid_0's binary_logloss: 0.0439291\n",
            "[333]\tvalid_0's binary_logloss: 0.0438838\tvalid_0's binary_logloss: 0.0438838\n",
            "[334]\tvalid_0's binary_logloss: 0.043719\tvalid_0's binary_logloss: 0.043719\n",
            "[335]\tvalid_0's binary_logloss: 0.0436967\tvalid_0's binary_logloss: 0.0436967\n",
            "[336]\tvalid_0's binary_logloss: 0.0436848\tvalid_0's binary_logloss: 0.0436848\n",
            "[337]\tvalid_0's binary_logloss: 0.0436443\tvalid_0's binary_logloss: 0.0436443\n",
            "[338]\tvalid_0's binary_logloss: 0.0436522\tvalid_0's binary_logloss: 0.0436522\n",
            "[339]\tvalid_0's binary_logloss: 0.0436204\tvalid_0's binary_logloss: 0.0436204\n",
            "[340]\tvalid_0's binary_logloss: 0.0436249\tvalid_0's binary_logloss: 0.0436249\n",
            "[341]\tvalid_0's binary_logloss: 0.0436264\tvalid_0's binary_logloss: 0.0436264\n",
            "[342]\tvalid_0's binary_logloss: 0.0435916\tvalid_0's binary_logloss: 0.0435916\n",
            "[343]\tvalid_0's binary_logloss: 0.0435902\tvalid_0's binary_logloss: 0.0435902\n",
            "[344]\tvalid_0's binary_logloss: 0.0435528\tvalid_0's binary_logloss: 0.0435528\n",
            "Did not meet early stopping. Best iteration is:\n",
            "[344]\tvalid_0's binary_logloss: 0.0435528\tvalid_0's binary_logloss: 0.0435528\n"
          ],
          "name": "stdout"
        }
      ]
    },
    {
      "cell_type": "code",
      "metadata": {
        "colab": {
          "base_uri": "https://localhost:8080/"
        },
        "id": "c2YCRrYvV0rg",
        "outputId": "60b12d47-9e17-4448-c759-c9b6230d99e8"
      },
      "source": [
        "'''Fitting 핵심적발'''\n",
        "zlgbm = LGBMClassifier(max_depth=5, n_estimators=512, min_data_in_leaf=17, num_leaves=201, random_state=42)\n",
        "\n",
        "evals = [(ZX_test, zy_test)]\n",
        "zlgbm.fit(ZX_train, zy_train, early_stopping_rounds=200, eval_metric=\"multi_logloss\", eval_set=evals, verbose=True)\n",
        "z_preds = zlgbm.predict(ZX_test)\n",
        "z_pred_proba = zlgbm.predict_proba(ZX_test)[:, 1]"
      ],
      "execution_count": 62,
      "outputs": [
        {
          "output_type": "stream",
          "text": [
            "[1]\tvalid_0's multi_logloss: 0.585462\tvalid_0's multi_logloss: 0.585462\n",
            "Training until validation scores don't improve for 200 rounds.\n",
            "[2]\tvalid_0's multi_logloss: 0.524356\tvalid_0's multi_logloss: 0.524356\n",
            "[3]\tvalid_0's multi_logloss: 0.477223\tvalid_0's multi_logloss: 0.477223\n",
            "[4]\tvalid_0's multi_logloss: 0.438941\tvalid_0's multi_logloss: 0.438941\n",
            "[5]\tvalid_0's multi_logloss: 0.406983\tvalid_0's multi_logloss: 0.406983\n",
            "[6]\tvalid_0's multi_logloss: 0.379842\tvalid_0's multi_logloss: 0.379842\n",
            "[7]\tvalid_0's multi_logloss: 0.356449\tvalid_0's multi_logloss: 0.356449\n",
            "[8]\tvalid_0's multi_logloss: 0.33607\tvalid_0's multi_logloss: 0.33607\n",
            "[9]\tvalid_0's multi_logloss: 0.318194\tvalid_0's multi_logloss: 0.318194\n",
            "[10]\tvalid_0's multi_logloss: 0.302405\tvalid_0's multi_logloss: 0.302405\n",
            "[11]\tvalid_0's multi_logloss: 0.288398\tvalid_0's multi_logloss: 0.288398\n",
            "[12]\tvalid_0's multi_logloss: 0.275972\tvalid_0's multi_logloss: 0.275972\n",
            "[13]\tvalid_0's multi_logloss: 0.264866\tvalid_0's multi_logloss: 0.264866\n",
            "[14]\tvalid_0's multi_logloss: 0.254902\tvalid_0's multi_logloss: 0.254902\n",
            "[15]\tvalid_0's multi_logloss: 0.245952\tvalid_0's multi_logloss: 0.245952\n",
            "[16]\tvalid_0's multi_logloss: 0.237873\tvalid_0's multi_logloss: 0.237873\n",
            "[17]\tvalid_0's multi_logloss: 0.230608\tvalid_0's multi_logloss: 0.230608\n",
            "[18]\tvalid_0's multi_logloss: 0.224075\tvalid_0's multi_logloss: 0.224075\n",
            "[19]\tvalid_0's multi_logloss: 0.218113\tvalid_0's multi_logloss: 0.218113\n",
            "[20]\tvalid_0's multi_logloss: 0.212765\tvalid_0's multi_logloss: 0.212765\n",
            "[21]\tvalid_0's multi_logloss: 0.207809\tvalid_0's multi_logloss: 0.207809\n",
            "[22]\tvalid_0's multi_logloss: 0.203313\tvalid_0's multi_logloss: 0.203313\n",
            "[23]\tvalid_0's multi_logloss: 0.19924\tvalid_0's multi_logloss: 0.19924\n",
            "[24]\tvalid_0's multi_logloss: 0.195509\tvalid_0's multi_logloss: 0.195509\n",
            "[25]\tvalid_0's multi_logloss: 0.192165\tvalid_0's multi_logloss: 0.192165\n",
            "[26]\tvalid_0's multi_logloss: 0.189106\tvalid_0's multi_logloss: 0.189106\n",
            "[27]\tvalid_0's multi_logloss: 0.186269\tvalid_0's multi_logloss: 0.186269\n",
            "[28]\tvalid_0's multi_logloss: 0.183676\tvalid_0's multi_logloss: 0.183676\n",
            "[29]\tvalid_0's multi_logloss: 0.181275\tvalid_0's multi_logloss: 0.181275\n",
            "[30]\tvalid_0's multi_logloss: 0.179086\tvalid_0's multi_logloss: 0.179086\n",
            "[31]\tvalid_0's multi_logloss: 0.177045\tvalid_0's multi_logloss: 0.177045\n",
            "[32]\tvalid_0's multi_logloss: 0.175185\tvalid_0's multi_logloss: 0.175185\n",
            "[33]\tvalid_0's multi_logloss: 0.173472\tvalid_0's multi_logloss: 0.173472\n",
            "[34]\tvalid_0's multi_logloss: 0.171863\tvalid_0's multi_logloss: 0.171863\n",
            "[35]\tvalid_0's multi_logloss: 0.170414\tvalid_0's multi_logloss: 0.170414\n",
            "[36]\tvalid_0's multi_logloss: 0.169055\tvalid_0's multi_logloss: 0.169055\n",
            "[37]\tvalid_0's multi_logloss: 0.167801\tvalid_0's multi_logloss: 0.167801\n",
            "[38]\tvalid_0's multi_logloss: 0.166649\tvalid_0's multi_logloss: 0.166649\n",
            "[39]\tvalid_0's multi_logloss: 0.165582\tvalid_0's multi_logloss: 0.165582\n",
            "[40]\tvalid_0's multi_logloss: 0.164603\tvalid_0's multi_logloss: 0.164603\n",
            "[41]\tvalid_0's multi_logloss: 0.163732\tvalid_0's multi_logloss: 0.163732\n",
            "[42]\tvalid_0's multi_logloss: 0.162912\tvalid_0's multi_logloss: 0.162912\n",
            "[43]\tvalid_0's multi_logloss: 0.16213\tvalid_0's multi_logloss: 0.16213\n",
            "[44]\tvalid_0's multi_logloss: 0.161402\tvalid_0's multi_logloss: 0.161402\n",
            "[45]\tvalid_0's multi_logloss: 0.160732\tvalid_0's multi_logloss: 0.160732\n",
            "[46]\tvalid_0's multi_logloss: 0.160101\tvalid_0's multi_logloss: 0.160101\n",
            "[47]\tvalid_0's multi_logloss: 0.159526\tvalid_0's multi_logloss: 0.159526\n",
            "[48]\tvalid_0's multi_logloss: 0.158974\tvalid_0's multi_logloss: 0.158974\n",
            "[49]\tvalid_0's multi_logloss: 0.158449\tvalid_0's multi_logloss: 0.158449\n",
            "[50]\tvalid_0's multi_logloss: 0.157972\tvalid_0's multi_logloss: 0.157972\n",
            "[51]\tvalid_0's multi_logloss: 0.15755\tvalid_0's multi_logloss: 0.15755\n",
            "[52]\tvalid_0's multi_logloss: 0.157176\tvalid_0's multi_logloss: 0.157176\n",
            "[53]\tvalid_0's multi_logloss: 0.156782\tvalid_0's multi_logloss: 0.156782\n",
            "[54]\tvalid_0's multi_logloss: 0.156414\tvalid_0's multi_logloss: 0.156414\n",
            "[55]\tvalid_0's multi_logloss: 0.156101\tvalid_0's multi_logloss: 0.156101\n",
            "[56]\tvalid_0's multi_logloss: 0.155789\tvalid_0's multi_logloss: 0.155789\n",
            "[57]\tvalid_0's multi_logloss: 0.155509\tvalid_0's multi_logloss: 0.155509\n",
            "[58]\tvalid_0's multi_logloss: 0.155247\tvalid_0's multi_logloss: 0.155247\n",
            "[59]\tvalid_0's multi_logloss: 0.154992\tvalid_0's multi_logloss: 0.154992\n",
            "[60]\tvalid_0's multi_logloss: 0.154747\tvalid_0's multi_logloss: 0.154747\n",
            "[61]\tvalid_0's multi_logloss: 0.154517\tvalid_0's multi_logloss: 0.154517\n",
            "[62]\tvalid_0's multi_logloss: 0.154308\tvalid_0's multi_logloss: 0.154308\n",
            "[63]\tvalid_0's multi_logloss: 0.154124\tvalid_0's multi_logloss: 0.154124\n",
            "[64]\tvalid_0's multi_logloss: 0.15393\tvalid_0's multi_logloss: 0.15393\n",
            "[65]\tvalid_0's multi_logloss: 0.153711\tvalid_0's multi_logloss: 0.153711\n",
            "[66]\tvalid_0's multi_logloss: 0.153567\tvalid_0's multi_logloss: 0.153567\n",
            "[67]\tvalid_0's multi_logloss: 0.153419\tvalid_0's multi_logloss: 0.153419\n",
            "[68]\tvalid_0's multi_logloss: 0.15329\tvalid_0's multi_logloss: 0.15329\n",
            "[69]\tvalid_0's multi_logloss: 0.15315\tvalid_0's multi_logloss: 0.15315\n",
            "[70]\tvalid_0's multi_logloss: 0.153033\tvalid_0's multi_logloss: 0.153033\n",
            "[71]\tvalid_0's multi_logloss: 0.152902\tvalid_0's multi_logloss: 0.152902\n",
            "[72]\tvalid_0's multi_logloss: 0.152784\tvalid_0's multi_logloss: 0.152784\n",
            "[73]\tvalid_0's multi_logloss: 0.152704\tvalid_0's multi_logloss: 0.152704\n",
            "[74]\tvalid_0's multi_logloss: 0.152615\tvalid_0's multi_logloss: 0.152615\n",
            "[75]\tvalid_0's multi_logloss: 0.152534\tvalid_0's multi_logloss: 0.152534\n",
            "[76]\tvalid_0's multi_logloss: 0.152466\tvalid_0's multi_logloss: 0.152466\n",
            "[77]\tvalid_0's multi_logloss: 0.152363\tvalid_0's multi_logloss: 0.152363\n",
            "[78]\tvalid_0's multi_logloss: 0.152325\tvalid_0's multi_logloss: 0.152325\n",
            "[79]\tvalid_0's multi_logloss: 0.152264\tvalid_0's multi_logloss: 0.152264\n",
            "[80]\tvalid_0's multi_logloss: 0.152162\tvalid_0's multi_logloss: 0.152162\n",
            "[81]\tvalid_0's multi_logloss: 0.152094\tvalid_0's multi_logloss: 0.152094\n",
            "[82]\tvalid_0's multi_logloss: 0.152038\tvalid_0's multi_logloss: 0.152038\n",
            "[83]\tvalid_0's multi_logloss: 0.151963\tvalid_0's multi_logloss: 0.151963\n",
            "[84]\tvalid_0's multi_logloss: 0.151899\tvalid_0's multi_logloss: 0.151899\n",
            "[85]\tvalid_0's multi_logloss: 0.151855\tvalid_0's multi_logloss: 0.151855\n",
            "[86]\tvalid_0's multi_logloss: 0.15181\tvalid_0's multi_logloss: 0.15181\n",
            "[87]\tvalid_0's multi_logloss: 0.151768\tvalid_0's multi_logloss: 0.151768\n",
            "[88]\tvalid_0's multi_logloss: 0.151751\tvalid_0's multi_logloss: 0.151751\n",
            "[89]\tvalid_0's multi_logloss: 0.151706\tvalid_0's multi_logloss: 0.151706\n",
            "[90]\tvalid_0's multi_logloss: 0.151678\tvalid_0's multi_logloss: 0.151678\n",
            "[91]\tvalid_0's multi_logloss: 0.151656\tvalid_0's multi_logloss: 0.151656\n",
            "[92]\tvalid_0's multi_logloss: 0.151629\tvalid_0's multi_logloss: 0.151629\n",
            "[93]\tvalid_0's multi_logloss: 0.151642\tvalid_0's multi_logloss: 0.151642\n",
            "[94]\tvalid_0's multi_logloss: 0.151632\tvalid_0's multi_logloss: 0.151632\n",
            "[95]\tvalid_0's multi_logloss: 0.151655\tvalid_0's multi_logloss: 0.151655\n",
            "[96]\tvalid_0's multi_logloss: 0.151654\tvalid_0's multi_logloss: 0.151654\n",
            "[97]\tvalid_0's multi_logloss: 0.151608\tvalid_0's multi_logloss: 0.151608\n",
            "[98]\tvalid_0's multi_logloss: 0.15157\tvalid_0's multi_logloss: 0.15157\n",
            "[99]\tvalid_0's multi_logloss: 0.151603\tvalid_0's multi_logloss: 0.151603\n",
            "[100]\tvalid_0's multi_logloss: 0.151595\tvalid_0's multi_logloss: 0.151595\n",
            "[101]\tvalid_0's multi_logloss: 0.151571\tvalid_0's multi_logloss: 0.151571\n",
            "[102]\tvalid_0's multi_logloss: 0.151545\tvalid_0's multi_logloss: 0.151545\n",
            "[103]\tvalid_0's multi_logloss: 0.15152\tvalid_0's multi_logloss: 0.15152\n",
            "[104]\tvalid_0's multi_logloss: 0.15156\tvalid_0's multi_logloss: 0.15156\n",
            "[105]\tvalid_0's multi_logloss: 0.15161\tvalid_0's multi_logloss: 0.15161\n",
            "[106]\tvalid_0's multi_logloss: 0.151675\tvalid_0's multi_logloss: 0.151675\n",
            "[107]\tvalid_0's multi_logloss: 0.151662\tvalid_0's multi_logloss: 0.151662\n",
            "[108]\tvalid_0's multi_logloss: 0.151627\tvalid_0's multi_logloss: 0.151627\n",
            "[109]\tvalid_0's multi_logloss: 0.151636\tvalid_0's multi_logloss: 0.151636\n",
            "[110]\tvalid_0's multi_logloss: 0.151648\tvalid_0's multi_logloss: 0.151648\n",
            "[111]\tvalid_0's multi_logloss: 0.151654\tvalid_0's multi_logloss: 0.151654\n",
            "[112]\tvalid_0's multi_logloss: 0.151695\tvalid_0's multi_logloss: 0.151695\n",
            "[113]\tvalid_0's multi_logloss: 0.151597\tvalid_0's multi_logloss: 0.151597\n",
            "[114]\tvalid_0's multi_logloss: 0.151624\tvalid_0's multi_logloss: 0.151624\n",
            "[115]\tvalid_0's multi_logloss: 0.151645\tvalid_0's multi_logloss: 0.151645\n",
            "[116]\tvalid_0's multi_logloss: 0.15164\tvalid_0's multi_logloss: 0.15164\n",
            "[117]\tvalid_0's multi_logloss: 0.15167\tvalid_0's multi_logloss: 0.15167\n",
            "[118]\tvalid_0's multi_logloss: 0.151702\tvalid_0's multi_logloss: 0.151702\n",
            "[119]\tvalid_0's multi_logloss: 0.151767\tvalid_0's multi_logloss: 0.151767\n",
            "[120]\tvalid_0's multi_logloss: 0.151774\tvalid_0's multi_logloss: 0.151774\n",
            "[121]\tvalid_0's multi_logloss: 0.151738\tvalid_0's multi_logloss: 0.151738\n",
            "[122]\tvalid_0's multi_logloss: 0.151814\tvalid_0's multi_logloss: 0.151814\n",
            "[123]\tvalid_0's multi_logloss: 0.151837\tvalid_0's multi_logloss: 0.151837\n",
            "[124]\tvalid_0's multi_logloss: 0.15181\tvalid_0's multi_logloss: 0.15181\n",
            "[125]\tvalid_0's multi_logloss: 0.151816\tvalid_0's multi_logloss: 0.151816\n",
            "[126]\tvalid_0's multi_logloss: 0.151729\tvalid_0's multi_logloss: 0.151729\n",
            "[127]\tvalid_0's multi_logloss: 0.151703\tvalid_0's multi_logloss: 0.151703\n",
            "[128]\tvalid_0's multi_logloss: 0.15169\tvalid_0's multi_logloss: 0.15169\n",
            "[129]\tvalid_0's multi_logloss: 0.151767\tvalid_0's multi_logloss: 0.151767\n",
            "[130]\tvalid_0's multi_logloss: 0.15179\tvalid_0's multi_logloss: 0.15179\n",
            "[131]\tvalid_0's multi_logloss: 0.151808\tvalid_0's multi_logloss: 0.151808\n",
            "[132]\tvalid_0's multi_logloss: 0.151793\tvalid_0's multi_logloss: 0.151793\n",
            "[133]\tvalid_0's multi_logloss: 0.151808\tvalid_0's multi_logloss: 0.151808\n",
            "[134]\tvalid_0's multi_logloss: 0.151847\tvalid_0's multi_logloss: 0.151847\n",
            "[135]\tvalid_0's multi_logloss: 0.15184\tvalid_0's multi_logloss: 0.15184\n",
            "[136]\tvalid_0's multi_logloss: 0.151839\tvalid_0's multi_logloss: 0.151839\n",
            "[137]\tvalid_0's multi_logloss: 0.151874\tvalid_0's multi_logloss: 0.151874\n",
            "[138]\tvalid_0's multi_logloss: 0.151869\tvalid_0's multi_logloss: 0.151869\n",
            "[139]\tvalid_0's multi_logloss: 0.151889\tvalid_0's multi_logloss: 0.151889\n",
            "[140]\tvalid_0's multi_logloss: 0.151897\tvalid_0's multi_logloss: 0.151897\n",
            "[141]\tvalid_0's multi_logloss: 0.151914\tvalid_0's multi_logloss: 0.151914\n",
            "[142]\tvalid_0's multi_logloss: 0.151923\tvalid_0's multi_logloss: 0.151923\n",
            "[143]\tvalid_0's multi_logloss: 0.151947\tvalid_0's multi_logloss: 0.151947\n",
            "[144]\tvalid_0's multi_logloss: 0.151936\tvalid_0's multi_logloss: 0.151936\n",
            "[145]\tvalid_0's multi_logloss: 0.151981\tvalid_0's multi_logloss: 0.151981\n",
            "[146]\tvalid_0's multi_logloss: 0.151988\tvalid_0's multi_logloss: 0.151988\n",
            "[147]\tvalid_0's multi_logloss: 0.152031\tvalid_0's multi_logloss: 0.152031\n",
            "[148]\tvalid_0's multi_logloss: 0.15205\tvalid_0's multi_logloss: 0.15205\n",
            "[149]\tvalid_0's multi_logloss: 0.152141\tvalid_0's multi_logloss: 0.152141\n",
            "[150]\tvalid_0's multi_logloss: 0.152145\tvalid_0's multi_logloss: 0.152145\n",
            "[151]\tvalid_0's multi_logloss: 0.152216\tvalid_0's multi_logloss: 0.152216\n",
            "[152]\tvalid_0's multi_logloss: 0.152234\tvalid_0's multi_logloss: 0.152234\n",
            "[153]\tvalid_0's multi_logloss: 0.152231\tvalid_0's multi_logloss: 0.152231\n",
            "[154]\tvalid_0's multi_logloss: 0.152229\tvalid_0's multi_logloss: 0.152229\n",
            "[155]\tvalid_0's multi_logloss: 0.152236\tvalid_0's multi_logloss: 0.152236\n",
            "[156]\tvalid_0's multi_logloss: 0.15224\tvalid_0's multi_logloss: 0.15224\n",
            "[157]\tvalid_0's multi_logloss: 0.152246\tvalid_0's multi_logloss: 0.152246\n",
            "[158]\tvalid_0's multi_logloss: 0.152303\tvalid_0's multi_logloss: 0.152303\n",
            "[159]\tvalid_0's multi_logloss: 0.152315\tvalid_0's multi_logloss: 0.152315\n",
            "[160]\tvalid_0's multi_logloss: 0.152315\tvalid_0's multi_logloss: 0.152315\n",
            "[161]\tvalid_0's multi_logloss: 0.15236\tvalid_0's multi_logloss: 0.15236\n",
            "[162]\tvalid_0's multi_logloss: 0.152402\tvalid_0's multi_logloss: 0.152402\n",
            "[163]\tvalid_0's multi_logloss: 0.152388\tvalid_0's multi_logloss: 0.152388\n",
            "[164]\tvalid_0's multi_logloss: 0.152374\tvalid_0's multi_logloss: 0.152374\n",
            "[165]\tvalid_0's multi_logloss: 0.152387\tvalid_0's multi_logloss: 0.152387\n",
            "[166]\tvalid_0's multi_logloss: 0.152391\tvalid_0's multi_logloss: 0.152391\n",
            "[167]\tvalid_0's multi_logloss: 0.152373\tvalid_0's multi_logloss: 0.152373\n",
            "[168]\tvalid_0's multi_logloss: 0.152359\tvalid_0's multi_logloss: 0.152359\n",
            "[169]\tvalid_0's multi_logloss: 0.152416\tvalid_0's multi_logloss: 0.152416\n",
            "[170]\tvalid_0's multi_logloss: 0.152415\tvalid_0's multi_logloss: 0.152415\n",
            "[171]\tvalid_0's multi_logloss: 0.152459\tvalid_0's multi_logloss: 0.152459\n",
            "[172]\tvalid_0's multi_logloss: 0.152488\tvalid_0's multi_logloss: 0.152488\n",
            "[173]\tvalid_0's multi_logloss: 0.152476\tvalid_0's multi_logloss: 0.152476\n",
            "[174]\tvalid_0's multi_logloss: 0.152457\tvalid_0's multi_logloss: 0.152457\n",
            "[175]\tvalid_0's multi_logloss: 0.152453\tvalid_0's multi_logloss: 0.152453\n",
            "[176]\tvalid_0's multi_logloss: 0.152517\tvalid_0's multi_logloss: 0.152517\n",
            "[177]\tvalid_0's multi_logloss: 0.152511\tvalid_0's multi_logloss: 0.152511\n",
            "[178]\tvalid_0's multi_logloss: 0.152525\tvalid_0's multi_logloss: 0.152525\n",
            "[179]\tvalid_0's multi_logloss: 0.152564\tvalid_0's multi_logloss: 0.152564\n",
            "[180]\tvalid_0's multi_logloss: 0.152589\tvalid_0's multi_logloss: 0.152589\n",
            "[181]\tvalid_0's multi_logloss: 0.152608\tvalid_0's multi_logloss: 0.152608\n",
            "[182]\tvalid_0's multi_logloss: 0.152583\tvalid_0's multi_logloss: 0.152583\n",
            "[183]\tvalid_0's multi_logloss: 0.152584\tvalid_0's multi_logloss: 0.152584\n",
            "[184]\tvalid_0's multi_logloss: 0.15259\tvalid_0's multi_logloss: 0.15259\n",
            "[185]\tvalid_0's multi_logloss: 0.152609\tvalid_0's multi_logloss: 0.152609\n",
            "[186]\tvalid_0's multi_logloss: 0.152583\tvalid_0's multi_logloss: 0.152583\n",
            "[187]\tvalid_0's multi_logloss: 0.152591\tvalid_0's multi_logloss: 0.152591\n",
            "[188]\tvalid_0's multi_logloss: 0.15256\tvalid_0's multi_logloss: 0.15256\n",
            "[189]\tvalid_0's multi_logloss: 0.152531\tvalid_0's multi_logloss: 0.152531\n",
            "[190]\tvalid_0's multi_logloss: 0.152568\tvalid_0's multi_logloss: 0.152568\n",
            "[191]\tvalid_0's multi_logloss: 0.152579\tvalid_0's multi_logloss: 0.152579\n",
            "[192]\tvalid_0's multi_logloss: 0.152608\tvalid_0's multi_logloss: 0.152608\n",
            "[193]\tvalid_0's multi_logloss: 0.152639\tvalid_0's multi_logloss: 0.152639\n",
            "[194]\tvalid_0's multi_logloss: 0.152694\tvalid_0's multi_logloss: 0.152694\n",
            "[195]\tvalid_0's multi_logloss: 0.152686\tvalid_0's multi_logloss: 0.152686\n",
            "[196]\tvalid_0's multi_logloss: 0.1527\tvalid_0's multi_logloss: 0.1527\n",
            "[197]\tvalid_0's multi_logloss: 0.152738\tvalid_0's multi_logloss: 0.152738\n",
            "[198]\tvalid_0's multi_logloss: 0.152741\tvalid_0's multi_logloss: 0.152741\n",
            "[199]\tvalid_0's multi_logloss: 0.15278\tvalid_0's multi_logloss: 0.15278\n",
            "[200]\tvalid_0's multi_logloss: 0.152845\tvalid_0's multi_logloss: 0.152845\n",
            "[201]\tvalid_0's multi_logloss: 0.152869\tvalid_0's multi_logloss: 0.152869\n",
            "[202]\tvalid_0's multi_logloss: 0.152895\tvalid_0's multi_logloss: 0.152895\n",
            "[203]\tvalid_0's multi_logloss: 0.152935\tvalid_0's multi_logloss: 0.152935\n",
            "[204]\tvalid_0's multi_logloss: 0.152919\tvalid_0's multi_logloss: 0.152919\n",
            "[205]\tvalid_0's multi_logloss: 0.152979\tvalid_0's multi_logloss: 0.152979\n",
            "[206]\tvalid_0's multi_logloss: 0.153011\tvalid_0's multi_logloss: 0.153011\n",
            "[207]\tvalid_0's multi_logloss: 0.153034\tvalid_0's multi_logloss: 0.153034\n",
            "[208]\tvalid_0's multi_logloss: 0.153092\tvalid_0's multi_logloss: 0.153092\n",
            "[209]\tvalid_0's multi_logloss: 0.153114\tvalid_0's multi_logloss: 0.153114\n",
            "[210]\tvalid_0's multi_logloss: 0.153155\tvalid_0's multi_logloss: 0.153155\n",
            "[211]\tvalid_0's multi_logloss: 0.15319\tvalid_0's multi_logloss: 0.15319\n",
            "[212]\tvalid_0's multi_logloss: 0.153203\tvalid_0's multi_logloss: 0.153203\n",
            "[213]\tvalid_0's multi_logloss: 0.153182\tvalid_0's multi_logloss: 0.153182\n",
            "[214]\tvalid_0's multi_logloss: 0.153242\tvalid_0's multi_logloss: 0.153242\n",
            "[215]\tvalid_0's multi_logloss: 0.15324\tvalid_0's multi_logloss: 0.15324\n",
            "[216]\tvalid_0's multi_logloss: 0.153228\tvalid_0's multi_logloss: 0.153228\n",
            "[217]\tvalid_0's multi_logloss: 0.153301\tvalid_0's multi_logloss: 0.153301\n",
            "[218]\tvalid_0's multi_logloss: 0.153325\tvalid_0's multi_logloss: 0.153325\n",
            "[219]\tvalid_0's multi_logloss: 0.153336\tvalid_0's multi_logloss: 0.153336\n",
            "[220]\tvalid_0's multi_logloss: 0.153337\tvalid_0's multi_logloss: 0.153337\n",
            "[221]\tvalid_0's multi_logloss: 0.153337\tvalid_0's multi_logloss: 0.153337\n",
            "[222]\tvalid_0's multi_logloss: 0.153333\tvalid_0's multi_logloss: 0.153333\n",
            "[223]\tvalid_0's multi_logloss: 0.153332\tvalid_0's multi_logloss: 0.153332\n",
            "[224]\tvalid_0's multi_logloss: 0.15339\tvalid_0's multi_logloss: 0.15339\n",
            "[225]\tvalid_0's multi_logloss: 0.153374\tvalid_0's multi_logloss: 0.153374\n",
            "[226]\tvalid_0's multi_logloss: 0.153364\tvalid_0's multi_logloss: 0.153364\n",
            "[227]\tvalid_0's multi_logloss: 0.153361\tvalid_0's multi_logloss: 0.153361\n",
            "[228]\tvalid_0's multi_logloss: 0.153365\tvalid_0's multi_logloss: 0.153365\n",
            "[229]\tvalid_0's multi_logloss: 0.153322\tvalid_0's multi_logloss: 0.153322\n",
            "[230]\tvalid_0's multi_logloss: 0.153383\tvalid_0's multi_logloss: 0.153383\n",
            "[231]\tvalid_0's multi_logloss: 0.15345\tvalid_0's multi_logloss: 0.15345\n",
            "[232]\tvalid_0's multi_logloss: 0.15339\tvalid_0's multi_logloss: 0.15339\n",
            "[233]\tvalid_0's multi_logloss: 0.153419\tvalid_0's multi_logloss: 0.153419\n",
            "[234]\tvalid_0's multi_logloss: 0.153449\tvalid_0's multi_logloss: 0.153449\n",
            "[235]\tvalid_0's multi_logloss: 0.153432\tvalid_0's multi_logloss: 0.153432\n",
            "[236]\tvalid_0's multi_logloss: 0.153457\tvalid_0's multi_logloss: 0.153457\n",
            "[237]\tvalid_0's multi_logloss: 0.153456\tvalid_0's multi_logloss: 0.153456\n",
            "[238]\tvalid_0's multi_logloss: 0.15348\tvalid_0's multi_logloss: 0.15348\n",
            "[239]\tvalid_0's multi_logloss: 0.153503\tvalid_0's multi_logloss: 0.153503\n",
            "[240]\tvalid_0's multi_logloss: 0.153535\tvalid_0's multi_logloss: 0.153535\n",
            "[241]\tvalid_0's multi_logloss: 0.153567\tvalid_0's multi_logloss: 0.153567\n",
            "[242]\tvalid_0's multi_logloss: 0.153589\tvalid_0's multi_logloss: 0.153589\n",
            "[243]\tvalid_0's multi_logloss: 0.153627\tvalid_0's multi_logloss: 0.153627\n",
            "[244]\tvalid_0's multi_logloss: 0.153671\tvalid_0's multi_logloss: 0.153671\n",
            "[245]\tvalid_0's multi_logloss: 0.153711\tvalid_0's multi_logloss: 0.153711\n",
            "[246]\tvalid_0's multi_logloss: 0.153721\tvalid_0's multi_logloss: 0.153721\n",
            "[247]\tvalid_0's multi_logloss: 0.153767\tvalid_0's multi_logloss: 0.153767\n",
            "[248]\tvalid_0's multi_logloss: 0.15377\tvalid_0's multi_logloss: 0.15377\n",
            "[249]\tvalid_0's multi_logloss: 0.153822\tvalid_0's multi_logloss: 0.153822\n",
            "[250]\tvalid_0's multi_logloss: 0.153824\tvalid_0's multi_logloss: 0.153824\n",
            "[251]\tvalid_0's multi_logloss: 0.153805\tvalid_0's multi_logloss: 0.153805\n",
            "[252]\tvalid_0's multi_logloss: 0.153832\tvalid_0's multi_logloss: 0.153832\n",
            "[253]\tvalid_0's multi_logloss: 0.153803\tvalid_0's multi_logloss: 0.153803\n",
            "[254]\tvalid_0's multi_logloss: 0.153786\tvalid_0's multi_logloss: 0.153786\n",
            "[255]\tvalid_0's multi_logloss: 0.153832\tvalid_0's multi_logloss: 0.153832\n",
            "[256]\tvalid_0's multi_logloss: 0.153854\tvalid_0's multi_logloss: 0.153854\n",
            "[257]\tvalid_0's multi_logloss: 0.153853\tvalid_0's multi_logloss: 0.153853\n",
            "[258]\tvalid_0's multi_logloss: 0.153863\tvalid_0's multi_logloss: 0.153863\n",
            "[259]\tvalid_0's multi_logloss: 0.153913\tvalid_0's multi_logloss: 0.153913\n",
            "[260]\tvalid_0's multi_logloss: 0.153952\tvalid_0's multi_logloss: 0.153952\n",
            "[261]\tvalid_0's multi_logloss: 0.153972\tvalid_0's multi_logloss: 0.153972\n",
            "[262]\tvalid_0's multi_logloss: 0.153993\tvalid_0's multi_logloss: 0.153993\n",
            "[263]\tvalid_0's multi_logloss: 0.154025\tvalid_0's multi_logloss: 0.154025\n",
            "[264]\tvalid_0's multi_logloss: 0.154082\tvalid_0's multi_logloss: 0.154082\n",
            "[265]\tvalid_0's multi_logloss: 0.154106\tvalid_0's multi_logloss: 0.154106\n",
            "[266]\tvalid_0's multi_logloss: 0.154127\tvalid_0's multi_logloss: 0.154127\n",
            "[267]\tvalid_0's multi_logloss: 0.154068\tvalid_0's multi_logloss: 0.154068\n",
            "[268]\tvalid_0's multi_logloss: 0.154101\tvalid_0's multi_logloss: 0.154101\n",
            "[269]\tvalid_0's multi_logloss: 0.154124\tvalid_0's multi_logloss: 0.154124\n",
            "[270]\tvalid_0's multi_logloss: 0.15413\tvalid_0's multi_logloss: 0.15413\n",
            "[271]\tvalid_0's multi_logloss: 0.154117\tvalid_0's multi_logloss: 0.154117\n",
            "[272]\tvalid_0's multi_logloss: 0.15409\tvalid_0's multi_logloss: 0.15409\n",
            "[273]\tvalid_0's multi_logloss: 0.154129\tvalid_0's multi_logloss: 0.154129\n",
            "[274]\tvalid_0's multi_logloss: 0.154135\tvalid_0's multi_logloss: 0.154135\n",
            "[275]\tvalid_0's multi_logloss: 0.154118\tvalid_0's multi_logloss: 0.154118\n",
            "[276]\tvalid_0's multi_logloss: 0.154151\tvalid_0's multi_logloss: 0.154151\n",
            "[277]\tvalid_0's multi_logloss: 0.15419\tvalid_0's multi_logloss: 0.15419\n",
            "[278]\tvalid_0's multi_logloss: 0.154207\tvalid_0's multi_logloss: 0.154207\n",
            "[279]\tvalid_0's multi_logloss: 0.154252\tvalid_0's multi_logloss: 0.154252\n",
            "[280]\tvalid_0's multi_logloss: 0.154311\tvalid_0's multi_logloss: 0.154311\n",
            "[281]\tvalid_0's multi_logloss: 0.154317\tvalid_0's multi_logloss: 0.154317\n",
            "[282]\tvalid_0's multi_logloss: 0.154302\tvalid_0's multi_logloss: 0.154302\n",
            "[283]\tvalid_0's multi_logloss: 0.154348\tvalid_0's multi_logloss: 0.154348\n",
            "[284]\tvalid_0's multi_logloss: 0.154381\tvalid_0's multi_logloss: 0.154381\n",
            "[285]\tvalid_0's multi_logloss: 0.154397\tvalid_0's multi_logloss: 0.154397\n",
            "[286]\tvalid_0's multi_logloss: 0.154413\tvalid_0's multi_logloss: 0.154413\n",
            "[287]\tvalid_0's multi_logloss: 0.154419\tvalid_0's multi_logloss: 0.154419\n",
            "[288]\tvalid_0's multi_logloss: 0.154419\tvalid_0's multi_logloss: 0.154419\n",
            "[289]\tvalid_0's multi_logloss: 0.154437\tvalid_0's multi_logloss: 0.154437\n",
            "[290]\tvalid_0's multi_logloss: 0.15443\tvalid_0's multi_logloss: 0.15443\n",
            "[291]\tvalid_0's multi_logloss: 0.154418\tvalid_0's multi_logloss: 0.154418\n",
            "[292]\tvalid_0's multi_logloss: 0.154449\tvalid_0's multi_logloss: 0.154449\n",
            "[293]\tvalid_0's multi_logloss: 0.154512\tvalid_0's multi_logloss: 0.154512\n",
            "[294]\tvalid_0's multi_logloss: 0.154513\tvalid_0's multi_logloss: 0.154513\n",
            "[295]\tvalid_0's multi_logloss: 0.154564\tvalid_0's multi_logloss: 0.154564\n",
            "[296]\tvalid_0's multi_logloss: 0.154555\tvalid_0's multi_logloss: 0.154555\n",
            "[297]\tvalid_0's multi_logloss: 0.154595\tvalid_0's multi_logloss: 0.154595\n",
            "[298]\tvalid_0's multi_logloss: 0.154606\tvalid_0's multi_logloss: 0.154606\n",
            "[299]\tvalid_0's multi_logloss: 0.154619\tvalid_0's multi_logloss: 0.154619\n",
            "[300]\tvalid_0's multi_logloss: 0.154645\tvalid_0's multi_logloss: 0.154645\n",
            "[301]\tvalid_0's multi_logloss: 0.154708\tvalid_0's multi_logloss: 0.154708\n",
            "[302]\tvalid_0's multi_logloss: 0.154734\tvalid_0's multi_logloss: 0.154734\n",
            "[303]\tvalid_0's multi_logloss: 0.154731\tvalid_0's multi_logloss: 0.154731\n",
            "Early stopping, best iteration is:\n",
            "[103]\tvalid_0's multi_logloss: 0.15152\tvalid_0's multi_logloss: 0.15152\n"
          ],
          "name": "stdout"
        }
      ]
    },
    {
      "cell_type": "code",
      "metadata": {
        "colab": {
          "base_uri": "https://localhost:8080/"
        },
        "id": "TUSE9JV1aiEz",
        "outputId": "66468000-dcc8-450a-f8fb-87ee2c2bb979"
      },
      "source": [
        "#Print Eval.\n",
        "get_clf_eval(y_test, preds, pred_proba)\n",
        "print(accuracy_score(zy_test, z_preds))\n",
        "print(\"-----\")\n",
        "print(f1_score(zy_test, z_preds, average='macro'))"
      ],
      "execution_count": 63,
      "outputs": [
        {
          "output_type": "stream",
          "text": [
            "오차 행렬\n",
            "[[13868   168]\n",
            " [  115  3773]]\n",
            "정확도: 0.9842, 정밀도: 0.9574, 재현율: 0.9704,`F1: 0.9639, AUC:0.9986\n",
            "0.893941084579335\n",
            "0.6657859682377456\n"
          ],
          "name": "stdout"
        }
      ]
    },
    {
      "cell_type": "markdown",
      "metadata": {
        "id": "LqNuoUQ0LZMi"
      },
      "source": [
        "### Visualization"
      ]
    },
    {
      "cell_type": "code",
      "metadata": {
        "colab": {
          "base_uri": "https://localhost:8080/",
          "height": 1000
        },
        "id": "7Pz5JQ2hXzvO",
        "outputId": "cb4579b0-33ab-43f6-eea8-ad9529d37243"
      },
      "source": [
        "'''Visualize Prediction'''\n",
        "#우범여부.\n",
        "fig = plt.figure(figsize=(10, 12))\n",
        "chart = fig.add_subplot(1, 1, 1)\n",
        "chart.plot(y_test[:100], color='b')\n",
        "chart.plot(preds[:100], color='r')\n",
        "\n",
        "#핵심적발.\n",
        "fig = plt.figure(figsize=(10, 12))\n",
        "chart = fig.add_subplot(1, 1, 1)\n",
        "chart.plot(zy_test[:100], color='b')\n",
        "chart.plot(z_preds[:100], color='r')"
      ],
      "execution_count": 64,
      "outputs": [
        {
          "output_type": "execute_result",
          "data": {
            "text/plain": [
              "[<matplotlib.lines.Line2D at 0x7f68e1b1eb90>]"
            ]
          },
          "metadata": {
            "tags": []
          },
          "execution_count": 64
        },
        {
          "output_type": "display_data",
          "data": {
            "image/png": "[encoded data removed]",
            "text/plain": [
              "<Figure size 720x864 with 1 Axes>"
            ]
          },
          "metadata": {
            "tags": [],
            "needs_background": "light"
          }
        },
        {
          "output_type": "display_data",
          "data": {
            "image/png": "[encoded data removed]",
            "text/plain": [
              "<Figure size 720x864 with 1 Axes>"
            ]
          },
          "metadata": {
            "tags": [],
            "needs_background": "light"
          }
        }
      ]
    },
    {
      "cell_type": "code",
      "metadata": {
        "colab": {
          "base_uri": "https://localhost:8080/",
          "height": 1000
        },
        "id": "R_T_lyR5aiEz",
        "outputId": "4284d662-4416-479c-f69b-dd5efa7bdc81"
      },
      "source": [
        "'''#Visualize Feature Importance'''\n",
        "#우범여부.\n",
        "fig, ax = plt.subplots(figsize=(10, 10))\n",
        "plot_importance(lgbm, ax=ax)\n",
        "\n",
        "#핵심적발.\n",
        "fig, ax = plt.subplots(figsize=(10, 10))\n",
        "plot_importance(zlgbm, ax=ax)"
      ],
      "execution_count": 65,
      "outputs": [
        {
          "output_type": "execute_result",
          "data": {
            "text/plain": [
              "<matplotlib.axes._subplots.AxesSubplot at 0x7f68e4c1cb10>"
            ]
          },
          "metadata": {
            "tags": []
          },
          "execution_count": 65
        },
        {
          "output_type": "display_data",
          "data": {
            "image/png": "[encoded data removed]",
            "text/plain": [
              "<Figure size 720x720 with 1 Axes>"
            ]
          },
          "metadata": {
            "tags": [],
            "needs_background": "light"
          }
        },
        {
          "output_type": "display_data",
          "data": {
            "image/png": "[encoded data removed]",
            "text/plain": [
              "<Figure size 720x720 with 1 Axes>"
            ]
          },
          "metadata": {
            "tags": [],
            "needs_background": "light"
          }
        }
      ]
    },
    {
      "cell_type": "markdown",
      "metadata": {
        "id": "srPV8tDorIzH"
      },
      "source": [
        "# Test"
      ]
    },
    {
      "cell_type": "markdown",
      "metadata": {
        "id": "gKrX9OGpEzgl"
      },
      "source": [
        "## Import"
      ]
    },
    {
      "cell_type": "code",
      "metadata": {
        "id": "Y2P5HmX3clvb"
      },
      "source": [
        "tdataset = pd.read_csv(\"/content/drive/MyDrive/Colab Notebooks/HighRiskCargo/test.csv\") \n",
        "tdataset.fillna('NaN', inplace=True)\n",
        "#tdataset.pop(\"검사결과코드\")"
      ],
      "execution_count": 111,
      "outputs": []
    },
    {
      "cell_type": "code",
      "metadata": {
        "id": "2M1j8wk8KuWO"
      },
      "source": [
        "#Check tdataset.\n",
        "tdataset"
      ],
      "execution_count": null,
      "outputs": []
    },
    {
      "cell_type": "code",
      "metadata": {
        "id": "ZdF8YxhJKuWP"
      },
      "source": [
        "#Check tdataset.info().\n",
        "tdataset.info()"
      ],
      "execution_count": null,
      "outputs": []
    },
    {
      "cell_type": "markdown",
      "metadata": {
        "id": "XwnxR7ahE1yw"
      },
      "source": [
        "## One-hot Encoding"
      ]
    },
    {
      "cell_type": "code",
      "metadata": {
        "id": "ZjHMJpq4RW8J"
      },
      "source": [
        "#One-hot Encoding.\n",
        "tdataset_copy = tdataset.copy()\n",
        "to_convert_field_list = ['신고일자', '신고인부호', '수입자부호', '해외거래처부호', '특송업체부호', '수입통관계획코드',\n",
        "                    '수입신고구분코드', '적출국가코드', '원산지국가코드', '관세율구분코드']\n",
        "\n",
        "label_encoder_list = [OneHotEncoder(sparse=False) for i in to_convert_field_list]\n",
        "convert_result_list = [0 for i in to_convert_field_list]\n",
        "\n",
        "for idx, val in enumerate(to_convert_field_list):\n",
        "  convert_result_list[idx] = label_encoder_list[idx].fit_transform(tdataset_copy[[val]].astype(str))\n",
        "  #tdataset[val] = np.argmax(convert_result_list[idx])\n",
        "  tdataset_copy[val] = [np.where(r==1)[0][0] for r in convert_result_list[idx]]\n",
        "\n",
        "tdataset_encoded = tdataset_copy"
      ],
      "execution_count": 114,
      "outputs": []
    },
    {
      "cell_type": "code",
      "metadata": {
        "id": "Sfz83VF_XPz6"
      },
      "source": [
        "#Check tdataset_encoded.\n",
        "tdataset_encoded"
      ],
      "execution_count": null,
      "outputs": []
    },
    {
      "cell_type": "code",
      "metadata": {
        "id": "f4qWW-9WXUmh"
      },
      "source": [
        "#Check tdataset.info().\n",
        "tdataset_encoded.info()"
      ],
      "execution_count": null,
      "outputs": []
    },
    {
      "cell_type": "code",
      "metadata": {
        "id": "bJ9NSYZ-n5Id"
      },
      "source": [
        "#Label Encoding.\n",
        "'''\n",
        "to_convert_field_list = ['신고일자', '신고인부호', '수입자부호', '해외거래처부호', '특송업체부호', '수입통관계획코드',\n",
        "                    '수입신고구분코드', '적출국가코드', '원산지국가코드', '관세율구분코드']\n",
        "\n",
        "label_encoder_list = [LabelEncoder() for i in to_convert_field_list]\n",
        "convert_result_list = [0 for i in to_convert_field_list]\n",
        "\n",
        "for idx, val in enumerate(to_convert_field_list):\n",
        "  convert_result_list[idx] = label_encoder_list[idx].fit_transform(tdataset[val]) \n",
        "  tdataset[val] = convert_result_list[idx]\n",
        "\n",
        "tdataset\n",
        "'''"
      ],
      "execution_count": null,
      "outputs": []
    },
    {
      "cell_type": "markdown",
      "metadata": {
        "id": "eos4_EZzE5p8"
      },
      "source": [
        "## Data Preporcessing"
      ]
    },
    {
      "cell_type": "code",
      "metadata": {
        "id": "R9eG7vlTE_n4"
      },
      "source": [
        "tdataset_copy = tdataset_encoded.copy()\n",
        "\n",
        "tdataset_copy[\"해외거래처부호\"] = tdataset_copy[\"해외거래처부호\"] / 10\n",
        "tdataset_copy[\"신고중량(KG)\"] = tdataset_copy[\"신고중량(KG)\"] / 10\n",
        "tdataset_copy[\"HS10단위부호\"] = tdataset_copy[\"HS10단위부호\"] / 1000\n",
        "tdataset_copy[\"특송업체부호\"] = tdataset_copy[\"특송업체부호\"] / 10\n",
        "tdataset_copy[\"반입보세구역부호\"] = tdataset_copy[\"반입보세구역부호\"] / 100\n",
        "\n",
        "tdataset_last = tdataset_copy"
      ],
      "execution_count": 118,
      "outputs": []
    },
    {
      "cell_type": "code",
      "metadata": {
        "id": "LtvUigq9HgMh"
      },
      "source": [
        "#Check dataset_encoded.\n",
        "tdataset_encoded"
      ],
      "execution_count": null,
      "outputs": []
    },
    {
      "cell_type": "code",
      "metadata": {
        "id": "iOa8reaQE_n_"
      },
      "source": [
        "#Check dataset_last.\n",
        "tdataset_last"
      ],
      "execution_count": null,
      "outputs": []
    },
    {
      "cell_type": "markdown",
      "metadata": {
        "id": "dV1V7lrNFJHM"
      },
      "source": [
        "## Data Split"
      ]
    },
    {
      "cell_type": "code",
      "metadata": {
        "id": "xMMvNJoat--9"
      },
      "source": [
        "#Transpose DataFrame to Numpy Array.\n",
        "tdataset_np_x = tdataset_last.drop([\"수입신고구분코드\", \"신고번호\",\n",
        "                                    \"수입종류코드\", \"운송수단유형코드\",\n",
        "                                    \"신고인부호\", \"수입자부호\"], axis=1).values"
      ],
      "execution_count": 121,
      "outputs": []
    },
    {
      "cell_type": "markdown",
      "metadata": {
        "id": "i8V9AAo4FOs-"
      },
      "source": [
        "## Model (Light GBM)"
      ]
    },
    {
      "cell_type": "code",
      "metadata": {
        "id": "tlV39TADuclf"
      },
      "source": [
        "#Predict 우범여부.\n",
        "predict = lgbm.predict(tdataset_np_x)\n",
        "predict_proba = lgbm.predict_proba(tdataset_np_x)[:, 1]"
      ],
      "execution_count": 122,
      "outputs": []
    },
    {
      "cell_type": "code",
      "metadata": {
        "id": "8RfAINMYThoP"
      },
      "source": [
        "#Data Split for 핵심적발.\n",
        "tdataset_drop = tdataset_last.drop([\"수입신고구분코드\", \"신고번호\",\n",
        "                                    \"수입종류코드\", \"운송수단유형코드\",\n",
        "                                    \"신고인부호\", \"수입자부호\"], axis=1)\n",
        "tdataset_drop.insert(15, '우범여부', predict)\n",
        "tdataset_np_x = tdataset_drop"
      ],
      "execution_count": 123,
      "outputs": []
    },
    {
      "cell_type": "code",
      "metadata": {
        "id": "r9-f6S8aTa56"
      },
      "source": [
        "#Predict 핵심적발.\n",
        "z_predict = zlgbm.predict(tdataset_np_x)\n",
        "z_predict_proba = zlgbm.predict_proba(tdataset_np_x)[:, 1]"
      ],
      "execution_count": 124,
      "outputs": []
    },
    {
      "cell_type": "markdown",
      "metadata": {
        "id": "dCSdZmZ7MUo8"
      },
      "source": [
        "## Result"
      ]
    },
    {
      "cell_type": "code",
      "metadata": {
        "id": "7iytJDfhuhb3"
      },
      "source": [
        "result = pd.DataFrame(columns = ['신고번호', '우범여부', '핵심적발'])\n",
        "result['신고번호'] = tdataset['신고번호']"
      ],
      "execution_count": 125,
      "outputs": []
    },
    {
      "cell_type": "code",
      "metadata": {
        "id": "8e88nDKouyk3"
      },
      "source": [
        "result['우범여부'] = predict\n",
        "result['핵심적발'] = z_predict"
      ],
      "execution_count": 126,
      "outputs": []
    },
    {
      "cell_type": "code",
      "metadata": {
        "id": "1wo0F1JNvHqm"
      },
      "source": [
        "result.to_csv(\"./SSUML.csv\", encoding=\"UTF-8\", index=None)\n",
        "print(result)"
      ],
      "execution_count": null,
      "outputs": []
    },
    {
      "cell_type": "code",
      "metadata": {
        "id": "84lOdez_CqVW"
      },
      "source": [
        "for i in predict:\n",
        "  print(i, end='')"
      ],
      "execution_count": null,
      "outputs": []
    },
    {
      "cell_type": "code",
      "metadata": {
        "id": "9cXgXKrX8Jhv"
      },
      "source": [
        "for i in z_predict:\n",
        "  print(i, end='')"
      ],
      "execution_count": null,
      "outputs": []
    },
    {
      "cell_type": "code",
      "metadata": {
        "id": "i4V9OFzyj8mj"
      },
      "source": [
        "if tdataset['신고번호'].equals(result['신고번호']):\n",
        "  print(\"Same !\")\n",
        "else:\n",
        "  print(\"No !\")"
      ],
      "execution_count": null,
      "outputs": []
    },
    {
      "cell_type": "markdown",
      "metadata": {
        "id": "gv9QLRYfUJ9m"
      },
      "source": [
        "# Temp"
      ]
    },
    {
      "cell_type": "markdown",
      "metadata": {
        "id": "bNDXQr_U3yTK"
      },
      "source": [
        "## 특송업체부호 확인 (X)"
      ]
    },
    {
      "cell_type": "code",
      "metadata": {
        "colab": {
          "base_uri": "https://localhost:8080/"
        },
        "id": "AzG1KsGUUI0q",
        "outputId": "1c019f24-01c5-444a-dd71-cb65b7ac3157"
      },
      "source": [
        "'''\n",
        "print(dataset_last['특송업체부호'].mean())\n",
        "print(dataset_last['특송업체부호'].min())\n",
        "print(dataset_last['특송업체부호'].max())\n",
        "print(dataset_last['특송업체부호'].var())\n",
        "'''"
      ],
      "execution_count": 86,
      "outputs": [
        {
          "output_type": "stream",
          "text": [
            "5.733560963635533\n",
            "0.0\n",
            "9.9\n",
            "4.739269440173336\n"
          ],
          "name": "stdout"
        }
      ]
    },
    {
      "cell_type": "markdown",
      "metadata": {
        "id": "yc2LdIHT31Gk"
      },
      "source": [
        "## 이상치 확인 (X)"
      ]
    },
    {
      "cell_type": "code",
      "metadata": {
        "id": "NhDLegDccq3k"
      },
      "source": [
        "'''\n",
        "# IQR 기반 예제 코드\n",
        "def outliers_iqr(ys):\n",
        "    quartile_1, quartile_3 = np.percentile(ys, [25, 75])\n",
        "    iqr = quartile_3 - quartile_1\n",
        "    lower_bound = quartile_1 - (iqr * 1.5)\n",
        "    upper_bound = quartile_3 + (iqr * 1.5)\n",
        "    print(lower_bound)\n",
        "    print(upper_bound)\n",
        "    return np.where((ys > upper_bound) | (ys < lower_bound))\n",
        "'''"
      ],
      "execution_count": 87,
      "outputs": []
    },
    {
      "cell_type": "code",
      "metadata": {
        "id": "ZCCO2vXTcr9G"
      },
      "source": [
        "'''\n",
        "temp = outliers_iqr(dataset_last['특송업체부호'][0])\n",
        "print(dataset_last['특송업체부호'][0])\n",
        "print(temp)\n",
        "'''"
      ],
      "execution_count": null,
      "outputs": []
    }
  ]
}