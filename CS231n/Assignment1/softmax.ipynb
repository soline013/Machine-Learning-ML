{
  "nbformat": 4,
  "nbformat_minor": 0,
  "metadata": {
    "kernelspec": {
      "display_name": "Python 2",
      "name": "python2",
      "language": "python"
    },
    "language_info": {
      "mimetype": "text/x-python",
      "nbconvert_exporter": "python",
      "name": "python",
      "file_extension": ".py",
      "version": "2.7.6",
      "pygments_lexer": "ipython2",
      "codemirror_mode": {
        "version": 2,
        "name": "ipython"
      }
    },
    "colab": {
      "name": "softmax.ipynb",
      "provenance": [],
      "collapsed_sections": [],
      "toc_visible": true,
      "include_colab_link": true
    }
  },
  "cells": [
    {
      "cell_type": "markdown",
      "metadata": {
        "id": "view-in-github",
        "colab_type": "text"
      },
      "source": [
        "<a href=\"https://colab.research.google.com/github/soline013/Machine_Learning-ML/blob/master/CS231n/Assignment1/softmax.ipynb\" target=\"_parent\"><img src=\"https://colab.research.google.com/assets/colab-badge.svg\" alt=\"Open In Colab\"/></a>"
      ]
    },
    {
      "cell_type": "code",
      "metadata": {
        "id": "Vt-svt_drtkx",
        "outputId": "17d5253b-c48c-42f7-e851-28dc87167dfd",
        "colab": {
          "base_uri": "https://localhost:8080/"
        }
      },
      "source": [
        "from google.colab import drive\n",
        "drive.mount('/content/drive')\n",
        "%cd /content/drive/My Drive/Colab Notebooks/spring1617_assignment1/assignment1"
      ],
      "execution_count": 2,
      "outputs": [
        {
          "output_type": "stream",
          "text": [
            "Drive already mounted at /content/drive; to attempt to forcibly remount, call drive.mount(\"/content/drive\", force_remount=True).\n",
            "/content/drive/My Drive/Colab Notebooks/spring1617_assignment1/assignment1\n"
          ],
          "name": "stdout"
        }
      ]
    },
    {
      "cell_type": "markdown",
      "metadata": {
        "id": "GtOKrakbrTbD"
      },
      "source": [
        "# Softmax exercise\n",
        "\n",
        "*Complete and hand in this completed worksheet (including its outputs and any supporting code outside of the worksheet) with your assignment submission. For more details see the [assignments page](http://vision.stanford.edu/teaching/cs231n/assignments.html) on the course website.*\n",
        "\n",
        "This exercise is analogous to the SVM exercise. You will:\n",
        "\n",
        "- implement a fully-vectorized **loss function** for the Softmax classifier\n",
        "- implement the fully-vectorized expression for its **analytic gradient**\n",
        "- **check your implementation** with numerical gradient\n",
        "- use a validation set to **tune the learning rate and regularization** strength\n",
        "- **optimize** the loss function with **SGD**\n",
        "- **visualize** the final learned weights\n"
      ]
    },
    {
      "cell_type": "code",
      "metadata": {
        "id": "X_67Ku7grTbQ"
      },
      "source": [
        "import random\n",
        "import numpy as np\n",
        "from cs231n.data_utils import load_CIFAR10\n",
        "import matplotlib.pyplot as plt\n",
        "\n",
        "from __future__ import print_function\n",
        "\n",
        "%matplotlib inline\n",
        "plt.rcParams['figure.figsize'] = (10.0, 8.0) # set default size of plots\n",
        "plt.rcParams['image.interpolation'] = 'nearest'\n",
        "plt.rcParams['image.cmap'] = 'gray'\n",
        "\n",
        "# for auto-reloading extenrnal modules\n",
        "# see http://stackoverflow.com/questions/1907993/autoreload-of-modules-in-ipython\n",
        "%load_ext autoreload\n",
        "%autoreload 2"
      ],
      "execution_count": 3,
      "outputs": []
    },
    {
      "cell_type": "code",
      "metadata": {
        "id": "p6aBGJ5lrTbc",
        "outputId": "599b450a-dc9c-42c3-8ab8-6c028dcfa663",
        "colab": {
          "base_uri": "https://localhost:8080/"
        }
      },
      "source": [
        "def get_CIFAR10_data(num_training=49000, num_validation=1000, num_test=1000, num_dev=500):\n",
        "    \"\"\"\n",
        "    Load the CIFAR-10 dataset from disk and perform preprocessing to prepare\n",
        "    it for the linear classifier. These are the same steps as we used for the\n",
        "    SVM, but condensed to a single function.  \n",
        "    \"\"\"\n",
        "    # Load the raw CIFAR-10 data\n",
        "    cifar10_dir = 'cs231n/datasets/cifar-10-batches-py'\n",
        "    X_train, y_train, X_test, y_test = load_CIFAR10(cifar10_dir)\n",
        "    \n",
        "    # subsample the data\n",
        "    mask = list(range(num_training, num_training + num_validation))\n",
        "    X_val = X_train[mask]\n",
        "    y_val = y_train[mask]\n",
        "    mask = list(range(num_training))\n",
        "    X_train = X_train[mask]\n",
        "    y_train = y_train[mask]\n",
        "    mask = list(range(num_test))\n",
        "    X_test = X_test[mask]\n",
        "    y_test = y_test[mask]\n",
        "    mask = np.random.choice(num_training, num_dev, replace=False)\n",
        "    X_dev = X_train[mask]\n",
        "    y_dev = y_train[mask]\n",
        "    \n",
        "    # Preprocessing: reshape the image data into rows\n",
        "    X_train = np.reshape(X_train, (X_train.shape[0], -1))\n",
        "    X_val = np.reshape(X_val, (X_val.shape[0], -1))\n",
        "    X_test = np.reshape(X_test, (X_test.shape[0], -1))\n",
        "    X_dev = np.reshape(X_dev, (X_dev.shape[0], -1))\n",
        "    \n",
        "    # Normalize the data: subtract the mean image\n",
        "    mean_image = np.mean(X_train, axis = 0)\n",
        "    X_train -= mean_image\n",
        "    X_val -= mean_image\n",
        "    X_test -= mean_image\n",
        "    X_dev -= mean_image\n",
        "    \n",
        "    # add bias dimension and transform into columns\n",
        "    X_train = np.hstack([X_train, np.ones((X_train.shape[0], 1))])\n",
        "    X_val = np.hstack([X_val, np.ones((X_val.shape[0], 1))])\n",
        "    X_test = np.hstack([X_test, np.ones((X_test.shape[0], 1))])\n",
        "    X_dev = np.hstack([X_dev, np.ones((X_dev.shape[0], 1))])\n",
        "    \n",
        "    return X_train, y_train, X_val, y_val, X_test, y_test, X_dev, y_dev\n",
        "\n",
        "\n",
        "# Invoke the above function to get our data.\n",
        "X_train, y_train, X_val, y_val, X_test, y_test, X_dev, y_dev = get_CIFAR10_data()\n",
        "print('Train data shape: ', X_train.shape)\n",
        "print('Train labels shape: ', y_train.shape)\n",
        "print('Validation data shape: ', X_val.shape)\n",
        "print('Validation labels shape: ', y_val.shape)\n",
        "print('Test data shape: ', X_test.shape)\n",
        "print('Test labels shape: ', y_test.shape)\n",
        "print('dev data shape: ', X_dev.shape)\n",
        "print('dev labels shape: ', y_dev.shape)"
      ],
      "execution_count": 4,
      "outputs": [
        {
          "output_type": "stream",
          "text": [
            "Train data shape:  (49000, 3073)\n",
            "Train labels shape:  (49000,)\n",
            "Validation data shape:  (1000, 3073)\n",
            "Validation labels shape:  (1000,)\n",
            "Test data shape:  (1000, 3073)\n",
            "Test labels shape:  (1000,)\n",
            "dev data shape:  (500, 3073)\n",
            "dev labels shape:  (500,)\n"
          ],
          "name": "stdout"
        }
      ]
    },
    {
      "cell_type": "markdown",
      "metadata": {
        "id": "JZrMOdUorTb2"
      },
      "source": [
        "## Softmax Classifier\n",
        "\n",
        "Your code for this section will all be written inside **cs231n/classifiers/softmax.py**. \n"
      ]
    },
    {
      "cell_type": "code",
      "metadata": {
        "id": "oVDQ13-crTb3",
        "outputId": "0cba2393-b2af-4ef5-ec20-b70d4e3a5792",
        "colab": {
          "base_uri": "https://localhost:8080/"
        }
      },
      "source": [
        "# First implement the naive softmax loss function with nested loops.\n",
        "# Open the file cs231n/classifiers/softmax.py and implement the\n",
        "# softmax_loss_naive function.\n",
        "\n",
        "from cs231n.classifiers.softmax import softmax_loss_naive\n",
        "import time\n",
        "\n",
        "# Generate a random softmax weight matrix and use it to compute the loss.\n",
        "W = np.random.randn(3073, 10) * 0.0001\n",
        "loss, grad = softmax_loss_naive(W, X_dev, y_dev, 0.0)\n",
        "\n",
        "# As a rough sanity check, our loss should be something close to -log(0.1).\n",
        "print('loss: %f' % loss)\n",
        "print('sanity check: %f' % (-np.log(0.1)))"
      ],
      "execution_count": 6,
      "outputs": [
        {
          "output_type": "stream",
          "text": [
            "loss: 2.319790\n",
            "sanity check: 2.302585\n"
          ],
          "name": "stdout"
        }
      ]
    },
    {
      "cell_type": "code",
      "metadata": {
        "id": "ikFwhavbW7pD",
        "outputId": "fb4846fc-7442-4bc4-d59e-d0ebe8fcd8bc",
        "colab": {
          "base_uri": "https://localhost:8080/"
        }
      },
      "source": [
        "# First implement the naive softmax loss function with nested loops.\n",
        "# Open the file cs231n/classifiers/softmax.py and implement the\n",
        "# softmax_loss_vectorized function.\n",
        "\n",
        "from cs231n.classifiers.softmax import softmax_loss_vectorized\n",
        "import time\n",
        "\n",
        "# Generate a random softmax weight matrix and use it to compute the loss.\n",
        "W = np.random.randn(3073, 10) * 0.0001\n",
        "loss, grad = softmax_loss_vectorized(W, X_dev, y_dev, 0.0)\n",
        "\n",
        "# As a rough sanity check, our loss should be something close to -log(0.1).\n",
        "print('loss: %f' % loss)\n",
        "print('sanity check: %f' % (-np.log(0.1)))"
      ],
      "execution_count": 7,
      "outputs": [
        {
          "output_type": "stream",
          "text": [
            "loss: 2.334489\n",
            "sanity check: 2.302585\n"
          ],
          "name": "stdout"
        }
      ]
    },
    {
      "cell_type": "markdown",
      "metadata": {
        "id": "3XtdXYGtrTb8"
      },
      "source": [
        "## Inline Question 1:\n",
        "Why do we expect our loss to be close to -log(0.1)? Explain briefly.**\n",
        "\n",
        "**Your answer:** *Fill this in*\n"
      ]
    },
    {
      "cell_type": "code",
      "metadata": {
        "id": "_Et9o5_ErTb_",
        "outputId": "2738922b-1d90-45c0-92e7-8b1d1a63fa5c",
        "colab": {
          "base_uri": "https://localhost:8080/"
        }
      },
      "source": [
        "# Complete the implementation of softmax_loss_naive and implement a (naive)\n",
        "# version of the gradient that uses nested loops.\n",
        "loss, grad = softmax_loss_naive(W, X_dev, y_dev, 0.0)\n",
        "\n",
        "# As we did for the SVM, use numeric gradient checking as a debugging tool.\n",
        "# The numeric gradient should be close to the analytic gradient.\n",
        "from cs231n.gradient_check import grad_check_sparse\n",
        "f = lambda w: softmax_loss_naive(w, X_dev, y_dev, 0.0)[0]\n",
        "grad_numerical = grad_check_sparse(f, W, grad, 10)\n",
        "\n",
        "# similar to SVM case, do another gradient check with regularization\n",
        "loss, grad = softmax_loss_naive(W, X_dev, y_dev, 5e1)\n",
        "f = lambda w: softmax_loss_naive(w, X_dev, y_dev, 5e1)[0]\n",
        "grad_numerical = grad_check_sparse(f, W, grad, 10)"
      ],
      "execution_count": 8,
      "outputs": [
        {
          "output_type": "stream",
          "text": [
            "numerical: 0.115017 analytic: 0.115017, relative error: 4.679476e-07\n",
            "numerical: 1.002779 analytic: 1.002779, relative error: 4.277331e-08\n",
            "numerical: -1.013751 analytic: -1.013751, relative error: 1.764235e-09\n",
            "numerical: -0.976077 analytic: -0.976077, relative error: 2.631593e-08\n",
            "numerical: 0.519489 analytic: 0.519489, relative error: 1.264869e-07\n",
            "numerical: 1.632783 analytic: 1.632782, relative error: 3.472360e-08\n",
            "numerical: 1.260522 analytic: 1.260522, relative error: 2.031436e-08\n",
            "numerical: 1.932236 analytic: 1.932236, relative error: 1.612721e-08\n",
            "numerical: -2.597946 analytic: -2.597946, relative error: 4.364211e-09\n",
            "numerical: 0.237576 analytic: 0.237576, relative error: 9.042593e-08\n",
            "numerical: 0.525220 analytic: 0.525220, relative error: 3.118991e-08\n",
            "numerical: 2.221704 analytic: 2.221704, relative error: 6.393423e-09\n",
            "numerical: 1.824445 analytic: 1.824445, relative error: 1.191919e-09\n",
            "numerical: 0.428994 analytic: 0.428994, relative error: 2.525452e-08\n",
            "numerical: 0.763575 analytic: 0.763575, relative error: 1.490237e-08\n",
            "numerical: 0.023032 analytic: 0.023032, relative error: 9.282639e-07\n",
            "numerical: -0.976569 analytic: -0.976569, relative error: 1.327119e-08\n",
            "numerical: 1.261225 analytic: 1.261225, relative error: 1.487079e-08\n",
            "numerical: -0.575385 analytic: -0.575386, relative error: 5.679566e-08\n",
            "numerical: 1.055673 analytic: 1.055673, relative error: 1.734322e-08\n"
          ],
          "name": "stdout"
        }
      ]
    },
    {
      "cell_type": "code",
      "metadata": {
        "id": "_bHigJjaZX9b",
        "outputId": "df9eac12-313e-45ca-9b89-89d851c41532",
        "colab": {
          "base_uri": "https://localhost:8080/"
        }
      },
      "source": [
        "# Complete the implementation of softmax_loss_vectorized and implement a (naive)\n",
        "# version of the gradient that uses nested loops.\n",
        "loss, grad = softmax_loss_vectorized(W, X_dev, y_dev, 0.0)\n",
        "\n",
        "# As we did for the SVM, use numeric gradient checking as a debugging tool.\n",
        "# The numeric gradient should be close to the analytic gradient.\n",
        "from cs231n.gradient_check import grad_check_sparse\n",
        "f = lambda w: softmax_loss_vectorized(w, X_dev, y_dev, 0.0)[0]\n",
        "grad_numerical = grad_check_sparse(f, W, grad, 10)\n",
        "\n",
        "# similar to SVM case, do another gradient check with regularization\n",
        "loss, grad = softmax_loss_vectorized(W, X_dev, y_dev, 5e1)\n",
        "f = lambda w: softmax_loss_vectorized(w, X_dev, y_dev, 5e1)[0]\n",
        "grad_numerical = grad_check_sparse(f, W, grad, 10)"
      ],
      "execution_count": 9,
      "outputs": [
        {
          "output_type": "stream",
          "text": [
            "numerical: -0.294961 analytic: -0.294961, relative error: 7.928106e-08\n",
            "numerical: -0.673545 analytic: -0.673545, relative error: 1.084933e-08\n",
            "numerical: 0.162783 analytic: 0.162783, relative error: 3.274727e-07\n",
            "numerical: -1.086148 analytic: -1.086148, relative error: 1.599270e-08\n",
            "numerical: 0.734691 analytic: 0.734691, relative error: 1.273451e-08\n",
            "numerical: 1.670933 analytic: 1.670933, relative error: 5.149597e-09\n",
            "numerical: -0.349371 analytic: -0.349371, relative error: 5.107576e-08\n",
            "numerical: -0.594308 analytic: -0.594308, relative error: 2.915974e-08\n",
            "numerical: 4.197902 analytic: 4.197902, relative error: 1.572520e-09\n",
            "numerical: -5.953189 analytic: -5.953189, relative error: 5.395853e-09\n",
            "numerical: 1.206497 analytic: 1.206496, relative error: 1.804616e-08\n",
            "numerical: -0.286980 analytic: -0.286980, relative error: 4.218360e-08\n",
            "numerical: 1.361536 analytic: 1.361535, relative error: 3.599288e-08\n",
            "numerical: 0.927879 analytic: 0.927878, relative error: 3.650244e-08\n",
            "numerical: 1.016500 analytic: 1.016500, relative error: 4.797657e-08\n",
            "numerical: 1.979131 analytic: 1.979131, relative error: 1.953050e-08\n",
            "numerical: 2.371949 analytic: 2.371949, relative error: 1.276740e-09\n",
            "numerical: 1.665041 analytic: 1.665041, relative error: 1.245860e-09\n",
            "numerical: 5.582364 analytic: 5.582364, relative error: 2.654164e-09\n",
            "numerical: -0.883924 analytic: -0.883924, relative error: 2.144989e-08\n"
          ],
          "name": "stdout"
        }
      ]
    },
    {
      "cell_type": "code",
      "metadata": {
        "id": "M0ijMBrqrTcG",
        "outputId": "ecd2d53f-50b4-477b-ddee-2f98f34cfeef",
        "colab": {
          "base_uri": "https://localhost:8080/"
        }
      },
      "source": [
        "# Now that we have a naive implementation of the softmax loss function and its gradient,\n",
        "# implement a vectorized version in softmax_loss_vectorized.\n",
        "# The two versions should compute the same results, but the vectorized version should be\n",
        "# much faster.\n",
        "tic = time.time()\n",
        "loss_naive, grad_naive = softmax_loss_naive(W, X_dev, y_dev, 0.000005)\n",
        "toc = time.time()\n",
        "print('naive loss: %e computed in %fs' % (loss_naive, toc - tic))\n",
        "\n",
        "from cs231n.classifiers.softmax import softmax_loss_vectorized\n",
        "tic = time.time()\n",
        "loss_vectorized, grad_vectorized = softmax_loss_vectorized(W, X_dev, y_dev, 0.000005)\n",
        "toc = time.time()\n",
        "print('vectorized loss: %e computed in %fs' % (loss_vectorized, toc - tic))\n",
        "\n",
        "# As we did for the SVM, we use the Frobenius norm to compare the two versions\n",
        "# of the gradient.\n",
        "grad_difference = np.linalg.norm(grad_naive - grad_vectorized, ord='fro')\n",
        "print('Loss difference: %f' % np.abs(loss_naive - loss_vectorized))\n",
        "print('Gradient difference: %f' % grad_difference)"
      ],
      "execution_count": 11,
      "outputs": [
        {
          "output_type": "stream",
          "text": [
            "naive loss: 2.334489e+00 computed in 0.099532s\n",
            "vectorized loss: 2.334489e+00 computed in 0.011611s\n",
            "Loss difference: 0.000000\n",
            "Gradient difference: 0.000000\n"
          ],
          "name": "stdout"
        }
      ]
    },
    {
      "cell_type": "code",
      "metadata": {
        "id": "lgK3uNIurTcR",
        "outputId": "68e0ec10-11a3-451f-889e-a54bc04fe743",
        "colab": {
          "base_uri": "https://localhost:8080/"
        }
      },
      "source": [
        "# Use the validation set to tune hyperparameters (regularization strength and\n",
        "# learning rate). You should experiment with different ranges for the learning\n",
        "# rates and regularization strengths; if you are careful you should be able to\n",
        "# get a classification accuracy of over 0.35 on the validation set.\n",
        "from cs231n.classifiers import Softmax\n",
        "results = {}\n",
        "best_val = -1\n",
        "best_softmax = None\n",
        "learning_rates = [1e-7, 5e-7]\n",
        "regularization_strengths = [2.5e4, 5e4]\n",
        "\n",
        "################################################################################\n",
        "# TODO:                                                                        #\n",
        "# Use the validation set to set the learning rate and regularization strength. #\n",
        "# This should be identical to the validation that you did for the SVM; save    #\n",
        "# the best trained softmax classifer in best_softmax.                          #\n",
        "################################################################################\n",
        "#Non-vectorized.\n",
        "for lr in learning_rates:\n",
        "    for reg in regularization_strengths:\n",
        "        softmax = Softmax()\n",
        "        softmax.train(X_train, y_train, learning_rate=lr, \n",
        "                      reg=reg, num_iters=1500, verbose=True)\n",
        "        #Training.\n",
        "        y_train_pred = softmax.predict(X_train)\n",
        "        train_acc = (np.mean(y_train == y_train_pred))\n",
        "\n",
        "        #Validation.\n",
        "        y_val_pred = softmax.predict(X_val)\n",
        "        val_acc = (np.mean(y_val == y_val_pred))\n",
        "\n",
        "        if  val_acc > best_val:\n",
        "            best_val = val_acc\n",
        "            best_softmax = softmax\n",
        "        results[(lr,reg)] = (train_acc, val_acc)\n",
        "################################################################################\n",
        "#                              END OF YOUR CODE                                #\n",
        "################################################################################\n",
        "    \n",
        "# Print out results.\n",
        "for lr, reg in sorted(results):\n",
        "    train_accuracy, val_accuracy = results[(lr, reg)]\n",
        "    print('lr %e reg %e train accuracy: %f val accuracy: %f' % (\n",
        "                lr, reg, train_accuracy, val_accuracy))\n",
        "    \n",
        "print('best validation accuracy achieved during cross-validation: %f' % best_val)"
      ],
      "execution_count": 12,
      "outputs": [
        {
          "output_type": "stream",
          "text": [
            "iteration 0 / 1500: loss 773.592990\n",
            "iteration 100 / 1500: loss 284.182893\n",
            "iteration 200 / 1500: loss 105.291594\n",
            "iteration 300 / 1500: loss 39.790035\n",
            "iteration 400 / 1500: loss 15.879235\n",
            "iteration 500 / 1500: loss 7.147387\n",
            "iteration 600 / 1500: loss 3.878427\n",
            "iteration 700 / 1500: loss 2.793781\n",
            "iteration 800 / 1500: loss 2.366532\n",
            "iteration 900 / 1500: loss 2.136652\n",
            "iteration 1000 / 1500: loss 2.178279\n",
            "iteration 1100 / 1500: loss 2.116127\n",
            "iteration 1200 / 1500: loss 2.168898\n",
            "iteration 1300 / 1500: loss 2.127725\n",
            "iteration 1400 / 1500: loss 2.091519\n",
            "(49000, 10)\n",
            "(49000,)\n",
            "(1000, 10)\n",
            "(1000,)\n",
            "iteration 0 / 1500: loss 1561.418234\n",
            "iteration 100 / 1500: loss 210.375395\n",
            "iteration 200 / 1500: loss 29.988974\n",
            "iteration 300 / 1500: loss 5.856549\n",
            "iteration 400 / 1500: loss 2.625883\n",
            "iteration 500 / 1500: loss 2.192522\n",
            "iteration 600 / 1500: loss 2.168810\n",
            "iteration 700 / 1500: loss 2.094967\n",
            "iteration 800 / 1500: loss 2.135957\n",
            "iteration 900 / 1500: loss 2.155254\n",
            "iteration 1000 / 1500: loss 2.123089\n",
            "iteration 1100 / 1500: loss 2.177329\n",
            "iteration 1200 / 1500: loss 2.113869\n",
            "iteration 1300 / 1500: loss 2.102848\n",
            "iteration 1400 / 1500: loss 2.160935\n",
            "(49000, 10)\n",
            "(49000,)\n",
            "(1000, 10)\n",
            "(1000,)\n",
            "iteration 0 / 1500: loss 755.577264\n",
            "iteration 100 / 1500: loss 6.768099\n",
            "iteration 200 / 1500: loss 2.132314\n",
            "iteration 300 / 1500: loss 2.075437\n",
            "iteration 400 / 1500: loss 2.072211\n",
            "iteration 500 / 1500: loss 2.063861\n",
            "iteration 600 / 1500: loss 2.127690\n",
            "iteration 700 / 1500: loss 2.053715\n",
            "iteration 800 / 1500: loss 2.059221\n",
            "iteration 900 / 1500: loss 2.090708\n",
            "iteration 1000 / 1500: loss 2.129454\n",
            "iteration 1100 / 1500: loss 2.035581\n",
            "iteration 1200 / 1500: loss 2.081097\n",
            "iteration 1300 / 1500: loss 2.005910\n",
            "iteration 1400 / 1500: loss 2.061534\n",
            "(49000, 10)\n",
            "(49000,)\n",
            "(1000, 10)\n",
            "(1000,)\n",
            "iteration 0 / 1500: loss 1533.608723\n",
            "iteration 100 / 1500: loss 2.222595\n",
            "iteration 200 / 1500: loss 2.193134\n",
            "iteration 300 / 1500: loss 2.145405\n",
            "iteration 400 / 1500: loss 2.171282\n",
            "iteration 500 / 1500: loss 2.119763\n",
            "iteration 600 / 1500: loss 2.236528\n",
            "iteration 700 / 1500: loss 2.159018\n",
            "iteration 800 / 1500: loss 2.157820\n",
            "iteration 900 / 1500: loss 2.150140\n",
            "iteration 1000 / 1500: loss 2.165946\n",
            "iteration 1100 / 1500: loss 2.125624\n",
            "iteration 1200 / 1500: loss 2.148604\n",
            "iteration 1300 / 1500: loss 2.160519\n",
            "iteration 1400 / 1500: loss 2.134467\n",
            "(49000, 10)\n",
            "(49000,)\n",
            "(1000, 10)\n",
            "(1000,)\n",
            "lr 1.000000e-07 reg 2.500000e+04 train accuracy: 0.327837 val accuracy: 0.346000\n",
            "lr 1.000000e-07 reg 5.000000e+04 train accuracy: 0.303204 val accuracy: 0.329000\n",
            "lr 5.000000e-07 reg 2.500000e+04 train accuracy: 0.323857 val accuracy: 0.334000\n",
            "lr 5.000000e-07 reg 5.000000e+04 train accuracy: 0.293102 val accuracy: 0.312000\n",
            "best validation accuracy achieved during cross-validation: 0.346000\n"
          ],
          "name": "stdout"
        }
      ]
    },
    {
      "cell_type": "code",
      "metadata": {
        "id": "oIa4-H28rTcX",
        "outputId": "c95f8f4c-288c-4896-895d-b435499244bf",
        "colab": {
          "base_uri": "https://localhost:8080/"
        }
      },
      "source": [
        "# evaluate on test set\n",
        "# Evaluate the best softmax on test set\n",
        "y_test_pred = best_softmax.predict(X_test)\n",
        "test_accuracy = np.mean(y_test == y_test_pred)\n",
        "print('softmax on raw pixels final test set accuracy: %f' % (test_accuracy, ))"
      ],
      "execution_count": 13,
      "outputs": [
        {
          "output_type": "stream",
          "text": [
            "(1000, 10)\n",
            "(1000,)\n",
            "softmax on raw pixels final test set accuracy: 0.340000\n"
          ],
          "name": "stdout"
        }
      ]
    },
    {
      "cell_type": "code",
      "metadata": {
        "id": "cDZT8xVXrTcs",
        "outputId": "c6c01c48-c6b2-49f1-b9fc-a3fca4af23d2",
        "colab": {
          "base_uri": "https://localhost:8080/",
          "height": 397
        }
      },
      "source": [
        "# Visualize the learned weights for each class\n",
        "w = best_softmax.W[:-1,:] # strip out the bias\n",
        "w = w.reshape(32, 32, 3, 10)\n",
        "\n",
        "w_min, w_max = np.min(w), np.max(w)\n",
        "\n",
        "classes = ['plane', 'car', 'bird', 'cat', 'deer', 'dog', 'frog', 'horse', 'ship', 'truck']\n",
        "for i in range(10):\n",
        "    plt.subplot(2, 5, i + 1)\n",
        "    \n",
        "    # Rescale the weights to be between 0 and 255\n",
        "    wimg = 255.0 * (w[:, :, :, i].squeeze() - w_min) / (w_max - w_min)\n",
        "    plt.imshow(wimg.astype('uint8'))\n",
        "    plt.axis('off')\n",
        "    plt.title(classes[i])"
      ],
      "execution_count": 14,
      "outputs": [
        {
          "output_type": "display_data",
          "data": {
            "image/png": "[encoded data removed]",
            "text/plain": [
              "<Figure size 720x576 with 10 Axes>"
            ]
          },
          "metadata": {
            "tags": [],
            "needs_background": "light"
          }
        }
      ]
    },
    {
      "cell_type": "code",
      "metadata": {
        "id": "WIFxSzDcrWwB"
      },
      "source": [
        ""
      ],
      "execution_count": null,
      "outputs": []
    }
  ]
}