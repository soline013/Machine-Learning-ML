{
  "nbformat": 4,
  "nbformat_minor": 0,
  "metadata": {
    "colab": {
      "name": "Reinforcement-Q-Learning_pytorch.ipynb",
      "provenance": [],
      "collapsed_sections": [
        "n1Ik_4OlojkK",
        "rSJdizAXw4h9",
        "E4Ql3o3R4z3I",
        "HfC-19u642Lp",
        "zrvi0qjV4vfJ",
        "i48dvwbgw3rv",
        "LSk40OVQ4m71",
        "TXVgNXa-4qrt"
      ],
      "authorship_tag": "ABX9TyPgXr3PtAEBqWk0T46Y5Rpk",
      "include_colab_link": true
    },
    "kernelspec": {
      "name": "python3",
      "display_name": "Python 3"
    },
    "accelerator": "GPU"
  },
  "cells": [
    {
      "cell_type": "markdown",
      "metadata": {
        "id": "view-in-github",
        "colab_type": "text"
      },
      "source": [
        "<a href=\"https://colab.research.google.com/github/soline013/Machine-Learning-ML/blob/master/Reinforcement-Learning/Reinforcement_Q_Learning_pytorch.ipynb\" target=\"_parent\"><img src=\"https://colab.research.google.com/assets/colab-badge.svg\" alt=\"Open In Colab\"/></a>"
      ]
    },
    {
      "cell_type": "markdown",
      "metadata": {
        "id": "X0KZllbBnKg-"
      },
      "source": [
        "# Reinforcement Q Learning CartPole"
      ]
    },
    {
      "cell_type": "markdown",
      "metadata": {
        "id": "8MdOqpcQnSCg"
      },
      "source": [
        "[Pytorch Tutorials Reinforcement Q Learning](https://pytorch.org/tutorials/intermediate/reinforcement_q_learning.html)"
      ]
    },
    {
      "cell_type": "markdown",
      "metadata": {
        "id": "gJ6EgloznjtU"
      },
      "source": [
        "## Import\n",
        "\n",
        "**pip**\n",
        "\n",
        "`PyOpenGL` : Python에서 OpenGL을 사용할 수 있는 pip.\n",
        "\n",
        "`PyOpenGL-accelerate` : 하드웨어 가속을 위한 pip.\n",
        "\n",
        "`pyvirtualdisplay` : Display와 관련된 pip.\n",
        "\n",
        "`gym` : OpenAI의 Gym을 사용할 수 있도록 하는 pip.\n",
        "\n",
        "`piglet`\n",
        "\n",
        "---\n",
        "\n",
        "**apt-get**\n",
        "\n",
        "`python-opengl` : 마찬가지로 OpenGL를 사용할 수 있다.\n",
        "\n",
        "`xvfb` : 가상 Live Server를 사용할 수 있다."
      ]
    },
    {
      "cell_type": "code",
      "metadata": {
        "colab": {
          "base_uri": "https://localhost:8080/"
        },
        "id": "Ia1A4IGjnJ9U",
        "outputId": "7062dd70-d8d8-4f68-e177-aba08acae95a"
      },
      "source": [
        "!apt-get install python-opengl -y\n",
        "!apt install xvfb -y\n",
        "!pip install pyvirtualdisplay\n",
        "!pip install piglet"
      ],
      "execution_count": 1,
      "outputs": [
        {
          "output_type": "stream",
          "text": [
            "Reading package lists... Done\n",
            "Building dependency tree       \n",
            "Reading state information... Done\n",
            "python-opengl is already the newest version (3.1.0+dfsg-1).\n",
            "0 upgraded, 0 newly installed, 0 to remove and 29 not upgraded.\n",
            "Reading package lists... Done\n",
            "Building dependency tree       \n",
            "Reading state information... Done\n",
            "xvfb is already the newest version (2:1.19.6-1ubuntu4.8).\n",
            "0 upgraded, 0 newly installed, 0 to remove and 29 not upgraded.\n",
            "Requirement already satisfied: pyvirtualdisplay in /usr/local/lib/python3.7/dist-packages (2.1)\n",
            "Requirement already satisfied: EasyProcess in /usr/local/lib/python3.7/dist-packages (from pyvirtualdisplay) (0.3)\n",
            "Requirement already satisfied: piglet in /usr/local/lib/python3.7/dist-packages (1.0.0)\n",
            "Requirement already satisfied: piglet-templates in /usr/local/lib/python3.7/dist-packages (from piglet) (1.1.0)\n",
            "Requirement already satisfied: attrs in /usr/local/lib/python3.7/dist-packages (from piglet-templates->piglet) (20.3.0)\n",
            "Requirement already satisfied: astunparse in /usr/local/lib/python3.7/dist-packages (from piglet-templates->piglet) (1.6.3)\n",
            "Requirement already satisfied: Parsley in /usr/local/lib/python3.7/dist-packages (from piglet-templates->piglet) (1.3)\n",
            "Requirement already satisfied: markupsafe in /usr/local/lib/python3.7/dist-packages (from piglet-templates->piglet) (1.1.1)\n",
            "Requirement already satisfied: six<2.0,>=1.6.1 in /usr/local/lib/python3.7/dist-packages (from astunparse->piglet-templates->piglet) (1.15.0)\n",
            "Requirement already satisfied: wheel<1.0,>=0.23.0 in /usr/local/lib/python3.7/dist-packages (from astunparse->piglet-templates->piglet) (0.36.2)\n"
          ],
          "name": "stdout"
        }
      ]
    },
    {
      "cell_type": "code",
      "metadata": {
        "id": "OwxsxMdknj-a"
      },
      "source": [
        "import gym\n",
        "import math\n",
        "import random\n",
        "import numpy as np\n",
        "import matplotlib\n",
        "import matplotlib.pyplot as plt\n",
        "import glob #For show_video.\n",
        "import io #For show_video.\n",
        "import base64 #For show_video.\n",
        "\n",
        "import torch\n",
        "import torch.nn as nn\n",
        "import torch.optim as optim\n",
        "import torch.nn.functional as F\n",
        "import torchvision.transforms as T\n",
        "\n",
        "from gym import logger as gymlogger\n",
        "from gym.wrappers import Monitor #For show_video.\n",
        "gymlogger.set_level(40)\n",
        "from IPython.display import HTML #For show_video.\n",
        "from IPython import display as ipythondisplay #For show_video.\n",
        "from collections import namedtuple\n",
        "from itertools import count\n",
        "from PIL import Image\n",
        "\n",
        "#env = gym.make('CartPole-v0').unwrapped\n",
        "\n",
        "#Set Up Matplotlib.\n",
        "is_ipython = 'inline' in matplotlib.get_backend()\n",
        "if is_ipython:\n",
        "    from IPython import display as ipythondisplay\n",
        "\n",
        "%matplotlib inline\n",
        "plt.ion()\n",
        "\n",
        "device = torch.device(\"cuda\" if torch.cuda.is_available() else \"cpu\")"
      ],
      "execution_count": 2,
      "outputs": []
    },
    {
      "cell_type": "code",
      "metadata": {
        "colab": {
          "base_uri": "https://localhost:8080/"
        },
        "id": "Kpr3TmwtoweN",
        "outputId": "351f7dc4-760c-4d62-9a72-eab3b7123b93"
      },
      "source": [
        "#Make Display.\n",
        "from pyvirtualdisplay import Display\n",
        "display = Display(visible=0, size=(1400, 900))\n",
        "display.start()"
      ],
      "execution_count": 3,
      "outputs": [
        {
          "output_type": "execute_result",
          "data": {
            "text/plain": [
              "<pyvirtualdisplay.display.Display at 0x7f1143510390>"
            ]
          },
          "metadata": {
            "tags": []
          },
          "execution_count": 3
        }
      ]
    },
    {
      "cell_type": "code",
      "metadata": {
        "colab": {
          "base_uri": "https://localhost:8080/"
        },
        "id": "9kHgFMO0uZE4",
        "outputId": "974926b6-ece5-4b57-b020-dc55952a44f7"
      },
      "source": [
        "def wrap_env(env):\n",
        "    env = Monitor(env, './video', force=True)\n",
        "    return env\n",
        "\n",
        "#env = gym.make('CartPole-v0').unwrapped #For Animation And plot_durations.\n",
        "env = wrap_env(gym.make('CartPole-v0')) #For Video.\n",
        "print(env.action_space)"
      ],
      "execution_count": 4,
      "outputs": [
        {
          "output_type": "stream",
          "text": [
            "Discrete(2)\n"
          ],
          "name": "stdout"
        }
      ]
    },
    {
      "cell_type": "markdown",
      "metadata": {
        "id": "fMuLYAsQo3Lf"
      },
      "source": [
        "## Replay Memory"
      ]
    },
    {
      "cell_type": "markdown",
      "metadata": {
        "id": "gOA_pnmV0DEx"
      },
      "source": [
        "Save transitions that the agent observes, and reuse this data later.\n",
        "\n",
        "By sampling from it randomly, the transitions that build up a batch are decorrelated.\n",
        "\n",
        "It stabilizes and improves the DQN training procedure.\n",
        "\n",
        "---\n",
        "\n",
        "`Transition` : A tuple represent a single transition. The state is the screen difference image. Map (State, Action) pairs to (Next_state, Reward).\n",
        "\n",
        "`ReplayMemory` : A cyclic buffer of bounded size that holds the transitions observed recently. `.sample()` method for selecting a random batch of transitions for training."
      ]
    },
    {
      "cell_type": "code",
      "metadata": {
        "id": "gllddQmnQ50K"
      },
      "source": [
        "Transition = namedtuple('Transition', ('state', 'action', 'next_state', 'reward'))\n",
        "\n",
        "class ReplayMemory(object):\n",
        "  def __init__(self, capacity):\n",
        "    self.capacity = capacity\n",
        "    self.memory = []\n",
        "    self.position = 0\n",
        "\n",
        "  def push(self, *args):\n",
        "    \"\"\"Save Transition\"\"\"\n",
        "    if len(self.memory) < self.capacity:\n",
        "      self.memory.append(None)\n",
        "    self.memory[self.position] = Transition(*args)\n",
        "    self.position = (self.position + 1) % self.capacity\n",
        "\n",
        "  def sample(self, batch_size):\n",
        "    return random.sample(self.memory, batch_size)\n",
        "\n",
        "  def __len__(self):\n",
        "    return len(self.memory)"
      ],
      "execution_count": 5,
      "outputs": []
    },
    {
      "cell_type": "markdown",
      "metadata": {
        "id": "mdkn5WaVSDqL"
      },
      "source": [
        "## DQN Algorithm"
      ]
    },
    {
      "cell_type": "code",
      "metadata": {
        "id": "k_iGBD3rSG3O"
      },
      "source": [
        "class DQN(nn.Module):\n",
        "  def __init__(self, h, w, outputs):\n",
        "    super(DQN, self).__init__()\n",
        "    self.conv1 = nn.Conv2d(3, 16, kernel_size=5, stride=2)\n",
        "    self.bn1 = nn.BatchNorm2d(16)\n",
        "    self.conv2 = nn.Conv2d(16, 32, kernel_size=5, stride=2)\n",
        "    self.bn2 = nn.BatchNorm2d(32)\n",
        "    self.conv3 = nn.Conv2d(32, 32, kernel_size=5, stride=2)\n",
        "    self.bn3 = nn.BatchNorm2d(32)\n",
        "\n",
        "    '''\n",
        "    Number of linear input connections depends on output & input of conv2d layers.\n",
        "    Compute Number of Linear Input Connections.\n",
        "    '''\n",
        "    def conv2d_size_out(size, kernel_size=5, stride=2):\n",
        "      return (size - (kernel_size - 1) - 1) // stride + 1\n",
        "    \n",
        "    convw = conv2d_size_out(conv2d_size_out(conv2d_size_out(w)))\n",
        "    convh = conv2d_size_out(conv2d_size_out(conv2d_size_out(h)))\n",
        "    linear_input_size = convw * convh * 32\n",
        "    self.head = nn.Linear(linear_input_size, outputs)\n",
        "\n",
        "  '''\n",
        "  Called with either one element to determine next action, or a batch during optimization.\n",
        "  Return Tensor([[left0expm right0exp] ... ]).\n",
        "  '''\n",
        "  def forward(self, x):\n",
        "    x = F.relu(self.bn1(self.conv1(x)))\n",
        "    x = F.relu(self.bn2(self.conv2(x)))\n",
        "    x = F.relu(self.bn3(self.conv3(x)))\n",
        "    return self.head(x.view(x.size(0), -1))"
      ],
      "execution_count": 6,
      "outputs": []
    },
    {
      "cell_type": "markdown",
      "metadata": {
        "id": "NY9Yr6pknzb1"
      },
      "source": [
        "## Input Extraction"
      ]
    },
    {
      "cell_type": "markdown",
      "metadata": {
        "id": "EAxqlXsy-mRn"
      },
      "source": [
        "Utilities for extracting and processing rendered images from the environment.\n",
        "\n",
        "It uses the `torchvistion`."
      ]
    },
    {
      "cell_type": "code",
      "metadata": {
        "colab": {
          "base_uri": "https://localhost:8080/",
          "height": 267
        },
        "id": "9FyyrLnTny1e",
        "outputId": "26f741c0-ecbf-4bb3-8804-d1f31beceb85"
      },
      "source": [
        "resize = T.Compose([T.ToPILImage(),\n",
        "                    T.Resize(40, interpolation=Image.CUBIC),\n",
        "                    T.ToTensor()])\n",
        "\n",
        "def get_cart_location(screen_width):\n",
        "  world_width = env.x_threshold * 2\n",
        "  scale = screen_width / world_width\n",
        "  return int(env.state[0] * scale + screen_width / 2.0)\n",
        "\n",
        "def get_screen():\n",
        "  #Gym Screen: 400x600x3.\n",
        "  #Larger Such As 800x1200x3, Transpose Torch Order (CHW).\n",
        "  screen = env.render(mode='rgb_array').transpose((2, 0, 1))\n",
        "\n",
        "  #Strip Off the Top And Bottom.\n",
        "  _, screen_height, screen_width = screen.shape\n",
        "  screen = screen[:, int(screen_height * 0.4):int(screen_height * 0.8)]\n",
        "  view_width = int(screen_width * 0.6)\n",
        "  cart_location = get_cart_location(screen_width)\n",
        "  if cart_location < view_width // 2:\n",
        "    slice_range = slice(view_width)\n",
        "  elif cart_location > (screen_width - view_width // 2):\n",
        "    slice_range = slice(-view_width, None)\n",
        "  else:\n",
        "    slice_range = slice(cart_location - view_width // 2,\n",
        "                        cart_location + view_width //2)\n",
        "  \n",
        "  #Strip Off the Edges. Square Image Centered on A Cart.\n",
        "  screen = screen[:, :, slice_range]\n",
        "\n",
        "  #Convert to Float. Rescale. Convert to Torch Tensor.\n",
        "  screen = np.ascontiguousarray(screen, dtype=np.float32) / 255\n",
        "  screen = torch.from_numpy(screen)\n",
        "\n",
        "  #Resize And Add A Batch Dimension(BCHW).\n",
        "  return resize(screen).unsqueeze(0).to(device)\n",
        "\n",
        "env.reset()\n",
        "plt.figure()\n",
        "plt.imshow(get_screen().cpu().squeeze(0).permute(1, 2, 0).numpy(),\n",
        "           interpolation='none')\n",
        "plt.title('Example extracted screen')\n",
        "plt.show()"
      ],
      "execution_count": 7,
      "outputs": [
        {
          "output_type": "stream",
          "text": [
            "/usr/local/lib/python3.7/dist-packages/torchvision/transforms/transforms.py:258: UserWarning: Argument interpolation should be of type InterpolationMode instead of int. Please, use InterpolationMode enum.\n",
            "  \"Argument interpolation should be of type InterpolationMode instead of int. \"\n"
          ],
          "name": "stderr"
        },
        {
          "output_type": "display_data",
          "data": {
            "image/png": "[encoded data removed]",
            "text/plain": [
              "<Figure size 432x288 with 1 Axes>"
            ]
          },
          "metadata": {
            "tags": [],
            "needs_background": "light"
          }
        }
      ]
    },
    {
      "cell_type": "markdown",
      "metadata": {
        "id": "B29jyV-spVVF"
      },
      "source": [
        "## Determening How to Show"
      ]
    },
    {
      "cell_type": "markdown",
      "metadata": {
        "id": "85svzscAueMB"
      },
      "source": [
        "### Show Video"
      ]
    },
    {
      "cell_type": "code",
      "metadata": {
        "id": "J1THUkwSugCr"
      },
      "source": [
        "def show_video():\n",
        "  for i in env.videos:\n",
        "    #mp4_list = glob.glob('video/*.mp4')\n",
        "    #if mp4_list:\n",
        "    #mp4 = mp4_list[0]\n",
        "    video = open(i[0], 'r+b').read()\n",
        "    encoded = base64.b64encode(video)\n",
        "    ipythondisplay.display(HTML(data='''\n",
        "      <video alt=\"gameplay\" autoplay controls style=\"height: 400px;\">\n",
        "        <source src=\"data:video/mp4;base64,%s\" type=\"video/mp4\" />\n",
        "      </video>\n",
        "    ''' % (encoded.decode('ascii'))))\n",
        "  else:\n",
        "    print('No video found')"
      ],
      "execution_count": 9,
      "outputs": []
    },
    {
      "cell_type": "markdown",
      "metadata": {
        "id": "ewJqxR-XRid8"
      },
      "source": [
        "### Show Animation"
      ]
    },
    {
      "cell_type": "code",
      "metadata": {
        "id": "WkV2RqTjRX3A"
      },
      "source": [
        "def show_animation():\n",
        "  #plt.figure(1)\n",
        "  #plt.clf()\n",
        "  img = plt.imshow(env.render('rgb_array')) #Only Call This Once.\n",
        "  img.set_data(env.render('rgb_array')) #Just Update the Data.\n",
        "  ipythondisplay.display(plt.gcf())\n",
        "  ipythondisplay.clear_output(wait=True)"
      ],
      "execution_count": 10,
      "outputs": []
    },
    {
      "cell_type": "markdown",
      "metadata": {
        "id": "h35-9kQCkbcp"
      },
      "source": [
        "### Show Both"
      ]
    },
    {
      "cell_type": "code",
      "metadata": {
        "id": "NiN-g2b7kaGs"
      },
      "source": [
        "def show_both():\n",
        "  plt.subplot(1, 2, 1)\n",
        "  durations_t = torch.tensor(episode_durations, dtype=torch.float)\n",
        "  plt.title('Training...')\n",
        "  plt.xlabel('Episode')\n",
        "  plt.ylabel('Duration')\n",
        "  plt.plot(durations_t.numpy())\n",
        "  if len(durations_t) >= 100:\n",
        "    means = durations_t.unfold(0, 100, 1).mean(1).view(-1)\n",
        "    means = torch.cat((torch.zeros(99), means))\n",
        "    plt.plot(means.numpy())\n",
        "  \n",
        "  plt.subplot(1, 2, 2)\n",
        "  img = plt.imshow(env.render('rgb_array'))\n",
        "  img.set_data(env.render('rgb_array'))\n",
        "\n",
        "  ipythondisplay.display(plt.gcf())\n",
        "  ipythondisplay.clear_output(wait=True)"
      ],
      "execution_count": 11,
      "outputs": []
    },
    {
      "cell_type": "markdown",
      "metadata": {
        "id": "0ddQqPS_yGHM"
      },
      "source": [
        "## Training"
      ]
    },
    {
      "cell_type": "code",
      "metadata": {
        "id": "01JGbYOvyKAK"
      },
      "source": [
        "BATCH_SIZE = 128\n",
        "GAMMA = 0.999\n",
        "EPS_START = 0.9\n",
        "EPS_END = 0.05\n",
        "EPS_DECAY = 200\n",
        "TARGET_UPDATE = 10"
      ],
      "execution_count": 12,
      "outputs": []
    },
    {
      "cell_type": "code",
      "metadata": {
        "id": "Sfo3FyfayZTf"
      },
      "source": [
        "# Get screen size so that we can initialize layers correctly based on shape\n",
        "# returned from AI gym. Typical dimensions at this point are close to 3x40x90\n",
        "# which is the result of a clamped and down-scaled render buffer in get_screen()\n",
        "init_screen = get_screen()\n",
        "_, _, screen_height, screen_width = init_screen.shape\n",
        "\n",
        "#Get Number of Actions From Gym Action Space.\n",
        "n_actions = env.action_space.n\n",
        "\n",
        "policy_net = DQN(screen_height, screen_width, n_actions).to(device)\n",
        "target_net = DQN(screen_height, screen_width, n_actions).to(device)\n",
        "target_net.load_state_dict(policy_net.state_dict())\n",
        "target_net.eval()\n",
        "\n",
        "optimizer = optim.RMSprop(policy_net.parameters())\n",
        "memory = ReplayMemory(10000)\n",
        "\n",
        "steps_done = 0\n",
        "\n",
        "def select_action(state):\n",
        "    global steps_done\n",
        "    sample = random.random()\n",
        "    eps_threshold = EPS_END + (EPS_START - EPS_END) * \\\n",
        "      math.exp(-1. * steps_done / EPS_DECAY)\n",
        "    steps_done += 1\n",
        "    if sample > eps_threshold:\n",
        "      with torch.no_grad():\n",
        "        #t.max(1) returns largest column value of each row.\n",
        "        #Second Column on Max Result = Index of Where Max Element.\n",
        "        #We can pick action that the larger expected reward.\n",
        "        return policy_net(state).max(1)[1].view(1, 1)\n",
        "    else:\n",
        "      return torch.tensor([[random.randrange(n_actions)]], device=device, dtype=torch.long)\n",
        "\n",
        "episode_durations = []\n",
        "\n",
        "def plot_durations():\n",
        "    plt.figure(2)\n",
        "    plt.clf()\n",
        "    durations_t = torch.tensor(episode_durations, dtype=torch.float)\n",
        "    plt.title('Training...')\n",
        "    plt.xlabel('Episode')\n",
        "    plt.ylabel('Duration')\n",
        "    plt.plot(durations_t.numpy())\n",
        "\n",
        "    #Take 100 Episode Averages And Plot Them.\n",
        "    if len(durations_t) >= 100:\n",
        "      means = durations_t.unfold(0, 100, 1).mean(1).view(-1)\n",
        "      means = torch.cat((torch.zeros(99), means))\n",
        "      plt.plot(means.numpy())\n",
        "    \n",
        "    #plt.pause(0.001)\n",
        "    if is_ipython:\n",
        "      ipythondisplay.display(plt.gcf())\n",
        "      ipythondisplay.clear_output(wait=True)"
      ],
      "execution_count": 13,
      "outputs": []
    },
    {
      "cell_type": "markdown",
      "metadata": {
        "id": "UrJYS-dkHMLg"
      },
      "source": [
        "## Training Loop"
      ]
    },
    {
      "cell_type": "code",
      "metadata": {
        "id": "PaabPhApHN_p"
      },
      "source": [
        "def optimize_model():\n",
        "  if len(memory) < BATCH_SIZE:\n",
        "    return\n",
        "  transitions = memory.sample(BATCH_SIZE)\n",
        "\n",
        "  #Transpose the Batch.\n",
        "  #Convert Batch-array of Transitions to Transitions of Batch-arrays.\n",
        "  #https://stackoverflow.com/a/19343/3343043.\n",
        "  batch = Transition(*zip(*transitions))\n",
        "\n",
        "  # > Compute a mask of non-final states and concatenate the batch elements\n",
        "  # > (a final state would've been the one after which simulation ended)\n",
        "  non_final_mask = torch.tensor(tuple(map(lambda s: s is not None,\n",
        "                                          batch.next_state)),\n",
        "                                device=device, dtype=torch.bool)\n",
        "  non_final_next_states = torch.cat([s for s in batch.next_state if s is not None])\n",
        "  \n",
        "  state_batch = torch.cat(batch.state)\n",
        "  action_batch = torch.cat(batch.action)\n",
        "  reward_batch = torch.cat(batch.reward)\n",
        "\n",
        "  #Compute Q(s_t, a). The Model Computes Q(s_t), Select the Columns of Actions.\n",
        "  # > These are the actions which would've been taken for each batch state according to policy_net\n",
        "  state_action_values = policy_net(state_batch).gather(1, action_batch)\n",
        "\n",
        "  #Compute V(s_{t+1}) For All Next States.\n",
        "  #Expected values of actions are computed based on the older target_net.\n",
        "  #Selecting Best Reward With max(1)[0].\n",
        "  # > This is merged based on the mask, such that we'll have either the expected\n",
        "  # > state value or 0 in case the state was final.\n",
        "  next_state_values = torch.zeros(BATCH_SIZE, device=device)\n",
        "  next_state_values[non_final_mask] = target_net(non_final_next_states).max(1)[0].detach()\n",
        "  \n",
        "  #Compute the Expected Q Values.\n",
        "  expected_state_action_values = (next_state_values * GAMMA) + reward_batch\n",
        "\n",
        "  #Compute Huber Loss.\n",
        "  loss = F.smooth_l1_loss(state_action_values, expected_state_action_values.unsqueeze(1))\n",
        "\n",
        "  #Optimize the Model.\n",
        "  optimizer.zero_grad()\n",
        "  loss.backward()\n",
        "  for param in policy_net.parameters():\n",
        "    param.grad.data.clamp_(-1, 1)\n",
        "  optimizer.step()"
      ],
      "execution_count": 14,
      "outputs": []
    },
    {
      "cell_type": "code",
      "metadata": {
        "colab": {
          "base_uri": "https://localhost:8080/",
          "height": 1000
        },
        "id": "ZtQrj0j8LrNi",
        "outputId": "0bfcbe24-0430-4a24-cc16-1a8838b6841a"
      },
      "source": [
        "num_episodes = 100 #50.\n",
        "for i_episode in range(num_episodes):\n",
        "\n",
        "    #Initialize the Environment And State.\n",
        "    env.reset()\n",
        "    last_screen = get_screen()\n",
        "    current_screen = get_screen()\n",
        "    state = current_screen - last_screen\n",
        "    for t in count():\n",
        "        #Select And Perform an Action.\n",
        "        action = select_action(state)\n",
        "        _, reward, done, _ = env.step(action.item())\n",
        "        reward = torch.tensor([reward], device=device)\n",
        "\n",
        "        #Observe New State.\n",
        "        last_screen = current_screen\n",
        "        current_screen = get_screen()\n",
        "        if not done:\n",
        "            next_state = current_screen - last_screen\n",
        "        else:\n",
        "            next_state = None\n",
        "\n",
        "        #Store the Transition in Memory.\n",
        "        memory.push(state, action, next_state, reward)\n",
        "\n",
        "        #Move to the Next State.\n",
        "        state = next_state\n",
        "\n",
        "        #Perform One Step of the Optimization. (On the Target Network.)\n",
        "        optimize_model()\n",
        "        if done:\n",
        "          episode_durations.append(t + 1)\n",
        "          #plot_durations()\n",
        "          #show_animation()\n",
        "          show_both()\n",
        "          break\n",
        "\n",
        "    #Update the Target Network. Copy All Weights And Biases in DQN.\n",
        "    if i_episode % TARGET_UPDATE == 0:\n",
        "        target_net.load_state_dict(policy_net.state_dict())\n",
        "\n",
        "show_video()\n",
        "\n",
        "print('Complete')\n",
        "env.render()\n",
        "env.close()\n",
        "plt.ioff()\n",
        "plt.show()"
      ],
      "execution_count": 15,
      "outputs": [
        {
          "output_type": "display_data",
          "data": {
            "text/html": [
              "\n",
              "      <video alt=\"gameplay\" autoplay controls style=\"height: 400px;\">\n",
              "        <source src=\"data:video/mp4;base64,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\" type=\"video/mp4\" />\n",
              "      </video>\n",
              "    "
            ],
            "text/plain": [
              "<IPython.core.display.HTML object>"
            ]
          },
          "metadata": {
            "tags": []
          }
        },
        {
          "output_type": "display_data",
          "data": {
            "text/html": [
              "\n",
              "      <video alt=\"gameplay\" autoplay controls style=\"height: 400px;\">\n",
              "        <source src=\"data:video/mp4;base64,AAAAIGZ0eXBpc29tAAACAGlzb21pc28yYXZjMW1wNDEAAAAIZnJlZQAAC0RtZGF0AAACrgYF//+q3EXpvebZSLeWLNgg2SPu73gyNjQgLSBjb3JlIDE1MiByMjg1NCBlOWE1OTAzIC0gSC4yNjQvTVBFRy00IEFWQyBjb2RlYyAtIENvcHlsZWZ0IDIwMDMtMjAxNyAtIGh0dHA6Ly93d3cudmlkZW9sYW4ub3JnL3gyNjQuaHRtbCAtIG9wdGlvbnM6IGNhYmFjPTEgcmVmPTMgZGVibG9jaz0xOjA6MCBhbmFseXNlPTB4MzoweDExMyBtZT1oZXggc3VibWU9NyBwc3k9MSBwc3lfcmQ9MS4wMDowLjAwIG1peGVkX3JlZj0xIG1lX3JhbmdlPTE2IGNocm9tYV9tZT0xIHRyZWxsaXM9MSA4eDhkY3Q9MSBjcW09MCBkZWFkem9uZT0yMSwxMSBmYXN0X3Bza2lwPTEgY2hyb21hX3FwX29mZnNldD0tMiB0aHJlYWRzPTMgbG9va2FoZWFkX3RocmVhZHM9MSBzbGljZWRfdGhyZWFkcz0wIG5yPTAgZGVjaW1hdGU9MSBpbnRlcmxhY2VkPTAgYmx1cmF5X2NvbXBhdD0wIGNvbnN0cmFpbmVkX2ludHJhPTAgYmZyYW1lcz0zIGJfcHlyYW1pZD0yIGJfYWRhcHQ9MSBiX2JpYXM9MCBkaXJlY3Q9MSB3ZWlnaHRiPTEgb3Blbl9nb3A9MCB3ZWlnaHRwPTIga2V5aW50PTI1MCBrZXlpbnRfbWluPTI1IHNjZW5lY3V0PTQwIGludHJhX3JlZnJlc2g9MCByY19sb29rYWhlYWQ9NDAgcmM9Y3JmIG1idHJlZT0xIGNyZj0yMy4wIHFjb21wPTAuNjAgcXBtaW49MCBxcG1heD02OSBxcHN0ZXA9NCBpcF9yYXRpbz0xLjQwIGFxPTE6MS4wMACAAAACCWWIhAAv//72rvzLK0cLlS4dWXuzUfLoSXL9iDB9aAAAAwAAAwAAJuKiZ0WFMeJsgAAALmAIWElDyDzETFWKgSxBvXL5YoysGrEqSKcUyNu4AKTnPbLWpY9RB0/Bnt7x+OFFB6R9vow3tGzoqn0zLxiWUM3xc0poZN9w8Aq/+FUe8OGdt89DBrEhmRWJlrSI39GYOCduPbjMcoQbnppWEP8HG9CcNJxareeuu4FZtDvNVry9K4KPktslmp8CEn7wr4ObKVhTYta7cbh9N8LrxfQibG5139TZl5oj/M4FhryBlRk+E4QhiAFJxtl+JhxeVCvncWntgb2KgZgyF3s4luiCAS6thcnQCcCHf9t0z1KB4VBS/5uZXhfIdIr+pgwAOpALG/eK1TnbfJXg1AKZdvvviqFsJ097DWM7v3Zrx3tOYJQRMyV72MY05LGysev0/aA4PhA9S52LM8UOtFbAqaJS2E7jw9iaIpqb5tgZUCnhQ9zNeFW0hYs7vACzmBe+bDlvmXInjqUaB2eccBXDcpztHIlg9nmIxuOd+NzEz82qz3+Qv//U4j71HgJbKpHH+COhIXH72pduax8n47GBuCt3dvak/G1BhP/+UAQCO3AS/eqAj2pO/tSZl5nzGMDmLEuvXNdNMavKaZbwrPtgLsz00gcYf4c8F7tHTKLiJ4AAAAMAAAMAAEvBAAAAvkGaJGxC//6MsAAARgpxBACPVaNo9ZM0rJXSmhN+9ctWA3YcO28Gaq9azKz/AUIn0TBzcnoQvLt0EMa3n4GTu6YvFX2EIo1zMjR0UwkvaqJaUTfnMcoEW+VkfJjAJtvf/etqa5ekBscoxWQQx6ovTJ8r7zS5KMSq8KUqN6Ykg3ud48Fd8RxmnJxfmBVuCceb/5zuXc4kjOczuHYwG68aYKsg3wo+NUVt1bwc1kUQABbOlKS0jWjRfLRbTFCFQoAAAABWQZ5CeIR/AAAWvmFLeJHBIewezqavEbuWxHqJgZv/3SA+4kcKXRVXgQAP3Mdsb977/K7P6iWGYWv/yR6QZk4wjiL+ZYCwhsJQAAADAGrGuHeg5U8IDZkAAAA0AZ5hdEf/AAANh6xV3Cj1EZ2gIQCVzIJq++XVI9sM3J8iPXtNAAADAAADABFWJ1+EJVAPmAAAAEABnmNqR/8AACOyPL9Px2W05DhxAxOeID9IjYGJcm8smtpNSHSoAGz6wTZnyn+ilQig/LAEbAAABtEsLO4SqAfNAAAAQ0GaZUmoQWiZTAhf//6MsAAAG04TpNSUicwAfW6OrdlSsS+z5WnIf3Rx7ZO6JwHED+s0uS/VFug1/uDNT27iJO9r3cEAAACFQZqJSeEKUmUwIX/+jLAAAEY3rpUrV3ZVE9WW8WACH6edeDDDQ0XXwWCicXs0xizP93fx0a+iwdE7I0LFpo4UOzPofyawNjfLRmAz7wfLuHs+vSWWvAUs2n4vsD2IiRqModU6BCprl/LptZzROfqrPb1zIno5FPRdsLhBlhzZURVmwaZL3QAAAEhBnqdFNEwj/wAAFrNIh9g+uT9enUNeC7OPj/iZIWnu8bWPOgSFEiWxMpgAlUdOnYOMN2Ggk/j96851T8qGXnEDjjUqBN+QyG8AAAAtAZ7GdEf/AAAjwznkZS/iCcG94SARwvJZH0wn2jJwZ/RbEL55g93Xk6CMEVqYAAAANQGeyGpH/wAAI78bPoo72ElH8wajZR9tZsd1I3mrea5LYdV29iraEmK5f/tnxTvezA74RoTcAAAAlkGazUmoQWiZTAhX//44QAABFPGjzOvSnLeAIhxvxoJViMSkN/Od2Xw+RoVDx15XaKy3MkoXSXaPBUPwnZoQBbpRNsQo81JAlzdqUOuMrJwjzFln9F1az9WRGbYP6/hOiVeGdJHjXKfM+uX1dZOd+Yyee2a5rNLfafLkICFMWv4+4NedbP6vseh5uWjS2wTzXAPTQYLJgQAAAF9BnutFESwj/wAAF0NGP+kSAEW3b4UtfJ1u4Jp9YZ/c87P2G9htzzvxzdp09XSQNTN/BYadOohuzY+RrsgEM/I/eX1KJLUvIXZzFradtY5+5HuQIEZ+J/6B9CnjgsmpgAAAAEIBnwp0R/8AACSp54Y3yne6dI7nc4fh2eMKtNNpOwu2/AA9EIwsxb+F5h9SMkNO374aBs/nIZnWryiXYeNdDvTS7TcAAAA+AZ8Makf/AAAk1SEAOhRfy0BxIxqkFmh/9mvzHDDu6FyBiJz+qNB/khEsimwGntNy6J6Fms5XUFagnVawAh8AAACcQZsQSahBbJlMCEf//eEAAAQzXVSNL7dvkv+X0CiPSGPHoPLSbLNqeR106eADddSnJXlUSGqxSX0SuD8LmM/hdvNC3+/2XE42mxUz+KGKPlrZFdPuAzgv6HTxNQHvmZs0CV/rcVNFTERbahx/bwdyi51xe56xi+yIrMJb+wCRT7UyBwUM2SWNYttTcYDLfIzMMo0fc8u7hG1WgspBAAAAZEGfLkUVLCP/AAAXS8ypADjMX45qIVuhphuTG5rYVixWvCIzWt/bVvHKY6o09lX+natEqADElHODKpY5o35rjAPiN1L4zLlrvjLHhYp49WU32PZy+dejKY8IyszlVHtDqgsWTFkAAABJAZ9Pakf/AAAkrkk5ZsdjdXMKEX0EmPFYbOpzKkPJZh/ByJ68kDM4EAjZYDtbDek96PCCEcWsD9w9rcKAATE+cmU/AUZYkOTUwAAAAIFBm1FJqEFsmUwI//yEAAAQS6/XyBvhr5UYaACzuxc7FqhntSNukpJG55uLZOMkXQiueV/luPxocPSoRlREnAoymREjUYTM6dYUG0jSWOuAXEmqutK1K1Z/oQ6jbYy4/8wyW/9wYFTDPE5xRJ9+Ttu3uxhbMuPNv8Wt3Dn17iaE20AAAAPjbW9vdgAAAGxtdmhkAAAAAAAAAAAAAAAAAAAD6AAAAWgAAQAAAQAAAAAAAAAAAAAAAAEAAAAAAAAAAAAAAAAAAAABAAAAAAAAAAAAAAAAAABAAAAAAAAAAAAAAAAAAAAAAAAAAAAAAAAAAAAAAAAAAgAAAw10cmFrAAAAXHRraGQAAAADAAAAAAAAAAAAAAABAAAAAAAAAWgAAAAAAAAAAAAAAAAAAAAAAAEAAAAAAAAAAAAAAAAAAAABAAAAAAAAAAAAAAAAAABAAAAAAlgAAAGQAAAAAAAkZWR0cwAAABxlbHN0AAAAAAAAAAEAAAFoAAACAAABAAAAAAKFbWRpYQAAACBtZGhkAAAAAAAAAAAAAAAAAAAyAAAAEgBVxAAAAAAALWhkbHIAAAAAAAAAAHZpZGUAAAAAAAAAAAAAAABWaWRlb0hhbmRsZXIAAAACMG1pbmYAAAAUdm1oZAAAAAEAAAAAAAAAAAAAACRkaW5mAAAAHGRyZWYAAAAAAAAAAQAAAAx1cmwgAAAAAQAAAfBzdGJsAAAAmHN0c2QAAAAAAAAAAQAAAIhhdmMxAAAAAAAAAAEAAAAAAAAAAAAAAAAAAAAAAlgBkABIAAAASAAAAAAAAAABAAAAAAAAAAAAAAAAAAAAAAAAAAAAAAAAAAAAAAAAAAAAGP//AAAAMmF2Y0MBZAAf/+EAGWdkAB+s2UCYM+XhAAADAAEAAAMAZA8YMZYBAAZo6+PLIsAAAAAYc3R0cwAAAAAAAAABAAAAEgAAAQAAAAAUc3RzcwAAAAAAAAABAAAAAQAAAJhjdHRzAAAAAAAAABEAAAABAAACAAAAAAEAAAUAAAAAAQAAAgAAAAABAAAAAAAAAAEAAAEAAAAAAQAAAgAAAAABAAAFAAAAAAEAAAIAAAAAAQAAAAAAAAABAAABAAAAAAEAAAUAAAAAAQAAAgAAAAABAAAAAAAAAAEAAAEAAAAAAQAABAAAAAACAAABAAAAAAEAAAIAAAAAHHN0c2MAAAAAAAAAAQAAAAEAAAASAAAAAQAAAFxzdHN6AAAAAAAAAAAAAAASAAAEvwAAAMIAAABaAAAAOAAAAEQAAABHAAAAiQAAAEwAAAAxAAAAOQAAAJoAAABjAAAARgAAAEIAAACgAAAAaAAAAE0AAACFAAAAFHN0Y28AAAAAAAAAAQAAADAAAABidWR0YQAAAFptZXRhAAAAAAAAACFoZGxyAAAAAAAAAABtZGlyYXBwbAAAAAAAAAAAAAAAAC1pbHN0AAAAJal0b28AAAAdZGF0YQAAAAEAAAAATGF2ZjU3LjgzLjEwMA==\" type=\"video/mp4\" />\n",
              "      </video>\n",
              "    "
            ],
            "text/plain": [
              "<IPython.core.display.HTML object>"
            ]
          },
          "metadata": {
            "tags": []
          }
        },
        {
          "output_type": "display_data",
          "data": {
            "text/html": [
              "\n",
              "      <video alt=\"gameplay\" autoplay controls style=\"height: 400px;\">\n",
              "        <source src=\"data:video/mp4;base64,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\" type=\"video/mp4\" />\n",
              "      </video>\n",
              "    "
            ],
            "text/plain": [
              "<IPython.core.display.HTML object>"
            ]
          },
          "metadata": {
            "tags": []
          }
        },
        {
          "output_type": "display_data",
          "data": {
            "text/html": [
              "\n",
              "      <video alt=\"gameplay\" autoplay controls style=\"height: 400px;\">\n",
              "        <source src=\"data:video/mp4;base64,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\" type=\"video/mp4\" />\n",
              "      </video>\n",
              "    "
            ],
            "text/plain": [
              "<IPython.core.display.HTML object>"
            ]
          },
          "metadata": {
            "tags": []
          }
        },
        {
          "output_type": "display_data",
          "data": {
            "text/html": [
              "\n",
              "      <video alt=\"gameplay\" autoplay controls style=\"height: 400px;\">\n",
              "        <source src=\"data:video/mp4;base64,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\" type=\"video/mp4\" />\n",
              "      </video>\n",
              "    "
            ],
            "text/plain": [
              "<IPython.core.display.HTML object>"
            ]
          },
          "metadata": {
            "tags": []
          }
        },
        {
          "output_type": "stream",
          "text": [
            "No video found\n",
            "Complete\n"
          ],
          "name": "stdout"
        },
        {
          "output_type": "display_data",
          "data": {
            "image/png": "[encoded data removed]",
            "text/plain": [
              "<Figure size 432x288 with 2 Axes>"
            ]
          },
          "metadata": {
            "tags": [],
            "needs_background": "light"
          }
        }
      ]
    },
    {
      "cell_type": "markdown",
      "metadata": {
        "id": "E16vKeEuctfC"
      },
      "source": [
        "# Simple CartPole"
      ]
    },
    {
      "cell_type": "markdown",
      "metadata": {
        "id": "n1Ik_4OlojkK"
      },
      "source": [
        "## Import"
      ]
    },
    {
      "cell_type": "code",
      "metadata": {
        "id": "qPCwM5VBO-Z6",
        "colab": {
          "base_uri": "https://localhost:8080/"
        },
        "outputId": "cb3ea773-d847-4952-cffa-24207ec9b0c2"
      },
      "source": [
        "'''\n",
        "!apt-get install -y python-numpy python-dev cmake zlib1g-dev libjpeg-dev xvfb \\\n",
        "    xorg-dev python-opengl libboost-all-dev libsdl2-dev swig\n",
        "!pip install pyvirtualdisplay\n",
        "!pip install piglet\n",
        "'''\n",
        "\n",
        "!apt-get install python-opengl -y\n",
        "!apt install xvfb -y\n",
        "!pip install pyvirtualdisplay\n",
        "!pip install piglet"
      ],
      "execution_count": 63,
      "outputs": [
        {
          "output_type": "stream",
          "text": [
            "Reading package lists... Done\n",
            "Building dependency tree       \n",
            "Reading state information... Done\n",
            "python-opengl is already the newest version (3.1.0+dfsg-1).\n",
            "0 upgraded, 0 newly installed, 0 to remove and 29 not upgraded.\n",
            "Reading package lists... Done\n",
            "Building dependency tree       \n",
            "Reading state information... Done\n",
            "xvfb is already the newest version (2:1.19.6-1ubuntu4.8).\n",
            "0 upgraded, 0 newly installed, 0 to remove and 29 not upgraded.\n",
            "Requirement already satisfied: pyvirtualdisplay in /usr/local/lib/python3.7/dist-packages (2.1)\n",
            "Requirement already satisfied: EasyProcess in /usr/local/lib/python3.7/dist-packages (from pyvirtualdisplay) (0.3)\n",
            "Requirement already satisfied: piglet in /usr/local/lib/python3.7/dist-packages (1.0.0)\n",
            "Requirement already satisfied: piglet-templates in /usr/local/lib/python3.7/dist-packages (from piglet) (1.1.0)\n",
            "Requirement already satisfied: astunparse in /usr/local/lib/python3.7/dist-packages (from piglet-templates->piglet) (1.6.3)\n",
            "Requirement already satisfied: attrs in /usr/local/lib/python3.7/dist-packages (from piglet-templates->piglet) (20.3.0)\n",
            "Requirement already satisfied: markupsafe in /usr/local/lib/python3.7/dist-packages (from piglet-templates->piglet) (1.1.1)\n",
            "Requirement already satisfied: Parsley in /usr/local/lib/python3.7/dist-packages (from piglet-templates->piglet) (1.3)\n",
            "Requirement already satisfied: wheel<1.0,>=0.23.0 in /usr/local/lib/python3.7/dist-packages (from astunparse->piglet-templates->piglet) (0.36.2)\n",
            "Requirement already satisfied: six<2.0,>=1.6.1 in /usr/local/lib/python3.7/dist-packages (from astunparse->piglet-templates->piglet) (1.15.0)\n"
          ],
          "name": "stdout"
        }
      ]
    },
    {
      "cell_type": "code",
      "metadata": {
        "id": "0PPWOtAsVShx"
      },
      "source": [
        "import gym\n",
        "from gym import logger as gymlogger\n",
        "from gym.wrappers import Monitor\n",
        "gymlogger.set_level(40) #error only\n",
        "import tensorflow as tf\n",
        "import numpy as np\n",
        "import random\n",
        "import matplotlib\n",
        "import matplotlib.pyplot as plt\n",
        "%matplotlib inline\n",
        "import math\n",
        "import glob\n",
        "import io\n",
        "import base64\n",
        "from IPython.display import HTML\n",
        "\n",
        "from IPython import display as ipythondisplay\n",
        "\n",
        "%matplotlib inline"
      ],
      "execution_count": 64,
      "outputs": []
    },
    {
      "cell_type": "code",
      "metadata": {
        "id": "7o44XkezRK_v",
        "colab": {
          "base_uri": "https://localhost:8080/"
        },
        "outputId": "31bfefc4-3b8e-4d38-ac19-cd44a9ee0ea7"
      },
      "source": [
        "from pyvirtualdisplay import Display\n",
        "display = Display(visible=0, size=(1400, 900))\n",
        "display.start()"
      ],
      "execution_count": 65,
      "outputs": [
        {
          "output_type": "execute_result",
          "data": {
            "text/plain": [
              "<pyvirtualdisplay.display.Display at 0x7fa5d0acf110>"
            ]
          },
          "metadata": {
            "tags": []
          },
          "execution_count": 65
        }
      ]
    },
    {
      "cell_type": "markdown",
      "metadata": {
        "id": "cUjgBBwpou2U"
      },
      "source": [
        "## Show Video"
      ]
    },
    {
      "cell_type": "code",
      "metadata": {
        "id": "TRggfCCLRPqb"
      },
      "source": [
        "def show_video():\n",
        "    mp4_list = glob.glob('video/*.mp4')\n",
        "    if mp4_list:\n",
        "        mp4 = mp4_list[0]\n",
        "        video = open(mp4, 'r+b').read()\n",
        "        encoded = base64.b64encode(video)\n",
        "        ipythondisplay.display(HTML(data='''\n",
        "            <video alt=\"gameplay\" autoplay controls style=\"height: 400px;\">\n",
        "                <source src=\"data:video/mp4;base64,%s\" type=\"video/mp4\" />\n",
        "            </video>\n",
        "        ''' % (encoded.decode('ascii'))))\n",
        "    else:\n",
        "        print('No video found')\n",
        "\n",
        "def wrap_env(env):\n",
        "    env = Monitor(env, './video', force=True)\n",
        "    return env"
      ],
      "execution_count": 66,
      "outputs": []
    },
    {
      "cell_type": "code",
      "metadata": {
        "id": "_WXd_Vl_SwDw",
        "colab": {
          "base_uri": "https://localhost:8080/"
        },
        "outputId": "f605c6fd-eb46-4759-d96b-39c0975dfc1b"
      },
      "source": [
        "env = wrap_env(gym.make('CartPole-v0'))\n",
        "print(env.action_space)"
      ],
      "execution_count": 67,
      "outputs": [
        {
          "output_type": "stream",
          "text": [
            "Discrete(2)\n"
          ],
          "name": "stdout"
        }
      ]
    },
    {
      "cell_type": "code",
      "metadata": {
        "id": "1iU3th6qT1EN",
        "colab": {
          "base_uri": "https://localhost:8080/",
          "height": 528
        },
        "outputId": "4b2fa562-0176-425c-bfc0-217fb782f09b"
      },
      "source": [
        "observation = env.reset()\n",
        "\n",
        "for _ in range(1000): #while True:\n",
        "    env.render()\n",
        "    action = env.action_space.sample()\n",
        "    observation, reward, done, info = env.step(action)\n",
        "\n",
        "    #if done:\n",
        "    #  break;\n",
        "\n",
        "env.close()\n",
        "show_video()"
      ],
      "execution_count": 68,
      "outputs": [
        {
          "output_type": "error",
          "ename": "ResetNeeded",
          "evalue": "ignored",
          "traceback": [
            "\u001b[0;31m---------------------------------------------------------------------------\u001b[0m",
            "\u001b[0;31mResetNeeded\u001b[0m                               Traceback (most recent call last)",
            "\u001b[0;32m<ipython-input-68-0082a4cef104>\u001b[0m in \u001b[0;36m<module>\u001b[0;34m()\u001b[0m\n\u001b[1;32m      4\u001b[0m     \u001b[0menv\u001b[0m\u001b[0;34m.\u001b[0m\u001b[0mrender\u001b[0m\u001b[0;34m(\u001b[0m\u001b[0;34m)\u001b[0m\u001b[0;34m\u001b[0m\u001b[0;34m\u001b[0m\u001b[0m\n\u001b[1;32m      5\u001b[0m     \u001b[0maction\u001b[0m \u001b[0;34m=\u001b[0m \u001b[0menv\u001b[0m\u001b[0;34m.\u001b[0m\u001b[0maction_space\u001b[0m\u001b[0;34m.\u001b[0m\u001b[0msample\u001b[0m\u001b[0;34m(\u001b[0m\u001b[0;34m)\u001b[0m\u001b[0;34m\u001b[0m\u001b[0;34m\u001b[0m\u001b[0m\n\u001b[0;32m----> 6\u001b[0;31m     \u001b[0mobservation\u001b[0m\u001b[0;34m,\u001b[0m \u001b[0mreward\u001b[0m\u001b[0;34m,\u001b[0m \u001b[0mdone\u001b[0m\u001b[0;34m,\u001b[0m \u001b[0minfo\u001b[0m \u001b[0;34m=\u001b[0m \u001b[0menv\u001b[0m\u001b[0;34m.\u001b[0m\u001b[0mstep\u001b[0m\u001b[0;34m(\u001b[0m\u001b[0maction\u001b[0m\u001b[0;34m)\u001b[0m\u001b[0;34m\u001b[0m\u001b[0;34m\u001b[0m\u001b[0m\n\u001b[0m\u001b[1;32m      7\u001b[0m \u001b[0;34m\u001b[0m\u001b[0m\n\u001b[1;32m      8\u001b[0m     \u001b[0;31m#if done:\u001b[0m\u001b[0;34m\u001b[0m\u001b[0;34m\u001b[0m\u001b[0;34m\u001b[0m\u001b[0m\n",
            "\u001b[0;32m/usr/local/lib/python3.7/dist-packages/gym/wrappers/monitor.py\u001b[0m in \u001b[0;36mstep\u001b[0;34m(self, action)\u001b[0m\n\u001b[1;32m     28\u001b[0m \u001b[0;34m\u001b[0m\u001b[0m\n\u001b[1;32m     29\u001b[0m     \u001b[0;32mdef\u001b[0m \u001b[0mstep\u001b[0m\u001b[0;34m(\u001b[0m\u001b[0mself\u001b[0m\u001b[0;34m,\u001b[0m \u001b[0maction\u001b[0m\u001b[0;34m)\u001b[0m\u001b[0;34m:\u001b[0m\u001b[0;34m\u001b[0m\u001b[0;34m\u001b[0m\u001b[0m\n\u001b[0;32m---> 30\u001b[0;31m         \u001b[0mself\u001b[0m\u001b[0;34m.\u001b[0m\u001b[0m_before_step\u001b[0m\u001b[0;34m(\u001b[0m\u001b[0maction\u001b[0m\u001b[0;34m)\u001b[0m\u001b[0;34m\u001b[0m\u001b[0;34m\u001b[0m\u001b[0m\n\u001b[0m\u001b[1;32m     31\u001b[0m         \u001b[0mobservation\u001b[0m\u001b[0;34m,\u001b[0m \u001b[0mreward\u001b[0m\u001b[0;34m,\u001b[0m \u001b[0mdone\u001b[0m\u001b[0;34m,\u001b[0m \u001b[0minfo\u001b[0m \u001b[0;34m=\u001b[0m \u001b[0mself\u001b[0m\u001b[0;34m.\u001b[0m\u001b[0menv\u001b[0m\u001b[0;34m.\u001b[0m\u001b[0mstep\u001b[0m\u001b[0;34m(\u001b[0m\u001b[0maction\u001b[0m\u001b[0;34m)\u001b[0m\u001b[0;34m\u001b[0m\u001b[0;34m\u001b[0m\u001b[0m\n\u001b[1;32m     32\u001b[0m         \u001b[0mdone\u001b[0m \u001b[0;34m=\u001b[0m \u001b[0mself\u001b[0m\u001b[0;34m.\u001b[0m\u001b[0m_after_step\u001b[0m\u001b[0;34m(\u001b[0m\u001b[0mobservation\u001b[0m\u001b[0;34m,\u001b[0m \u001b[0mreward\u001b[0m\u001b[0;34m,\u001b[0m \u001b[0mdone\u001b[0m\u001b[0;34m,\u001b[0m \u001b[0minfo\u001b[0m\u001b[0;34m)\u001b[0m\u001b[0;34m\u001b[0m\u001b[0;34m\u001b[0m\u001b[0m\n",
            "\u001b[0;32m/usr/local/lib/python3.7/dist-packages/gym/wrappers/monitor.py\u001b[0m in \u001b[0;36m_before_step\u001b[0;34m(self, action)\u001b[0m\n\u001b[1;32m    155\u001b[0m     \u001b[0;32mdef\u001b[0m \u001b[0m_before_step\u001b[0m\u001b[0;34m(\u001b[0m\u001b[0mself\u001b[0m\u001b[0;34m,\u001b[0m \u001b[0maction\u001b[0m\u001b[0;34m)\u001b[0m\u001b[0;34m:\u001b[0m\u001b[0;34m\u001b[0m\u001b[0;34m\u001b[0m\u001b[0m\n\u001b[1;32m    156\u001b[0m         \u001b[0;32mif\u001b[0m \u001b[0;32mnot\u001b[0m \u001b[0mself\u001b[0m\u001b[0;34m.\u001b[0m\u001b[0menabled\u001b[0m\u001b[0;34m:\u001b[0m \u001b[0;32mreturn\u001b[0m\u001b[0;34m\u001b[0m\u001b[0;34m\u001b[0m\u001b[0m\n\u001b[0;32m--> 157\u001b[0;31m         \u001b[0mself\u001b[0m\u001b[0;34m.\u001b[0m\u001b[0mstats_recorder\u001b[0m\u001b[0;34m.\u001b[0m\u001b[0mbefore_step\u001b[0m\u001b[0;34m(\u001b[0m\u001b[0maction\u001b[0m\u001b[0;34m)\u001b[0m\u001b[0;34m\u001b[0m\u001b[0;34m\u001b[0m\u001b[0m\n\u001b[0m\u001b[1;32m    158\u001b[0m \u001b[0;34m\u001b[0m\u001b[0m\n\u001b[1;32m    159\u001b[0m     \u001b[0;32mdef\u001b[0m \u001b[0m_after_step\u001b[0m\u001b[0;34m(\u001b[0m\u001b[0mself\u001b[0m\u001b[0;34m,\u001b[0m \u001b[0mobservation\u001b[0m\u001b[0;34m,\u001b[0m \u001b[0mreward\u001b[0m\u001b[0;34m,\u001b[0m \u001b[0mdone\u001b[0m\u001b[0;34m,\u001b[0m \u001b[0minfo\u001b[0m\u001b[0;34m)\u001b[0m\u001b[0;34m:\u001b[0m\u001b[0;34m\u001b[0m\u001b[0;34m\u001b[0m\u001b[0m\n",
            "\u001b[0;32m/usr/local/lib/python3.7/dist-packages/gym/wrappers/monitoring/stats_recorder.py\u001b[0m in \u001b[0;36mbefore_step\u001b[0;34m(self, action)\u001b[0m\n\u001b[1;32m     44\u001b[0m \u001b[0;34m\u001b[0m\u001b[0m\n\u001b[1;32m     45\u001b[0m         \u001b[0;32mif\u001b[0m \u001b[0mself\u001b[0m\u001b[0;34m.\u001b[0m\u001b[0mdone\u001b[0m\u001b[0;34m:\u001b[0m\u001b[0;34m\u001b[0m\u001b[0;34m\u001b[0m\u001b[0m\n\u001b[0;32m---> 46\u001b[0;31m             \u001b[0;32mraise\u001b[0m \u001b[0merror\u001b[0m\u001b[0;34m.\u001b[0m\u001b[0mResetNeeded\u001b[0m\u001b[0;34m(\u001b[0m\u001b[0;34m\"Trying to step environment which is currently done. While the monitor is active for {}, you cannot step beyond the end of an episode. Call 'env.reset()' to start the next episode.\"\u001b[0m\u001b[0;34m.\u001b[0m\u001b[0mformat\u001b[0m\u001b[0;34m(\u001b[0m\u001b[0mself\u001b[0m\u001b[0;34m.\u001b[0m\u001b[0menv_id\u001b[0m\u001b[0;34m)\u001b[0m\u001b[0;34m)\u001b[0m\u001b[0;34m\u001b[0m\u001b[0;34m\u001b[0m\u001b[0m\n\u001b[0m\u001b[1;32m     47\u001b[0m         \u001b[0;32melif\u001b[0m \u001b[0mself\u001b[0m\u001b[0;34m.\u001b[0m\u001b[0msteps\u001b[0m \u001b[0;32mis\u001b[0m \u001b[0;32mNone\u001b[0m\u001b[0;34m:\u001b[0m\u001b[0;34m\u001b[0m\u001b[0;34m\u001b[0m\u001b[0m\n\u001b[1;32m     48\u001b[0m             \u001b[0;32mraise\u001b[0m \u001b[0merror\u001b[0m\u001b[0;34m.\u001b[0m\u001b[0mResetNeeded\u001b[0m\u001b[0;34m(\u001b[0m\u001b[0;34m\"Trying to step an environment before reset. While the monitor is active for {}, you must call 'env.reset()' before taking an initial step.\"\u001b[0m\u001b[0;34m.\u001b[0m\u001b[0mformat\u001b[0m\u001b[0;34m(\u001b[0m\u001b[0mself\u001b[0m\u001b[0;34m.\u001b[0m\u001b[0menv_id\u001b[0m\u001b[0;34m)\u001b[0m\u001b[0;34m)\u001b[0m\u001b[0;34m\u001b[0m\u001b[0;34m\u001b[0m\u001b[0m\n",
            "\u001b[0;31mResetNeeded\u001b[0m: Trying to step environment which is currently done. While the monitor is active for CartPole-v0, you cannot step beyond the end of an episode. Call 'env.reset()' to start the next episode."
          ]
        }
      ]
    },
    {
      "cell_type": "code",
      "metadata": {
        "id": "9yZgYHVNeSVl"
      },
      "source": [
        "env.reset()\n",
        "img = plt.imshow(env.render('rgb_array')) # only call this once\n",
        "\n",
        "for _ in range(100):\n",
        "    img.set_data(env.render('rgb_array')) # just update the data\n",
        "    display.display(plt.gcf())\n",
        "    display.clear_output(wait=True)\n",
        "    action = env.action_space.sample()\n",
        "    env.step(action)"
      ],
      "execution_count": null,
      "outputs": []
    },
    {
      "cell_type": "markdown",
      "metadata": {
        "id": "sczQfN3teulS"
      },
      "source": [
        "[Stack Overflow](https://stackoverflow.com/questions/50107530/how-to-render-openai-gym-in-google-colab)"
      ]
    },
    {
      "cell_type": "markdown",
      "metadata": {
        "id": "rSJdizAXw4h9"
      },
      "source": [
        "# Previous Import"
      ]
    },
    {
      "cell_type": "code",
      "metadata": {
        "id": "xuMha97Fv9y4"
      },
      "source": [
        "!pip install gym\n",
        "!pip install PyopenGL"
      ],
      "execution_count": null,
      "outputs": []
    },
    {
      "cell_type": "code",
      "metadata": {
        "id": "ZqViTyWAw96n"
      },
      "source": [
        "!apt-get install python-opengl\n",
        "!apt-get install xvfb"
      ],
      "execution_count": null,
      "outputs": []
    },
    {
      "cell_type": "markdown",
      "metadata": {
        "id": "E4Ql3o3R4z3I"
      },
      "source": [
        "## First"
      ]
    },
    {
      "cell_type": "code",
      "metadata": {
        "id": "7i__u36qxcEC"
      },
      "source": [
        "%%bash\n",
        "\n",
        "# install required system dependencies\n",
        "apt-get install -y xvfb x11-utils\n",
        "\n",
        "# install required python dependencies (might need to install additional gym extras depending)\n",
        "pip install gym[box2d]==0.17.* pyvirtualdisplay==0.2.* PyOpenGL==3.1.* PyOpenGL-accelerate==3.1.*"
      ],
      "execution_count": null,
      "outputs": []
    },
    {
      "cell_type": "code",
      "metadata": {
        "id": "i4EKlGMNxd5z"
      },
      "source": [
        "from pyvirtualdisplay import Display\n",
        "_display = Display(visible=False, size=(1400, 900))\n",
        "_ = _display.start()"
      ],
      "execution_count": null,
      "outputs": []
    },
    {
      "cell_type": "markdown",
      "metadata": {
        "id": "HfC-19u642Lp"
      },
      "source": [
        "## Second"
      ]
    },
    {
      "cell_type": "code",
      "metadata": {
        "id": "vGcWBMORxOhb"
      },
      "source": [
        "'''\n",
        "!apt install xvfb -y\n",
        "!pip install pyvirtualdisplay\n",
        "!pip install piglet\n",
        "\n",
        "from pyvirtualdisplay import Display\n",
        "display = Display(visible=0, size=(1400, 900))\n",
        "display.start()\n",
        "'''"
      ],
      "execution_count": null,
      "outputs": []
    },
    {
      "cell_type": "markdown",
      "metadata": {
        "id": "zrvi0qjV4vfJ"
      },
      "source": [
        "##Xvfb"
      ]
    },
    {
      "cell_type": "code",
      "metadata": {
        "id": "ce0BwIDl0hFn"
      },
      "source": [
        "!xvfb-run -s \"-screen 0 1400x900x24\" bash"
      ],
      "execution_count": null,
      "outputs": []
    },
    {
      "cell_type": "code",
      "metadata": {
        "id": "spoe0QpU2-qE"
      },
      "source": [
        "xvfb-run -s \"-screen 0 1400x900x24\" jupyter notebook --allow-root"
      ],
      "execution_count": null,
      "outputs": []
    },
    {
      "cell_type": "markdown",
      "metadata": {
        "id": "i48dvwbgw3rv"
      },
      "source": [
        "# Previous CartPole"
      ]
    },
    {
      "cell_type": "markdown",
      "metadata": {
        "id": "LSk40OVQ4m71"
      },
      "source": [
        "## 1st"
      ]
    },
    {
      "cell_type": "code",
      "metadata": {
        "id": "TNlEttHzw4AG"
      },
      "source": [
        "import gym\n",
        "env = gym.make('CartPole-v0')\n",
        "env.reset()\n",
        "for _ in range(1000):\n",
        "    env.render()\n",
        "    env.step(env.action_space.sample()) # take a random action\n",
        "env.close()"
      ],
      "execution_count": null,
      "outputs": []
    },
    {
      "cell_type": "markdown",
      "metadata": {
        "id": "WY9x2Ud-4pNJ"
      },
      "source": [
        "## 2nd"
      ]
    },
    {
      "cell_type": "code",
      "metadata": {
        "id": "mf3WJ90gxFOZ"
      },
      "source": [
        "import gym\n",
        "env = gym.make(\"CartPole-v1\")\n",
        "observation = env.reset()\n",
        "for _ in range(1000):\n",
        "  env.render()\n",
        "  action = env.action_space.sample() # your agent here (this takes random actions)\n",
        "  observation, reward, done, info = env.step(action)\n",
        "\n",
        "  if done:\n",
        "    observation = env.reset()\n",
        "env.close()"
      ],
      "execution_count": null,
      "outputs": []
    },
    {
      "cell_type": "markdown",
      "metadata": {
        "id": "TXVgNXa-4qrt"
      },
      "source": [
        "## 3rd"
      ]
    },
    {
      "cell_type": "code",
      "metadata": {
        "id": "B57jZkGC0cnD"
      },
      "source": [
        "\"\"\"\n",
        "Classic cart-pole system implemented by Rich Sutton et al.\n",
        "Copied from http://incompleteideas.net/sutton/book/code/pole.c\n",
        "permalink: https://perma.cc/C9ZM-652R\n",
        "\"\"\"\n",
        "\n",
        "import math\n",
        "import gym\n",
        "from gym import spaces, logger\n",
        "from gym.utils import seeding\n",
        "import numpy as np\n",
        "\n",
        "\n",
        "class CartPoleEnv(gym.Env):\n",
        "    \"\"\"\n",
        "    Description:\n",
        "        A pole is attached by an un-actuated joint to a cart, which moves along\n",
        "        a frictionless track. The pendulum starts upright, and the goal is to\n",
        "        prevent it from falling over by increasing and reducing the cart's\n",
        "        velocity.\n",
        "    Source:\n",
        "        This environment corresponds to the version of the cart-pole problem\n",
        "        described by Barto, Sutton, and Anderson\n",
        "    Observation:\n",
        "        Type: Box(4)\n",
        "        Num     Observation               Min                     Max\n",
        "        0       Cart Position             -4.8                    4.8\n",
        "        1       Cart Velocity             -Inf                    Inf\n",
        "        2       Pole Angle                -0.418 rad (-24 deg)    0.418 rad (24 deg)\n",
        "        3       Pole Angular Velocity     -Inf                    Inf\n",
        "    Actions:\n",
        "        Type: Discrete(2)\n",
        "        Num   Action\n",
        "        0     Push cart to the left\n",
        "        1     Push cart to the right\n",
        "        Note: The amount the velocity that is reduced or increased is not\n",
        "        fixed; it depends on the angle the pole is pointing. This is because\n",
        "        the center of gravity of the pole increases the amount of energy needed\n",
        "        to move the cart underneath it\n",
        "    Reward:\n",
        "        Reward is 1 for every step taken, including the termination step\n",
        "    Starting State:\n",
        "        All observations are assigned a uniform random value in [-0.05..0.05]\n",
        "    Episode Termination:\n",
        "        Pole Angle is more than 12 degrees.\n",
        "        Cart Position is more than 2.4 (center of the cart reaches the edge of\n",
        "        the display).\n",
        "        Episode length is greater than 200.\n",
        "        Solved Requirements:\n",
        "        Considered solved when the average return is greater than or equal to\n",
        "        195.0 over 100 consecutive trials.\n",
        "    \"\"\"\n",
        "\n",
        "    metadata = {\n",
        "        'render.modes': ['human', 'rgb_array'],\n",
        "        'video.frames_per_second': 50\n",
        "    }\n",
        "\n",
        "    def __init__(self):\n",
        "        self.gravity = 9.8\n",
        "        self.masscart = 1.0\n",
        "        self.masspole = 0.1\n",
        "        self.total_mass = (self.masspole + self.masscart)\n",
        "        self.length = 0.5  # actually half the pole's length\n",
        "        self.polemass_length = (self.masspole * self.length)\n",
        "        self.force_mag = 10.0\n",
        "        self.tau = 0.02  # seconds between state updates\n",
        "        self.kinematics_integrator = 'euler'\n",
        "\n",
        "        # Angle at which to fail the episode\n",
        "        self.theta_threshold_radians = 12 * 2 * math.pi / 360\n",
        "        self.x_threshold = 2.4\n",
        "\n",
        "        # Angle limit set to 2 * theta_threshold_radians so failing observation\n",
        "        # is still within bounds.\n",
        "        high = np.array([self.x_threshold * 2,\n",
        "                         np.finfo(np.float32).max,\n",
        "                         self.theta_threshold_radians * 2,\n",
        "                         np.finfo(np.float32).max],\n",
        "                        dtype=np.float32)\n",
        "\n",
        "        self.action_space = spaces.Discrete(2)\n",
        "        self.observation_space = spaces.Box(-high, high, dtype=np.float32)\n",
        "\n",
        "        self.seed()\n",
        "        self.viewer = None\n",
        "        self.state = None\n",
        "\n",
        "        self.steps_beyond_done = None\n",
        "\n",
        "    def seed(self, seed=None):\n",
        "        self.np_random, seed = seeding.np_random(seed)\n",
        "        return [seed]\n",
        "\n",
        "    def step(self, action):\n",
        "        err_msg = \"%r (%s) invalid\" % (action, type(action))\n",
        "        assert self.action_space.contains(action), err_msg\n",
        "\n",
        "        x, x_dot, theta, theta_dot = self.state\n",
        "        force = self.force_mag if action == 1 else -self.force_mag\n",
        "        costheta = math.cos(theta)\n",
        "        sintheta = math.sin(theta)\n",
        "\n",
        "        # For the interested reader:\n",
        "        # https://coneural.org/florian/papers/05_cart_pole.pdf\n",
        "        temp = (force + self.polemass_length * theta_dot ** 2 * sintheta) / self.total_mass\n",
        "        thetaacc = (self.gravity * sintheta - costheta * temp) / (self.length * (4.0 / 3.0 - self.masspole * costheta ** 2 / self.total_mass))\n",
        "        xacc = temp - self.polemass_length * thetaacc * costheta / self.total_mass\n",
        "\n",
        "        if self.kinematics_integrator == 'euler':\n",
        "            x = x + self.tau * x_dot\n",
        "            x_dot = x_dot + self.tau * xacc\n",
        "            theta = theta + self.tau * theta_dot\n",
        "            theta_dot = theta_dot + self.tau * thetaacc\n",
        "        else:  # semi-implicit euler\n",
        "            x_dot = x_dot + self.tau * xacc\n",
        "            x = x + self.tau * x_dot\n",
        "            theta_dot = theta_dot + self.tau * thetaacc\n",
        "            theta = theta + self.tau * theta_dot\n",
        "\n",
        "        self.state = (x, x_dot, theta, theta_dot)\n",
        "\n",
        "        done = bool(\n",
        "            x < -self.x_threshold\n",
        "            or x > self.x_threshold\n",
        "            or theta < -self.theta_threshold_radians\n",
        "            or theta > self.theta_threshold_radians\n",
        "        )\n",
        "\n",
        "        if not done:\n",
        "            reward = 1.0\n",
        "        elif self.steps_beyond_done is None:\n",
        "            # Pole just fell!\n",
        "            self.steps_beyond_done = 0\n",
        "            reward = 1.0\n",
        "        else:\n",
        "            if self.steps_beyond_done == 0:\n",
        "                logger.warn(\n",
        "                    \"You are calling 'step()' even though this \"\n",
        "                    \"environment has already returned done = True. You \"\n",
        "                    \"should always call 'reset()' once you receive 'done = \"\n",
        "                    \"True' -- any further steps are undefined behavior.\"\n",
        "                )\n",
        "            self.steps_beyond_done += 1\n",
        "            reward = 0.0\n",
        "\n",
        "        return np.array(self.state), reward, done, {}\n",
        "\n",
        "    def reset(self):\n",
        "        self.state = self.np_random.uniform(low=-0.05, high=0.05, size=(4,))\n",
        "        self.steps_beyond_done = None\n",
        "        return np.array(self.state)\n",
        "\n",
        "    def render(self, mode='human'):\n",
        "        screen_width = 600\n",
        "        screen_height = 400\n",
        "\n",
        "        world_width = self.x_threshold * 2\n",
        "        scale = screen_width/world_width\n",
        "        carty = 100  # TOP OF CART\n",
        "        polewidth = 10.0\n",
        "        polelen = scale * (2 * self.length)\n",
        "        cartwidth = 50.0\n",
        "        cartheight = 30.0\n",
        "\n",
        "        if self.viewer is None:\n",
        "            from gym.envs.classic_control import rendering\n",
        "            self.viewer = rendering.Viewer(screen_width, screen_height)\n",
        "            l, r, t, b = -cartwidth / 2, cartwidth / 2, cartheight / 2, -cartheight / 2\n",
        "            axleoffset = cartheight / 4.0\n",
        "            cart = rendering.FilledPolygon([(l, b), (l, t), (r, t), (r, b)])\n",
        "            self.carttrans = rendering.Transform()\n",
        "            cart.add_attr(self.carttrans)\n",
        "            self.viewer.add_geom(cart)\n",
        "            l, r, t, b = -polewidth / 2, polewidth / 2, polelen - polewidth / 2, -polewidth / 2\n",
        "            pole = rendering.FilledPolygon([(l, b), (l, t), (r, t), (r, b)])\n",
        "            pole.set_color(.8, .6, .4)\n",
        "            self.poletrans = rendering.Transform(translation=(0, axleoffset))\n",
        "            pole.add_attr(self.poletrans)\n",
        "            pole.add_attr(self.carttrans)\n",
        "            self.viewer.add_geom(pole)\n",
        "            self.axle = rendering.make_circle(polewidth/2)\n",
        "            self.axle.add_attr(self.poletrans)\n",
        "            self.axle.add_attr(self.carttrans)\n",
        "            self.axle.set_color(.5, .5, .8)\n",
        "            self.viewer.add_geom(self.axle)\n",
        "            self.track = rendering.Line((0, carty), (screen_width, carty))\n",
        "            self.track.set_color(0, 0, 0)\n",
        "            self.viewer.add_geom(self.track)\n",
        "\n",
        "            self._pole_geom = pole\n",
        "\n",
        "        if self.state is None:\n",
        "            return None\n",
        "\n",
        "        # Edit the pole polygon vertex\n",
        "        pole = self._pole_geom\n",
        "        l, r, t, b = -polewidth / 2, polewidth / 2, polelen - polewidth / 2, -polewidth / 2\n",
        "        pole.v = [(l, b), (l, t), (r, t), (r, b)]\n",
        "\n",
        "        x = self.state\n",
        "        cartx = x[0] * scale + screen_width / 2.0  # MIDDLE OF CART\n",
        "        self.carttrans.set_translation(cartx, carty)\n",
        "        self.poletrans.set_rotation(-x[2])\n",
        "\n",
        "        return self.viewer.render(return_rgb_array=mode == 'rgb_array')\n",
        "\n",
        "    def close(self):\n",
        "        if self.viewer:\n",
        "            self.viewer.close()\n",
        "            self.viewer = None"
      ],
      "execution_count": null,
      "outputs": []
    },
    {
      "cell_type": "code",
      "metadata": {
        "id": "TmpraTh73JgW"
      },
      "source": [
        ""
      ],
      "execution_count": null,
      "outputs": []
    }
  ]
}