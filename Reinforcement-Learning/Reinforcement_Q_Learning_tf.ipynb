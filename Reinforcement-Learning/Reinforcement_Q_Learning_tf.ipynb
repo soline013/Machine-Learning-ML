{
  "nbformat": 4,
  "nbformat_minor": 0,
  "metadata": {
    "colab": {
      "name": "Reinforcement-Q-Learning_tf.ipynb",
      "provenance": [],
      "collapsed_sections": [],
      "authorship_tag": "ABX9TyPHaSTIGLaQYHbUvaZRF79R",
      "include_colab_link": true
    },
    "kernelspec": {
      "name": "python3",
      "display_name": "Python 3"
    },
    "accelerator": "GPU"
  },
  "cells": [
    {
      "cell_type": "markdown",
      "metadata": {
        "id": "view-in-github",
        "colab_type": "text"
      },
      "source": [
        "<a href=\"https://colab.research.google.com/github/soline013/Machine-Learning-ML/blob/master/Reinforcement-Learning/Reinforcement_Q_Learning_tf.ipynb\" target=\"_parent\"><img src=\"https://colab.research.google.com/assets/colab-badge.svg\" alt=\"Open In Colab\"/></a>"
      ]
    },
    {
      "cell_type": "markdown",
      "metadata": {
        "id": "iGDi2GIL1cvj"
      },
      "source": [
        "# Reinforcement Q Learning Cartpole"
      ]
    },
    {
      "cell_type": "markdown",
      "metadata": {
        "id": "LMs_QUxp1ifE"
      },
      "source": [
        "## Import"
      ]
    },
    {
      "cell_type": "code",
      "metadata": {
        "colab": {
          "base_uri": "https://localhost:8080/"
        },
        "id": "cAOWq51VztM_",
        "outputId": "d8b425f6-ef65-4760-99a9-9465547b3a32"
      },
      "source": [
        "!apt-get install -y xvfb ffmpeg\n",
        "!pip install -q 'imageio==2.4.0'\n",
        "!pip install -q pyvirtualdisplay\n",
        "!pip install -q tf-agents"
      ],
      "execution_count": 1,
      "outputs": [
        {
          "output_type": "stream",
          "text": [
            "Reading package lists... Done\n",
            "Building dependency tree       \n",
            "Reading state information... Done\n",
            "ffmpeg is already the newest version (7:3.4.8-0ubuntu0.2).\n",
            "The following NEW packages will be installed:\n",
            "  xvfb\n",
            "0 upgraded, 1 newly installed, 0 to remove and 30 not upgraded.\n",
            "Need to get 784 kB of archives.\n",
            "After this operation, 2,270 kB of additional disk space will be used.\n",
            "Get:1 http://archive.ubuntu.com/ubuntu bionic-updates/universe amd64 xvfb amd64 2:1.19.6-1ubuntu4.8 [784 kB]\n",
            "Fetched 784 kB in 1s (1,251 kB/s)\n",
            "Selecting previously unselected package xvfb.\n",
            "(Reading database ... 160980 files and directories currently installed.)\n",
            "Preparing to unpack .../xvfb_2%3a1.19.6-1ubuntu4.8_amd64.deb ...\n",
            "Unpacking xvfb (2:1.19.6-1ubuntu4.8) ...\n",
            "Setting up xvfb (2:1.19.6-1ubuntu4.8) ...\n",
            "Processing triggers for man-db (2.8.3-2ubuntu0.1) ...\n",
            "\u001b[K     |████████████████████████████████| 3.3MB 18.8MB/s \n",
            "\u001b[?25h  Building wheel for imageio (setup.py) ... \u001b[?25l\u001b[?25hdone\n",
            "\u001b[31mERROR: albumentations 0.1.12 has requirement imgaug<0.2.7,>=0.2.5, but you'll have imgaug 0.2.9 which is incompatible.\u001b[0m\n",
            "\u001b[K     |████████████████████████████████| 1.2MB 16.5MB/s \n",
            "\u001b[?25h"
          ],
          "name": "stdout"
        }
      ]
    },
    {
      "cell_type": "code",
      "metadata": {
        "id": "wZsZJN0v0Z7y"
      },
      "source": [
        "from __future__ import absolute_import\n",
        "from __future__ import division\n",
        "from __future__ import print_function\n",
        "\n",
        "import base64\n",
        "import imageio\n",
        "import IPython\n",
        "import matplotlib\n",
        "import matplotlib.pyplot as plt\n",
        "import numpy as np\n",
        "import PIL.Image\n",
        "import pyvirtualdisplay\n",
        "import tensorflow as tf\n",
        "\n",
        "from tf_agents.agents.reinforce import reinforce_agent\n",
        "from tf_agents.drivers import dynamic_step_driver\n",
        "from tf_agents.environments import suite_gym\n",
        "from tf_agents.environments import tf_py_environment\n",
        "from tf_agents.eval import metric_utils\n",
        "from tf_agents.metrics import tf_metrics\n",
        "from tf_agents.networks import actor_distribution_network\n",
        "from tf_agents.replay_buffers import tf_uniform_replay_buffer\n",
        "from tf_agents.trajectories import trajectory\n",
        "from tf_agents.utils import common\n",
        "\n",
        "tf.compat.v1.enable_v2_behavior()\n",
        "\n",
        "display = pyvirtualdisplay.Display(visible=0, size=(1400, 900)).start()"
      ],
      "execution_count": 2,
      "outputs": []
    },
    {
      "cell_type": "markdown",
      "metadata": {
        "id": "oAiJH8J21qz_"
      },
      "source": [
        "## Hyperparameter"
      ]
    },
    {
      "cell_type": "code",
      "metadata": {
        "id": "k0uTpwfo1tfW"
      },
      "source": [
        "env_name = \"CartPole-v0\"\n",
        "num_iterations = 250\n",
        "collect_episodes_per_iteration = 2\n",
        "replay_buffer_capacity = 2000\n",
        "\n",
        "fc_layer_params = (100,)\n",
        "\n",
        "learning_rate = 1e-3\n",
        "log_interval = 25\n",
        "num_eval_episodes = 10\n",
        "eval_interval = 50"
      ],
      "execution_count": 3,
      "outputs": []
    },
    {
      "cell_type": "markdown",
      "metadata": {
        "id": "X1iHxyS-2XX8"
      },
      "source": [
        "## Environment"
      ]
    },
    {
      "cell_type": "code",
      "metadata": {
        "id": "0GjnQ4tR2Y0X"
      },
      "source": [
        "env = suite_gym.load(env_name)"
      ],
      "execution_count": 4,
      "outputs": []
    },
    {
      "cell_type": "code",
      "metadata": {
        "colab": {
          "base_uri": "https://localhost:8080/",
          "height": 417
        },
        "id": "XNAm4UYM3K4z",
        "outputId": "1d23dbac-fbce-42be-847e-40ee9a986ff7"
      },
      "source": [
        "env.reset()\n",
        "PIL.Image.fromarray(env.render())"
      ],
      "execution_count": 5,
      "outputs": [
        {
          "output_type": "execute_result",
          "data": {
            "image/png": "[encoded data removed]",
            "text/plain": [
              "<PIL.Image.Image image mode=RGB size=600x400 at 0x7F52E2652050>"
            ]
          },
          "metadata": {
            "tags": []
          },
          "execution_count": 5
        }
      ]
    },
    {
      "cell_type": "code",
      "metadata": {
        "colab": {
          "base_uri": "https://localhost:8080/"
        },
        "id": "g-7Ic5xu37-v",
        "outputId": "ffc07f94-0db2-4ea1-e21a-efa0a61b5f18"
      },
      "source": [
        "print('Observation Spec:')\n",
        "print(env.time_step_spec().observation)\n",
        "print('Action Spec:')\n",
        "print(env.action_spec())"
      ],
      "execution_count": 6,
      "outputs": [
        {
          "output_type": "stream",
          "text": [
            "Observation Spec:\n",
            "BoundedArraySpec(shape=(4,), dtype=dtype('float32'), name='observation', minimum=[-4.8000002e+00 -3.4028235e+38 -4.1887903e-01 -3.4028235e+38], maximum=[4.8000002e+00 3.4028235e+38 4.1887903e-01 3.4028235e+38])\n",
            "Action Spec:\n",
            "BoundedArraySpec(shape=(), dtype=dtype('int64'), name='action', minimum=0, maximum=1)\n"
          ],
          "name": "stdout"
        }
      ]
    },
    {
      "cell_type": "code",
      "metadata": {
        "colab": {
          "base_uri": "https://localhost:8080/"
        },
        "id": "LQs1x5yDAYl3",
        "outputId": "e7421130-3ec4-4ed9-bec6-883ba15020d7"
      },
      "source": [
        "time_step = env.reset()\n",
        "print('Time Step:')\n",
        "print(time_step)\n",
        "\n",
        "action = np.array(1, dtype=np.int32)\n",
        "\n",
        "next_time_step = env.step(action)\n",
        "print('Next Time Step:')\n",
        "print(next_time_step)"
      ],
      "execution_count": 7,
      "outputs": [
        {
          "output_type": "stream",
          "text": [
            "Time Step:\n",
            "TimeStep(step_type=array(0, dtype=int32), reward=array(0., dtype=float32), discount=array(1., dtype=float32), observation=array([-0.00421494,  0.01947744,  0.0211268 , -0.03157749], dtype=float32))\n",
            "Next Time Step:\n",
            "TimeStep(step_type=array(1, dtype=int32), reward=array(1., dtype=float32), discount=array(1., dtype=float32), observation=array([-0.00382539,  0.21429016,  0.02049525, -0.31752053], dtype=float32))\n"
          ],
          "name": "stdout"
        }
      ]
    },
    {
      "cell_type": "code",
      "metadata": {
        "id": "4mWkw5-bAs8G"
      },
      "source": [
        "train_py_env = suite_gym.load(env_name)\n",
        "eval_py_env = suite_gym.load(env_name)\n",
        "\n",
        "train_env = tf_py_environment.TFPyEnvironment(train_py_env)\n",
        "eval_env = tf_py_environment.TFPyEnvironment(eval_py_env)"
      ],
      "execution_count": 8,
      "outputs": []
    },
    {
      "cell_type": "markdown",
      "metadata": {
        "id": "cSvAKtpLBPxU"
      },
      "source": [
        "## Agents"
      ]
    },
    {
      "cell_type": "code",
      "metadata": {
        "id": "9mLkN676BNLH"
      },
      "source": [
        "actor_net = actor_distribution_network.ActorDistributionNetwork(\n",
        "    train_env.observation_spec(),\n",
        "    train_env.action_spec(),\n",
        "    fc_layer_params=fc_layer_params)"
      ],
      "execution_count": 9,
      "outputs": []
    },
    {
      "cell_type": "code",
      "metadata": {
        "id": "Gj4LmF_FOmQw"
      },
      "source": [
        "optimizer = tf.compat.v1.train.AdamOptimizer(learning_rate=learning_rate)\n",
        "\n",
        "train_step_counter = tf.compat.v2.Variable(0)\n",
        "\n",
        "tf_agent = reinforce_agent.ReinforceAgent(\n",
        "    train_env.time_step_spec(),\n",
        "    train_env.action_spec(),\n",
        "    actor_network=actor_net,\n",
        "    optimizer=optimizer,\n",
        "    normalize_returns=True,\n",
        "    train_step_counter=train_step_counter)\n",
        "tf_agent.initialize()"
      ],
      "execution_count": 10,
      "outputs": []
    },
    {
      "cell_type": "markdown",
      "metadata": {
        "id": "MEIOUnNqQAL9"
      },
      "source": [
        "## Policy"
      ]
    },
    {
      "cell_type": "code",
      "metadata": {
        "id": "GAYfyT3PO1yq"
      },
      "source": [
        "eval_policy = tf_agent.policy\n",
        "collect_policy = tf_agent.collect_policy"
      ],
      "execution_count": 11,
      "outputs": []
    },
    {
      "cell_type": "markdown",
      "metadata": {
        "id": "Ct4pDEe8Q2yE"
      },
      "source": [
        "## Metrics and Evaluation"
      ]
    },
    {
      "cell_type": "code",
      "metadata": {
        "id": "_DDB1hltQoTO"
      },
      "source": [
        "def compute_avg_return(environment, policy, num_episodes=10):\n",
        "  total_return = 0.0\n",
        "  for _ in range(num_episodes):\n",
        "    time_step = environment.reset()\n",
        "    episode_return = 0.0\n",
        "\n",
        "    while not time_step.is_last():\n",
        "      action_step = policy.action(time_step)\n",
        "      time_step = environment.step(action_step.action)\n",
        "      episode_return += time_step.reward\n",
        "\n",
        "    total_return += episode_return\n",
        "\n",
        "  avg_return = total_return / num_episodes\n",
        "  return avg_return.numpy()[0]"
      ],
      "execution_count": 12,
      "outputs": []
    },
    {
      "cell_type": "markdown",
      "metadata": {
        "id": "1xLNNp55TnYB"
      },
      "source": [
        "## Replay Buffer"
      ]
    },
    {
      "cell_type": "code",
      "metadata": {
        "id": "KU_QP4z-R0G7"
      },
      "source": [
        "replay_buffer = tf_uniform_replay_buffer.TFUniformReplayBuffer(\n",
        "    data_spec=tf_agent.collect_data_spec,\n",
        "    batch_size=train_env.batch_size,\n",
        "    max_length=replay_buffer_capacity)"
      ],
      "execution_count": 13,
      "outputs": []
    },
    {
      "cell_type": "markdown",
      "metadata": {
        "id": "Pkb0--RUUN0_"
      },
      "source": [
        "## Data Collection"
      ]
    },
    {
      "cell_type": "code",
      "metadata": {
        "id": "50qWqCALUNDu"
      },
      "source": [
        "def collect_episode(environment, policy, num_episodes):\n",
        "  episode_counter = 0\n",
        "  environment.reset()\n",
        "\n",
        "  while episode_counter < num_episodes:\n",
        "    time_step = environment.current_time_step()\n",
        "    action_step = policy.action(time_step)\n",
        "    next_time_step = environment.step(action_step.action)\n",
        "    traj = trajectory.from_transition(time_step, action_step, next_time_step)\n",
        "\n",
        "    replay_buffer.add_batch(traj)\n",
        "\n",
        "    if traj.is_boundary():\n",
        "      episode_counter += 1"
      ],
      "execution_count": 14,
      "outputs": []
    },
    {
      "cell_type": "markdown",
      "metadata": {
        "id": "YzkT-Mn-cQWk"
      },
      "source": [
        "## Training the agent"
      ]
    },
    {
      "cell_type": "code",
      "metadata": {
        "colab": {
          "base_uri": "https://localhost:8080/"
        },
        "id": "qMhKoYgIaP68",
        "outputId": "6362a5ff-a9f4-4e34-9a43-daf40faef50a"
      },
      "source": [
        "try:\n",
        "  %%time\n",
        "except:\n",
        "  pass\n",
        "\n",
        "tf_agent.train = common.function(tf_agent.train)\n",
        "\n",
        "tf_agent.train_step_counter.assign(0)\n",
        "\n",
        "avg_return = compute_avg_return(eval_env, tf_agent.policy, num_eval_episodes)\n",
        "returns = [avg_return]\n",
        "\n",
        "for _ in range(num_iterations):\n",
        "  collect_episode(\n",
        "      train_env, tf_agent.collect_policy, collect_episodes_per_iteration)\n",
        "\n",
        "  experience = replay_buffer.gather_all()\n",
        "  train_loss = tf_agent.train(experience)\n",
        "  replay_buffer.clear()\n",
        "\n",
        "  step = tf_agent.train_step_counter.numpy()\n",
        "\n",
        "  if step % log_interval == 0:\n",
        "    print('step = {0}: loss = {1}'.format(step, train_loss.loss))\n",
        "\n",
        "  if step % eval_interval == 0:\n",
        "    avg_return = compute_avg_return(eval_env, tf_agent.policy, num_eval_episodes)\n",
        "    print('step = {0}: Average Return = {1}'.format(step, avg_return))\n",
        "    returns.append(avg_return)"
      ],
      "execution_count": 15,
      "outputs": [
        {
          "output_type": "stream",
          "text": [
            "CPU times: user 2 µs, sys: 0 ns, total: 2 µs\n",
            "Wall time: 5.01 µs\n",
            "WARNING:tensorflow:From <ipython-input-15-98226520c044>:17: ReplayBuffer.gather_all (from tf_agents.replay_buffers.replay_buffer) is deprecated and will be removed in a future version.\n",
            "Instructions for updating:\n",
            "Use `as_dataset(..., single_deterministic_pass=True)` instead.\n",
            "step = 25: loss = 0.0327795147895813\n",
            "step = 50: loss = -0.5630025863647461\n",
            "step = 50: Average Return = 87.19999694824219\n",
            "step = 75: loss = -0.14154386520385742\n",
            "step = 100: loss = -1.187225103378296\n",
            "step = 100: Average Return = 136.3000030517578\n",
            "step = 125: loss = -1.8395977020263672\n",
            "step = 150: loss = -2.0010123252868652\n",
            "step = 150: Average Return = 186.10000610351562\n",
            "step = 175: loss = -2.163961410522461\n",
            "step = 200: loss = 1.0569305419921875\n",
            "step = 200: Average Return = 200.0\n",
            "step = 225: loss = 0.8586630821228027\n",
            "step = 250: loss = 0.6223278045654297\n",
            "step = 250: Average Return = 200.0\n"
          ],
          "name": "stdout"
        }
      ]
    },
    {
      "cell_type": "markdown",
      "metadata": {
        "id": "SRQlZXq5dtTS"
      },
      "source": [
        "## Visualization"
      ]
    },
    {
      "cell_type": "code",
      "metadata": {
        "colab": {
          "base_uri": "https://localhost:8080/",
          "height": 300
        },
        "id": "fOJSBMdjdZHO",
        "outputId": "f41e0594-1478-4b91-d02e-97df727be25c"
      },
      "source": [
        "steps = range(0, num_iterations + 1, eval_interval)\n",
        "plt.plot(steps, returns)\n",
        "plt.ylabel('Average Return')\n",
        "plt.xlabel('Step')\n",
        "plt.ylim(top=250)"
      ],
      "execution_count": 16,
      "outputs": [
        {
          "output_type": "execute_result",
          "data": {
            "text/plain": [
              "(-0.44499959945678746, 250.0)"
            ]
          },
          "metadata": {
            "tags": []
          },
          "execution_count": 16
        },
        {
          "output_type": "display_data",
          "data": {
            "image/png": "[encoded data removed]",
            "text/plain": [
              "<Figure size 432x288 with 1 Axes>"
            ]
          },
          "metadata": {
            "tags": [],
            "needs_background": "light"
          }
        }
      ]
    },
    {
      "cell_type": "code",
      "metadata": {
        "id": "Pgl0Rqf8dwVn"
      },
      "source": [
        "def embed_mp4(filename):\n",
        "  \"\"\"Embeds an mp4 file in the notebook.\"\"\"\n",
        "  video = open(filename,'rb').read()\n",
        "  b64 = base64.b64encode(video)\n",
        "  tag = '''\n",
        "  <video width=\"640\" height=\"480\" controls>\n",
        "    <source src=\"data:video/mp4;base64,{0}\" type=\"video/mp4\">\n",
        "  Your browser does not support the video tag.\n",
        "  </video>'''.format(b64.decode())\n",
        "\n",
        "  return IPython.display.HTML(tag)"
      ],
      "execution_count": 17,
      "outputs": []
    },
    {
      "cell_type": "code",
      "metadata": {
        "colab": {
          "base_uri": "https://localhost:8080/",
          "height": 538
        },
        "id": "-DdDNCm6dydv",
        "outputId": "c12a41d0-bd66-400f-ca85-689e4c85cd3c"
      },
      "source": [
        "num_episodes = 3\n",
        "video_filename = 'imageio.mp4'\n",
        "with imageio.get_writer(video_filename, fps=60) as video:\n",
        "  for _ in range(num_episodes):\n",
        "    time_step = eval_env.reset()\n",
        "    video.append_data(eval_py_env.render())\n",
        "    while not time_step.is_last():\n",
        "      action_step = tf_agent.policy.action(time_step)\n",
        "      time_step = eval_env.step(action_step.action)\n",
        "      video.append_data(eval_py_env.render())\n",
        "\n",
        "embed_mp4(video_filename)"
      ],
      "execution_count": 18,
      "outputs": [
        {
          "output_type": "stream",
          "text": [
            "WARNING:root:IMAGEIO FFMPEG_WRITER WARNING: input image is not divisible by macro_block_size=16, resizing from (400, 600) to (400, 608) to ensure video compatibility with most codecs and players. To prevent resizing, make your input image divisible by the macro_block_size or set the macro_block_size to None (risking incompatibility). You may also see a FFMPEG warning concerning speedloss due to data not being aligned.\n"
          ],
          "name": "stderr"
        },
        {
          "output_type": "execute_result",
          "data": {
            "text/html": [
              "\n",
              "  <video width=\"640\" height=\"480\" controls>\n",
              "    <source src=\"data:video/mp4;base64,AAAAIGZ0eXBpc29tAAACAGlzb21pc28yYXZjMW1wNDEAAAAIZnJlZQAAaqNtZGF0AAACrgYF//+q3EXpvebZSLeWLNgg2SPu73gyNjQgLSBjb3JlIDE1MiByMjg1NCBlOWE1OTAzIC0gSC4yNjQvTVBFRy00IEFWQyBjb2RlYyAtIENvcHlsZWZ0IDIwMDMtMjAxNyAtIGh0dHA6Ly93d3cudmlkZW9sYW4ub3JnL3gyNjQuaHRtbCAtIG9wdGlvbnM6IGNhYmFjPTEgcmVmPTMgZGVibG9jaz0xOjA6MCBhbmFseXNlPTB4MzoweDExMyBtZT1oZXggc3VibWU9NyBwc3k9MSBwc3lfcmQ9MS4wMDowLjAwIG1peGVkX3JlZj0xIG1lX3JhbmdlPTE2IGNocm9tYV9tZT0xIHRyZWxsaXM9MSA4eDhkY3Q9MSBjcW09MCBkZWFkem9uZT0yMSwxMSBmYXN0X3Bza2lwPTEgY2hyb21hX3FwX29mZnNldD0tMiB0aHJlYWRzPTMgbG9va2FoZWFkX3RocmVhZHM9MSBzbGljZWRfdGhyZWFkcz0wIG5yPTAgZGVjaW1hdGU9MSBpbnRlcmxhY2VkPTAgYmx1cmF5X2NvbXBhdD0wIGNvbnN0cmFpbmVkX2ludHJhPTAgYmZyYW1lcz0zIGJfcHlyYW1pZD0yIGJfYWRhcHQ9MSBiX2JpYXM9MCBkaXJlY3Q9MSB3ZWlnaHRiPTEgb3Blbl9nb3A9MCB3ZWlnaHRwPTIga2V5aW50PTI1MCBrZXlpbnRfbWluPTI1IHNjZW5lY3V0PTQwIGludHJhX3JlZnJlc2g9MCByY19sb29rYWhlYWQ9NDAgcmM9Y3JmIG1idHJlZT0xIGNyZj0yNS4wIHFjb21wPTAuNjAgcXBtaW49MCBxcG1heD02OSBxcHN0ZXA9NCBpcF9yYXRpbz0xLjQwIGFxPTE6MS4wMACAAAABzmWIhAAv//71sXwKasnzigzoMi7hlyTJrrYi4m0AwAAAAwAAAwAA+gbTUzSJ55wcAAADAkoAagPoMoPMRMVYqBLEG9YOCbiGgyICrW2jBH8LWK7M4ASN8w6JMWXRRkAWJecv/v82DXotyPeFqOPoZ1EAUPnO7naQ//8/4kqvddcwURYHa+vaPN+V798Mf9c8Ojn/38KFoXyQfohlOQo/8Nu80eABqWNsGro2Mihff6fi8vJOb4ZuPSkW9aL1LIqIACb4AANrBge3kvLoZ7NlR1kTeGLvz+XSjHJIeJWYHH7R9fMIboAHUwp3VhQEzdmhAdkNjbyWSagXf03kchUkULz+FJf0v3VI524mMOROD5k8XiQuMCn9rGP8LOoB7IRLtv+Fxyo/3oeh2Ws6ueyyleGzV86S9IKsaz0kB/4AgRBRbJusMlJ1cZtblQ/sI6bpLb8q2OFcyHQfuCCPHybIhj/LfwkPGIkZvk8OjZ71dNpJ+iQVcprcHFvyglg8Gt4iXRFo4i0gAAAf5qJ+CAcG4WHe73eK4QDODmMGxQW/zRoeBzrs5OafSc5MzMeSRYD/KN46vIeQ9bzYmgYzlvAKxOK7f1PwAAADAAADAAD1gQAAAHBBmiRsQv/98QAAAwKhF1jyqCdkFjJiAmax37AkUZ//DoRcQgzufHEC2UZAh8vS2AzKLDa6PULQFxfsRmhFfkooZE37tL5vDUZx+3gC+Tzj/y8q3AbtzFL1ylt/pEdIoonk3DBMUcvHZRjvPr2Df7IWAAAAKkGeQniEfwAAENbzHoE+25cayt58jzJl1OvO2eRoUz47dLVsKowKBPgl6QAAACMBnmF0R/8AADi3UieDdBpRuFCRWZjjP5rhoy7VK8ya+scz4AAAABwBnmNqR/8AADjB8jhRdvz/C5F4xfTuVtLkyHehAAAAQUGaaEmoQWiZTAhf//3xAAADAPeg+0R6gRx+cIPl/9q7TnRGO/l6YbQTBeYpO7C596YCcH64rTHoZcteuJZZ8HYZAAAAGkGehkURLCP/AAADAAzfN3y0oGuz4btEM5SnAAAAGwGepXRH/wAAAwAP5auGn8ndqiDoo3mYuODlQQAAAA8BnqdqR/8AAAMABYs6iWUAAACKQZqsSahBbJlMCF///fEAAAMCo7q4GJeoAKAt//DfaCSRAkTkh/cGpN/G+3+h4+lvV0Nk2YaequLwrSGZixq/obNJ3kbewT34h0oeGQD7YWVv99dKPbvmGu7Qjz9VWeroAswIxzvqEFZYqkUbtJV2dOLF8k+0TSw8ZhhiJ2gsMVeuBn7CDkUtIXJAAAAAMUGeykUVLCP/AAAtSBccLfmxs+gcLZ404PK2yCaIq32AB1gLhnKDE1dlIfKhzKPd3KkAAAAeAZ7pdEf/AAA4t1J+SqE1IgnVYDKdAkEjlwSga+o4AAAAHwGe62pH/wAAOJBBnR1EilpqCu7PCVYy4HLTRDX198AAAABUQZrwSahBbJlMCF///fEAAAMCoNXm0CXp3UeABaBMDZanaLlG4H6OC13Rx1Rm3flQTRMGE7MPhSo3RsIfMoBFNZvL5Gf921VuHHha7RX0iFBFop1JAAAAIEGfDkUVLCP/AAAtePQeAzmMnoTfz2na/br5BnQLJuvzAAAAFAGfLXRH/wAAAwMRjwS09MKAoe+BAAAAGwGfL2pH/wAAAwMRfS0U0OcUBCI1SIiYBRWDtwAAAGtBmzRJqEFsmUwIX//98QAAAwDycWgFDnqewFCgiKX+aH6XLsSSprpnAM2rOIa6gxUXab656eIclmNXrdMQ/w/04NHBN1b+zcjvWIdlSSQhT7LqI/dU+FAU0vlTNlV+TVEgdkdPO523/ddpQwAAAB9Bn1JFFSwj/wAABkeIRnBr8tu48d8sDGnvA5YodRtBAAAAHwGfcXRH/wAAB8CxLbyAA+qO9yczQKiOlJhhqV+7eDAAAAAUAZ9zakf/AAADAw+rxqOgG2EAEoIAAACUQZt4SahBbJlMCF///fEAAAMCnjo9ihAFoxwHl436yUlRc7WwPimLgwOAaF70+eN3t3+jz7qwCzn6wZlNLTumRdUnCqJsedZ2X79JN6rR3tMQgarV0SDthw1CxHHUvdpVfrdVGW6BhUfMu2dXhsCvDfrFalRsehbSDyLFME8YzrbI7nsGZOmrj8/jeLhrolNDdcRqoQAAAChBn5ZFFSwj/wAALXjFJVOLhxl44Re4X5HZKe2h9FAx+XCvGv+mMijgAAAAHwGftXRH/wAAAwL9lSxwOUCGhZUjyp7FLp5OfFcH9IEAAAAvAZ+3akf/AAA4rYhlXvdKprSc472fSicI/cC4Z6u09k4ABsLPb2LAcAnEdnIcAS8AAABVQZu6SahBbJlMFEwv//3xAAADAPhGx1vB1CaWE+kOR3fr1f1YHNRWADk8mEfexi4qfuGzo6r3nH4UQdbP4kQpGd74hGDuAL+eo4+ts/QYDPBGHsBwIAAAACYBn9lqR/8AABWXUOV95OSSDKZ2OitsmQyUzcwLSBpGAI7TWIXjgQAAADlBm95J4QpSZTAhf/3xAAADAp/vMegLCaAtnsyvvauya2QzxKsqO4AKsK2rVQn6uLnJrGAr+MGDg/gAAAAnQZ/8RTRMI/8AAC148nrbmIhlK0W/mHnRHjW9DPQ2uXoYQq2VhHvhAAAAIAGeG3RH/wAAFZDUCxIjIlTZnkiitEA4b3RAfWP2AKmBAAAALAGeHWpH/wAAOJAy5gYWu9pGF0WmYyz0PwHABtJIhnXInieMJV8A/c0yxOSYAAAAR0GaAkmoQWiZTAhf//3xAAADAp9FPgE1zXzDE7+h38xbKP0HnckRKTFBPk3ucpvwGaJ9ryBQkm7nSJ3kRhhb8OuyaXeCeGQ4AAAAOUGeIEURLCP/AAAtePAe7YoYgAtMYPQIYReGfX58dzT+/oOC3HTLORxMdwm9hvY2zvvldaRyQtTHQQAAACIBnl90R/8AABWXBkLUEfM89hRy6YQwgAK5EC9sNNao9YoIAAAAHwGeQWpH/wAAOK3lp4dOyFkweotpk1RY2Fj8F5CgBVMAAAAvQZpGSahBbJlMCF///fEAAAMADT+Z+IEnXq7anAHHz6DT9myzUHsUs6q26fRPRnYAAAAbQZ5kRRUsI/8AAAMA4k2lV0ybGkcPF+yRna99AAAAJAGeg3RH/wAAAwEdJMm8RIATP+ZnzwAjIChUUH28CMWZS1riAwAAAA4BnoVqR/8AAAMAAAMCpwAAAG5BmopJqEFsmUwIX//98QAAAwKfBxURAAoNcv4EQo9btMf9EX3i92W7tQltSyPsH9vlBfTbU83vWJRS1VOYmGGfWMlvDMzeaPjR0AzY+nc8HvWM4XQKUtFfm0P6Y2CCsnwkVPkr2nX2ftYuLmCMawAAACJBnqhFFSwj/wAALWVhZkYFExLZWOG0TJmoBH70ELFj3eDAAAAAJgGex3RH/wAAOLDpDeFuhtekS9hAC25vAIUOCDSy2GRLbf28kRiAAAAAEAGeyWpH/wAAAwAF+j3AUS8AAABnQZrOSahBbJlMCF///fEAAAMCn0U+AavlfhEd8hJDqNru1CW1rp80MkgsXfT/UIgR6Hkx9HdcdPNlWUw+t68LHS0wKr/GEIYfupRKpzSU7snUs+n5OejdQIFvxArq8WmnO2LHJHphhAAAACVBnuxFFSwj/wAALXj1bcpzs4sYvKEk2MOeZ4WIRKqggQhgl/cGAAAAHgGfC3RH/wAAOJ4ukv7kCx26JVd2bGD8MalA3vHvgQAAABoBnw1qR/8AADiQRDVnP4Baw9S0Q6KP3rVnRwAAAFJBmxJJqEFsmUwIX//98QAAAwKfBSoMQe81rR52bhfM9p0FmOo7AGi0ePREV8XPrMWFmOp1ek6kCfCCoCdtmEI5v8Q0Mxcw4rGKOxWLWSmZ5EHvAAAALUGfMEUVLCP/AAAteMUiZWAAsEANN634UH5YT8NZ99DxAZFhucQr9xEgm6znwAAAAB0Bn090R/8AABWNyB2ytauMpF7dqka6XQOylIAk4AAAACABn1FqR/8AADiPP2+MWwydM9vQHmvX1zbFh+TcOZjc3wAAAD5Bm1ZJqEFsmUwIX//98QAAAwDycWgAa5cpQQLP70LgJZ7x7P965Jusb7oOSUpvjabJiLkWXjze7nfsmcwhlQAAADJBn3RFFSwj/wAABnJCpDTwaNMzN3KO3jEZly0DKFyaCqAExqv/iB7/qHqof1x3JJnJyQAAACABn5N0R/8AAAMDD3nsJJVEM4vQIWPQWx4bcIE4pNCAgQAAACwBn5VqR/8AAAfynlxB7bpeE3GIDlAlWsC5gHLOAFm5zA2haVU9S+FZVHHbgAAAAExBm5pJqEFsmUwIX//98QAAAwKfBR02ZjNUgIUz5VBd75Yd3KGRecY5pxsrG4Sy2WzHKGXe0jRVCL11Nhq0S7qn3CKZ/e32LvLTOxwHAAAALUGfuEUVLCP/AAAtdpQ0Y9fDBLZWrEBIaACU9LmjI4grsPzJhZtNtVTWAUF/MQAAABoBn9d0R/8AADi3UktOVwSt5FhywzN2FpWvgAAAABsBn9lqR/8AAAMAKh4DSOlRaHfGTKpf5T91bMEAAABDQZveSahBbJlMCF///fEAAAMCn8VSgQANswnWhcSoAhCRAZaR7oC20TWNLh9vCpxS4MUherfRanZMWEUvezzP2MtdTAAAABVBn/xFFSwj/wAALYbPhzXAck/fM8cAAAAhAZ4bdEf/AAA4jpNTAA4fkNzFoAJ2SN0cByxwUuRc+hQRAAAADgGeHWpH/wAAOK3gAAHTAAAAN0GaAkmoQWyZTAhf//3xAAADAp++HmQEkAaf+sGaCntRWMr/oUIs/S8xKSNm5Yvu9BBNafW6AfMAAAAiQZ4gRRUsI/8AAC1lYWZF5zpMTL2wcL8BzX2AhenIcpCdswAAACEBnl90R/8AADiE3xcDEgAunN3Ry8sb2Gfy/0BK0e5gHbgAAAAbAZ5Bakf/AAAH8p56O9jAskDzlqv3bjvB/AgJAAAAXUGaRkmoQWyZTAhf//3xAAADAp+YFHWoaAD7Z/DJbLzh3Qjl7hN8spE+PM3mZ+juvzc3hyar6jSpQsHaUgFJ/qJTu6JkUZGmvjCGpuzEzq90dbLxuU6ygN/6XaNHgAAAACVBnmRFFSwj/wAALXjFMLX69G94M0eJ+qBm9Lk9t6MRA+IwmjtnAAAAIQGeg3RH/wAAB+ywAbwALpzd0cmHiXkCPZrSESr/nWkkwQAAABcBnoVqR/8AADitiIEP8DHfsIzv2PcmpQAAAElBmopJqEFsmUwIX//98QAAAwKfyDPc4bDQBX/e6G4uZTJx3FZgN2s4m0kek3j3/Lo025EHFD9duFIF05OZEDadcsgGkyEq3291AAAAIEGeqEUVLCP/AAAtZcIauhHxut/EckFwDF2tBN8tzSAgAAAAFwGex3RH/wAAOLdSghq4mXhd6uCjdk1IAAAAGgGeyWpH/wAAB/G8tVgNNTo8w3n/WgkcLM2zAAAAVEGazkmoQWyZTAhf//3xAAADAp/y5hR8AObsAfGXBfCOMrOH/pSHal6dEGqC2OrzW9EZHnUk8mCT9g6pUKmf9Fk7pEpVqKrmRv3VzxQb7aizY4mceQAAACNBnuxFFSwj/wAALXjFMLo/LFAaewdgJBgQ0P+gEntFFWPBgAAAACsBnwt0R/8AADiw5ZyfuKQAW/ImYZoHGPdfKbc/BzfYOnEGbPhnTyT5OftnAAAAKgGfDWpH/wAAOKnC5dACaQAXB7rRwKfRhrZceNLDsM2hkktF6UF3fWDtwQAAAC5BmxJJqEFsmUwIX//98QAAAwKfBRpbQlugEdj15f1Pq2ycO9TuMVJiGL/NvAEnAAAAH0GfMEUVLCP/AAAteKXGZop6AExPAWbeglmnqanRAc0AAAAUAZ9PdEf/AAA4nfM2xDyl3L7yARcAAAARAZ9Rakf/AAA4jz9vi/QAWUEAAAA6QZtWSahBbJlMCF///fEAAAMCkbq5YnZIALCw2rAPusvp3dxNbon/CWPWtI/RNKC5/7/5+o9xRirmgAAAACZBn3RFFSwj/wAALXCfF+YAOKuiJ+MYOgbAcn3AkLRbWgEW48tnjgAAABIBn5N0R/8AADi3UnwEdm4znjkAAAASAZ+Vakf/AAA4rYh+Ajspi+eOAAAAUUGbmkmoQWyZTAhf//3xAAADAp++AyaV4AnmvNmMR7xOks87JYuEnlxannIev7WMl/TrhE9UwrFNyiHvvwvg0DqqPVeEThbxPFF/LwN4XMjcuQAAADpBn7hFFSwj/wAALXjLC6wAEXe8yhX2030OUcfMLV7U5W9YGIJx5LfXtqKxaL+UNjqgQbbS5zwB7MgJAAAAGQGf13RH/wAAN1lMOR/1K8zmzKIij1fDBAQAAAAsAZ/Zakf/AAA4wf+QcOuj4IvcAHGJGnhVgI5v2NU1s5sy4P0vREhUmxF4kmEAAAAuQZvcSahBbJlMFEwv//3xAAADAPJzx4Aq5zMbGh/jhNUF+H3qJWoOjG+T7OTKgAAAACIBn/tqR/8AAAMBIgjbjF4Y24Wp875cJRJHlwUICAzeE6+ZAAAAREGb4EnhClJlMCF//fEAAAMCn5g86AUwkPj53GpP3qlf8R7u3ksJZuM70qGw/7OTAgbIYUNGyCzXVVdo8xiaTId40FlNAAAAH0GeHkU0TCP/AAAteMUvrKj8JCtw0MwzG4CE83fsj5cAAAAhAZ49dEf/AAADASUhAZwMSADi+AGe5npPgZR0twLF+4+XAAAAEgGeP2pH/wAAOK2IfgI7KYvnjwAAAEdBmiRJqEFomUwIX//98QAAAwAB5uriYlK03BrEADCHrTG3GNWs7cgsNt0+8fESJOJjb/Hfxu8PH8qhgug4deB3K/DhkRu6xAAAACtBnkJFESwj/wAAAwBYfE4LQAnWn3v3289DtWIu3+o2sqI+DjqbMjas4+2ZAAAAGAGeYXRH/wAAAwBuseCWn1+53v2+M87bMAAAABgBnmNqR/8AAAMBJJQ5O9evTQ10x0aqakEAAABAQZpoSahBbJlMCF///fEAAAMCo+nHkjKyCfl2AAiJcr9VI/+eWFHuysYKI4NHLDChs2eG5/q0HaIMAvgWMsp9wQAAAENBnoZFFSwj/wAALWP8BRxkgAtXE48QY1oTJo3IgI6ttaH2m9SzH/NJAieDqc0kTRfxf+q3sjpRKhkt/j7+DXAQydsxAAAAJAGepXRH/wAAOLdSS04IWvTsC1II+WQyRgEKNivezRZRExzYMQAAABsBnqdqR/8AADdSLj5LeclNG5DKkAw0Px1U5IAAAABBQZqsSahBbJlMCF///fEAAAMCjdC3QA57pxmnS9CMTLiXlhUT9zi96kyo3OSpGShMSZarP5hf08+IW/BkmvMNgk4AAAAbQZ7KRRUsI/8AACxlUhmfusg3jo6rvzW3rlYNAAAAFwGe6XRH/wAAN1lLL02ZbFAnLoMga22YAAAAKgGe62pH/wAAN1IsiUoc4NolizjAAjHVzKwpVLCsUcxxepBlIiN/Rv+24AAAADFBmvBJqEFsmUwIX//98QAAAwKN0LdACw+V+hydRFbL2QGgr1M+Rirkzcc0kXVSyJuBAAAALUGfDkUVLCP/AAAsX+TWw6C2cACDcl+1Fs0yTMWKaJWVLAJIiC5dXtbT/uhwWQAAABkBny10R/8AADdZS0ckmahk7wRMrfjaLwWBAAAAHgGfL2pH/wAAN1IsvRyi0DdCz3PKVHouvLWG2DagsAAAAGJBmzRJqEFsmUwIX//98QAAAwKNBTSY8UAFEEkWgPiz5z/adHUtRz6R2Tn2upYHqFCdnZjLHgz7EWCJKW4AS3XIiCWfG1UiE/gpcQFlciF0cgFVjoiAV3WcGWMuRCr4gW2+OgAAACpBn1JFFSwj/wAALEYAaCFJCABCQHaDnZoCjNDfDVlSrLUR5Y/qdej6rgsAAAAVAZ9xdEf/AAA3Lz+wmtc5atb980UwAAAAHQGfc2pH/wAAAwL7rCEAY7eRk0JeRrzMMkGVLwWAAAAAaUGbeEmoQWyZTAhf//3xAAADAo8BO1DXgBYexFMxy/6c2JTFYHsxYJGF7KABAOhAwiBym84ia52X5Pt50JRaLFMfzOud1UetsHblTXjL8/+oA+tzyNep61S9xDOqJcct7zB6JFyrd8ux3wAAAB9Bn5ZFFSwj/wAALEYHe0jzdBPGGGFKPTiuryo7hSOWAAAAEwGftXRH/wAAN1lLJbuTp52PFvUAAAAaAZ+3akf/AAADACkHXCUT1ZrJSKS2msI0ep8AAABbQZu8SahBbJlMCF///fEAAAMCje893oAWHyadlbXdnRKVnVNLAd2L9mgZtMa0dxXygfpF2zYC7rYXlOfv8cjnDIqD7ugFWNnc3zxSiBK5gSIpWMtSeKrwhKWgeAAAACFBn9pFFSwj/wAALFjxmGKT8lnnbWDwdEgAAnWeszbbN6EAAAAcAZ/5dEf/AAADAGu225i3Y9jgWQM4FLwtBDqTYAAAABIBn/tqR/8AADdSKd6OdZ/sLoMAAAA2QZvgSahBbJlMCF///fEAAAMCjb4NRs3zPa4bIhCvBRtN3Js06Uk+oQB7tGhQEWa/RYlc8RgtAAAAI0GeHkUVLCP/AAAsMs/8wZB1mYyK1SDltEW4vcKxtP00bkcsAAAAJgGePXRH/wAAN1lN9ILgACceeSMW+S6yHM+yLFRz4m8Qp0GMyOWAAAAAEAGeP2pH/wAAN1Isg1UYiZ8AAAAmQZokSahBbJlMCF///fEAAAMCjfXEwAR7yaQ3C+gSMHAHMxfih4AAAAASQZ5CRRUsI/8AACxGB2PU9bN/AAAAEAGeYXRH/wAAN1lLJZeqJnwAAAAOAZ5jakf/AAADAAADAqcAAABSQZpoSahBbJlMCFf//eEAAAMD9ovumEEAGWn6Hd/yq0sYLWPS6n7dFdDHFFGj2pqOln9texERmG9f+6zkGA8zwpM3SxDYCchme4DHlmVbARfp9wAAACVBnoZFFSwj/wAALFjyGLSNzAER8/fctdORaCA676j0w4hHoeMpAAAAGQGepXRH/wAAN1O5DR0kAJW5Qie/V/iAGLEAAAApAZ6nakf/AAA3TsWvrJSzgyAD9iqLq3thu7qYpdrDKRWwW6AkdVk8nHAAAAA0QZqpSahBbJlMCF///fEAAAMCjQU0qYc6QJ7n2GtlfEa7LL4tS6GF0jRGFvLBCHs190lJEwAAACRBms1J4QpSZTAhf/3xAAADAOzdMw9qo1HKFW7IJyesA5QI3oEAAAASQZ7rRTRMI/8AAA/c1FsQ64NSAAAAEQGfCnRH/wAAN1N7JERnmkhYAAAADgGfDGpH/wAAFHHsgAQNAAAAK0GbEUmoQWiZTAhf//3xAAADAo8A6b8ABVL5WWMG9IqKhJDS0GOr3dQdccEAAAASQZ8vRREsI/8AACxGB2PU9bN/AAAAEAGfTnRH/wAANy9IhNbcRV8AAAASAZ9Qakf/AAA3CkeCDUHYc3rgAAAAYkGbVUmoQWyZTAhf//3xAAADAo0Fi6AF+J35QACWhkAWXJEnyCeN6tbSYcmePN2o6eNyFJ5hE8fJ/9WbBUM/Esbx0fkz1Gg7/WmBAi/m54CynEX6t6m9S5JLYJDDPOKGNs5BAAAAKUGfc0UVLCP/AAAsX+SWaepgAQbkSNcMZEhIOlDUfhpGAs+i3Px7rrFSAAAAIQGfknRH/wAANy9avLZGfQCN3rMomBJhAZQgdzoCY9dHpAAAABgBn5RqR/8AADdhOwPr1/eZ7BCkuIb0LKEAAAAdQZuZSahBbJlMCF///fEAAAMCje8x9GBVfd/Mf+AAAAAXQZ+3RRUsI/8AACxkfUyjJXkJojkaoHEAAAAQAZ/WdEf/AAA3L0iE1FMkfQAAABABn9hqR/8AADc6uQanBkj4AAAALkGb3UmoQWyZTAhf//3xAAADAo3vMeodCACZcOnvbyg1BenSKCvqdCYJnN4AoIEAAAAVQZ/7RRUsI/8AACxlUcdO6JjIzNr4AAAAEAGeGnRH/wAANy9IhNRTJH0AAAATAZ4cakf/AAA3X6fi+BPViQboIQAAADFBmgFJqEFsmUwIX//98QAAAwKMQE63Daa+nPLqviENxEwr8Cgu5gWV9w1gSu5q66pIAAAAJEGeP0UVLCP/AAAsZH1Q2VcwXSi/DGoFNoIDiRzw+vW8KQ/N6AAAAB8Bnl50R/8AADcquZb+9OT/cVaB1NdC6Y+5gmH/XO5xAAAAGwGeQGpH/wAANzq5ekQVmM/WrHe1CXmktCGlUgAAAE9BmkNJqEFsmUwUTC///fEAAAMCf+nQ148+yKNTDSdQ0Rq9bNcqAJg2V6FEt8qd1Il4KxJaWboZhE4h6hfVTt11pyAs7g2nMB5JBii2kcrpAAAAHQGeYmpH/wAANxLbUbo5UMN/SXvKi35/d/7xho3oAAAAFkGaZ0nhClJlMCF//fEAAAMAAAMAHpEAAAAiQZ6FRTRMI/8AACxf5NUSCz8tDt//vWXxvE9LwY7PtjIqsQAAABoBnqR0R/8AADcvSI02vXmdR3QKWiE/a8RBPwAAABgBnqZqR/8AADc6uRIVn+jhs40e5X+lAn0AAABQQZqrSahBaJlMCF///fEAAAMCjrTkLQAFgm7ZQlgOlOOPavOmCgrSWwIa4YkXNRqhntc45ZTeg3FLgHHh4FBGx8TdpXvyfHsyH6jxFTVflxAAAAAmQZ7JRREsI/8AACxlSAREdvK2vulR/TBK4GL/sNBhkK+32wQx4FYAAAAjAZ7odEf/AAA3L08bVnqqleM80ITL6rpFqtUmAP0dT9Aa/MEAAAAnAZ7qakf/AAA3YTo61ovhR3QgAfxnpz5BrNfg7QDLpIVAcp4x70xsAAAAXUGa70moQWyZTAhf//3xAAADAo3vMfTSNFgBSXGmE4kPxRgXBPN2Glacnd+A3pgxqIBowhhA4EU2gj7nq1uTJEyh1bdJibz4gosNTqdSwDwdhkVPbtkJ7YMZnbWgEAAAABxBnw1FFSwj/wAALGR9TKiqgkgMYz9yFnEldwYJAAAAGAGfLHRH/wAANy9IjXsAJv1pLMeVw/XqFwAAABIBny5qR/8AADc6uQb+Mu/Q4uEAAABNQZszSahBbJlMCF///fEAAAMCj3FZMuLjMMFW4XzYAAb+8IF1bWZn5OtQ7gcpsaBdAlu0yFfZ6rLLf3/PPr9PUtY39rFdqgZ2YYce4IAAAAAuQZ9RRRUsI/8AACxIVQAOMAsCmeHmI91OwjdQB+REKLzaxq/OUAr46txnImJcmwAAABIBn3B0R/8AADcvSIUbGsOg4uEAAAAlAZ9yakf/AAA3OrxpSiyIyhsqV4AcVGf3TXWBRxGiWqEbRnQoOAAAAC5Bm3dJqEFsmUwIX//98QAAAwKOtQz6AL8BiNtKoK2ewTvA/GDsHT6uX5lwnKuAAAAAHUGflUUVLCP/AAAsX00ib8S7gFy9FOpj796H+9LxAAAAHQGftHRH/wAANy6fJsm5PxO3/u7F82eIxRotJ29AAAAAFQGftmpH/wAANzn52Alyh3e+kTTlQQAAABtBm7tJqEFsmUwIX//98QAAAwAAR019vz7lGfMAAAAXQZ/ZRRUsI/8AACxlQVc0O9AkW7KdM5UAAAAWAZ/4dEf/AAA3ED+EY4CWjnGp+3Zz3QAAABMBn/pqR/8AADc5+dgI5O6oEqjuAAAAWEGb/0moQWyZTAhf//3xAAADAqPJ3Pvz8SAA4Of6ksFcT1QsIg9bI6kGcFaFeLNpr0SxPL0OmFBpwvPr6FD+n0Howd13q5lP7HTwV8hO5GMkEIm5VsrTphUAAAAqQZ4dRRUsI/8AACvLV02Qy5TQAliR9sxWhIOhz+5QTxQ9ZghqxKCGSI8FAAAAFwGePHRH/wAANw/1ZkilOVV4JhKn3PHBAAAAHQGePmpH/wAAN2JXJKCMymosRKomOEPI2K2FonOmAAAAMEGaI0moQWyZTAhf//3xAAADAo2vuPAE/wurhAE12+1VcSyKV8oVDn2RCx6q8jrrYQAAABxBnkFFFSwj/wAALEVhtWTID4gk9rQbGxk7Z5b0AAAAJwGeYHRH/wAANy6fbFP6EhEABMudLx1dBFFKS3unKhZELYPoe+MOmQAAABYBnmJqR/8AAAMAKOMZ/U/Hv5B3WNcEAAAAHEGaZ0moQWyZTAhf//3xAAADAAC1UJgAZ4l+xO0AAAAiQZ6FRRUsI/8AACxf1z2aHKsgJYACAcmnOvqibNnm/tvCkwAAABQBnqR0R/8AADcun2wEcEunQHLsaQAAABIBnqZqR/8AADc5+dgI5O5YUkEAAACjQZqrSahBbJlMCF///fEAAAMCnvM1sf+3LE8uMgB0Ct5gWnyzDvfiFV/Ar7UFSR8yzQloBkM+KN9kHrusItH5JJLEdJpsSQiecF+9dEiA5yahMoPRQCVfXdrzJHKcEHiHlDhqPgeLccseG6DvW9VLnJ4oweYev966JpE7tU48L7wE/ZsiyRrIDgcnR7GxVFAVINZkveLU9NYHKz7GiWAa6bT40AAAAElBnslFFSwj/wAALWVeA8tC8fc4Ndz5MUKRQAgdOV6OXGb37fNABqb08jUj58CzX/FTRDgf5H6UchnQU11aZpE5xwB8497TdJw4AAAANgGe6HRH/wAAOLZ3u3vOFYdc2DRXFHoAP2Kj3tR69K1KRVFpBzCnfDmKyo6nBibLFWw7UO6dGwAAAB8BnupqR/8AAAfalCtipdF3aJEHgPxeRLsHKxTOhtuAAAAAUUGa70moQWyZTAhf//3xAAADAp7+u6GTGAmdzEC3ylXKikc8kTLBcMATvlMUHPqpv14IlbuwfMA9YNNTcGxx3i7gdd3+HAmAJvcUS5AfFGQFQAAAAC1Bnw1FFSwj/wAALXjxkmUM3MEsoGX3KsqZ4ATc2RjvN5NGqfUuShizR0J8b0EAAAAaAZ8sdEf/AAADAxBQq2anYH97Krkl5kEI6YEAAAAkAZ8uakf/AAA4jz+ATP/tsXS9XXhWkxjle10LqrzcyiZq2cFhAAAAcEGbM0moQWyZTAhf//3xAAADAp+80jsTt6wDUp9QCcb5RvLgmlpvXwFuHkquUD3RSpEj5pAwhQYSN3HMC1ZN/zugZbOcTXg7p34nyvCuCoNC3XxkqK7IC347uhLMwNQsP83f9+IrPA9PlPHC+qPh5TwAAAAjQZ9RRRUsI/8AAC14xS2S4kRvyIPka0APmq7h6XcHL9nxgsAAAAAtAZ9wdEf/AAAVBxv7pojAkFJSACWit8o0SOzf8/AxHDMcXnJvI2xRquEgJDehAAAAFAGfcmpH/wAAOK2IfgI7Kb22Elg4AAAAU0Gbd0moQWyZTAhf//3xAAADAqDV7dgCNM3xKEBDrJ4Z/dZ8RQiaUllMcNxEFyEQvXfXn8gIKdAGDbrehf9FtkffAGs6+hmI0z+8JNEExz6EsQ1RAAAAIUGflUUVLCP/AAAtePAe8ZUnVJ8rB41ujter5L9ieWcAsQAAAB4Bn7R0R/8AADdZYBkRKAxdx5Y+LsgOn/jLTVo+zcAAAAAZAZ+2akf/AAA4jz/4PiISr3+vO6sAIw8kwQAAAE5Bm7tJqEFsmUwIX//98QAAAwKfvYboAhD97M/mzqFy0qbj1u6EGKxo7fo++KfgScJ/n/+VsLeQKbRjUj6hnJAsWBpGLSSdP/bhv2iaQkkAAABAQZ/ZRRUsI/8AAC1mA1OUvB4vvUAB+BJj+jtaRaCoE1qe5ULgS+el1Haatp7pfC3nEv8vQRdMM2imzJz22UBGKAAAABoBn/h0R/8AADiFiv33IFjdG3s4e0HzXocKmQAAAB4Bn/pqR/8AABWjpKZ/uqcTBFw7OL7nmFgAe1wip1QAAACKQZv/SahBbJlMCF///fEAAAMCoNXivbJ/lWiQBRW99lHj3GdM2fKoBDoQ4eQWW5Q9aWVWj0MF6Sr/qQmOYVlWSrNZmyV30UMxzY3h+mM4zR5vedrlxDzRDOE8GHR2q81J2XFJlmObgGUw5gj/o98homUGiGE+Fx3L0VX31UlUzAnybfD6GS47leozAAAAMUGeHUUVLCP/AAAtZWFmRqFHbwubZ0c7dRdlIuga5gJRQtw2VXKfHovQpEWpbq/2NmEAAAAhAZ48dEf/AAA3L1qM3iu+HM6q1AxlsuHm41z1FEYYONmAAAAAJQGePmpH/wAAB/Q/8hc1UhWydoRQj0IZGuh2MS9tDABUvxcjxGAAAABPQZojSahBbJlMCF///fEAAAMCn0U+AOX9957y4hytbLcJ02DdSIP89kcWjiAOds4r6+ElyYBhTCH/fqfpGkqF/kxshp9IO24xsrU1KYseuQAAADBBnkFFFSwj/wAALWYDU5UQHWssQ2jGSYfqmbwJDnS40RdkDBtbU9ySjFx3aJ/EoooAAAAdAZ5gdEf/AAA4t8IBh9d8w5KA4Idvzd6K0cBT6akAAAAdAZ5iakf/AAAVo6Sme7/V2o/CAGOOFe5HDkK1EnAAAABcQZpnSahBbJlMCF///fEAAAMCn+7/IQBu6uORqgfmcnaCQBm7hfHXUppY1mi90dzadQzVAPDaWUhV0+RmsBX4Jff+88rldUc1sIpf4mLPZMCVIDG8/7+NgN0iYMEAAAAiQZ6FRRUsI/8AAC1lYWZITY3e7c3AH/9luzovbmE2T4OGzQAAAB4BnqR0R/8AADi3UlBZfpirEjtf0HPbghGc/gwAC2kAAAAZAZ6makf/AAADAxBhBWCqXdRgSqOiQ01hcQAAAEJBmqtJqEFsmUwIX//98QAAAwD4E2A2gAc5/pgLf7qHQuaah8sK7SWcrhMDNLV4+lfwEFVMdV5yQXK/kAnztIciNNAAAAAvQZ7JRRUsI/8AABDfV4/EegBbaV8U9JXko/blYMMi+vTKtLjC6drMtfngA0nJuSYAAAApAZ7odEf/AAAH8upKC4PTFAyA5SWFLoAQazP+sIWJEMhi3LdnOF2D4MEAAAAVAZ7qakf/AAAVnNq4KWyCvOn9yIWAAAAAbEGa70moQWyZTAhf//3xAAADAp8EpTDcAcw5Lmn8JcR3Rqe0z0F8gIHhkV602BqsyxCqJcMMrjVjWxJ3UzHq46hS1nJu28GiJ0Hlm/ZSRAUFFqo4lovPUJON/3aE95PXdAI6HJ+W0vhO++/ZYAAAAC9Bnw1FFSwj/wAALWhVABGOuNVtWza1idhy4sCfsFNyt7utZzOVt67r0GZBorEJgQAAABMBnyx0R/8AADi3UnwMjUY0mnB5AAAAGgGfLmpH/wAAOMC/6kQKDqB+hgcGwKl339YpAAAANEGbM0moQWyZTAhf//3xAAADAqDVUPK7/qqNsAITj5tfmFtW9O9DbYaPaTP0yfw9c1s7LaAAAAAZQZ9RRRUsI/8AAC1mB6ZrZsJ1wHyX7z6tgAAAAB4Bn3B0R/8AADiFiNr+5AsmUFr7HJOQOFU0p+exfg0AAAAdAZ9yakf/AAA4whLh/UKiNE8AJn/JS0FARcCCA2oAAAA4QZt3SahBbJlMCF///fEAAAMAXX8eMASI6tic81F2f2YYE2jjoRcp5DmSH0LKrQDCmbGL0tqVTZgAAAAdQZ+VRRUsI/8AAC1/RmJzXULaZInD7XvPdysIO6EAAAAVAZ+0dEf/AAA4t1J8VDCXx6Pc4KaAAAAAGwGftmpH/wAAOK2Ie2NVfwryFAIZm8cz+fokYQAAACRBm7lJqEFsmUwUTCP/+lgAAAMACPz3y6IfoqPhhx8zxaqB/YEAAAAVAZ/Yakf/AAADAA/bzrEUyYcLc1igAAABiGWIggAO//727L4FNf2f0JcRLMXaSnA+KqSAgHc0wAAAAwAAAwAAFgn0I7DkqgN3QAAAHGAFBCwCPCVC2EhH2OkN/wQj6yAOPzfU6CH44w4GAABNIdd/bdRDwLxKmh4gHj+LMFTFvTc/TKoj/EhIEyBmMPQcPY/O7MmGMQUFESvgISo1xrymeG+ZTbKrw9N1WRIB0QD+kuCQftRlkcGNVCAoBZVkj1Cg/FVIiM7Tof8hFLpAKAcPeAuis4xMXf4ihpmppNVZowdVBjfhYBiNEdxbDISNvgAAQ84NVWXWoGcGnQ+abj59lEXh0UQhpT7NwMmZaf/xiqax83yNXuxM6s8Yg84xi9iQg2euBDR0E+47/GBOfR+XfmvLY9C2+60HKcVHwMbhSe4r0BsaedmrK/FPxDpBlYWBBqxlF1ZWzQY2rgVguVebIOaCmGIYVwSEV8b7yi2cwUTnfIe6u8mM5Tal+AH3FCqBbHw2/WDoMyCa+Luq3VkROAYJkY2mC7vAAAADAAADAAhJAAAAk0GaJGxC//3xAAADAp9bRQIACtsOYNVWbhYmFAGD7Yo5EbEk7sYEmwfKQRgVFRXtzu4SMepC8MCppkpYjNK98MoCd9Ushb7SSuVGwfTppA3HqBw/6VDRTNK4gUPJ/DjJSpGBiGR/cFiM7z2CTumXQMPV6cH+sA7jhVTxaebaBCAckHps7TnUTalYUSw0jTnkYuPw4AAAAEdBnkJ4hH8AAC1NjNLRFdOa4ACFCgziN9D5aSM6Cs/6JbuKO7LQTx4Gaz8dRtIFw7w1miHXh5u56VMQ07yt1gVwh5ZmLEAqYQAAADEBnmF0R/8AADiE3ybKGaQd8POon4Nrc761YwAbq02Ufjlk8LGUFrPIBjSazOTKoBdxAAAAMQGeY2pH/wAAOI9ABDWLwGvsD1moOyTqI4LU3XPfC9vWueghoSk1GIGwLlVZ5dTLBFwAAAAyQZpoSahBaJlMCF///fEAAAMAAD9lvroQKqDfdePh81INLWhvDRvjRtPQAAzu7alUH+AAAAAfQZ6GRREsI/8AAAMADTZLlQJ21neo4rgAABdWEqgQMQAAAC0BnqV0R/8AADhrX12qk/22ADZc03+9ut75KEUtvrqkZ9AAAAMAAAMApWvhAm4AAAAZAZ6nakf/AAADAAOJd0dhwJCAAA6zVPCEPQAAADRBmqxJqEFsmUwIX//98QAAAwKgbKNeAK3cDS1red/9ULDPUFKJrxQwEUX5HwNQerAgKGzAAAAAFEGeykUVLCP/AAAtZWG1RT0+FzxxAAAAEgGe6XRH/wAAOITfbARyRR7sGQAAAA4BnutqR/8AAAMAAAMCpwAAAGVBmvBJqEFsmUwIX//98QAAAwKhqae6AANDhFQaUzu32b0oUqS10dOsrMRfC/ymHzrTKrhSfjW6YTcZQhNBIJqfvJgq/BodjwVLotPYsrAS4ND+OwoZI1/sGSVrPEBophWq+20/DQAAADNBnw5FFSwj/wAALVOQ1tAAW00r+x/7LwBN1B/H96KWXDHv86qOJwfNcv5dYFwYDG47+XAAAAATAZ8tdEf/AAA4t1J8BHZfWG4UEAAAAB4Bny9qR/8AADiQSw5S5+hLkSGSxh1ofjLQmsGC1s0AAAA5QZs0SahBbJlMCF///fEAAAMCorw9SmfgAhBAJB6cUS2ycKmCynPpHi5eRICW55/ZJtDxsP6UlQ1JAAAAG0GfUkUVLCP/AAAtTMm30opp/kl7fNIMqZR4sAAAABUBn3F0R/8AADiE3ybKA6mF7D7WHqkAAAAeAZ9zakf/AAA4ZD48jSxoVp/+mo3Ee4/wAgKBCHkxAAAAKEGbeEmoQWyZTAhf//3xAAADACKkRl2Y/5oAuzeMu8B+tIb2PBCeSvkAAAApQZ+WRRUsI/8AAAMAH9sywBHVfiIUCWZ06U8nP3Irn0yA+NGmvPox24AAAAAZAZ+1dEf/AAADACoaai3Hq1srVhY8XEwcBgAAABgBn7dqR/8AAAMAKOP0VnQvwPTaHm/tS4EAAABIQZu8SahBbJlMCF///fEAAAMCnkQfKawAX9936VZYS+yFdE2WUBZcDfEuAmYjRjBGzaq8DHYpGHboVKTKVfRm8L9KTW07pRukAAAAM0Gf2kUVLCP/AAAtSLjwqABxFspWbFyLaXT4pdUFMEyVRqgDNzc3Rlg4nmc7mZm1N7NdsAAAACEBn/l0R/8AADiFiNr/5exmgA/jTeqZoV3VLhxbuA0DjZkAAAAZAZ/7akf/AAA4kECasPX4XxooSLnAFk1H2wAAAFVBm+BJqEFsmUwIX//98QAAAwKfvXEjzEAO0C81EBQJxAtXkJGRC4GumlCRVQzzWfDLJwNibtgkAKe4fv0tqRGn0sypE7y7TlG/jXL1RtXkhaWDawklAAAAIkGeHkUVLCP/AAAtf0aiAPpa82xbnxCUtgrGOXqg0kIufbEAAAAUAZ49dEf/AAA4hYLgxppPxQWPCPgAAAAZAZ4/akf/AAA4kEGbwLDr8W8oojVnnMcTFQAAAC5BmiRJqEFsmUwIX//98QAAAwKfTb4AX+2A1NlVgVTTECupYL5rGTK5QsNHSfCwAAAAJ0GeQkUVLCP/AAADAA0tTzGZPnYAB1YKea4wbRmeD0JBoqj2u8bxYQAAABgBnmF0R/8AAAMAEFIP1l3WTr0VnJeHmzEAAAAWAZ5jakf/AAADABBVeWbyE/L8cHNpswAAAEVBmmhJqEFsmUwIX//98QAAAwKgtDxwh84Ag80X05n3OjnpqrEx8lCjW52dJE0YZKULNhFQO6VmR/90mrbfbhaxxGOB8DAAAAAUQZ6GRRUsI/8AAC1gmLWPWZur0i8AAAAQAZ6ldEf/AAA4hYiE1FMkXAAAABoBnqdqR/8AADiQOduSAExssz9ZeAKbxADAgQAAAEpBmqxJqEFsmUwIX//98QAAAwD4IVYkophIDTxL0WAC1NmtGJ4DoF8g1BsXzo/KILlU3x1lRSv0tdH0JTmAiDGUZFUWm5Kb7ayzgAAAACVBnspFFSwj/wAALX9GofXaVWYMi4t4vsVn4hnbbE1boe0Jf/JhAAAAIQGe6XRH/wAAOFmaAP/kTgwJ984I0zALTLjFHIFrY77FQQAAAB0BnutqR/8AADiQXMh10E57GxQJWV6gC4PnVZ0RKwAAAF9BmvBJqEFsmUwIX//98QAAAwBfU9QAkpWqfhV8w5M8ejtEXiyfeIfGwd1Cv/PFlulm/GLaXVmhAv4U15uHALnkF40oeY4FEDBQUJr1FTAGOOK672wsSt33IqrYi7eCyQAAAB1Bnw5FFSwj/wAALYVUGlQ7JXhPW1+Yv6vjcaMLgQAAABoBny10R/8AADiFmWFNUl729qjxGenMX1lWKgAAABIBny9qR/8AADiQXMh0R+k+4PEAAAAhQZs0SahBbJlMCF///fEAAAMCn0U+AK1HubYDw5+wAFXAAAAAIkGfUkUVLCP/AAAthVQaVDZF6J25VQAEPLofX1B1WES5MvIAAAAUAZ9xdEf/AAA4hZlhTItMx9BG97sAAAATAZ9zakf/AAA4kFzIdEfo6Md7oQAAAFtBm3hJqEFsmUwIX//98QAAAwKhEe2vPeT4+AHPyOO2WWWpkZmUmLkayaHPLMrfHn/gTsOaOqKu/asX4iMO3tfjN+hzm60zldWdbPec5pHHV2E0HOu5LgXQIGwrAAAAK0GflkUVLCP/AAAtf0avFY1vyljfnxKGx+W1M+24RQ2ntjc57IN2o949YsAAAAAhAZ+1dEf/AAA4hZq7qEfmzFAAe1RNCe8CpiVg8tb3baDgAAAAKAGft2pH/wAAOJBfEP8eH5b/WjipQSehrYcJvCT+8eN8tz4gonOj2YEAAAA5QZu8SahBbJlMCF///fEAAAMCoQDz/F1831dkuYKkHxOGjkBtuAjKAAADAA0qRARp9bDzgykGSONAAAAAJkGf2kUVLCP/AAAtZhWYNLWvvANrg5XbeUgigoDRcbWf9jOPGv4EAAAAGQGf+XRH/wAAOIWajrBCQfPVw3HJXcsyXcEAAAAUAZ/7akf/AAAWLRUYSrggY8/vN6AAAAByQZvgSahBbJlMCF///fEAAAMCn0/dACMW49PPwckQdG64RkXu+kF4gVGKZq0oa9h81wpzlRwiiel5Wa9KRbJ8vZozpor6ycgsXM6k0tVQcyatvVjrpX5wzYg0U1NLO5PNgsjTbFqrjD7uWTkCHXo9cM3dAAAAKkGeHkUVLCP/AAAtTmURmjvor0hNGDsemQZ7rhbe2DR8r0eej+tOm2OzjwAAABsBnj10R/8AADiFmWFbZDfqvRuqB27KbTpaDjgAAAAiAZ4/akf/AAA4wherzNqagEhqlMshFCbfqX76Rk0VTwUjjwAAAE9BmiRJqEFsmUwIX//98QAAAwKfvXEjzEANwS+IbV2kkXudeRnJoc6lMd2wAkpq2MApablglsh6nzX+Yewe3D7jUEPjY7JTVtyTALIQr5bgAAAAJEGeQkUVLCP/AAAtZgBbXBIjEh6pCmGYiZXN1YAYUuJaHe9z4QAAAB8BnmF0R/8AADiAWRP9ThNMq0dPuzMgERz0u0jK0WY5AAAAFgGeY2pH/wAAFQzupV6xtFfxtVQ1UHAAAABPQZpnSahBbJlMCF///fEAAAMCobQbR0iRcpK0gB0q7sX7M+53pyQtYjkfkC69zlhZiYmsuRv/nUoACmmBK0DEcdhKZnLuRTUIKTd4LgZy4AAAAB9BnoVFFSx/AAA4re5o2NyNzFlmPE/u9Z+UidEuP9HBAAAAGAGepmpH/wAAOBsyveruNPBHgxEXRiYb0AAAAChBmqtJqEFsmUwIX//98QAAAwKfylnhdfg4gGhTpjXp/5cMOffT6jWpAAAAFkGeyUUVLCP/AAAtePjkuG1/9CFFxm4AAAAqAZ7odEf/AAAU/f5MsUnrrkLzoY0E+CuQADULa3U3qaMxB9QE8/sSPdSpAAAAEgGe6mpH/wAAOK3uY2omzBXweQAAADJBmu9JqEFsmUwIX//98QAAAwKfA13cAVvKWYV6jmImBr48+U0LgWQMfXfEaHKAKonV8QAAACVBnw1FFSwj/wAALYVRxmKxbdg8u3q2/6gYT8+ERjvcMQOnI2lRAAAAGwGfLHRH/wAAOLfQerR4oLUhKKj5F1DWxFbiwAAAACEBny5qR/8AADit3Bif/8BBJ7dybceiodSBkXGysMtS/KgAAABRQZszSahBbJlMCF///fEAAAMCsch8VkY08fcu6vuEavmrb/qAL6a/Uv9YpRCHPIHTZPHF+r+laW2Hjb+QpeCWIoYdqasJvOoivoS+ehg9mjL5AAAAH0GfUUUVLCP/AAAthHQXyAppUKh7RjOCF0X9TzaObkgAAAAfAZ9wdEf/AAA4njQet6qn7XxAUbj4U3WQTs8Wr6PqCAAAABIBn3JqR/8AADit7mNqJswV8HkAAAAhQZt2SahBbJlMCF///fEAAAMAI9/e0QD2PC3P7MH2AMeBAAAAEUGflEUVLH8AABUTrLl1RAGLAAAAEgGftWpH/wAAFQzqI0kKhj7zQAAAAG5Bm7pJqEFsmUwIX//98QAAAwKxRUJ4puOuILgGB6TkXUX6JVKaBfsAh/FmGEqHf8Srxu3soGdu3dUs6QwxuiqkCj0Jn5ggSrnuArLDmCLsL/u5XhbEY/wHV4g00s8vtoMpH0vTEkz6zf/XpPUQgAAAACVBn9hFFSwj/wAALWYVCDFsdXeSSup6eLAXYEM1B7RUt4vxd2zBAAAAFQGf93RH/wAAOBkZ+APVdFoVnGUpjQAAAB0Bn/lqR/8AABUM69qJYmTL3yDX68CIJkUDQ1bLwAAAAE9Bm/5JqEFsmUwIX//98QAAAwK1ARHApi5t9ufjGXZrt+lgJxiwxuiqqVuBewWXAid3OUTpaxm0Il33SrUeesw6FrdSOGhx7RqZrrWnXaThAAAAHkGeHEUVLCP/AAAtdnq8F7koPSWTeiZ+thGBLB6LwAAAABcBnjt0R/8AADiikUVenCOHEDRmbAW2oQAAAB4Bnj1qR/8AADnvQBZBW8YNaEvKw3o74n6WmRBUkJMAAAAXQZoiSahBbJlMCF///fEAAAMAAAMAHpAAAAAhQZ5ARRUsI/8AABBkgnqiWt/wn1Qh2N8C/EuHfztY/gkxAAAAJwGef3RH/wAAFP3+lXM9ACZ/z2zLh1kpwFJwKsekHy2ZmgpvQixnKgAAABgBnmFqR/8AABUM6jc+v7eX+rWSf+B8YPkAAAAxQZpmSahBbJlMCF///fEAAAMCsQKe2rcbI/WcAHHlSwFgRKMmy+KRBlCca8lFMTVvBwAAADpBnoRFFSwj/wAALp3H3qmDm4ANysNN41LMC/rSeY8VgnsW4QeDeW/d92NQrEWPNOj7L+lf16NyV/tSAAAAGgGeo3RH/wAAOIWZYU1YKHUaG5xAWaRCZsyLAAAAGwGepWpH/wAAOiHyMuw9bbLejqj0RcdivzGx7wAAAEZBmqpJqEFsmUwIX//98QAAAwKxvWce6gCKu6S6NQbEY/kFpnWMoppwmaXVw4gp0+24IGzEmiKwwgBmu1n9DS21aiKgjwuBAAAAMEGeyEUVLCP/AAAupiTNhjpdOADjJkmWGTSe7vEVo1WYszm4iOENtEmnM20/hQtqQQAAACsBnud0R/8AADnk3vdmOjyyuAIAFncvNvmtcYChznvDvusfCX8iXlj727UgAAAAEgGe6WpH/wAAOe8/b3ugfABswQAAABdBmu5JqEFsmUwIX//98QAAAwAAAwAekQAAABdBnwxFFSwj/wAALp/XPZocjspb9mxdeQAAABIBnyt0R/8AADnk32wEckUe68kAAAASAZ8takf/AAA57z/4COTuWE3AAAAATEGbMkmoQWyZTAhf//3xAAADAqCzhgTU2pmbABlBlnjXwQQ2aNcUifq+vrHmH+3rTTIj3lxJio+KwBtQHNVKEcutwmb2+wRilZ6EsqQAAAAgQZ9QRRUsI/8AAC6lQVdRTX3TzkPW/jB5h0tFRf8VteEAAAASAZ9vdEf/AAA55N9sBHJFHuvIAAAAKAGfcWpH/wAAOe/ZSOrNg9fEgAWzGo1C8dPc85mhad4b3lQ/isKlHBAAAABVQZt2SahBbJlMCF///fEAAAMCsb18OA0sIuerYo3HFeC2rLoXsf7dNGFnbtCwLf2l+7XGljBwis4UI8yXVFiT1uqOfAR5LIHbvLYX+wRPHS6XzGlV2QAAACFBn5RFFSwj/wAALoVhZkYFExh0RBeOhtiJ/4/9zoMnk4MAAAAmAZ+zdEf/AAA55N8mybk46bcbbQwAmf+B6XfkNbYFk0wBqv2BS8EAAAAfAZ+1akf/AAADAHE9W/X4jKTcs9CqgOZ4llXBKFVq7AAAAFlBm7pJqEFsmUwIX//98QAAAwK0gw4OYsWABHP+LUTHjCuYTzbPaHXSMQTBiILnIY1zm4RTYLEaq2q717nicAe919OHQgxvM5qmFQEJ5b0gHcfUZfzPXdslgwAAACtBn9hFFSwj/wAALpjzWxfgnhMAXixbSWRbRvkivAAhUAyHtUU7Ayw388ltAAAAGgGf93RH/wAAOLe5MCi7iAewsiule7NLb1aVAAAAIQGf+WpH/wAAOe8/+D4iEq6zKTQAbMKX+aXvpLWnMgq73AAAAD1Bm/5JqEFsmUwIX//98QAAAwKxBKRYWMavACwD7MK9Pv9+bpWOXm6GEL+xIgYtCGE0NYaIvc2cBGiuHBhXAAAAIEGeHEUVLCP/AAAumMUlU3Gqeb/bLEwHuPVwemBHtRwQAAAAFwGeO3RH/wAAAwArLfrB00+SiTNwCN2pAAAAFgGePWpH/wAAOe7jJLz9Nyco02zP0fEAAAA7QZoiSahBbJlMCF///fEAAAMCnqe/AAbbBmJ72rRqrbHdsVphZT1vnPrEH/t+qA7qboGL5/bo2dAknscAAAAgQZ5ARRUsI/8AAC6Qns2sX6ifbnUN68NQsiUvCn17He8AAAAbAZ5/dEf/AAA55N9uSSKDaMyzqE08nI00onBAAAAAEgGeYWpH/wAAOe/ZSAHILlDryQAAABdBmmZJqEFsmUwIX//98QAAAwAAAwAekQAAABVBnoRFFSwj/wAALqVBVzQ5UBrLnegAAAASAZ6jdEf/AAA55N9sBHJFHuvIAAAAEgGepWpH/wAAOe8/+Ajk7lhNwQAAAFZBmqpJqEFsmUwIX//98QAAAwKxAvDgIlkEJx3He3b0BgNtICb9lqsm0D7GCcC37q/SBLKfuW3nBA9uWk8b5HaiH8dyfJpP/V/ZGriPnLzw6JnBh4rNwgAAACJBnshFFSwj/wAALqVBVYV+pGeWwwL8VL6UEi79U9567tSBAAAAGwGe53RH/wAAOeTfbN0hhwQlLkCKDabnfSvUgAAAAB4BnulqR/8AADnvP2+HuKUCvzPlprkJXuR++02vOCEAAAAfQZruSahBbJlMCF///fEAAAMCsZdxeG1QsMXG/aDDewAAAB5BnwxFFSwj/wAALpjFL4ZaxdWOKjfIQiVmDEUWRYEAAAAYAZ8rdEf/AAADAHFh0hvZIj+Q6DyYUPyLAAAAGQGfLWpH/wAAOg1XfB7y+tsh396Ev5BmLgQAAAAdQZsySahBbJlMCF///fEAAAMAAEVAREAQ7zr2ZkAAAAAkQZ9QRRUsI/8AAAMAIZYEzjAA2egzy42edSbOpM9/BkYFW3cDAAAAGQGfb3RH/wAAAwArPvaOkR5RgjkXFe/f1IAAAAAWAZ9xakf/AAADACsjGf1Px7+Qd1jWvAAAAERBm3ZJqEFsmUwIV//94QAABDN0EyAZd/ZpreStw6dYc/HuJDDRM3BYCSmu4cM/NQ/BDgvOV9p2HkVh2zSrAADiRJ0JewAAAC5Bn5RFFSwj/wAALpCyra2049hMo+tJDqUu/F6fgjzUeJGNAAATK3D40cl5hFe5AAAAFQGfs3RH/wAAOeTfciEMM6fEUQ6PgQAAAB0Bn7VqR/8AADoh8jBScMCD95PjKA9EG6iuIUlqQAAAAC9Bm7dJqEFsmUwIX//98QAAAwLHyfXETpAMF3bED2Yqc3wfy4ydhdoEJJNa+21rAgAAAKdBm9tJ4QpSZTAhf/3xAAADArXq7vxDXZvqkDAikzVfBwAAKrUE+bQfgl2HpXNFuo3SCxN71OPfiwiEzDMhZmrh6Wdt7VhJnPEKjXy2B2DpIOocmCZkQie62YHzMhkoZMLsuk99BFkZ0c2lKndOb/J21wv6ZKRmqwUtpe8l5kmgb/ml3Dten3hUeI+sJmWnEfOTqPEA0XifjiIM0tB5X9+SHODHNuo4nwAAADlBn/lFNEwj/wAALoVeA8sKwhjYGFrABaAH+R+0syAfd6ecZvbWbzvuWyrdyXGEknyUZ8w7osYfQUkAAAAkAZ4YdEf/AAA55NzCKL/wNDhfXSgJ92FMsoLuR5uz4osZtvmAAAAAHwGeGmpH/wAAOHS6uZMPmHPWgVvCjYBGSmHnhu0ApIEAAABcQZoeSahBaJlMCF///fEAAAMA+Wpk8ysaQTLXsB9bGhPq4SAZO5MJbckSVOnzBlbiJFrAuvkm+ZIwjRv0+sF3qSKJV6hB5LBm9y6izcOEviSvOHNcqbcdXY0OPuoAAAAkQZ48RREsfwAAFZGM8h0gin/tyroqXJRuMhs3T/BZBhSvloxTAAAAHwGeXWpH/wAAAwMQXCowzkFvhyl/H4alMXR2UJdGkbkAAABsQZpCSahBbJlMCF///fEAAAMCn5eY6Ad80Mrdsd2JznV2D2uOYN5nArXKww4ZbBfxgDTuBDwLWkDF0107L7gc7BzqhNv2lUd38gBy0p2FW0M1Akjm2+SeNTJSHHZWJY6kJGJUHv1rPOVtvehQAAAANEGeYEUVLCP/AAAteMUwuL6YiHogMc5UALE52DBvzvKytWRGSPKTK9Z9s040AGr8f5koOmEAAAAcAZ6fdEf/AAAH78YQl5ckqo012V4g3z2Fow4SHgAAAB4BnoFqR/8AADitiH4PMI0fo/czzZeUAI6+ylD8GBEAAABcQZqGSahBbJlMCF///fEAAAMCnw9TfAyTz5RW+ei6FNxvTGVmRj44wurHNAnwu0lqDP/kHwfwLHFT/KemQJaHq6Z/gZmfisGNL+GBdjbIE+GFtTYdVDpauxwOY/EAAAA1QZ6kRRUsI/8AAC14xS+Qmg0qcnhkQNC286yayM0gA2nKwUifv0CLx5Jjk+siClc7TS1wwhwAAAAWAZ7DdEf/AAADAAY2WAxbFCJn63tZuAAAAB4BnsVqR/8AADitiH4qDCrgMeS61CCT1IAVKciMNmEAAAAnQZrKSahBbJlMCF///fEAAAMCn8hpBQvkg51HlQmBc7v8EVKCxlBAAAAAQEGe6EUVLCP/AAAtYJSrSJABxVpjP+7FQr1dwemW1RfKhzRit2UC5fvkeCafXfNDpTJdvV6rY47RLpfT5V3fxAUAAAAeAZ8HdEf/AAA4nfM5wrmFVtenzWyOsGTMwvPOMmzAAAAAHgGfCWpH/wAAOK2IZZUxhVnWH0W0XvtQK2jqcU7ZgQAAADhBmw5JqEFsmUwIX//98QAAAwAFI9OgUPC1BrhcCI0/FyIA3vlLmpHUKo42lUVjnkzyM5nfFaVQUQAAABtBnyxFFSwj/wAAAwBYisMI0DAS42Hd/R/Ab4MAAAASAZ9LdEf/AAADAG6HO8LoANGBAAAAGwGfTWpH/wAAAwBusN41B0cKCmWqOKYv/lntmAAAAEJBm1JJqEFsmUwIX//98QAAAwKfmB/7cvD3LGQAr4X1GmEYpwLAL4Xj1nbIeakHX3RI1kQ4O/imPYgoeGjhrV34V5AAAAAVQZ9wRRUsI/8AAC14xS+A5O5f4mcHAAAAIAGfj3RH/wAAAwAF47dpknACWkkNZohTwGmiwIiNzRLwAAAAGQGfkWpH/wAAOK3ApwAOEjbuq0A5TNeu7BgAAABIQZuWSahBbJlMCF///fEAAAMCkAdbxkZXloAC2bN73f/Mq3m5nnfJwtZNS1Mld02XflfVWT2Id93u2tSBQowzkzcppeghII8xAAAALEGftEUVLCP/AAAsWPOfrigpXVhM3AA4F3hgFAvXsSzCX2Zg1IhC8P6XygmxAAAAFwGf03RH/wAAAwAqHvaPPQuimpgfJeDBAAAAGgGf1WpH/wAAN1ItKlaxd8x7Sk40OGXsqfuEAAAAJEGb2kmoQWyZTAhf//3xAAADAo3KWfr1z1j3XrLd+TkNY2DZgAAAADpBn/hFFSwj/wAAAwDlOurC4nYHSy9kyNhQr38vkwgOYRADiHY7Frkpc4lBk2G4XLib7KB3f8LzoaOTAAAAGwGeF3RH/wAAN0UTDkgJiDy9ALLp34C4l7V/gAAAABkBnhlqR/8AAAMBJfKd/LJMa4cE15O9eOyYAAAATUGaHkmoQWyZTAhf//3xAAADAp+XcG5avACMBeqxwVWICzsp++ZlQgPRos+hQmhOBDTc4IXuT9ht1Eug30mM5hQgnF1lFrDP0aWn7E5/AAAAHkGePEUVLCP/AAAteMUvrKj8JCtw0MwzMCt1vdLnbgAAABkBnlt0R/8AAAMBJSECOFSJmxWyvXKfAR25AAAAEgGeXWpH/wAAOK2IfgI7KYvnjwAAAD5BmkJJqEFsmUwIX//98QAAAwKfyGkFCyEqv4PxADlfHWEqpMDJpi8e9I0UiqAF92S0jHC00zZiCfamRSW90AAAACxBnmBFFSwj/wAALWXeLAARd7wMBWek57dnmUxAvGF7u3wLH0ELL6SF488NswAAABIBnp90R/8AADi3UnwEdm4znjgAAAAXAZ6Bakf/AAA3UiyJT6gYDrxJ4TEB2zEAAABZQZqGSahBbJlMCF///fEAAAMCn/LlqKFkItfHUpoAWHt7DQJxQ1c4Bk99aK1DqRhOultB6AxlrMxHXaEPFGrrI7jj2CAXBQckomIen0ZuIRgdLJepfyRmEB0AAAAcQZ6kRRUsI/8AAC1lYbVOLwewQZk8pIloIF7fiwAAABkBnsN0R/8AADi3UnwMP5GwWVgBevXh5FgwAAAAFgGexWpH/wAAAwAP42Hq6lbtd8IJPVEAAAA2QZrKSahBbJlMCF///fEAAAMCn/LlqKFkJPIK5MzTfjnrSAMAHV4IIikdaYghKw450fmvEK54AAAAG0Ge6EUVLCP/AAAteMUvgnFm+niTEl2b25fG9QAAABkBnwd0R/8AAAMAD+WgpnFxLd/FkuTutc58AAAAEgGfCWpH/wAAOK2IfgI7KYvnjwAAADJBmw5JqEFsmUwIX//98QAAAwKNmF/XgB0CUTGpEE7vbS2MHALC+Ii1dZ/Prr6sY8KqgQAAACpBnyxFFSwj/wAALFjzW2WlQATr5wZ/gzaEDkDFbp+7iPbfdVCgAGuyXwcAAAAZAZ9LdEf/AAA3IPRwmCwXmHGnoYNnXWS58QAAACIBn01qR/8AADdiciiqMwvPFeaADijzI9z3pOVXgryYHG9AAAAAOUGbUkmoQWyZTAhf//3xAAADAp+XcP9rwBQCb3DouUCI0KWQaELDGpDZHCaMDU0ixU9blyTf1TDjgAAAABVBn3BFFSwj/wAALXjOV+A5OzVs7BkAAAATAZ+PdEf/AAA4nfM/gI6gQLZ44AAAABMBn5FqR/8AADitiH4CPIgVMKCAAAAAF0GblkmoQWyZTAhf//3xAAADAAADAB6RAAAAFUGftEUVLCP/AAAthUFXNDlbXmJ2DQAAABIBn9N0R/8AADi3UnwEdm4znjkAAAASAZ/Vakf/AAA4rYh+Ajspi+eOAAAAF0Gb2kmoQWyZTAhf//3xAAADAAADAB6QAAAAFUGf+EUVLCP/AAAthUFXNDlQGsueOQAAABIBnhd0R/8AADi3UnwEdm4znjgAAAASAZ4Zakf/AAA4rYh+Ajspi+eOAAAAHkGaHkmoQWyZTAhf//3xAAADAp/IaQULDGptPVmV5QAAABRBnjxFFSwj/wAALXjFL4Dk7OunBwAAACkBnlt0R/8AAAMAD+QpYQhYwN70cewATey1uptcckppAOfYVpRniPpqgQAAABIBnl1qR/8AADitiH4COymL548AAAAXQZpCSahBbJlMCF///fEAAAMAAAMAHpAAAAAVQZ5gRRUsI/8AAC2FQVc0OVAay545AAAAEgGen3RH/wAAOLdSfAR2bjOeOAAAABIBnoFqR/8AADitiH4COymL548AAAAXQZqGSahBbJlMCF///fEAAAMAAAMAHpEAAAAkQZ6kRRUsI/8AAAMADN1hYI6croAOCdbJVdc/vLvViQt7sTHAAAAAFgGew3RH/wAAAwAP5dQ3o7rCefwl+VAAAAAmAZ7Fakf/AAADAA/jVTlUz/b0AC4eyG0K7b0VAvU0RK3kaRtZBysAAAA8QZrKSahBbJlMCF///fEAAAMCn5dwblq8AOgL2GegsjLTCs3vYwqe1aYBDxkLK3TatIQMDZfqEv2teEuIAAAAHkGe6EUVLCP/AAAtZWG1TicT0rdzlrQzU+KGFR+2YQAAACUBnwd0R/8AADi3hygAFq809fsBOh8UWgt7NF0niwFcFtGjD/gwAAAAGAGfCWpH/wAAAwAP41IPUsU5I/xkJIzlmQAAABdBmw5JqEFsmUwIX//98QAAAwAAAwAekQAAABVBnyxFFSwj/wAALX/XPZocp+t9Z48AAAASAZ9LdEf/AAA4t1J8BHZuM545AAAAEgGfTWpH/wAAOK2IfgI7KYvnjgAAADtBm1JJqEFsmUwIX//98QAAAwAAvpiuhSPAFWpzyTQEph7Snlqu5rsawDVq9bvtrUqzw/72qQvuUOIAwAAAABtBn3BFFSwj/wAALYVBVzSczxEFs8+WinwznbkAAAASAZ+PdEf/AAA4t1J8BHZuM544AAAAFwGfkWpH/wAAOK2IfgYfxpHZiPqkU624AAAALkGblkmoQWyZTAhf//3xAAADAp/IaQUL5GV6BSSuRpbBRPcTK0jbhmqlpb/31ikAAAAYQZ+0RRUsI/8AAC1lYbVOGw+7hxRIfedvAAAAGQGf03RH/wAAOLdSfAw/zT6wd6+xEb1R4MEAAAAOAZ/Vakf/AAADAAADAqYAAAAdQZvZSahBbJlMCP/6WAAAHzIPH+9YiKqrzEuPVj4AAAATQZ/3RRUsfwAAOK2IfgI7KYvnjwAAABIBnhhqR/8AADiPP/gI5O5YUEAAAAHNZYiEADv//vbsvgU1/Z/QlxEsxdpKcD4qpICAdzTAAAADAAADAAAWCfQjsOSqA3dAAAAcYAUELAI8JULYSEgGpcIIjr4HWMAZF/3ziQ9Lh7xECJtPO+9ynLN9bmMWKYGE5GHmpAwh/7KkOCG51kDTjyttAn/oRxhPaS2Mo67mWq9K8OKDUV+EGoljeYTUFbTvpqdHOEEQxUbScHzRUZP1ZygGukpD4DHFoMDHE1OElx1A51qUIAFN9vFrGRowtX+bR9tSINc3Jf/b+WdaIDTvesQPbSvxF2RruhFX5XB03pu6pQh0a3HgpSTcI8xhukIyZgLkR6JFLuA/QqsArRc3zf0X+NAVjbIpz+V5KHngMMy6gOZTP+V+F2yzW/NE3/76QTsHXZPbpvfoyBKqu9TZ2ROfI0va/v8WCk/L93WyZUIc5x1fhfcAVnXi42lF8JyRLH7OJ970eAfYhhocP6FdTSreotB47D6hOqu3+cyrEW2WCao8u91vYmVkvMZVbA+fonjSDu19eiA3xMBPv+3VT4r2jm5kekokOgtbPriqxbIujKWZ5WsCfLU38ACUsCuZjZtB2ntkf1yC17R4na67msZTVxoAAAMAAAMAAcMAAAB+QZokbEL//fEAAAMCoF3P9uXh7ljIARgVdigG0mBYBfC8aKyeJ4XEMHr51fQ0+3TNVVtGEFWsDu49Qin3N1xx80rF/zOT+uCnrE9lRr94Q0vBNxdn/7tMMx1TQv9Kt/Kq2th+aX6JU8XpIrsxtnfuMtZHjZkblIH6ib/sZ0+BAAAAHUGeQniEfwAALX3pmtDamJovGCWsljwIo2YYNtuAAAAAJQGeYXRH/wAAAwEmVj9B+AAnYknUZiIsVT6u1Z0tEEZJ4kvU2YEAAAAcAZ5jakf/AAA4rYh+Bh7p2pCwJYW6mbuyYJw7ZwAAABdBmmhJqEFomUwIX//98QAAAwAAAwAekAAAACBBnoZFESwj/wAALWBX4V3mXkAFsqnx35+nAJYCGvACNwAAABIBnqV0R/8AADi1Uz4cWUkgBGwAAAARAZ6nakf/AAA4rYhnXvtACHkAAAA5QZqsSahBbJlMCF///fEAAAMCn5dwbklwAsEfAj0lbgp6bsmFRwSeXKoiWXyDb6+FUruVCtdETDjhAAAALEGeykUVLCP/AAAtZWG2PttAALZkYOOhiWnFTLHy5+isJYrdSaxl9qHupAckAAAAHgGe6XRH/wAAOLa0WVh3chpYBiQizAJv3pbEWC0qWwAAABwBnutqR/8AAAMBJhTSXSdtdtnv5cbcItmzOZtvAAAANUGa8EmoQWyZTAhf//3xAAADAAUainwAhTrs1FHR/UDxyAKOVKazPTltH9tZfnaWjI/hk71gAAAAHkGfDkUVLCP/AAAtf9c9nBM8XTz5hjOyx8DhU7ytuQAAABIBny10R/8AADi3UnwEdm4znjgAAAAbAZ8vakf/AAA4rYh+KiSVQqPFib6ibFklNOSBAAAAOUGbNEmoQWyZTAhf//3xAAADAp+9ZxaxVgASPTYUqCgdYQkjdvc4rO6regR9mnL6K3UtYDXUf4fAQQAAAB5Bn1JFFSwj/wAALYVBVYWAbt/W1v3aNlSUXudoyTEAAAAdAZ9xdEf/AAA4t1J8VDCvZ59O5mv9EWG83S3ZE5MAAAARAZ9zakf/AAA4rYhlXu7gB0wAAAA8QZt4SahBbJlMCF///fEAAAMCn/LlqAbiQjti04AQp12aijo2OTp6oY5yygW31/XcaadcylTzqSa0IBMcAAAAMkGflkUVLCP/AAAthS/KYsABF3vgU5d1wOTVbI2hkiWwT36HjZ0Ne/dV1TpM3ugHbEkxAAAAEwGftXRH/wAAOLdSS09LvznroIAAAAAcAZ+3akf/AAA4rYh/JZTCca5gC5M0n0v/weXkkwAAADNBm7xJqEFsmUwIX//98QAAAwKf8uWoEGghD/kS/oEJYWy6q5oW1fZNQJ8Had9O7l/z+qEAAAAsQZ/aRRUsI/8AAC14xSVTcaqcsWDWZ1QALppVnOXdKKT2x2jywENfWYPHnJEAAAAWAZ/5dEf/AAADAxIuw+vYJkBu9ihgwQAAACEBn/tqR/8AADitiGVenW3MigW2rHjmQ/3F48KoxYGNPlwAAAAaQZvgSahBbJlMCF///fEAAAMAX2UNIKFgBMwAAAAdQZ4eRRUsI/8AAAZuqbuABxiffvqeUeIWRFYAN6EAAAARAZ49dEf/AAAH9GCz1cgAC0gAAAASAZ4/akf/AAAH9JGa5FUgAG9AAAAAR0GaJEmoQWyZTAhf//3xAAADAo2YXboAWCaZnFHCP+guNr93HL7KEZ4nKbBaCFy2+RX8Pf1Nb/fZWzx6uMnIvgmzRu0pJg2nAAAAMUGeQkUVLCP/AAAtYMb4HdkgAtarlXdamSXJM4vhyZgVwrbyvgcMl3Nj8YRbwHhBfBgAAAAeAZ5hdEf/AAA4t1JLTiUIMlMLOQO1L74ghsYzW62ZAAAAIAGeY2pH/wAAOK2IZV6f0aAC6XUDnKUqEdUKfoqn0BgxAAAAK0GaaEmoQWyZTAhf//3xAAADAp+XcXijPgB0Ct4o4EthkLDGp6SCgi46YccAAAAuQZ6GRRUsI/8AAC14zlf9a2gAEtE+98e6mUZn56XrNDT5dlE3hkFoC7uP/U+ICQAAABoBnqV0R/8AADdZTg/JyTnZxtyMzpYsW2uOSAAAABsBnqdqR/8AADitiH5ufHHAVrr4XkRiMhFg5IEAAAAXQZqsSahBbJlMCF///fEAAAMAAAMAHpEAAAAjQZ7KRRUsI/8AAC1gldqs1aCgDABv1X++11mZDzJfEaQoAyoAAAASAZ7pdEf/AAA4t1JLTghuuAPSAAAAEwGe62pH/wAAOK2IZV6dbZcAekEAAABoQZrwSahBbJlMCF///fEAAAMCn5gUaLlwAqT2XdleCBGOgK0UhxqSTkRfN+0h1JeUpICnMfYFXjbZimTaWB1H25ETGVt/6Nq1NEaZ2kY6onZsveP16cYM8vItEuIm12CQbMfc9UwVbZsAAAAeQZ8ORRUsI/8AAC1lYbY+EjC+Uc3OuxhDJlpGO98HAAAAHgGfLXRH/wAAOLHWoKAAWzRqTs4CdB/x9oYdyg4tuAAAAB0Bny9qR/8AAAMBJfKdlXp1uL8hAHq4BhaZwW1twQAAACNBmzRJqEFsmUwIX//98QAAAwANfKGkBr3IADrKQ7SLbxAO6QAAAC9Bn1JFFSwj/wAALGBDLAC1qt2wq1Pv1UG8aAvGN6AynSkiF14MkWF+FQ1MV592zQAAABoBn3F0R/8AADdZTDld5LbDzBRC8jRgxV7HJQAAACQBn3NqR/8AADifhQCKqDwqTTZA09PTM6weoAQFWFU33usFHbgAAAAkQZt4SahBbJlMCF///fEAAAMABRuQ0gByrO+D+QANSLMuF4eAAAAALkGflkUVLCP/AAAtcJ7XmkAHFWmSNjS0NoGMfW5s8Q/xaKA2ZOxXgC93UCAHvwcAAAAcAZ+1dEf/AAA4t1J8VDBzB6PGtnmRIE4JOw/tswAAABcBn7dqR/8AADitiH4GH8aR2Yj6pFOtuAAAACZBm7xJqEFsmUwIX//98QAAAwAAvsoZ7NR1jUBK3iMSESq0kWrS5wAAABpBn9pFFSwj/wAALYVBVzScWb6eMUMXmzsW3QAAABcBn/l0R/8AADi3UnwMQL3UFgtrf6E7cQAAABIBn/tqR/8AADitiH4COymL544AAAAtQZvgSahBbJlMCF///fEAAAMCjdC3QAsE0xfUUFNeCHOkHPv887Aj6iGaeAVVAAAAFUGeHkUVLCP/AAAthUFXNDlQGsueOQAAABIBnj10R/8AADi3UnwEdm4znjgAAAASAZ4/akf/AAA4rYh+Ajspi+eOAAAAH0GaJEmoQWyZTAhf//3xAAADAp/IaQULDGqRnEDGHHEAAAAgQZ5CRRUsI/8AAC14zlfgnL8c9iEc0SpG3HYFsBY3bMAAAAAWAZ5hdEf/AAA3WUsvTgZ+pPWMz5LwYQAAABkBnmNqR/8AADitiH4GH47SWTLgzvTqIcyTAAAAF0GaaEmoQWyZTAhf//3xAAADAAADAB6QAAAAFkGehkUVLCP/AAAthUFXNDlbPKwuQoMAAAASAZ6ldEf/AAA4t1J8BHZuM544AAAAEgGep2pH/wAAOK2IfgI7KYvnjwAAABdBmqxJqEFsmUwIX//98QAAAwAAAwAekQAAABVBnspFFSwj/wAALYVBVzQ5UBrLnjgAAAASAZ7pdEf/AAA4t1J8BHZuM544AAAAEgGe62pH/wAAOK2IfgI7KYvnjwAAADVBmvBJqEFsmUwIX//98QAAAwKfyfkEsmFRqn90ikAEYj/rCimS9ataWKfC4b8RSz1q4pleQAAAACNBnw5FFSwj/wAALWWh7MAHFWl7hwSoqIts9bOxYX4VJS7BgQAAABIBny10R/8AADi3UnwEdm4znjgAAAARAZ8vakf/AAA3UiyDaRLHvR8AAAAfQZs0SahBbJlMCF///fEAAAMAAEVNbAgjWgBW2a2T/QAAABVBn1JFFSwj/wAALX/XPZocp+t9Z48AAAASAZ9xdEf/AAA4t1J8BHVCaeFBAAAAEgGfc2pH/wAAOK2IfgI7KYvnjgAAABdBm3hJqEFsmUwIX//98QAAAwAAAwAekAAAABVBn5ZFFSwj/wAALYVBVzQ5UBrLnjkAAAASAZ+1dEf/AAA4t1J8BHZuM544AAAAEgGft2pH/wAAOK2IfgI7KYvnjgAAACtBm7xJqEFsmUwIV//94QAAAwP2YpcACwSIlKjavpCSlcM1fKcuR9LbIM45AAAAFUGf2kUVLCP/AAAthUFXNDlQGsueOQAAABIBn/l0R/8AADi3UnwEdm4znjkAAAARAZ/7akf/AAA4rYh+Ajsy7i4AAAAcQZvgSahBbJlMCFf//eEAAAQU1VQP7DFx4kxhxwAAABVBnh5FFSwj/wAALXjOV+A5OzVs7BkAAAAQAZ49dEf/AAA3WUsll6omfAAAABMBnj9qR/8AADitiH4CPIgVMKCAAAAAF0GaJEmoQWyZTAhP//yEAAADAAADAMCBAAAAFUGeQkUVLCP/AAAthUFXNDlbXmJ2DAAAABIBnmF0R/8AADi3UnwEdm4znjkAAAASAZ5jakf/AAA4rYh+Ajspi+ePAAAAHEGaZkmoQWyZTBRMf/pYAAAfMB9eRcLnHH2P1MAAAAASAZ6Fakf/AAA4rYh+Ajspi+ePAAAfPW1vb3YAAABsbXZoZAAAAAAAAAAAAAAAAAAAA+gAACdCAAEAAAEAAAAAAAAAAAAAAAABAAAAAAAAAAAAAAAAAAAAAQAAAAAAAAAAAAAAAAAAQAAAAAAAAAAAAAAAAAAAAAAAAAAAAAAAAAAAAAAAAAIAAB5ndHJhawAAAFx0a2hkAAAAAwAAAAAAAAAAAAAAAQAAAAAAACdCAAAAAAAAAAAAAAAAAAAAAAABAAAAAAAAAAAAAAAAAAAAAQAAAAAAAAAAAAAAAAAAQAAAAAJgAAABkAAAAAAAJGVkdHMAAAAcZWxzdAAAAAAAAAABAAAnQgAAAgAAAQAAAAAd321kaWEAAAAgbWRoZAAAAAAAAAAAAAAAAAAAPAAAAlsAVcQAAAAAAC1oZGxyAAAAAAAAAAB2aWRlAAAAAAAAAAAAAAAAVmlkZW9IYW5kbGVyAAAAHYptaW5mAAAAFHZtaGQAAAABAAAAAAAAAAAAAAAkZGluZgAAABxkcmVmAAAAAAAAAAEAAAAMdXJsIAAAAAEAAB1Kc3RibAAAAJZzdHNkAAAAAAAAAAEAAACGYXZjMQAAAAAAAAABAAAAAAAAAAAAAAAAAAAAAAJgAZAASAAAAEgAAAAAAAAAAQAAAAAAAAAAAAAAAAAAAAAAAAAAAAAAAAAAAAAAAAAAABj//wAAADBhdmNDAWQAH//hABhnZAAfrNlAmDOhAAADAAEAAAMAeA8YMZYBAAVo6+csiwAAABhzdHRzAAAAAAAAAAEAAAJbAAABAAAAABxzdHNzAAAAAAAAAAMAAAABAAAA+wAAAfUAABLIY3R0cwAAAAAAAAJXAAAAAQAAAgAAAAABAAAFAAAAAAEAAAIAAAAAAQAAAAAAAAABAAABAAAAAAEAAAUAAAAAAQAAAgAAAAABAAAAAAAAAAEAAAEAAAAAAQAABQAAAAABAAACAAAAAAEAAAAAAAAAAQAAAQAAAAABAAAFAAAAAAEAAAIAAAAAAQAAAAAAAAABAAABAAAAAAEAAAUAAAAAAQAAAgAAAAABAAAAAAAAAAEAAAEAAAAAAQAABQAAAAABAAACAAAAAAEAAAAAAAAAAQAAAQAAAAABAAADAAAAAAEAAAEAAAAAAQAABQAAAAABAAACAAAAAAEAAAAAAAAAAQAAAQAAAAABAAAFAAAAAAEAAAIAAAAAAQAAAAAAAAABAAABAAAAAAEAAAUAAAAAAQAAAgAAAAABAAAAAAAAAAEAAAEAAAAAAQAABQAAAAABAAACAAAAAAEAAAAAAAAAAQAAAQAAAAABAAAFAAAAAAEAAAIAAAAAAQAAAAAAAAABAAABAAAAAAEAAAUAAAAAAQAAAgAAAAABAAAAAAAAAAEAAAEAAAAAAQAABQAAAAABAAACAAAAAAEAAAAAAAAAAQAAAQAAAAABAAAFAAAAAAEAAAIAAAAAAQAAAAAAAAABAAABAAAAAAEAAAUAAAAAAQAAAgAAAAABAAAAAAAAAAEAAAEAAAAAAQAABQAAAAABAAACAAAAAAEAAAAAAAAAAQAAAQAAAAABAAAFAAAAAAEAAAIAAAAAAQAAAAAAAAABAAABAAAAAAEAAAUAAAAAAQAAAgAAAAABAAAAAAAAAAEAAAEAAAAAAQAABQAAAAABAAACAAAAAAEAAAAAAAAAAQAAAQAAAAABAAAFAAAAAAEAAAIAAAAAAQAAAAAAAAABAAABAAAAAAEAAAUAAAAAAQAAAgAAAAABAAAAAAAAAAEAAAEAAAAAAQAABQAAAAABAAACAAAAAAEAAAAAAAAAAQAAAQAAAAABAAADAAAAAAEAAAEAAAAAAQAABQAAAAABAAACAAAAAAEAAAAAAAAAAQAAAQAAAAABAAAFAAAAAAEAAAIAAAAAAQAAAAAAAAABAAABAAAAAAEAAAUAAAAAAQAAAgAAAAABAAAAAAAAAAEAAAEAAAAAAQAABQAAAAABAAACAAAAAAEAAAAAAAAAAQAAAQAAAAABAAAFAAAAAAEAAAIAAAAAAQAAAAAAAAABAAABAAAAAAEAAAUAAAAAAQAAAgAAAAABAAAAAAAAAAEAAAEAAAAAAQAABQAAAAABAAACAAAAAAEAAAAAAAAAAQAAAQAAAAABAAAFAAAAAAEAAAIAAAAAAQAAAAAAAAABAAABAAAAAAEAAAUAAAAAAQAAAgAAAAABAAAAAAAAAAEAAAEAAAAAAQAABQAAAAABAAACAAAAAAEAAAAAAAAAAQAAAQAAAAABAAAFAAAAAAEAAAIAAAAAAQAAAAAAAAABAAABAAAAAAEAAAIAAAAAAQAABQAAAAABAAACAAAAAAEAAAAAAAAAAQAAAQAAAAABAAAFAAAAAAEAAAIAAAAAAQAAAAAAAAABAAABAAAAAAEAAAUAAAAAAQAAAgAAAAABAAAAAAAAAAEAAAEAAAAAAQAABQAAAAABAAACAAAAAAEAAAAAAAAAAQAAAQAAAAABAAAFAAAAAAEAAAIAAAAAAQAAAAAAAAABAAABAAAAAAEAAAUAAAAAAQAAAgAAAAABAAAAAAAAAAEAAAEAAAAAAQAAAwAAAAABAAABAAAAAAEAAAUAAAAAAQAAAgAAAAABAAAAAAAAAAEAAAEAAAAAAQAABQAAAAABAAACAAAAAAEAAAAAAAAAAQAAAQAAAAABAAAFAAAAAAEAAAIAAAAAAQAAAAAAAAABAAABAAAAAAEAAAUAAAAAAQAAAgAAAAABAAAAAAAAAAEAAAEAAAAAAQAABQAAAAABAAACAAAAAAEAAAAAAAAAAQAAAQAAAAABAAAFAAAAAAEAAAIAAAAAAQAAAAAAAAABAAABAAAAAAEAAAUAAAAAAQAAAgAAAAABAAAAAAAAAAEAAAEAAAAAAQAABQAAAAABAAACAAAAAAEAAAAAAAAAAQAAAQAAAAABAAAFAAAAAAEAAAIAAAAAAQAAAAAAAAABAAABAAAAAAEAAAUAAAAAAQAAAgAAAAABAAAAAAAAAAEAAAEAAAAAAQAABQAAAAABAAACAAAAAAEAAAAAAAAAAQAAAQAAAAABAAAFAAAAAAEAAAIAAAAAAQAAAAAAAAABAAABAAAAAAEAAAUAAAAAAQAAAgAAAAABAAAAAAAAAAEAAAEAAAAAAQAABQAAAAABAAACAAAAAAEAAAAAAAAAAQAAAQAAAAABAAAFAAAAAAEAAAIAAAAAAQAAAAAAAAABAAABAAAAAAEAAAUAAAAAAQAAAgAAAAABAAAAAAAAAAEAAAEAAAAAAQAABQAAAAABAAACAAAAAAEAAAAAAAAAAQAAAQAAAAABAAAFAAAAAAEAAAIAAAAAAQAAAAAAAAABAAABAAAAAAEAAAUAAAAAAQAAAgAAAAABAAAAAAAAAAEAAAEAAAAAAQAABQAAAAABAAACAAAAAAEAAAAAAAAAAQAAAQAAAAABAAAFAAAAAAEAAAIAAAAAAQAAAAAAAAABAAABAAAAAAEAAAMAAAAAAQAAAQAAAAABAAACAAAAAAEAAAUAAAAAAQAAAgAAAAABAAAAAAAAAAEAAAEAAAAAAQAABQAAAAABAAACAAAAAAEAAAAAAAAAAQAAAQAAAAABAAAFAAAAAAEAAAIAAAAAAQAAAAAAAAABAAABAAAAAAEAAAUAAAAAAQAAAgAAAAABAAAAAAAAAAEAAAEAAAAAAQAABQAAAAABAAACAAAAAAEAAAAAAAAAAQAAAQAAAAABAAAFAAAAAAEAAAIAAAAAAQAAAAAAAAABAAABAAAAAAEAAAUAAAAAAQAAAgAAAAABAAAAAAAAAAEAAAEAAAAAAQAABQAAAAABAAACAAAAAAEAAAAAAAAAAQAAAQAAAAABAAAFAAAAAAEAAAIAAAAAAQAAAAAAAAABAAABAAAAAAEAAAUAAAAAAQAAAgAAAAABAAAAAAAAAAEAAAEAAAAAAQAABQAAAAABAAACAAAAAAEAAAAAAAAAAQAAAQAAAAABAAAFAAAAAAEAAAIAAAAAAQAAAAAAAAABAAABAAAAAAEAAAUAAAAAAQAAAgAAAAABAAAAAAAAAAEAAAEAAAAAAQAABQAAAAABAAACAAAAAAEAAAAAAAAAAQAAAQAAAAABAAAFAAAAAAEAAAIAAAAAAQAAAAAAAAABAAABAAAAAAEAAAUAAAAAAQAAAgAAAAABAAAAAAAAAAEAAAEAAAAAAQAABQAAAAABAAACAAAAAAEAAAAAAAAAAQAAAQAAAAABAAAEAAAAAAIAAAEAAAAAAQAABQAAAAABAAACAAAAAAEAAAAAAAAAAQAAAQAAAAABAAAFAAAAAAEAAAIAAAAAAQAAAAAAAAABAAABAAAAAAEAAAUAAAAAAQAAAgAAAAABAAAAAAAAAAEAAAEAAAAAAQAABAAAAAACAAABAAAAAAEAAAUAAAAAAQAAAgAAAAABAAAAAAAAAAEAAAEAAAAAAQAABQAAAAABAAACAAAAAAEAAAAAAAAAAQAAAQAAAAABAAAFAAAAAAEAAAIAAAAAAQAAAAAAAAABAAABAAAAAAEAAAUAAAAAAQAAAgAAAAABAAAAAAAAAAEAAAEAAAAAAQAABQAAAAABAAACAAAAAAEAAAAAAAAAAQAAAQAAAAABAAAFAAAAAAEAAAIAAAAAAQAAAAAAAAABAAABAAAAAAEAAAUAAAAAAQAAAgAAAAABAAAAAAAAAAEAAAEAAAAAAQAABQAAAAABAAACAAAAAAEAAAAAAAAAAQAAAQAAAAABAAAFAAAAAAEAAAIAAAAAAQAAAAAAAAABAAABAAAAAAEAAAUAAAAAAQAAAgAAAAABAAAAAAAAAAEAAAEAAAAAAQAABQAAAAABAAACAAAAAAEAAAAAAAAAAQAAAQAAAAABAAAFAAAAAAEAAAIAAAAAAQAAAAAAAAABAAABAAAAAAEAAAUAAAAAAQAAAgAAAAABAAAAAAAAAAEAAAEAAAAAAQAABQAAAAABAAACAAAAAAEAAAAAAAAAAQAAAQAAAAABAAAFAAAAAAEAAAIAAAAAAQAAAAAAAAABAAABAAAAAAEAAAUAAAAAAQAAAgAAAAABAAAAAAAAAAEAAAEAAAAAAQAAAgAAAAABAAAFAAAAAAEAAAIAAAAAAQAAAAAAAAABAAABAAAAAAEAAAQAAAAAAgAAAQAAAAABAAAFAAAAAAEAAAIAAAAAAQAAAAAAAAABAAABAAAAAAEAAAUAAAAAAQAAAgAAAAABAAAAAAAAAAEAAAEAAAAAAQAABQAAAAABAAACAAAAAAEAAAAAAAAAAQAAAQAAAAABAAAFAAAAAAEAAAIAAAAAAQAAAAAAAAABAAABAAAAAAEAAAUAAAAAAQAAAgAAAAABAAAAAAAAAAEAAAEAAAAAAQAABQAAAAABAAACAAAAAAEAAAAAAAAAAQAAAQAAAAABAAAFAAAAAAEAAAIAAAAAAQAAAAAAAAABAAABAAAAAAEAAAUAAAAAAQAAAgAAAAABAAAAAAAAAAEAAAEAAAAAAQAABQAAAAABAAACAAAAAAEAAAAAAAAAAQAAAQAAAAABAAAFAAAAAAEAAAIAAAAAAQAAAAAAAAABAAABAAAAAAEAAAUAAAAAAQAAAgAAAAABAAAAAAAAAAEAAAEAAAAAAQAABQAAAAABAAACAAAAAAEAAAAAAAAAAQAAAQAAAAABAAAFAAAAAAEAAAIAAAAAAQAAAAAAAAABAAABAAAAAAEAAAUAAAAAAQAAAgAAAAABAAAAAAAAAAEAAAEAAAAAAQAABQAAAAABAAACAAAAAAEAAAAAAAAAAQAAAQAAAAABAAAFAAAAAAEAAAIAAAAAAQAAAAAAAAABAAABAAAAAAEAAAUAAAAAAQAAAgAAAAABAAAAAAAAAAEAAAEAAAAAAQAABQAAAAABAAACAAAAAAEAAAAAAAAAAQAAAQAAAAABAAAFAAAAAAEAAAIAAAAAAQAAAAAAAAABAAABAAAAAAEAAAUAAAAAAQAAAgAAAAABAAAAAAAAAAEAAAEAAAAAAQAABQAAAAABAAACAAAAAAEAAAAAAAAAAQAAAQAAAAABAAAFAAAAAAEAAAIAAAAAAQAAAAAAAAABAAABAAAAAAEAAAQAAAAAAgAAAQAAAAABAAACAAAAAAEAAAUAAAAAAQAAAgAAAAABAAAAAAAAAAEAAAEAAAAAAQAABQAAAAABAAACAAAAAAEAAAAAAAAAAQAAAQAAAAABAAAFAAAAAAEAAAIAAAAAAQAAAAAAAAABAAABAAAAAAEAAAUAAAAAAQAAAgAAAAABAAAAAAAAAAEAAAEAAAAAAQAABQAAAAABAAACAAAAAAEAAAAAAAAAAQAAAQAAAAABAAAFAAAAAAEAAAIAAAAAAQAAAAAAAAABAAABAAAAAAEAAAUAAAAAAQAAAgAAAAABAAAAAAAAAAEAAAEAAAAAAQAABQAAAAABAAACAAAAAAEAAAAAAAAAAQAAAQAAAAABAAAFAAAAAAEAAAIAAAAAAQAAAAAAAAABAAABAAAAAAEAAAUAAAAAAQAAAgAAAAABAAAAAAAAAAEAAAEAAAAAAQAABQAAAAABAAACAAAAAAEAAAAAAAAAAQAAAQAAAAABAAAFAAAAAAEAAAIAAAAAAQAAAAAAAAABAAABAAAAAAEAAAUAAAAAAQAAAgAAAAABAAAAAAAAAAEAAAEAAAAAAQAABQAAAAABAAACAAAAAAEAAAAAAAAAAQAAAQAAAAABAAAFAAAAAAEAAAIAAAAAAQAAAAAAAAABAAABAAAAAAEAAAUAAAAAAQAAAgAAAAABAAAAAAAAAAEAAAEAAAAAAQAABQAAAAABAAACAAAAAAEAAAAAAAAAAQAAAQAAAAABAAAFAAAAAAEAAAIAAAAAAQAAAAAAAAABAAABAAAAAAEAAAUAAAAAAQAAAgAAAAABAAAAAAAAAAEAAAEAAAAAAQAABQAAAAABAAACAAAAAAEAAAAAAAAAAQAAAQAAAAABAAAFAAAAAAEAAAIAAAAAAQAAAAAAAAABAAABAAAAAAEAAAUAAAAAAQAAAgAAAAABAAAAAAAAAAEAAAEAAAAAAQAABQAAAAABAAACAAAAAAEAAAAAAAAAAQAAAQAAAAABAAAFAAAAAAEAAAIAAAAAAQAAAAAAAAABAAABAAAAAAEAAAUAAAAAAQAAAgAAAAABAAAAAAAAAAEAAAEAAAAAAQAAAwAAAAABAAABAAAAABxzdHNjAAAAAAAAAAEAAAABAAACWwAAAAEAAAmAc3RzegAAAAAAAAAAAAACWwAABIQAAAB0AAAALgAAACcAAAAgAAAARQAAAB4AAAAfAAAAEwAAAI4AAAA1AAAAIgAAACMAAABYAAAAJAAAABgAAAAfAAAAbwAAACMAAAAjAAAAGAAAAJgAAAAsAAAAIwAAADMAAABZAAAAKgAAAD0AAAArAAAAJAAAADAAAABLAAAAPQAAACYAAAAjAAAAMwAAAB8AAAAoAAAAEgAAAHIAAAAmAAAAKgAAABQAAABrAAAAKQAAACIAAAAeAAAAVgAAADEAAAAhAAAAJAAAAEIAAAA2AAAAJAAAADAAAABQAAAAMQAAAB4AAAAfAAAARwAAABkAAAAlAAAAEgAAADsAAAAmAAAAJQAAAB8AAABhAAAAKQAAACUAAAAbAAAATQAAACQAAAAbAAAAHgAAAFgAAAAnAAAALwAAAC4AAAAyAAAAIwAAABgAAAAVAAAAPgAAACoAAAAWAAAAFgAAAFUAAAA+AAAAHQAAADAAAAAyAAAAJgAAAEgAAAAjAAAAJQAAABYAAABLAAAALwAAABwAAAAcAAAARAAAAEcAAAAoAAAAHwAAAEUAAAAfAAAAGwAAAC4AAAA1AAAAMQAAAB0AAAAiAAAAZgAAAC4AAAAZAAAAIQAAAG0AAAAjAAAAFwAAAB4AAABfAAAAJQAAACAAAAAWAAAAOgAAACcAAAAqAAAAFAAAACoAAAAWAAAAFAAAABIAAABWAAAAKQAAAB0AAAAtAAAAOAAAACgAAAAWAAAAFQAAABIAAAAvAAAAFgAAABQAAAAWAAAAZgAAAC0AAAAlAAAAHAAAACEAAAAbAAAAFAAAABQAAAAyAAAAGQAAABQAAAAXAAAANQAAACgAAAAjAAAAHwAAAFMAAAAhAAAAGgAAACYAAAAeAAAAHAAAAFQAAAAqAAAAJwAAACsAAABhAAAAIAAAABwAAAAWAAAAUQAAADIAAAAWAAAAKQAAADIAAAAhAAAAIQAAABkAAAAfAAAAGwAAABoAAAAXAAAAXAAAAC4AAAAbAAAAIQAAADQAAAAgAAAAKwAAABoAAAAgAAAAJgAAABgAAAAWAAAApwAAAE0AAAA6AAAAIwAAAFUAAAAxAAAAHgAAACgAAAB0AAAAJwAAADEAAAAYAAAAVwAAACUAAAAiAAAAHQAAAFIAAABEAAAAHgAAACIAAACOAAAANQAAACUAAAApAAAAUwAAADQAAAAhAAAAIQAAAGAAAAAmAAAAIgAAAB0AAABGAAAAMwAAAC0AAAAZAAAAcAAAADMAAAAXAAAAHgAAADgAAAAdAAAAIgAAACEAAAA8AAAAIQAAABkAAAAfAAAAKAAAABkAAAGMAAAAlwAAAEsAAAA1AAAANQAAADYAAAAjAAAAMQAAAB0AAAA4AAAAGAAAABYAAAASAAAAaQAAADcAAAAXAAAAIgAAAD0AAAAfAAAAGQAAACIAAAAsAAAALQAAAB0AAAAcAAAATAAAADcAAAAlAAAAHQAAAFkAAAAmAAAAGAAAAB0AAAAyAAAAKwAAABwAAAAaAAAASQAAABgAAAAUAAAAHgAAAE4AAAApAAAAJQAAACEAAABjAAAAIQAAAB4AAAAWAAAAJQAAACYAAAAYAAAAFwAAAF8AAAAvAAAAJQAAACwAAAA9AAAAKgAAAB0AAAAYAAAAdgAAAC4AAAAfAAAAJgAAAFMAAAAoAAAAIwAAABoAAABTAAAAIwAAABwAAAAsAAAAGgAAAC4AAAAWAAAANgAAACkAAAAfAAAAJQAAAFUAAAAjAAAAIwAAABYAAAAlAAAAFQAAABYAAAByAAAAKQAAABkAAAAhAAAAUwAAACIAAAAbAAAAIgAAABsAAAAlAAAAKwAAABwAAAA1AAAAPgAAAB4AAAAfAAAASgAAADQAAAAvAAAAFgAAABsAAAAbAAAAFgAAABYAAABQAAAAJAAAABYAAAAsAAAAWQAAACUAAAAqAAAAIwAAAF0AAAAvAAAAHgAAACUAAABBAAAAJAAAABsAAAAaAAAAPwAAACQAAAAfAAAAFgAAABsAAAAZAAAAFgAAABYAAABaAAAAJgAAAB8AAAAiAAAAIwAAACIAAAAcAAAAHQAAACEAAAAoAAAAHQAAABoAAABIAAAAMgAAABkAAAAhAAAAMwAAAKsAAAA9AAAAKAAAACMAAABgAAAAKAAAACMAAABwAAAAOAAAACAAAAAiAAAAYAAAADkAAAAaAAAAIgAAACsAAABEAAAAIgAAACIAAAA8AAAAHwAAABYAAAAfAAAARgAAABkAAAAkAAAAHQAAAEwAAAAwAAAAGwAAAB4AAAAoAAAAPgAAAB8AAAAdAAAAUQAAACIAAAAdAAAAFgAAAEIAAAAwAAAAFgAAABsAAABdAAAAIAAAAB0AAAAaAAAAOgAAAB8AAAAdAAAAFgAAADYAAAAuAAAAHQAAACYAAAA9AAAAGQAAABcAAAAXAAAAGwAAABkAAAAWAAAAFgAAABsAAAAZAAAAFgAAABYAAAAiAAAAGAAAAC0AAAAWAAAAGwAAABkAAAAWAAAAFgAAABsAAAAoAAAAGgAAACoAAABAAAAAIgAAACkAAAAcAAAAGwAAABkAAAAWAAAAFgAAAD8AAAAfAAAAFgAAABsAAAAyAAAAHAAAAB0AAAASAAAAIQAAABcAAAAWAAAB0QAAAIIAAAAhAAAAKQAAACAAAAAbAAAAJAAAABYAAAAVAAAAPQAAADAAAAAiAAAAIAAAADkAAAAiAAAAFgAAAB8AAAA9AAAAIgAAACEAAAAVAAAAQAAAADYAAAAXAAAAIAAAADcAAAAwAAAAGgAAACUAAAAeAAAAIQAAABUAAAAWAAAASwAAADUAAAAiAAAAJAAAAC8AAAAyAAAAHgAAAB8AAAAbAAAAJwAAABYAAAAXAAAAbAAAACIAAAAiAAAAIQAAACcAAAAzAAAAHgAAACgAAAAoAAAAMgAAACAAAAAbAAAAKgAAAB4AAAAbAAAAFgAAADEAAAAZAAAAFgAAABYAAAAjAAAAJAAAABoAAAAdAAAAGwAAABoAAAAWAAAAFgAAABsAAAAZAAAAFgAAABYAAAA5AAAAJwAAABYAAAAVAAAAIwAAABkAAAAWAAAAFgAAABsAAAAZAAAAFgAAABYAAAAvAAAAGQAAABYAAAAVAAAAIAAAABkAAAAUAAAAFwAAABsAAAAZAAAAFgAAABYAAAAgAAAAFgAAABRzdGNvAAAAAAAAAAEAAAAwAAAAYnVkdGEAAABabWV0YQAAAAAAAAAhaGRscgAAAAAAAAAAbWRpcmFwcGwAAAAAAAAAAAAAAAAtaWxzdAAAACWpdG9vAAAAHWRhdGEAAAABAAAAAExhdmY1Ny44My4xMDA=\" type=\"video/mp4\">\n",
              "  Your browser does not support the video tag.\n",
              "  </video>"
            ],
            "text/plain": [
              "<IPython.core.display.HTML object>"
            ]
          },
          "metadata": {
            "tags": []
          },
          "execution_count": 18
        }
      ]
    },
    {
      "cell_type": "code",
      "metadata": {
        "id": "u8EplO9JechK"
      },
      "source": [
        ""
      ],
      "execution_count": 18,
      "outputs": []
    }
  ]
}