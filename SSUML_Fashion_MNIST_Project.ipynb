{
  "nbformat": 4,
  "nbformat_minor": 0,
  "metadata": {
    "colab": {
      "name": "SSUML Fashion MNIST Project.ipynb",
      "provenance": [],
      "collapsed_sections": [
        "Vo5pi_IoUopf",
        "yPdyF4drZP9g",
        "MSVsFKr7bcrF",
        "_aa3a-c6rsub",
        "jD1xECm8wbQO",
        "fZv78my3xGx2",
        "Zv0ZCFp5RRxS",
        "CDo_6kxgVMp5",
        "xjHpugF3AO_m",
        "Wu_hB1EvNEV4",
        "eSEsS20AgqYK"
      ],
      "authorship_tag": "ABX9TyOk06VdLMf5Yh58VLgQD8Je",
      "include_colab_link": true
    },
    "kernelspec": {
      "name": "python3",
      "display_name": "Python 3"
    }
  },
  "cells": [
    {
      "cell_type": "markdown",
      "metadata": {
        "id": "view-in-github",
        "colab_type": "text"
      },
      "source": [
        "<a href=\"https://colab.research.google.com/github/soline013/Machine_Learning-ML/blob/master/SSUML_Fashion_MNIST_Project.ipynb\" target=\"_parent\"><img src=\"https://colab.research.google.com/assets/colab-badge.svg\" alt=\"Open In Colab\"/></a>"
      ]
    },
    {
      "cell_type": "markdown",
      "metadata": {
        "id": "PBaXj8TybSH2"
      },
      "source": [
        "#SSUML Fashion MNIST Project"
      ]
    },
    {
      "cell_type": "markdown",
      "metadata": {
        "id": "Vo5pi_IoUopf"
      },
      "source": [
        "##Introduction."
      ]
    },
    {
      "cell_type": "markdown",
      "metadata": {
        "id": "w_KR_KpkUtVe"
      },
      "source": [
        "머신러닝/딥러닝 소모임 SSUML의 프로젝트 과제이다.\n",
        "\n",
        "Kaggle 홈페이지에 Fashion MNIST에 대해 예제를 참고하여 정보를 얻었다.한 가지 방법을 이용하는 것이 아닌 여러 레이어를 구성하고 싶었고, Keras를 이용해 Sequential한 모델을 만들 수 있었다."
      ]
    },
    {
      "cell_type": "markdown",
      "metadata": {
        "id": "yPdyF4drZP9g"
      },
      "source": [
        "##Datasets."
      ]
    },
    {
      "cell_type": "markdown",
      "metadata": {
        "id": "mS2S2G4hZSrq"
      },
      "source": [
        "- Fashion MNIST is a dataset of Zalando's article images.\n",
        "\n",
        "- Training set: 60,000 examples.\n",
        "\n",
        "- Test set: 10,000 examples.\n",
        "\n",
        "- Label: 10 classes.\n",
        "\n",
        "- Each example: 28X28 grayscale image, total 784 pixels.\n",
        "\n",
        "- Each Pixel-value: 0~255, indicating the lightness or darkness, higher numbers meaning darker.\n",
        "\n",
        "- Columns: 785, first column is class labels, and the article of clothing."
      ]
    },
    {
      "cell_type": "markdown",
      "metadata": {
        "id": "MSVsFKr7bcrF"
      },
      "source": [
        "##Load Packages."
      ]
    },
    {
      "cell_type": "code",
      "metadata": {
        "id": "ja0e1SSoZeJF",
        "outputId": "464f4408-a8ab-4050-e1e5-a9df6fee7b65",
        "colab": {
          "base_uri": "https://localhost:8080/"
        }
      },
      "source": [
        "#Need to Tensorflow 1.x\n",
        "%tensorflow_version 1.x"
      ],
      "execution_count": null,
      "outputs": [
        {
          "output_type": "stream",
          "text": [
            "TensorFlow 1.x selected.\n"
          ],
          "name": "stdout"
        }
      ]
    },
    {
      "cell_type": "code",
      "metadata": {
        "id": "bHAt0PYWfcRP",
        "outputId": "fcad84ab-d378-4d40-ddfd-e2a6432956d8",
        "colab": {
          "base_uri": "https://localhost:8080/"
        }
      },
      "source": [
        "#Need to Google Dirve Mount\n",
        "from google.colab import drive\n",
        "drive.mount('/content/drive')"
      ],
      "execution_count": null,
      "outputs": [
        {
          "output_type": "stream",
          "text": [
            "Mounted at /content/drive\n"
          ],
          "name": "stdout"
        }
      ]
    },
    {
      "cell_type": "code",
      "metadata": {
        "id": "5LoLko2TbXc9"
      },
      "source": [
        "import numpy as np\n",
        "import pandas as pd\n",
        "from tensorflow.python import keras\n",
        "from sklearn.model_selection import train_test_split\n",
        "from sklearn.metrics import classification_report\n",
        "from tensorflow.python.keras.models import Sequential\n",
        "from tensorflow.python.keras.layers import Dense, Flatten, Conv2D, Dropout, MaxPooling2D"
      ],
      "execution_count": null,
      "outputs": []
    },
    {
      "cell_type": "markdown",
      "metadata": {
        "id": "_aa3a-c6rsub"
      },
      "source": [
        "##Parameters."
      ]
    },
    {
      "cell_type": "code",
      "metadata": {
        "id": "dqRhgy0BrvDM"
      },
      "source": [
        "IMG_ROWS = 28\n",
        "IMG_COLS = 28\n",
        "LAB_CLASSES = 10\n",
        "VALID_SIZE = 0.25\n",
        "BATCH_SIZE = 128\n",
        "EPOCH = 50"
      ],
      "execution_count": null,
      "outputs": []
    },
    {
      "cell_type": "markdown",
      "metadata": {
        "id": "jD1xECm8wbQO"
      },
      "source": [
        "##Read the data."
      ]
    },
    {
      "cell_type": "code",
      "metadata": {
        "id": "tkFfWYwfbf7Y"
      },
      "source": [
        "train_file = \"/content/drive/My Drive/Colab Notebooks/2243_9243_bundle_archive/fashion-mnist_train.csv\"\n",
        "test_file  = \"/content/drive/My Drive/Colab Notebooks/2243_9243_bundle_archive/fashion-mnist_test.csv\"\n",
        "\n",
        "train_data = pd.read_csv(train_file)\n",
        "test_data = pd.read_csv(test_file)"
      ],
      "execution_count": null,
      "outputs": []
    },
    {
      "cell_type": "markdown",
      "metadata": {
        "id": "fZv78my3xGx2"
      },
      "source": [
        "##Data exploration."
      ]
    },
    {
      "cell_type": "code",
      "metadata": {
        "id": "hOFi2O96zJhP",
        "outputId": "73e53035-a7bc-40b1-9caa-999ed6d6c79a",
        "colab": {
          "base_uri": "https://localhost:8080/"
        }
      },
      "source": [
        "print(\"Train Data:\", train_data.shape)\n",
        "print(\"Test Data:\", test_data.shape)"
      ],
      "execution_count": null,
      "outputs": [
        {
          "output_type": "stream",
          "text": [
            "Train Data: (60000, 785)\n",
            "Test Data: (10000, 785)\n"
          ],
          "name": "stdout"
        }
      ]
    },
    {
      "cell_type": "markdown",
      "metadata": {
        "id": "Zv0ZCFp5RRxS"
      },
      "source": [
        "##Train set images class distribution."
      ]
    },
    {
      "cell_type": "code",
      "metadata": {
        "id": "FrzIBDgUjpn0",
        "outputId": "86b91d0f-d40d-489b-ed0e-b4e2d5195e13",
        "colab": {
          "base_uri": "https://localhost:8080/"
        }
      },
      "source": [
        "labels = {0 : \"T-shirt/top\", 1: \"Trouser\", 2: \"Pullover\", 3: \"Dress\", 4: \"Coat\", 5: \"Sandal\", 6: \"Shirt\", 7: \"Sneaker\", 8: \"Bag\", 9: \"Ankle boot\"}\n",
        "\n",
        "def Class_Distribution(data):\n",
        "    #The count for each label\n",
        "    labels_counts = data[\"label\"].value_counts()\n",
        "\n",
        "    #The count for total number\n",
        "    total_counts = len(data)\n",
        "\n",
        "    for i in range(len(labels_counts)):\n",
        "        label = labels[labels_counts.index[i]]\n",
        "        count = labels_counts.values[i]\n",
        "        percent = (count / total_counts) * 100\n",
        "        print(\"{:15s}:  {} or {}%\".format(label, count, percent))\n",
        "\n",
        "Class_Distribution(train_data)"
      ],
      "execution_count": null,
      "outputs": [
        {
          "output_type": "stream",
          "text": [
            "Ankle boot     :  6000 or 10.0%\n",
            "Bag            :  6000 or 10.0%\n",
            "Sneaker        :  6000 or 10.0%\n",
            "Shirt          :  6000 or 10.0%\n",
            "Sandal         :  6000 or 10.0%\n",
            "Coat           :  6000 or 10.0%\n",
            "Dress          :  6000 or 10.0%\n",
            "Pullover       :  6000 or 10.0%\n",
            "Trouser        :  6000 or 10.0%\n",
            "T-shirt/top    :  6000 or 10.0%\n"
          ],
          "name": "stdout"
        }
      ]
    },
    {
      "cell_type": "markdown",
      "metadata": {
        "id": "CDo_6kxgVMp5"
      },
      "source": [
        "##Test set images class distribution."
      ]
    },
    {
      "cell_type": "code",
      "metadata": {
        "id": "N9HPYg4HVK9_",
        "outputId": "232c1452-03fc-47e8-9500-7694b6b89b5b",
        "colab": {
          "base_uri": "https://localhost:8080/"
        }
      },
      "source": [
        "Class_Distribution(test_data)"
      ],
      "execution_count": null,
      "outputs": [
        {
          "output_type": "stream",
          "text": [
            "Sneaker        :  1000 or 10.0%\n",
            "Shirt          :  1000 or 10.0%\n",
            "Sandal         :  1000 or 10.0%\n",
            "Coat           :  1000 or 10.0%\n",
            "Dress          :  1000 or 10.0%\n",
            "Pullover       :  1000 or 10.0%\n",
            "Ankle boot     :  1000 or 10.0%\n",
            "Trouser        :  1000 or 10.0%\n",
            "Bag            :  1000 or 10.0%\n",
            "T-shirt/top    :  1000 or 10.0%\n"
          ],
          "name": "stdout"
        }
      ]
    },
    {
      "cell_type": "markdown",
      "metadata": {
        "id": "xjHpugF3AO_m"
      },
      "source": [
        "##Prepare the model"
      ]
    },
    {
      "cell_type": "code",
      "metadata": {
        "id": "RfNqvRPrhdxh"
      },
      "source": [
        "def Preprocess(data):\n",
        "    images_num = data.shape[0]\n",
        "    x_array = data.values[: , 1:]\n",
        "    x_outcome = x_array.reshape(images_num, IMG_ROWS, IMG_COLS, 1)\n",
        "    y_outcome = keras.utils.to_categorical(data.label, LAB_CLASSES)\n",
        "    return x_outcome, y_outcome"
      ],
      "execution_count": null,
      "outputs": []
    },
    {
      "cell_type": "code",
      "metadata": {
        "id": "HPnhHdsYjSfK"
      },
      "source": [
        "X, Y = Preprocess(train_data)\n",
        "X_test, Y_test = Preprocess(test_data)"
      ],
      "execution_count": null,
      "outputs": []
    },
    {
      "cell_type": "code",
      "metadata": {
        "id": "rPAb_fvLjZGQ",
        "outputId": "80b97b0e-8195-4c5c-cf28-8776e7105db3",
        "colab": {
          "base_uri": "https://localhost:8080/"
        }
      },
      "source": [
        "#Split train in train and validation set\n",
        "X_train, X_valid, Y_train, Y_valid = train_test_split(X, Y, test_size=VALID_SIZE)\n",
        "\n",
        "print(\"X: Train Data:\", X_train.shape)\n",
        "print(\"X: Valid Data:\", X_valid.shape)\n",
        "print(\"X: Test Data:\", X_test.shape)\n",
        "\n",
        "print(\"Y: Train Data:\", Y_train.shape)\n",
        "print(\"Y: Valid Data:\", Y_valid.shape)\n",
        "print(\"Y: Test Data:\", Y_test.shape)"
      ],
      "execution_count": null,
      "outputs": [
        {
          "output_type": "stream",
          "text": [
            "X: Train Data: (45000, 28, 28, 1)\n",
            "X: Valid Data: (15000, 28, 28, 1)\n",
            "X: Test Data: (10000, 28, 28, 1)\n",
            "Y: Train Data: (45000, 10)\n",
            "Y: Valid Data: (15000, 10)\n",
            "Y: Test Data: (10000, 10)\n"
          ],
          "name": "stdout"
        }
      ]
    },
    {
      "cell_type": "markdown",
      "metadata": {
        "id": "Wu_hB1EvNEV4"
      },
      "source": [
        "##Model."
      ]
    },
    {
      "cell_type": "code",
      "metadata": {
        "id": "38pZz8izboSk",
        "outputId": "50b1b137-3860-49e2-c9e7-eb3b82cade8a",
        "colab": {
          "base_uri": "https://localhost:8080/"
        }
      },
      "source": [
        "model = Sequential()\n",
        "\n",
        "model.add(Conv2D(32, kernel_size=(3, 3), activation='relu', kernel_initializer='he_normal', input_shape=(IMG_ROWS, IMG_COLS, 1)))\n",
        "model.add(MaxPooling2D((2, 2)))\n",
        "model.add(Dropout(0.3))\n",
        "\n",
        "model.add(Conv2D(64, kernel_size=(3, 3), activation='relu'))\n",
        "model.add(MaxPooling2D(pool_size=(2, 2)))\n",
        "model.add(Dropout(0.3))\n",
        "\n",
        "model.add(Conv2D(128, (3, 3), activation='relu'))\n",
        "model.add(Dropout(0.3))\n",
        "\n",
        "model.add(Flatten())\n",
        "model.add(Dense(128, activation='relu'))\n",
        "model.add(Dropout(0.3))\n",
        "model.add(Dense(10, activation='softmax'))\n",
        "\n",
        "model.compile(loss=keras.losses.categorical_crossentropy, optimizer='adam', metrics=['accuracy'])\n",
        "\n",
        "model.summary()"
      ],
      "execution_count": null,
      "outputs": [
        {
          "output_type": "stream",
          "text": [
            "WARNING:tensorflow:From /tensorflow-1.15.2/python3.6/tensorflow_core/python/ops/resource_variable_ops.py:1630: calling BaseResourceVariable.__init__ (from tensorflow.python.ops.resource_variable_ops) with constraint is deprecated and will be removed in a future version.\n",
            "Instructions for updating:\n",
            "If using Keras pass *_constraint arguments to layers.\n",
            "Model: \"sequential\"\n",
            "_________________________________________________________________\n",
            "Layer (type)                 Output Shape              Param #   \n",
            "=================================================================\n",
            "conv2d (Conv2D)              (None, 26, 26, 32)        320       \n",
            "_________________________________________________________________\n",
            "max_pooling2d (MaxPooling2D) (None, 13, 13, 32)        0         \n",
            "_________________________________________________________________\n",
            "dropout (Dropout)            (None, 13, 13, 32)        0         \n",
            "_________________________________________________________________\n",
            "conv2d_1 (Conv2D)            (None, 11, 11, 64)        18496     \n",
            "_________________________________________________________________\n",
            "max_pooling2d_1 (MaxPooling2 (None, 5, 5, 64)          0         \n",
            "_________________________________________________________________\n",
            "dropout_1 (Dropout)          (None, 5, 5, 64)          0         \n",
            "_________________________________________________________________\n",
            "conv2d_2 (Conv2D)            (None, 3, 3, 128)         73856     \n",
            "_________________________________________________________________\n",
            "dropout_2 (Dropout)          (None, 3, 3, 128)         0         \n",
            "_________________________________________________________________\n",
            "flatten (Flatten)            (None, 1152)              0         \n",
            "_________________________________________________________________\n",
            "dense (Dense)                (None, 128)               147584    \n",
            "_________________________________________________________________\n",
            "dropout_3 (Dropout)          (None, 128)               0         \n",
            "_________________________________________________________________\n",
            "dense_1 (Dense)              (None, 10)                1290      \n",
            "=================================================================\n",
            "Total params: 241,546\n",
            "Trainable params: 241,546\n",
            "Non-trainable params: 0\n",
            "_________________________________________________________________\n"
          ],
          "name": "stdout"
        }
      ]
    },
    {
      "cell_type": "code",
      "metadata": {
        "id": "IWmzPXjpdO9e",
        "outputId": "57f46ccf-fde9-42d1-840c-b63ac058ef0f",
        "colab": {
          "base_uri": "https://localhost:8080/"
        }
      },
      "source": [
        "train_model = model.fit(X_train, Y_train, batch_size=BATCH_SIZE, epochs=EPOCH, validation_data=(X_valid, Y_valid)) "
      ],
      "execution_count": null,
      "outputs": [
        {
          "output_type": "stream",
          "text": [
            "Train on 45000 samples, validate on 15000 samples\n",
            "Epoch 1/50\n",
            "45000/45000 [==============================] - 46s 1ms/sample - loss: 0.4798 - acc: 0.8231 - val_loss: 0.3672 - val_acc: 0.8593\n",
            "Epoch 2/50\n",
            "45000/45000 [==============================] - 45s 996us/sample - loss: 0.4725 - acc: 0.8280 - val_loss: 0.3827 - val_acc: 0.8527\n",
            "Epoch 3/50\n",
            "45000/45000 [==============================] - 45s 999us/sample - loss: 0.4493 - acc: 0.8360 - val_loss: 0.3494 - val_acc: 0.8705\n",
            "Epoch 4/50\n",
            "45000/45000 [==============================] - 45s 993us/sample - loss: 0.4458 - acc: 0.8401 - val_loss: 0.3324 - val_acc: 0.8781\n",
            "Epoch 5/50\n",
            "45000/45000 [==============================] - 45s 996us/sample - loss: 0.4278 - acc: 0.8446 - val_loss: 0.3244 - val_acc: 0.8821\n",
            "Epoch 6/50\n",
            "45000/45000 [==============================] - 45s 994us/sample - loss: 0.4219 - acc: 0.8481 - val_loss: 0.3274 - val_acc: 0.8824\n",
            "Epoch 7/50\n",
            "45000/45000 [==============================] - 45s 992us/sample - loss: 0.4109 - acc: 0.8499 - val_loss: 0.3158 - val_acc: 0.8829\n",
            "Epoch 8/50\n",
            "45000/45000 [==============================] - 45s 993us/sample - loss: 0.3993 - acc: 0.8544 - val_loss: 0.3085 - val_acc: 0.8849\n",
            "Epoch 9/50\n",
            "45000/45000 [==============================] - 45s 999us/sample - loss: 0.4000 - acc: 0.8563 - val_loss: 0.3118 - val_acc: 0.8871\n",
            "Epoch 10/50\n",
            "45000/45000 [==============================] - 49s 1ms/sample - loss: 0.3930 - acc: 0.8584 - val_loss: 0.3081 - val_acc: 0.8873\n",
            "Epoch 11/50\n",
            "45000/45000 [==============================] - 45s 993us/sample - loss: 0.3880 - acc: 0.8594 - val_loss: 0.3067 - val_acc: 0.8889\n",
            "Epoch 12/50\n",
            "45000/45000 [==============================] - 45s 992us/sample - loss: 0.3849 - acc: 0.8617 - val_loss: 0.3007 - val_acc: 0.8914\n",
            "Epoch 13/50\n",
            "45000/45000 [==============================] - 45s 993us/sample - loss: 0.3783 - acc: 0.8623 - val_loss: 0.3181 - val_acc: 0.8795\n",
            "Epoch 14/50\n",
            "45000/45000 [==============================] - 45s 993us/sample - loss: 0.3762 - acc: 0.8666 - val_loss: 0.3001 - val_acc: 0.8905\n",
            "Epoch 15/50\n",
            "45000/45000 [==============================] - 45s 994us/sample - loss: 0.3751 - acc: 0.8674 - val_loss: 0.3001 - val_acc: 0.8869\n",
            "Epoch 16/50\n",
            "45000/45000 [==============================] - 45s 993us/sample - loss: 0.3655 - acc: 0.8691 - val_loss: 0.2904 - val_acc: 0.8931\n",
            "Epoch 17/50\n",
            "45000/45000 [==============================] - 45s 991us/sample - loss: 0.3680 - acc: 0.8692 - val_loss: 0.2999 - val_acc: 0.8880\n",
            "Epoch 18/50\n",
            "45000/45000 [==============================] - 45s 991us/sample - loss: 0.3600 - acc: 0.8718 - val_loss: 0.2870 - val_acc: 0.8967\n",
            "Epoch 19/50\n",
            "45000/45000 [==============================] - 44s 989us/sample - loss: 0.3573 - acc: 0.8702 - val_loss: 0.2899 - val_acc: 0.8975\n",
            "Epoch 20/50\n",
            "45000/45000 [==============================] - 45s 989us/sample - loss: 0.3568 - acc: 0.8695 - val_loss: 0.2876 - val_acc: 0.8941\n",
            "Epoch 21/50\n",
            "45000/45000 [==============================] - 44s 988us/sample - loss: 0.3564 - acc: 0.8742 - val_loss: 0.2881 - val_acc: 0.8933\n",
            "Epoch 22/50\n",
            "45000/45000 [==============================] - 44s 988us/sample - loss: 0.3460 - acc: 0.8759 - val_loss: 0.2851 - val_acc: 0.8948\n",
            "Epoch 23/50\n",
            "45000/45000 [==============================] - 45s 991us/sample - loss: 0.3493 - acc: 0.8770 - val_loss: 0.2779 - val_acc: 0.8977\n",
            "Epoch 24/50\n",
            "45000/45000 [==============================] - 48s 1ms/sample - loss: 0.3427 - acc: 0.8770 - val_loss: 0.2848 - val_acc: 0.8969\n",
            "Epoch 25/50\n",
            "45000/45000 [==============================] - 44s 988us/sample - loss: 0.3419 - acc: 0.8758 - val_loss: 0.2809 - val_acc: 0.8989\n",
            "Epoch 26/50\n",
            "45000/45000 [==============================] - 44s 988us/sample - loss: 0.3434 - acc: 0.8772 - val_loss: 0.2836 - val_acc: 0.8962\n",
            "Epoch 27/50\n",
            "45000/45000 [==============================] - 44s 986us/sample - loss: 0.3399 - acc: 0.8772 - val_loss: 0.2796 - val_acc: 0.8969\n",
            "Epoch 28/50\n",
            "45000/45000 [==============================] - 45s 989us/sample - loss: 0.3367 - acc: 0.8802 - val_loss: 0.2808 - val_acc: 0.8987\n",
            "Epoch 29/50\n",
            "45000/45000 [==============================] - 44s 989us/sample - loss: 0.3295 - acc: 0.8804 - val_loss: 0.2743 - val_acc: 0.8987\n",
            "Epoch 30/50\n",
            "45000/45000 [==============================] - 44s 988us/sample - loss: 0.3315 - acc: 0.8814 - val_loss: 0.2724 - val_acc: 0.8986\n",
            "Epoch 31/50\n",
            "45000/45000 [==============================] - 45s 991us/sample - loss: 0.3295 - acc: 0.8816 - val_loss: 0.2888 - val_acc: 0.8937\n",
            "Epoch 32/50\n",
            "45000/45000 [==============================] - 45s 990us/sample - loss: 0.3287 - acc: 0.8822 - val_loss: 0.2939 - val_acc: 0.8905\n",
            "Epoch 33/50\n",
            "45000/45000 [==============================] - 44s 987us/sample - loss: 0.3299 - acc: 0.8814 - val_loss: 0.2843 - val_acc: 0.8957\n",
            "Epoch 34/50\n",
            "45000/45000 [==============================] - 44s 986us/sample - loss: 0.3246 - acc: 0.8810 - val_loss: 0.2822 - val_acc: 0.8985\n",
            "Epoch 35/50\n",
            "45000/45000 [==============================] - 45s 989us/sample - loss: 0.3244 - acc: 0.8840 - val_loss: 0.2715 - val_acc: 0.9013\n",
            "Epoch 36/50\n",
            "45000/45000 [==============================] - 45s 994us/sample - loss: 0.3264 - acc: 0.8829 - val_loss: 0.2747 - val_acc: 0.9006\n",
            "Epoch 37/50\n",
            "45000/45000 [==============================] - 48s 1ms/sample - loss: 0.3205 - acc: 0.8849 - val_loss: 0.2803 - val_acc: 0.8976\n",
            "Epoch 38/50\n",
            "45000/45000 [==============================] - 45s 991us/sample - loss: 0.3209 - acc: 0.8841 - val_loss: 0.2690 - val_acc: 0.9005\n",
            "Epoch 39/50\n",
            "45000/45000 [==============================] - 44s 989us/sample - loss: 0.3152 - acc: 0.8851 - val_loss: 0.2785 - val_acc: 0.8969\n",
            "Epoch 40/50\n",
            "45000/45000 [==============================] - 44s 989us/sample - loss: 0.3164 - acc: 0.8841 - val_loss: 0.2740 - val_acc: 0.8925\n",
            "Epoch 41/50\n",
            "45000/45000 [==============================] - 45s 993us/sample - loss: 0.3108 - acc: 0.8876 - val_loss: 0.2733 - val_acc: 0.8985\n",
            "Epoch 42/50\n",
            "45000/45000 [==============================] - 45s 992us/sample - loss: 0.3176 - acc: 0.8852 - val_loss: 0.2714 - val_acc: 0.9017\n",
            "Epoch 43/50\n",
            "45000/45000 [==============================] - 45s 990us/sample - loss: 0.3160 - acc: 0.8857 - val_loss: 0.2677 - val_acc: 0.9022\n",
            "Epoch 44/50\n",
            "45000/45000 [==============================] - 44s 987us/sample - loss: 0.3160 - acc: 0.8856 - val_loss: 0.2830 - val_acc: 0.8955\n",
            "Epoch 45/50\n",
            "45000/45000 [==============================] - 45s 990us/sample - loss: 0.3175 - acc: 0.8860 - val_loss: 0.2677 - val_acc: 0.9023\n",
            "Epoch 46/50\n",
            "45000/45000 [==============================] - 45s 993us/sample - loss: 0.3153 - acc: 0.8882 - val_loss: 0.2669 - val_acc: 0.9017\n",
            "Epoch 47/50\n",
            "45000/45000 [==============================] - 45s 992us/sample - loss: 0.3100 - acc: 0.8885 - val_loss: 0.2790 - val_acc: 0.8953\n",
            "Epoch 48/50\n",
            "45000/45000 [==============================] - 45s 989us/sample - loss: 0.3141 - acc: 0.8875 - val_loss: 0.2785 - val_acc: 0.8995\n",
            "Epoch 49/50\n",
            "45000/45000 [==============================] - 44s 988us/sample - loss: 0.3140 - acc: 0.8873 - val_loss: 0.2734 - val_acc: 0.8973\n",
            "Epoch 50/50\n",
            "45000/45000 [==============================] - 45s 991us/sample - loss: 0.3100 - acc: 0.8881 - val_loss: 0.2766 - val_acc: 0.9026\n"
          ],
          "name": "stdout"
        }
      ]
    },
    {
      "cell_type": "markdown",
      "metadata": {
        "id": "eSEsS20AgqYK"
      },
      "source": [
        "##Accuracy and Loss."
      ]
    },
    {
      "cell_type": "code",
      "metadata": {
        "id": "fqeUrxAucW0_",
        "outputId": "78c1b797-3593-44fb-b649-f8a41053fa2c",
        "colab": {
          "base_uri": "https://localhost:8080/"
        }
      },
      "source": [
        "result = model.evaluate(X_test, Y_test)\n",
        "print('Loss:', result[0])\n",
        "print('Accuracy:', result[1])"
      ],
      "execution_count": null,
      "outputs": [
        {
          "output_type": "stream",
          "text": [
            "10000/10000 [==============================] - 3s 334us/sample - loss: 0.2633 - acc: 0.9069\n",
            "Loss: 0.26332143685817716\n",
            "Accuracy: 0.9069\n"
          ],
          "name": "stdout"
        }
      ]
    },
    {
      "cell_type": "code",
      "metadata": {
        "id": "gIJ1FdPrhfGL"
      },
      "source": [
        "predicted_classes = model.predict_classes(X_test)\n",
        "Y_true = test_data.iloc[:, 0]"
      ],
      "execution_count": null,
      "outputs": []
    },
    {
      "cell_type": "code",
      "metadata": {
        "id": "7f0QPAu9iEJL",
        "outputId": "c62821e3-1eb8-4884-de85-320d92927600",
        "colab": {
          "base_uri": "https://localhost:8080/"
        }
      },
      "source": [
        "target_names = [\"Class {} ({}) :\".format(i, labels[i]) for i in range(LAB_CLASSES)]\n",
        "print(classification_report(Y_true, predicted_classes, target_names=target_names))"
      ],
      "execution_count": null,
      "outputs": [
        {
          "output_type": "stream",
          "text": [
            "                         precision    recall  f1-score   support\n",
            "\n",
            "Class 0 (T-shirt/top) :       0.82      0.89      0.85      1000\n",
            "    Class 1 (Trouser) :       0.99      0.99      0.99      1000\n",
            "   Class 2 (Pullover) :       0.85      0.87      0.86      1000\n",
            "      Class 3 (Dress) :       0.89      0.95      0.92      1000\n",
            "       Class 4 (Coat) :       0.86      0.85      0.86      1000\n",
            "     Class 5 (Sandal) :       0.99      0.97      0.98      1000\n",
            "      Class 6 (Shirt) :       0.77      0.65      0.70      1000\n",
            "    Class 7 (Sneaker) :       0.92      0.98      0.95      1000\n",
            "        Class 8 (Bag) :       0.99      0.98      0.98      1000\n",
            " Class 9 (Ankle boot) :       0.98      0.94      0.96      1000\n",
            "\n",
            "               accuracy                           0.91     10000\n",
            "              macro avg       0.91      0.91      0.91     10000\n",
            "           weighted avg       0.91      0.91      0.91     10000\n",
            "\n"
          ],
          "name": "stdout"
        }
      ]
    }
  ]
}