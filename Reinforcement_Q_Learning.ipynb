{
  "nbformat": 4,
  "nbformat_minor": 0,
  "metadata": {
    "colab": {
      "name": "Reinforcement-Q-Learning.ipynb",
      "provenance": [],
      "collapsed_sections": [
        "E16vKeEuctfC",
        "n1Ik_4OlojkK",
        "cUjgBBwpou2U",
        "rSJdizAXw4h9",
        "E4Ql3o3R4z3I",
        "HfC-19u642Lp",
        "zrvi0qjV4vfJ",
        "i48dvwbgw3rv",
        "LSk40OVQ4m71",
        "TXVgNXa-4qrt"
      ],
      "authorship_tag": "ABX9TyOX94viMv720NuiDs1zKnw0",
      "include_colab_link": true
    },
    "kernelspec": {
      "name": "python3",
      "display_name": "Python 3"
    },
    "accelerator": "GPU"
  },
  "cells": [
    {
      "cell_type": "markdown",
      "metadata": {
        "id": "view-in-github",
        "colab_type": "text"
      },
      "source": [
        "<a href=\"https://colab.research.google.com/github/soline013/Machine-Learning-ML/blob/master/Reinforcement_Q_Learning.ipynb\" target=\"_parent\"><img src=\"https://colab.research.google.com/assets/colab-badge.svg\" alt=\"Open In Colab\"/></a>"
      ]
    },
    {
      "cell_type": "markdown",
      "metadata": {
        "id": "X0KZllbBnKg-"
      },
      "source": [
        "# Reinforcement Q Learning CartPole"
      ]
    },
    {
      "cell_type": "markdown",
      "metadata": {
        "id": "8MdOqpcQnSCg"
      },
      "source": [
        "[Pytorch Tutorials Reinforcement Q Learning](https://pytorch.org/tutorials/intermediate/reinforcement_q_learning.html)"
      ]
    },
    {
      "cell_type": "markdown",
      "metadata": {
        "id": "gJ6EgloznjtU"
      },
      "source": [
        "## Import\n",
        "\n",
        "**pip**\n",
        "\n",
        "`PyOpenGL` : Python에서 OpenGL을 사용할 수 있는 pip.\n",
        "\n",
        "`PyOpenGL-accelerate` : 하드웨어 가속을 위한 pip.\n",
        "\n",
        "`pyvirtualdisplay` : Display와 관련된 pip.\n",
        "\n",
        "`gym` : OpenAI의 Gym을 사용할 수 있도록 하는 pip.\n",
        "\n",
        "`piglet`\n",
        "\n",
        "---\n",
        "\n",
        "**apt-get**\n",
        "\n",
        "`python-opengl` : 마찬가지로 OpenGL를 사용할 수 있다.\n",
        "\n",
        "`xvfb` : 가상 Live Server를 사용할 수 있다."
      ]
    },
    {
      "cell_type": "code",
      "metadata": {
        "colab": {
          "base_uri": "https://localhost:8080/"
        },
        "id": "Ia1A4IGjnJ9U",
        "outputId": "4e93bd78-bc1b-4ebf-83a8-e7292f4c66c3"
      },
      "source": [
        "!apt-get install python-opengl -y\n",
        "!apt install xvfb -y\n",
        "!pip install pyvirtualdisplay\n",
        "!pip install piglet"
      ],
      "execution_count": 1,
      "outputs": [
        {
          "output_type": "stream",
          "text": [
            "Reading package lists... Done\n",
            "Building dependency tree       \n",
            "Reading state information... Done\n",
            "python-opengl is already the newest version (3.1.0+dfsg-1).\n",
            "0 upgraded, 0 newly installed, 0 to remove and 29 not upgraded.\n",
            "Reading package lists... Done\n",
            "Building dependency tree       \n",
            "Reading state information... Done\n",
            "xvfb is already the newest version (2:1.19.6-1ubuntu4.8).\n",
            "0 upgraded, 0 newly installed, 0 to remove and 29 not upgraded.\n",
            "Requirement already satisfied: pyvirtualdisplay in /usr/local/lib/python3.7/dist-packages (2.1)\n",
            "Requirement already satisfied: EasyProcess in /usr/local/lib/python3.7/dist-packages (from pyvirtualdisplay) (0.3)\n",
            "Requirement already satisfied: piglet in /usr/local/lib/python3.7/dist-packages (1.0.0)\n",
            "Requirement already satisfied: piglet-templates in /usr/local/lib/python3.7/dist-packages (from piglet) (1.1.0)\n",
            "Requirement already satisfied: markupsafe in /usr/local/lib/python3.7/dist-packages (from piglet-templates->piglet) (1.1.1)\n",
            "Requirement already satisfied: Parsley in /usr/local/lib/python3.7/dist-packages (from piglet-templates->piglet) (1.3)\n",
            "Requirement already satisfied: astunparse in /usr/local/lib/python3.7/dist-packages (from piglet-templates->piglet) (1.6.3)\n",
            "Requirement already satisfied: attrs in /usr/local/lib/python3.7/dist-packages (from piglet-templates->piglet) (20.3.0)\n",
            "Requirement already satisfied: wheel<1.0,>=0.23.0 in /usr/local/lib/python3.7/dist-packages (from astunparse->piglet-templates->piglet) (0.36.2)\n",
            "Requirement already satisfied: six<2.0,>=1.6.1 in /usr/local/lib/python3.7/dist-packages (from astunparse->piglet-templates->piglet) (1.15.0)\n"
          ],
          "name": "stdout"
        }
      ]
    },
    {
      "cell_type": "code",
      "metadata": {
        "id": "OwxsxMdknj-a"
      },
      "source": [
        "import gym\n",
        "import math\n",
        "import random\n",
        "import numpy as np\n",
        "import matplotlib\n",
        "import matplotlib.pyplot as plt\n",
        "import glob #For show_video.\n",
        "import io #For show_video.\n",
        "import base64 #For show_video.\n",
        "\n",
        "import torch\n",
        "import torch.nn as nn\n",
        "import torch.optim as optim\n",
        "import torch.nn.functional as F\n",
        "import torchvision.transforms as T\n",
        "\n",
        "from gym import logger as gymlogger\n",
        "from gym.wrappers import Monitor #For show_video.\n",
        "gymlogger.set_level(40)\n",
        "from IPython.display import HTML #For show_video.\n",
        "from IPython import display as ipythondisplay #For show_video.\n",
        "from collections import namedtuple\n",
        "from itertools import count\n",
        "from PIL import Image\n",
        "\n",
        "#env = gym.make('CartPole-v0').unwrapped\n",
        "\n",
        "#Set Up Matplotlib.\n",
        "is_ipython = 'inline' in matplotlib.get_backend()\n",
        "if is_ipython:\n",
        "    from IPython import display as ipythondisplay\n",
        "\n",
        "%matplotlib inline\n",
        "plt.ion()\n",
        "\n",
        "device = torch.device(\"cuda\" if torch.cuda.is_available() else \"cpu\")"
      ],
      "execution_count": 2,
      "outputs": []
    },
    {
      "cell_type": "code",
      "metadata": {
        "colab": {
          "base_uri": "https://localhost:8080/"
        },
        "id": "Kpr3TmwtoweN",
        "outputId": "873855d4-e15c-40c3-d108-afbb75f6000f"
      },
      "source": [
        "#Make Display.\n",
        "from pyvirtualdisplay import Display\n",
        "display = Display(visible=0, size=(1400, 900))\n",
        "display.start()"
      ],
      "execution_count": 3,
      "outputs": [
        {
          "output_type": "execute_result",
          "data": {
            "text/plain": [
              "<pyvirtualdisplay.display.Display at 0x7fca8d034490>"
            ]
          },
          "metadata": {
            "tags": []
          },
          "execution_count": 3
        }
      ]
    },
    {
      "cell_type": "code",
      "metadata": {
        "colab": {
          "base_uri": "https://localhost:8080/"
        },
        "id": "9kHgFMO0uZE4",
        "outputId": "4be88114-af3f-4e16-8a53-2d1d32e3e413"
      },
      "source": [
        "def wrap_env(env):\n",
        "    env = Monitor(env, './video', force=True)\n",
        "    return env\n",
        "\n",
        "env = gym.make('CartPole-v0').unwrapped #For Animation And plot_durations.\n",
        "#env = wrap_env(gym.make('CartPole-v0')) #For Video.\n",
        "print(env.action_space)"
      ],
      "execution_count": 4,
      "outputs": [
        {
          "output_type": "stream",
          "text": [
            "Discrete(2)\n"
          ],
          "name": "stdout"
        }
      ]
    },
    {
      "cell_type": "markdown",
      "metadata": {
        "id": "fMuLYAsQo3Lf"
      },
      "source": [
        "## Replay Memory"
      ]
    },
    {
      "cell_type": "markdown",
      "metadata": {
        "id": "gOA_pnmV0DEx"
      },
      "source": [
        "Save transitions that the agent observes, and reuse this data later.\n",
        "\n",
        "By sampling from it randomly, the transitions that build up a batch are decorrelated.\n",
        "\n",
        "It stabilizes and improves the DQN training procedure.\n",
        "\n",
        "---\n",
        "\n",
        "`Transition` : A tuple represent a single transition. The state is the screen difference image. Map (State, Action) pairs to (Next_state, Reward).\n",
        "\n",
        "`ReplayMemory` : A cyclic buffer of bounded size that holds the transitions observed recently. `.sample()` method for selecting a random batch of transitions for training."
      ]
    },
    {
      "cell_type": "code",
      "metadata": {
        "id": "gllddQmnQ50K"
      },
      "source": [
        "Transition = namedtuple('Transition', ('state', 'action', 'next_state', 'reward'))\n",
        "\n",
        "class ReplayMemory(object):\n",
        "  def __init__(self, capacity):\n",
        "    self.capacity = capacity\n",
        "    self.memory = []\n",
        "    self.position = 0\n",
        "\n",
        "  def push(self, *args):\n",
        "    \"\"\"Save Transition\"\"\"\n",
        "    if len(self.memory) < self.capacity:\n",
        "      self.memory.append(None)\n",
        "    self.memory[self.position] = Transition(*args)\n",
        "    self.position = (self.position + 1) % self.capacity\n",
        "\n",
        "  def sample(self, batch_size):\n",
        "    return random.sample(self.memory, batch_size)\n",
        "\n",
        "  def __len__(self):\n",
        "    return len(self.memory)"
      ],
      "execution_count": 5,
      "outputs": []
    },
    {
      "cell_type": "markdown",
      "metadata": {
        "id": "mdkn5WaVSDqL"
      },
      "source": [
        "## DQN Algorithm"
      ]
    },
    {
      "cell_type": "code",
      "metadata": {
        "id": "k_iGBD3rSG3O"
      },
      "source": [
        "class DQN(nn.Module):\n",
        "  def __init__(self, h, w, outputs):\n",
        "    super(DQN, self).__init__()\n",
        "    self.conv1 = nn.Conv2d(3, 16, kernel_size=5, stride=2)\n",
        "    self.bn1 = nn.BatchNorm2d(16)\n",
        "    self.conv2 = nn.Conv2d(16, 32, kernel_size=5, stride=2)\n",
        "    self.bn2 = nn.BatchNorm2d(32)\n",
        "    self.conv3 = nn.Conv2d(32, 32, kernel_size=5, stride=2)\n",
        "    self.bn3 = nn.BatchNorm2d(32)\n",
        "\n",
        "    '''\n",
        "    Number of linear input connections depends on output & input of conv2d layers.\n",
        "    Compute Number of Linear Input Connections.\n",
        "    '''\n",
        "    def conv2d_size_out(size, kernel_size=5, stride=2):\n",
        "      return (size - (kernel_size - 1) - 1) // stride + 1\n",
        "    \n",
        "    convw = conv2d_size_out(conv2d_size_out(conv2d_size_out(w)))\n",
        "    convh = conv2d_size_out(conv2d_size_out(conv2d_size_out(h)))\n",
        "    linear_input_size = convw * convh * 32\n",
        "    self.head = nn.Linear(linear_input_size, outputs)\n",
        "\n",
        "  '''\n",
        "  Called with either one element to determine next action, or a batch during optimization.\n",
        "  Return Tensor([[left0expm right0exp] ... ]).\n",
        "  '''\n",
        "  def forward(self, x):\n",
        "    x = F.relu(self.bn1(self.conv1(x)))\n",
        "    x = F.relu(self.bn2(self.conv2(x)))\n",
        "    x = F.relu(self.bn3(self.conv3(x)))\n",
        "    return self.head(x.view(x.size(0), -1))"
      ],
      "execution_count": 6,
      "outputs": []
    },
    {
      "cell_type": "markdown",
      "metadata": {
        "id": "NY9Yr6pknzb1"
      },
      "source": [
        "## Input Extraction"
      ]
    },
    {
      "cell_type": "markdown",
      "metadata": {
        "id": "EAxqlXsy-mRn"
      },
      "source": [
        "Utilities for extracting and processing rendered images from the environment.\n",
        "\n",
        "It uses the `torchvistion`."
      ]
    },
    {
      "cell_type": "code",
      "metadata": {
        "colab": {
          "base_uri": "https://localhost:8080/",
          "height": 213
        },
        "id": "9FyyrLnTny1e",
        "outputId": "14bb9970-615d-484c-f964-af9bcf4a62fc"
      },
      "source": [
        "resize = T.Compose([T.ToPILImage(),\n",
        "                    T.Resize(40, interpolation=Image.CUBIC),\n",
        "                    T.ToTensor()])\n",
        "\n",
        "def get_cart_location(screen_width):\n",
        "  world_width = env.x_threshold * 2\n",
        "  scale = screen_width / world_width\n",
        "  return int(env.state[0] * scale + screen_width / 2.0)\n",
        "\n",
        "def get_screen():\n",
        "  #Gym Screen: 400x600x3.\n",
        "  #Larger Such As 800x1200x3, Transpose Torch Order (CHW).\n",
        "  screen = env.render(mode='rgb_array').transpose((2, 0, 1))\n",
        "\n",
        "  #Strip Off the Top And Bottom.\n",
        "  _, screen_height, screen_width = screen.shape\n",
        "  screen = screen[:, int(screen_height * 0.4):int(screen_height * 0.8)]\n",
        "  view_width = int(screen_width * 0.6)\n",
        "  cart_location = get_cart_location(screen_width)\n",
        "  if cart_location < view_width // 2:\n",
        "    slice_range = slice(view_width)\n",
        "  elif cart_location > (screen_width - view_width // 2):\n",
        "    slice_range = slice(-view_width, None)\n",
        "  else:\n",
        "    slice_range = slice(cart_location - view_width // 2,\n",
        "                        cart_location + view_width //2)\n",
        "  \n",
        "  #Strip Off the Edges. Square Image Centered on A Cart.\n",
        "  screen = screen[:, :, slice_range]\n",
        "\n",
        "  #Convert to Float. Rescale. Convert to Torch Tensor.\n",
        "  screen = np.ascontiguousarray(screen, dtype=np.float32) / 255\n",
        "  screen = torch.from_numpy(screen)\n",
        "\n",
        "  #Resize And Add A Batch Dimension(BCHW).\n",
        "  return resize(screen).unsqueeze(0).to(device)\n",
        "\n",
        "env.reset()\n",
        "plt.figure()\n",
        "plt.imshow(get_screen().cpu().squeeze(0).permute(1, 2, 0).numpy(),\n",
        "           interpolation='none')\n",
        "plt.title('Example extracted screen')\n",
        "plt.show()"
      ],
      "execution_count": 7,
      "outputs": [
        {
          "output_type": "display_data",
          "data": {
            "image/png": "[encoded data removed]",
            "text/plain": [
              "<Figure size 432x288 with 1 Axes>"
            ]
          },
          "metadata": {
            "tags": [],
            "needs_background": "light"
          }
        }
      ]
    },
    {
      "cell_type": "markdown",
      "metadata": {
        "id": "B29jyV-spVVF"
      },
      "source": [
        "## Determening How to Show"
      ]
    },
    {
      "cell_type": "markdown",
      "metadata": {
        "id": "85svzscAueMB"
      },
      "source": [
        "### Show Video"
      ]
    },
    {
      "cell_type": "code",
      "metadata": {
        "id": "J1THUkwSugCr"
      },
      "source": [
        "def show_video():\n",
        "    mp4_list = glob.glob('video/*.mp4')\n",
        "    if mp4_list:\n",
        "        mp4 = mp4_list[0]\n",
        "        video = open(mp4, 'r+b').read()\n",
        "        encoded = base64.b64encode(video)\n",
        "        ipythondisplay.display(HTML(data='''\n",
        "            <video alt=\"gameplay\" autoplay controls style=\"height: 400px;\">\n",
        "                <source src=\"data:video/mp4;base64,%s\" type=\"video/mp4\" />\n",
        "            </video>\n",
        "        ''' % (encoded.decode('ascii'))))\n",
        "    else:\n",
        "        print('No video found')"
      ],
      "execution_count": 8,
      "outputs": []
    },
    {
      "cell_type": "markdown",
      "metadata": {
        "id": "ewJqxR-XRid8"
      },
      "source": [
        "### Show Animation"
      ]
    },
    {
      "cell_type": "code",
      "metadata": {
        "id": "WkV2RqTjRX3A"
      },
      "source": [
        "def show_animation():\n",
        "  #plt.figure(1)\n",
        "  #plt.clf()\n",
        "  img = plt.imshow(env.render('rgb_array')) #Only Call This Once.\n",
        "  img.set_data(env.render('rgb_array')) #Just Update the Data.\n",
        "  ipythondisplay.display(plt.gcf())\n",
        "  ipythondisplay.clear_output(wait=True)"
      ],
      "execution_count": 9,
      "outputs": []
    },
    {
      "cell_type": "markdown",
      "metadata": {
        "id": "h35-9kQCkbcp"
      },
      "source": [
        "### Show Both"
      ]
    },
    {
      "cell_type": "code",
      "metadata": {
        "id": "NiN-g2b7kaGs"
      },
      "source": [
        "def show_both():\n",
        "  plt.subplot(1, 2, 1)\n",
        "  durations_t = torch.tensor(episode_durations, dtype=torch.float)\n",
        "  plt.title('Training...')\n",
        "  plt.xlabel('Episode')\n",
        "  plt.ylabel('Duration')\n",
        "  plt.plot(durations_t.numpy())\n",
        "  if len(durations_t) >= 100:\n",
        "    means = durations_t.unfold(0, 100, 1).mean(1).view(-1)\n",
        "    means = torch.cat((torch.zeros(99), means))\n",
        "    plt.plot(means.numpy())\n",
        "  \n",
        "  plt.subplot(1, 2, 2)\n",
        "  img = plt.imshow(env.render('rgb_array'))\n",
        "  img.set_data(env.render('rgb_array'))\n",
        "\n",
        "  ipythondisplay.display(plt.gcf())\n",
        "  ipythondisplay.clear_output(wait=True)"
      ],
      "execution_count": 10,
      "outputs": []
    },
    {
      "cell_type": "markdown",
      "metadata": {
        "id": "0ddQqPS_yGHM"
      },
      "source": [
        "## Training"
      ]
    },
    {
      "cell_type": "code",
      "metadata": {
        "id": "01JGbYOvyKAK"
      },
      "source": [
        "BATCH_SIZE = 128\n",
        "GAMMA = 0.999\n",
        "EPS_START = 0.9\n",
        "EPS_END = 0.05\n",
        "EPS_DECAY = 200\n",
        "TARGET_UPDATE = 10"
      ],
      "execution_count": 11,
      "outputs": []
    },
    {
      "cell_type": "code",
      "metadata": {
        "id": "Sfo3FyfayZTf"
      },
      "source": [
        "# Get screen size so that we can initialize layers correctly based on shape\n",
        "# returned from AI gym. Typical dimensions at this point are close to 3x40x90\n",
        "# which is the result of a clamped and down-scaled render buffer in get_screen()\n",
        "init_screen = get_screen()\n",
        "_, _, screen_height, screen_width = init_screen.shape\n",
        "\n",
        "#Get Number of Actions From Gym Action Space.\n",
        "n_actions = env.action_space.n\n",
        "\n",
        "policy_net = DQN(screen_height, screen_width, n_actions).to(device)\n",
        "target_net = DQN(screen_height, screen_width, n_actions).to(device)\n",
        "target_net.load_state_dict(policy_net.state_dict())\n",
        "target_net.eval()\n",
        "\n",
        "optimizer = optim.RMSprop(policy_net.parameters())\n",
        "memory = ReplayMemory(10000)\n",
        "\n",
        "steps_done = 0\n",
        "\n",
        "def select_action(state):\n",
        "    global steps_done\n",
        "    sample = random.random()\n",
        "    eps_threshold = EPS_END + (EPS_START - EPS_END) * \\\n",
        "      math.exp(-1. * steps_done / EPS_DECAY)\n",
        "    steps_done += 1\n",
        "    if sample > eps_threshold:\n",
        "      with torch.no_grad():\n",
        "        #t.max(1) returns largest column value of each row.\n",
        "        #Second Column on Max Result = Index of Where Max Element.\n",
        "        #We can pick action that the larger expected reward.\n",
        "        return policy_net(state).max(1)[1].view(1, 1)\n",
        "    else:\n",
        "      return torch.tensor([[random.randrange(n_actions)]], device=device, dtype=torch.long)\n",
        "\n",
        "episode_durations = []\n",
        "\n",
        "def plot_durations():\n",
        "    plt.figure(2)\n",
        "    plt.clf()\n",
        "    durations_t = torch.tensor(episode_durations, dtype=torch.float)\n",
        "    plt.title('Training...')\n",
        "    plt.xlabel('Episode')\n",
        "    plt.ylabel('Duration')\n",
        "    plt.plot(durations_t.numpy())\n",
        "\n",
        "    #Take 100 Episode Averages And Plot Them.\n",
        "    if len(durations_t) >= 100:\n",
        "      means = durations_t.unfold(0, 100, 1).mean(1).view(-1)\n",
        "      means = torch.cat((torch.zeros(99), means))\n",
        "      plt.plot(means.numpy())\n",
        "    \n",
        "    #plt.pause(0.001)\n",
        "    if is_ipython:\n",
        "      ipythondisplay.display(plt.gcf())\n",
        "      ipythondisplay.clear_output(wait=True)"
      ],
      "execution_count": 12,
      "outputs": []
    },
    {
      "cell_type": "markdown",
      "metadata": {
        "id": "UrJYS-dkHMLg"
      },
      "source": [
        "## Training Loop"
      ]
    },
    {
      "cell_type": "code",
      "metadata": {
        "id": "PaabPhApHN_p"
      },
      "source": [
        "def optimize_model():\n",
        "  if len(memory) < BATCH_SIZE:\n",
        "    return\n",
        "  transitions = memory.sample(BATCH_SIZE)\n",
        "\n",
        "  #Transpose the Batch.\n",
        "  #Convert Batch-array of Transitions to Transitions of Batch-arrays.\n",
        "  #https://stackoverflow.com/a/19343/3343043.\n",
        "  batch = Transition(*zip(*transitions))\n",
        "\n",
        "  # > Compute a mask of non-final states and concatenate the batch elements\n",
        "  # > (a final state would've been the one after which simulation ended)\n",
        "  non_final_mask = torch.tensor(tuple(map(lambda s: s is not None,\n",
        "                                          batch.next_state)),\n",
        "                                device=device, dtype=torch.bool)\n",
        "  non_final_next_states = torch.cat([s for s in batch.next_state if s is not None])\n",
        "  \n",
        "  state_batch = torch.cat(batch.state)\n",
        "  action_batch = torch.cat(batch.action)\n",
        "  reward_batch = torch.cat(batch.reward)\n",
        "\n",
        "  #Compute Q(s_t, a). The Model Computes Q(s_t), Select the Columns of Actions.\n",
        "  # > These are the actions which would've been taken for each batch state according to policy_net\n",
        "  state_action_values = policy_net(state_batch).gather(1, action_batch)\n",
        "\n",
        "  #Compute V(s_{t+1}) For All Next States.\n",
        "  #Expected values of actions are computed based on the older target_net.\n",
        "  #Selecting Best Reward With max(1)[0].\n",
        "  # > This is merged based on the mask, such that we'll have either the expected\n",
        "  # > state value or 0 in case the state was final.\n",
        "  next_state_values = torch.zeros(BATCH_SIZE, device=device)\n",
        "  next_state_values[non_final_mask] = target_net(non_final_next_states).max(1)[0].detach()\n",
        "  \n",
        "  #Compute the Expected Q Values.\n",
        "  expected_state_action_values = (next_state_values * GAMMA) + reward_batch\n",
        "\n",
        "  #Compute Huber Loss.\n",
        "  loss = F.smooth_l1_loss(state_action_values, expected_state_action_values.unsqueeze(1))\n",
        "\n",
        "  #Optimize the Model.\n",
        "  optimizer.zero_grad()\n",
        "  loss.backward()\n",
        "  for param in policy_net.parameters():\n",
        "    param.grad.data.clamp_(-1, 1)\n",
        "  optimizer.step()"
      ],
      "execution_count": 13,
      "outputs": []
    },
    {
      "cell_type": "code",
      "metadata": {
        "colab": {
          "base_uri": "https://localhost:8080/",
          "height": 312
        },
        "id": "ZtQrj0j8LrNi",
        "outputId": "e7bc402b-cf44-4e0d-9385-264635af8b96"
      },
      "source": [
        "num_episodes = 100 #50.\n",
        "for i_episode in range(num_episodes):\n",
        "\n",
        "    #Initialize the Environment And State.\n",
        "    env.reset()\n",
        "    last_screen = get_screen()\n",
        "    current_screen = get_screen()\n",
        "    state = current_screen - last_screen\n",
        "    for t in count():\n",
        "        #Select And Perform an Action.\n",
        "        action = select_action(state)\n",
        "        _, reward, done, _ = env.step(action.item())\n",
        "        reward = torch.tensor([reward], device=device)\n",
        "\n",
        "        #Observe New State.\n",
        "        last_screen = current_screen\n",
        "        current_screen = get_screen()\n",
        "        if not done:\n",
        "            next_state = current_screen - last_screen\n",
        "        else:\n",
        "            next_state = None\n",
        "\n",
        "        #Store the Transition in Memory.\n",
        "        memory.push(state, action, next_state, reward)\n",
        "\n",
        "        #Move to the Next State.\n",
        "        state = next_state\n",
        "\n",
        "        #Perform One Step of the Optimization. (On the Target Network.)\n",
        "        optimize_model()\n",
        "        if done:\n",
        "          episode_durations.append(t + 1)\n",
        "          #plot_durations()\n",
        "          #show_animation()\n",
        "          show_both()\n",
        "          break\n",
        "\n",
        "    #Update the Target Network. Copy All Weights And Biases in DQN.\n",
        "    if i_episode % TARGET_UPDATE == 0:\n",
        "        target_net.load_state_dict(policy_net.state_dict())\n",
        "\n",
        "#show_video()\n",
        "print('Complete')\n",
        "env.render()\n",
        "env.close()\n",
        "plt.ioff()\n",
        "plt.show()"
      ],
      "execution_count": 14,
      "outputs": [
        {
          "output_type": "stream",
          "text": [
            "Complete\n"
          ],
          "name": "stdout"
        },
        {
          "output_type": "display_data",
          "data": {
            "image/png": "[encoded data removed]",
            "text/plain": [
              "<Figure size 432x288 with 2 Axes>"
            ]
          },
          "metadata": {
            "tags": [],
            "needs_background": "light"
          }
        }
      ]
    },
    {
      "cell_type": "markdown",
      "metadata": {
        "id": "E16vKeEuctfC"
      },
      "source": [
        "# Simple CartPole"
      ]
    },
    {
      "cell_type": "markdown",
      "metadata": {
        "id": "n1Ik_4OlojkK"
      },
      "source": [
        "## Import"
      ]
    },
    {
      "cell_type": "code",
      "metadata": {
        "id": "qPCwM5VBO-Z6"
      },
      "source": [
        "'''\n",
        "!apt-get install -y python-numpy python-dev cmake zlib1g-dev libjpeg-dev xvfb \\\n",
        "    xorg-dev python-opengl libboost-all-dev libsdl2-dev swig\n",
        "!pip install pyvirtualdisplay\n",
        "!pip install piglet\n",
        "'''\n",
        "\n",
        "!apt-get install python-opengl -y\n",
        "!apt install xvfb -y\n",
        "!pip install pyvirtualdisplay\n",
        "!pip install piglet"
      ],
      "execution_count": null,
      "outputs": []
    },
    {
      "cell_type": "code",
      "metadata": {
        "id": "0PPWOtAsVShx"
      },
      "source": [
        "import gym\n",
        "from gym import logger as gymlogger\n",
        "from gym.wrappers import Monitor\n",
        "gymlogger.set_level(40) #error only\n",
        "import tensorflow as tf\n",
        "import numpy as np\n",
        "import random\n",
        "import matplotlib\n",
        "import matplotlib.pyplot as plt\n",
        "%matplotlib inline\n",
        "import math\n",
        "import glob\n",
        "import io\n",
        "import base64\n",
        "from IPython.display import HTML\n",
        "\n",
        "from IPython import display as ipythondisplay\n",
        "\n",
        "%matplotlib inline"
      ],
      "execution_count": null,
      "outputs": []
    },
    {
      "cell_type": "code",
      "metadata": {
        "id": "7o44XkezRK_v"
      },
      "source": [
        "from pyvirtualdisplay import Display\n",
        "display = Display(visible=0, size=(1400, 900))\n",
        "display.start()"
      ],
      "execution_count": null,
      "outputs": []
    },
    {
      "cell_type": "markdown",
      "metadata": {
        "id": "cUjgBBwpou2U"
      },
      "source": [
        "## Show Video"
      ]
    },
    {
      "cell_type": "code",
      "metadata": {
        "id": "TRggfCCLRPqb"
      },
      "source": [
        "def show_video():\n",
        "    mp4_list = glob.glob('video/*.mp4')\n",
        "    if mp4_list:\n",
        "        mp4 = mp4_list[0]\n",
        "        video = open(mp4, 'r+b').read()\n",
        "        encoded = base64.b64encode(video)\n",
        "        ipythondisplay.display(HTML(data='''\n",
        "            <video alt=\"gameplay\" autoplay controls style=\"height: 400px;\">\n",
        "                <source src=\"data:video/mp4;base64,%s\" type=\"video/mp4\" />\n",
        "            </video>\n",
        "        ''' % (encoded.decode('ascii'))))\n",
        "    else:\n",
        "        print('No video found')\n",
        "\n",
        "def wrap_env(env):\n",
        "    env = Monitor(env, './video', force=True)\n",
        "    return env"
      ],
      "execution_count": null,
      "outputs": []
    },
    {
      "cell_type": "code",
      "metadata": {
        "id": "_WXd_Vl_SwDw"
      },
      "source": [
        "env = wrap_env(gym.make('CartPole-v0'))\n",
        "print(env.action_space)"
      ],
      "execution_count": null,
      "outputs": []
    },
    {
      "cell_type": "code",
      "metadata": {
        "id": "1iU3th6qT1EN"
      },
      "source": [
        "observation = env.reset()\n",
        "\n",
        "for _ in range(1000): #while True:\n",
        "    env.render()\n",
        "    action = env.action_space.sample()\n",
        "    observation, reward, done, info = env.step(action)\n",
        "\n",
        "    #if done:\n",
        "    #  break;\n",
        "\n",
        "env.close()\n",
        "show_video()"
      ],
      "execution_count": null,
      "outputs": []
    },
    {
      "cell_type": "code",
      "metadata": {
        "id": "9yZgYHVNeSVl"
      },
      "source": [
        "env.reset()\n",
        "img = plt.imshow(env.render('rgb_array')) # only call this once\n",
        "\n",
        "for _ in range(100):\n",
        "    img.set_data(env.render('rgb_array')) # just update the data\n",
        "    display.display(plt.gcf())\n",
        "    display.clear_output(wait=True)\n",
        "    action = env.action_space.sample()\n",
        "    env.step(action)"
      ],
      "execution_count": null,
      "outputs": []
    },
    {
      "cell_type": "markdown",
      "metadata": {
        "id": "sczQfN3teulS"
      },
      "source": [
        "[Stack Overflow](https://stackoverflow.com/questions/50107530/how-to-render-openai-gym-in-google-colab)"
      ]
    },
    {
      "cell_type": "markdown",
      "metadata": {
        "id": "rSJdizAXw4h9"
      },
      "source": [
        "# Previous Import"
      ]
    },
    {
      "cell_type": "code",
      "metadata": {
        "id": "xuMha97Fv9y4"
      },
      "source": [
        "!pip install gym\n",
        "!pip install PyopenGL"
      ],
      "execution_count": null,
      "outputs": []
    },
    {
      "cell_type": "code",
      "metadata": {
        "id": "ZqViTyWAw96n"
      },
      "source": [
        "!apt-get install python-opengl\n",
        "!apt-get install xvfb"
      ],
      "execution_count": null,
      "outputs": []
    },
    {
      "cell_type": "markdown",
      "metadata": {
        "id": "E4Ql3o3R4z3I"
      },
      "source": [
        "## First"
      ]
    },
    {
      "cell_type": "code",
      "metadata": {
        "id": "7i__u36qxcEC"
      },
      "source": [
        "%%bash\n",
        "\n",
        "# install required system dependencies\n",
        "apt-get install -y xvfb x11-utils\n",
        "\n",
        "# install required python dependencies (might need to install additional gym extras depending)\n",
        "pip install gym[box2d]==0.17.* pyvirtualdisplay==0.2.* PyOpenGL==3.1.* PyOpenGL-accelerate==3.1.*"
      ],
      "execution_count": null,
      "outputs": []
    },
    {
      "cell_type": "code",
      "metadata": {
        "id": "i4EKlGMNxd5z"
      },
      "source": [
        "from pyvirtualdisplay import Display\n",
        "_display = Display(visible=False, size=(1400, 900))\n",
        "_ = _display.start()"
      ],
      "execution_count": null,
      "outputs": []
    },
    {
      "cell_type": "markdown",
      "metadata": {
        "id": "HfC-19u642Lp"
      },
      "source": [
        "## Second"
      ]
    },
    {
      "cell_type": "code",
      "metadata": {
        "id": "vGcWBMORxOhb"
      },
      "source": [
        "'''\n",
        "!apt install xvfb -y\n",
        "!pip install pyvirtualdisplay\n",
        "!pip install piglet\n",
        "\n",
        "from pyvirtualdisplay import Display\n",
        "display = Display(visible=0, size=(1400, 900))\n",
        "display.start()\n",
        "'''"
      ],
      "execution_count": null,
      "outputs": []
    },
    {
      "cell_type": "markdown",
      "metadata": {
        "id": "zrvi0qjV4vfJ"
      },
      "source": [
        "##Xvfb"
      ]
    },
    {
      "cell_type": "code",
      "metadata": {
        "id": "ce0BwIDl0hFn"
      },
      "source": [
        "!xvfb-run -s \"-screen 0 1400x900x24\" bash"
      ],
      "execution_count": null,
      "outputs": []
    },
    {
      "cell_type": "code",
      "metadata": {
        "id": "spoe0QpU2-qE"
      },
      "source": [
        "xvfb-run -s \"-screen 0 1400x900x24\" jupyter notebook --allow-root"
      ],
      "execution_count": null,
      "outputs": []
    },
    {
      "cell_type": "markdown",
      "metadata": {
        "id": "i48dvwbgw3rv"
      },
      "source": [
        "# Previous CartPole"
      ]
    },
    {
      "cell_type": "markdown",
      "metadata": {
        "id": "LSk40OVQ4m71"
      },
      "source": [
        "## 1st"
      ]
    },
    {
      "cell_type": "code",
      "metadata": {
        "id": "TNlEttHzw4AG"
      },
      "source": [
        "import gym\n",
        "env = gym.make('CartPole-v0')\n",
        "env.reset()\n",
        "for _ in range(1000):\n",
        "    env.render()\n",
        "    env.step(env.action_space.sample()) # take a random action\n",
        "env.close()"
      ],
      "execution_count": null,
      "outputs": []
    },
    {
      "cell_type": "markdown",
      "metadata": {
        "id": "WY9x2Ud-4pNJ"
      },
      "source": [
        "## 2nd"
      ]
    },
    {
      "cell_type": "code",
      "metadata": {
        "id": "mf3WJ90gxFOZ"
      },
      "source": [
        "import gym\n",
        "env = gym.make(\"CartPole-v1\")\n",
        "observation = env.reset()\n",
        "for _ in range(1000):\n",
        "  env.render()\n",
        "  action = env.action_space.sample() # your agent here (this takes random actions)\n",
        "  observation, reward, done, info = env.step(action)\n",
        "\n",
        "  if done:\n",
        "    observation = env.reset()\n",
        "env.close()"
      ],
      "execution_count": null,
      "outputs": []
    },
    {
      "cell_type": "markdown",
      "metadata": {
        "id": "TXVgNXa-4qrt"
      },
      "source": [
        "## 3rd"
      ]
    },
    {
      "cell_type": "code",
      "metadata": {
        "id": "B57jZkGC0cnD"
      },
      "source": [
        "\"\"\"\n",
        "Classic cart-pole system implemented by Rich Sutton et al.\n",
        "Copied from http://incompleteideas.net/sutton/book/code/pole.c\n",
        "permalink: https://perma.cc/C9ZM-652R\n",
        "\"\"\"\n",
        "\n",
        "import math\n",
        "import gym\n",
        "from gym import spaces, logger\n",
        "from gym.utils import seeding\n",
        "import numpy as np\n",
        "\n",
        "\n",
        "class CartPoleEnv(gym.Env):\n",
        "    \"\"\"\n",
        "    Description:\n",
        "        A pole is attached by an un-actuated joint to a cart, which moves along\n",
        "        a frictionless track. The pendulum starts upright, and the goal is to\n",
        "        prevent it from falling over by increasing and reducing the cart's\n",
        "        velocity.\n",
        "    Source:\n",
        "        This environment corresponds to the version of the cart-pole problem\n",
        "        described by Barto, Sutton, and Anderson\n",
        "    Observation:\n",
        "        Type: Box(4)\n",
        "        Num     Observation               Min                     Max\n",
        "        0       Cart Position             -4.8                    4.8\n",
        "        1       Cart Velocity             -Inf                    Inf\n",
        "        2       Pole Angle                -0.418 rad (-24 deg)    0.418 rad (24 deg)\n",
        "        3       Pole Angular Velocity     -Inf                    Inf\n",
        "    Actions:\n",
        "        Type: Discrete(2)\n",
        "        Num   Action\n",
        "        0     Push cart to the left\n",
        "        1     Push cart to the right\n",
        "        Note: The amount the velocity that is reduced or increased is not\n",
        "        fixed; it depends on the angle the pole is pointing. This is because\n",
        "        the center of gravity of the pole increases the amount of energy needed\n",
        "        to move the cart underneath it\n",
        "    Reward:\n",
        "        Reward is 1 for every step taken, including the termination step\n",
        "    Starting State:\n",
        "        All observations are assigned a uniform random value in [-0.05..0.05]\n",
        "    Episode Termination:\n",
        "        Pole Angle is more than 12 degrees.\n",
        "        Cart Position is more than 2.4 (center of the cart reaches the edge of\n",
        "        the display).\n",
        "        Episode length is greater than 200.\n",
        "        Solved Requirements:\n",
        "        Considered solved when the average return is greater than or equal to\n",
        "        195.0 over 100 consecutive trials.\n",
        "    \"\"\"\n",
        "\n",
        "    metadata = {\n",
        "        'render.modes': ['human', 'rgb_array'],\n",
        "        'video.frames_per_second': 50\n",
        "    }\n",
        "\n",
        "    def __init__(self):\n",
        "        self.gravity = 9.8\n",
        "        self.masscart = 1.0\n",
        "        self.masspole = 0.1\n",
        "        self.total_mass = (self.masspole + self.masscart)\n",
        "        self.length = 0.5  # actually half the pole's length\n",
        "        self.polemass_length = (self.masspole * self.length)\n",
        "        self.force_mag = 10.0\n",
        "        self.tau = 0.02  # seconds between state updates\n",
        "        self.kinematics_integrator = 'euler'\n",
        "\n",
        "        # Angle at which to fail the episode\n",
        "        self.theta_threshold_radians = 12 * 2 * math.pi / 360\n",
        "        self.x_threshold = 2.4\n",
        "\n",
        "        # Angle limit set to 2 * theta_threshold_radians so failing observation\n",
        "        # is still within bounds.\n",
        "        high = np.array([self.x_threshold * 2,\n",
        "                         np.finfo(np.float32).max,\n",
        "                         self.theta_threshold_radians * 2,\n",
        "                         np.finfo(np.float32).max],\n",
        "                        dtype=np.float32)\n",
        "\n",
        "        self.action_space = spaces.Discrete(2)\n",
        "        self.observation_space = spaces.Box(-high, high, dtype=np.float32)\n",
        "\n",
        "        self.seed()\n",
        "        self.viewer = None\n",
        "        self.state = None\n",
        "\n",
        "        self.steps_beyond_done = None\n",
        "\n",
        "    def seed(self, seed=None):\n",
        "        self.np_random, seed = seeding.np_random(seed)\n",
        "        return [seed]\n",
        "\n",
        "    def step(self, action):\n",
        "        err_msg = \"%r (%s) invalid\" % (action, type(action))\n",
        "        assert self.action_space.contains(action), err_msg\n",
        "\n",
        "        x, x_dot, theta, theta_dot = self.state\n",
        "        force = self.force_mag if action == 1 else -self.force_mag\n",
        "        costheta = math.cos(theta)\n",
        "        sintheta = math.sin(theta)\n",
        "\n",
        "        # For the interested reader:\n",
        "        # https://coneural.org/florian/papers/05_cart_pole.pdf\n",
        "        temp = (force + self.polemass_length * theta_dot ** 2 * sintheta) / self.total_mass\n",
        "        thetaacc = (self.gravity * sintheta - costheta * temp) / (self.length * (4.0 / 3.0 - self.masspole * costheta ** 2 / self.total_mass))\n",
        "        xacc = temp - self.polemass_length * thetaacc * costheta / self.total_mass\n",
        "\n",
        "        if self.kinematics_integrator == 'euler':\n",
        "            x = x + self.tau * x_dot\n",
        "            x_dot = x_dot + self.tau * xacc\n",
        "            theta = theta + self.tau * theta_dot\n",
        "            theta_dot = theta_dot + self.tau * thetaacc\n",
        "        else:  # semi-implicit euler\n",
        "            x_dot = x_dot + self.tau * xacc\n",
        "            x = x + self.tau * x_dot\n",
        "            theta_dot = theta_dot + self.tau * thetaacc\n",
        "            theta = theta + self.tau * theta_dot\n",
        "\n",
        "        self.state = (x, x_dot, theta, theta_dot)\n",
        "\n",
        "        done = bool(\n",
        "            x < -self.x_threshold\n",
        "            or x > self.x_threshold\n",
        "            or theta < -self.theta_threshold_radians\n",
        "            or theta > self.theta_threshold_radians\n",
        "        )\n",
        "\n",
        "        if not done:\n",
        "            reward = 1.0\n",
        "        elif self.steps_beyond_done is None:\n",
        "            # Pole just fell!\n",
        "            self.steps_beyond_done = 0\n",
        "            reward = 1.0\n",
        "        else:\n",
        "            if self.steps_beyond_done == 0:\n",
        "                logger.warn(\n",
        "                    \"You are calling 'step()' even though this \"\n",
        "                    \"environment has already returned done = True. You \"\n",
        "                    \"should always call 'reset()' once you receive 'done = \"\n",
        "                    \"True' -- any further steps are undefined behavior.\"\n",
        "                )\n",
        "            self.steps_beyond_done += 1\n",
        "            reward = 0.0\n",
        "\n",
        "        return np.array(self.state), reward, done, {}\n",
        "\n",
        "    def reset(self):\n",
        "        self.state = self.np_random.uniform(low=-0.05, high=0.05, size=(4,))\n",
        "        self.steps_beyond_done = None\n",
        "        return np.array(self.state)\n",
        "\n",
        "    def render(self, mode='human'):\n",
        "        screen_width = 600\n",
        "        screen_height = 400\n",
        "\n",
        "        world_width = self.x_threshold * 2\n",
        "        scale = screen_width/world_width\n",
        "        carty = 100  # TOP OF CART\n",
        "        polewidth = 10.0\n",
        "        polelen = scale * (2 * self.length)\n",
        "        cartwidth = 50.0\n",
        "        cartheight = 30.0\n",
        "\n",
        "        if self.viewer is None:\n",
        "            from gym.envs.classic_control import rendering\n",
        "            self.viewer = rendering.Viewer(screen_width, screen_height)\n",
        "            l, r, t, b = -cartwidth / 2, cartwidth / 2, cartheight / 2, -cartheight / 2\n",
        "            axleoffset = cartheight / 4.0\n",
        "            cart = rendering.FilledPolygon([(l, b), (l, t), (r, t), (r, b)])\n",
        "            self.carttrans = rendering.Transform()\n",
        "            cart.add_attr(self.carttrans)\n",
        "            self.viewer.add_geom(cart)\n",
        "            l, r, t, b = -polewidth / 2, polewidth / 2, polelen - polewidth / 2, -polewidth / 2\n",
        "            pole = rendering.FilledPolygon([(l, b), (l, t), (r, t), (r, b)])\n",
        "            pole.set_color(.8, .6, .4)\n",
        "            self.poletrans = rendering.Transform(translation=(0, axleoffset))\n",
        "            pole.add_attr(self.poletrans)\n",
        "            pole.add_attr(self.carttrans)\n",
        "            self.viewer.add_geom(pole)\n",
        "            self.axle = rendering.make_circle(polewidth/2)\n",
        "            self.axle.add_attr(self.poletrans)\n",
        "            self.axle.add_attr(self.carttrans)\n",
        "            self.axle.set_color(.5, .5, .8)\n",
        "            self.viewer.add_geom(self.axle)\n",
        "            self.track = rendering.Line((0, carty), (screen_width, carty))\n",
        "            self.track.set_color(0, 0, 0)\n",
        "            self.viewer.add_geom(self.track)\n",
        "\n",
        "            self._pole_geom = pole\n",
        "\n",
        "        if self.state is None:\n",
        "            return None\n",
        "\n",
        "        # Edit the pole polygon vertex\n",
        "        pole = self._pole_geom\n",
        "        l, r, t, b = -polewidth / 2, polewidth / 2, polelen - polewidth / 2, -polewidth / 2\n",
        "        pole.v = [(l, b), (l, t), (r, t), (r, b)]\n",
        "\n",
        "        x = self.state\n",
        "        cartx = x[0] * scale + screen_width / 2.0  # MIDDLE OF CART\n",
        "        self.carttrans.set_translation(cartx, carty)\n",
        "        self.poletrans.set_rotation(-x[2])\n",
        "\n",
        "        return self.viewer.render(return_rgb_array=mode == 'rgb_array')\n",
        "\n",
        "    def close(self):\n",
        "        if self.viewer:\n",
        "            self.viewer.close()\n",
        "            self.viewer = None"
      ],
      "execution_count": null,
      "outputs": []
    },
    {
      "cell_type": "code",
      "metadata": {
        "id": "TmpraTh73JgW"
      },
      "source": [
        ""
      ],
      "execution_count": null,
      "outputs": []
    }
  ]
}